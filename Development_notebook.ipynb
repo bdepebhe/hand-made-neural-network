{
 "cells": [
  {
   "cell_type": "markdown",
   "metadata": {},
   "source": [
    "# General lib imports"
   ]
  },
  {
   "cell_type": "code",
   "execution_count": 1,
   "metadata": {
    "ExecuteTime": {
     "end_time": "2021-01-29T14:31:00.024971Z",
     "start_time": "2021-01-29T14:30:58.943623Z"
    }
   },
   "outputs": [],
   "source": [
    "import pandas as pd\n",
    "import numpy as np\n",
    "from progressbar.bar import ProgressBar"
   ]
  },
  {
   "cell_type": "markdown",
   "metadata": {},
   "source": [
    "# Code"
   ]
  },
  {
   "cell_type": "markdown",
   "metadata": {},
   "source": [
    "## Functions"
   ]
  },
  {
   "cell_type": "markdown",
   "metadata": {},
   "source": [
    "### compute_activation"
   ]
  },
  {
   "cell_type": "code",
   "execution_count": 2,
   "metadata": {
    "ExecuteTime": {
     "end_time": "2021-01-29T14:31:00.092548Z",
     "start_time": "2021-01-29T14:31:00.078341Z"
    }
   },
   "outputs": [],
   "source": [
    "def compute_activation (X, activation_type):\n",
    "    '''Defining activation functions\n",
    "     Takes a nparray or a single value\n",
    "    # Returns in the same format\n",
    "    \n",
    "    For softmax : assuming that X.shape[0]== n_neurons,\n",
    "        the axis0 of array X is used for computing the mean \n",
    "    '''\n",
    "    X=np.array(X)\n",
    "    if activation_type == 'relu':\n",
    "        return np.maximum(X,0)\n",
    "    elif activation_type == 'sigmoid':\n",
    "        return 1/(1+np.exp(-X))\n",
    "    elif activation_type == 'tanh':\n",
    "        return np.tanh(X)\n",
    "    elif activation_type == 'linear':\n",
    "        return X\n",
    "    elif activation_type == 'softmax':\n",
    "        exp_x = np.exp(X)\n",
    "        return exp_x / exp_x.sum(axis=0)\n",
    "\n",
    "    #raise error if unknown type\n",
    "    else:\n",
    "        raise ValueError(f'Unknown activation type {activation_type}. \\\n",
    "Supported types : linear, relu, sigmoid, tanh, softmax')"
   ]
  },
  {
   "cell_type": "markdown",
   "metadata": {},
   "source": [
    "### compute_activation (version with derivatives option, not used in backprop, kept here in cas of future need)"
   ]
  },
  {
   "cell_type": "code",
   "execution_count": 3,
   "metadata": {
    "ExecuteTime": {
     "end_time": "2021-01-29T14:31:00.127558Z",
     "start_time": "2021-01-29T14:31:00.103562Z"
    }
   },
   "outputs": [],
   "source": [
    "def compute_activation_old (X, activation_type, derivative=False):\n",
    "    '''Defining activation functions\n",
    "     Takes a nparray or a single value\n",
    "    # Returns in the same format\n",
    "    \n",
    "    For softmax : assuming that X.shape[0]== n_neurons,\n",
    "        the axis0 of array X is used for computing the mean \n",
    "    '''\n",
    "    X=np.array(X)\n",
    "    if activation_type == 'relu':\n",
    "        if derivative == False:\n",
    "            return np.maximum(X,0)\n",
    "        else:\n",
    "            return (X > 0).astype(int)\n",
    "        \n",
    "    elif activation_type == 'sigmoid':\n",
    "        if derivative == False:\n",
    "            return 1 / (1 + np.exp(-X))\n",
    "        else:\n",
    "            return np.exp(-X) / np.square(1 + np.exp(-X))\n",
    "    \n",
    "    elif activation_type == 'tanh':\n",
    "        if derivative == False:\n",
    "            return np.tanh(X)\n",
    "        else:\n",
    "            return np.square(1 / np.cosh(X))\n",
    "            \n",
    "    elif activation_type == 'linear':\n",
    "        if derivative == False:\n",
    "            return X\n",
    "        else:\n",
    "            return np.ones(X.shape)\n",
    "            \n",
    "    elif activation_type == 'softmax':\n",
    "        exp_x = np.exp(X)\n",
    "        sigma_exp_x = exp_x.sum(axis=0)\n",
    "        if derivative == False: \n",
    "            return exp_x / sigma_exp_x\n",
    "        else:\n",
    "            return (exp_x * sigma_exp_x - np.square(exp_x)) / np.square(sigma_exp_x)\n",
    "        \n",
    "    #raise error if unknown type\n",
    "    else:\n",
    "        raise ValueError(f'Unknown activation type {activation_type}. \\\n",
    "Supported types : linear, relu, sigmoid, tanh, softmax')"
   ]
  },
  {
   "cell_type": "markdown",
   "metadata": {},
   "source": [
    "### compute_activation_derivative"
   ]
  },
  {
   "cell_type": "code",
   "execution_count": 4,
   "metadata": {
    "ExecuteTime": {
     "end_time": "2021-01-29T14:31:00.457391Z",
     "start_time": "2021-01-29T14:31:00.450009Z"
    }
   },
   "outputs": [],
   "source": [
    "def compute_activation_derivative (layer_output, activation_type):\n",
    "    '''Computes the derivative of the activation functions,\n",
    "       depending of the outputs of the output of these functions\n",
    "           nota : if occures that for each of the 5 basic activations,\n",
    "           f'(X) can be expressed simply as a function of f(X)\n",
    "           \n",
    "           Takes a nparray or a single value\n",
    "        # Returns in the same format\n",
    "           '''\n",
    "    X_output=np.array(layer_output)\n",
    "    if activation_type == 'relu':\n",
    "        return (X_output > 0).astype(int)\n",
    "    if activation_type == 'linear':\n",
    "        return np.ones(X_output.shape)\n",
    "    if activation_type == 'sigmoid':\n",
    "        return X_output - np.square(X_output)\n",
    "    if activation_type == 'tanh':\n",
    "        return 1 - np.square(X_output)\n",
    "    if activation_type == 'softmax':\n",
    "        return X_output - np.square(X_output)\n",
    "    \n",
    "    #raise error if unknown type\n",
    "    else:\n",
    "        raise ValueError(f'Unknown activation type {activation_type}. \\\n",
    "Supported types : linear, relu, sigmoid, tanh, softmax')"
   ]
  },
  {
   "cell_type": "markdown",
   "metadata": {},
   "source": [
    "### compute_metric"
   ]
  },
  {
   "cell_type": "code",
   "execution_count": 5,
   "metadata": {
    "ExecuteTime": {
     "end_time": "2021-01-29T14:31:00.832542Z",
     "start_time": "2021-01-29T14:31:00.815188Z"
    }
   },
   "outputs": [],
   "source": [
    "def compute_metric (y, y_pred, metric, loss_derivative=False):\n",
    "    '''Defining loss and metric functions\n",
    "     Takes nparrays, lists or a single values\n",
    "     \n",
    "     ## IF loss_derivative==False:\n",
    "         output: always scalar\n",
    "         \n",
    "     ## IF loss_derivative==True: (True will be ignored for non-loss metrics)\n",
    "         Computes the partial derivative of the loss function\n",
    "           with respect to each component of each sample\n",
    "         output: 2Darray\n",
    "            n_samples * 1 for binary_crossentropy or single output regression\n",
    "            n_samples * n_class for categorical_crossentropy\n",
    "            n_samples * n_features for multifeatures regression)\n",
    "    '''\n",
    "        \n",
    "    #converting DataFrames, lists or lists of lists to nparray\n",
    "    y = np.array(y)\n",
    "    y_pred = np.array(y_pred)\n",
    "        \n",
    "    #deal with 1D inputs to forge a n_samples * 1 2D-array\n",
    "    if len(y.shape) == 1:\n",
    "        y = np.expand_dims(y, axis = 1)\n",
    "    if len(y_pred.shape) == 1:\n",
    "        y_pred = np.expand_dims(y_pred, axis = 1)\n",
    "            \n",
    "    #raise errors for unconsistant inputs\n",
    "    if len(y.shape) > 2:\n",
    "        raise ValueError('y vector dimension too high. Must be 2 max')\n",
    "    if len(y_pred.shape) > 2:\n",
    "        raise ValueError('y_pred vector dimension too high. Must be 2 max')\n",
    "    if y.shape != y_pred.shape:\n",
    "        raise ValueError(f'unconsistent vectors dimensions during scoring: \\\n",
    "y.shape= {y.shape} and y_pred.shape= {y_pred.shape}')\n",
    "        \n",
    "    #compute loss funtions (or derivatives if loss_derivative==True)\n",
    "    if metric == 'mse':\n",
    "        if loss_derivative == False:\n",
    "            return np.square(y-y_pred).mean()\n",
    "        else:\n",
    "            return 1 / y.size * 2 * (y_pred - y)\n",
    "        \n",
    "    elif metric == 'mae':\n",
    "        if loss_derivative == False:\n",
    "            return np.abs(y-y_pred).mean()\n",
    "        else:\n",
    "            return 1 / y.size * (y_pred - y) / np.abs(y - y_pred)\n",
    "        \n",
    "    elif metric == 'categorical_crossentropy':\n",
    "        if loss_derivative == False:\n",
    "            return -1 / y.shape[0] * ((y * np.log(y_pred)).sum())\n",
    "        else:\n",
    "            return -1 / y.shape[0] * (y / y_pred)\n",
    "        \n",
    "    elif metric == 'binary_crossentropy':\n",
    "        if y.shape[1]>1:\n",
    "            raise ValueError('y vector dimension too high. \\\n",
    "Must be 1 max for binary_crossentropy')\n",
    "        if loss_derivative == False:\n",
    "            return -(y*np.log(y_pred)+(1-y)*np.log(1-y_pred)).mean()\n",
    "        else:\n",
    "            return -1 / y.size * (y / y_pred - (1-y) / (1-y_pred))\n",
    "        \n",
    "    # compute other metrics functions\n",
    "    ## TODO ## accuracy, f1-score, recall, etc..\n",
    "    else:\n",
    "        raise ValueError(f'Unknown metric {metric}. Supported types: \\\n",
    "mse, mae, categorical_crossentropy, binary_crossentropy')"
   ]
  },
  {
   "cell_type": "markdown",
   "metadata": {},
   "source": [
    "## Optimizers"
   ]
  },
  {
   "cell_type": "code",
   "execution_count": 63,
   "metadata": {
    "ExecuteTime": {
     "end_time": "2021-01-29T16:01:02.689778Z",
     "start_time": "2021-01-29T16:01:02.627001Z"
    }
   },
   "outputs": [],
   "source": [
    "class adam_optimizer():\n",
    "    def __init__(self, weights, bias, alpha_init=0.001, beta_1=0.9,\n",
    "             beta_2=0.999, epsilon=1e-8):\n",
    "        \n",
    "        self.alpha_init=alpha_init\n",
    "        self.beta_1=beta_1\n",
    "        self.beta_2=beta_2\n",
    "        self.epsilon=epsilon\n",
    "    \n",
    "        self.t=0\n",
    "        #initializing first and second momentum\n",
    "        self.m_weights = [np.zeros_like(w) for w in weights]\n",
    "        self.m_bias = [np.zeros_like(b) for b in bias]\n",
    "        self.v_weights = self.m_weights.copy()\n",
    "        self.v_bias = self.m_bias.copy()\n",
    "        \n",
    "    def get_update(self, gradient_weights, gradient_bias):\n",
    "        self.t+=1\n",
    "        alpha=self.alpha_init*np.sqrt(1-self.beta_2**self.t)/(1-self.beta_1**self.t)\n",
    "                    \n",
    "        # updating 1st and 2nd momenta\n",
    "        self.m_weights=[self.beta_1 * m + (1-self.beta_1) * grad\\\n",
    "                   for m, grad in zip(self.m_weights, gradient_weights)]\n",
    "        self.m_bias=[self.beta_1 * m + (1-self.beta_1) * grad\\\n",
    "                   for m, grad in zip(self.m_bias, gradient_bias)]\n",
    "        self.v_weights=[self.beta_2 * v + (1-self.beta_2) * grad**2\\\n",
    "                   for v, grad in zip(self.v_weights, gradient_weights)]\n",
    "        self.v_bias=[self.beta_2 * v + (1-self.beta_2) * grad**2\\\n",
    "                   for v, grad in zip(self.v_bias, gradient_bias)]\n",
    "        \n",
    "        #computing the updates\n",
    "        weights_update = [- alpha * m / (np.sqrt(v) + self.epsilon)\\\n",
    "                                  for m, v in zip( self.m_weights, self.v_weights)]\n",
    "        bias_update = [- alpha * m / (np.sqrt(v) + self.epsilon)\\\n",
    "                                  for m, v in zip( self.m_bias, self.v_bias)]\n",
    "        \n",
    "        return weights_update, bias_update"
   ]
  },
  {
   "cell_type": "markdown",
   "metadata": {},
   "source": [
    "## Model class"
   ]
  },
  {
   "cell_type": "code",
   "execution_count": 64,
   "metadata": {
    "ExecuteTime": {
     "end_time": "2021-01-29T16:01:10.479817Z",
     "start_time": "2021-01-29T16:01:10.427242Z"
    }
   },
   "outputs": [],
   "source": [
    "class handmade_nn ():\n",
    "    '''\n",
    "    hand-made version of neural network\n",
    "    so far, the possibilities are :\n",
    "    \n",
    "        - layers activation functions :\n",
    "            'linear', 'relu', 'sigmoid', 'tanh', 'softmax'\n",
    "        \n",
    "        - weights initializers : 'ones', 'glorot_uniform'\n",
    "        - bias initializers : 'zeros', 'ones'\n",
    "    \n",
    "        - loss functions :\n",
    "            'mse', 'mae', 'binary_crossentropy', 'categorical_crossentropy'\n",
    "    \n",
    "        - solver :\n",
    "            SGD without momentum\n",
    "    '''\n",
    "    def __init__ (self, input_dim=0):\n",
    "        self.weights=[]\n",
    "        self.bias=[]\n",
    "        self.activation_types=[]\n",
    "        self.input_dim=input_dim\n",
    "        self.n_layers=0\n",
    "        \n",
    "        #the followings will be used only if optimizer = adam\n",
    "        t=0\n",
    "        ms=[]\n",
    "        vs=[]\n",
    "        \n",
    "\n",
    "    def set_input_dim (self, input_dim):\n",
    "        self.input_dim = input_dim\n",
    "        \n",
    "    def set_loss (self, loss):\n",
    "        self.loss = loss\n",
    "        \n",
    "    def add_dense_layer (self, n_neurons, activation_type, \n",
    "                         weights_initializer='glorot_uniform', bias_initializer='zeros'):\n",
    "        #check if the input_dim is set\n",
    "        if self.input_dim == 0:\n",
    "            raise ValueError('input_dim = 0 .\\\n",
    "Use set_input_dim before creating first layer')\n",
    "            \n",
    "        #get the size of the input os this layer\n",
    "        if len(self.bias) == 0:\n",
    "            previous_dim=self.input_dim\n",
    "        else:\n",
    "            previous_dim=(self.bias[-1].shape[0])\n",
    "            \n",
    "        #initialize the layer parameters\n",
    "        if weights_initializer == 'ones':\n",
    "            self.weights.append(np.ones((n_neurons, previous_dim)))\n",
    "        elif weights_initializer == 'glorot_uniform':\n",
    "            limit = np.square(6 / (n_neurons + previous_dim))\n",
    "            self.weights.append(np.random.uniform(-limit, limit, size = (n_neurons, previous_dim)))\n",
    "        else:\n",
    "            raise ValueError(f'Unknown weights initializer {weights_initializer}.\\\n",
    "Supported types : ones, glorot_uniform')\n",
    "            \n",
    "        if bias_initializer == 'zeros':\n",
    "            self.bias.append(np.zeros(n_neurons))\n",
    "        elif bias_initializer == 'ones':\n",
    "            self.bias.append(np.ones(n_neurons))\n",
    "        else:\n",
    "            raise ValueError(f'Unknown bias initializer {bias_initializer}.\\\n",
    "Supported types : zeros, ones')\n",
    "            \n",
    "        self.activation_types.append(activation_type)\n",
    "        self.n_layers += 1\n",
    "        \n",
    "        #test the activation type\n",
    "        compute_activation(0, activation_type)\n",
    "        \n",
    "    def predict (self, X, keep_hidden_layers=False):\n",
    "        '''input X : list, list of lists, np array, pd DataFrame\n",
    "               axis 0 = samples\n",
    "               axis 1 = features\n",
    "               \n",
    "           ## IF keep_hidden_layers==False:\n",
    "           output = y_pred: 2D np-array\n",
    "               axis 0 = samples\n",
    "               axis 1 = output features, depending of the size of last layer\n",
    "               \n",
    "           ## IF keep_hidden_layers==True:\n",
    "           outputs = layers_outputs, layers_activation_derivatives\n",
    "           -output1 = layers_outputs:\n",
    "               list of 2D np-arrays of outputs of each layer\n",
    "               len(list)=n_layers+1: 1st element = X itself\n",
    "                                     last element = y_pred\n",
    "               axis 0 = samples\n",
    "               axis 1 = number of neurons of the layer\n",
    "           -output2 = layers_activation_derivatives:\n",
    "               list of 2D np-arrays of d_act/d_input of each layer\n",
    "               len(list)=n_layers\n",
    "               axis 0 = samples\n",
    "               axis 1 = number of neurons of the layer\n",
    "           '''\n",
    "        #converting DataFrames, lists or lists of lists to nparray\n",
    "        X = np.array(X)\n",
    "        \n",
    "        #deal with 1D inputs to forge a 1 * n_features 2D-array\n",
    "        if len(X.shape) == 1:\n",
    "            X = np.expand_dims(X, axis = 0)\n",
    "            \n",
    "        #raise errors for unconsistant inputs\n",
    "        if len(X.shape) > 2:\n",
    "            raise ValueError('X vector dimension too high. Must be 2 max')\n",
    "        if X.shape[1] != self.input_dim:\n",
    "            raise ValueError(f'Unconsistent number of features. \\\n",
    "The network input_dim is {self.input_dim}')\n",
    "            \n",
    "        #compute the prediction\n",
    "        layers_outputs = [X]\n",
    "        layers_activation_derivatives = []\n",
    "        for layer_index, activation_type in enumerate(self.activation_types):\n",
    "            activation_input = np.dot(self.weights[layer_index], X.T)\\\n",
    "                               + np.expand_dims(self.bias[layer_index], axis=1)\n",
    "            X = compute_activation(activation_input, activation_type).T\n",
    "\n",
    "            layers_outputs.append(X)\n",
    "            layers_activation_derivatives.append(\\\n",
    "                compute_activation_derivative(X, activation_type))\n",
    "                \n",
    "        if keep_hidden_layers == True:\n",
    "            return layers_outputs, layers_activation_derivatives\n",
    "        else:\n",
    "            return X\n",
    "    \n",
    "    def score (self, X, y, metric):\n",
    "        '''use predict method, then compute_metric function'''\n",
    "        y_pred=self.predict(X)\n",
    "        return compute_metric(y, y_pred, metric)\n",
    "    \n",
    "    def compute_backpropagation (self, X, y):\n",
    "        '''This method :\n",
    "            - executes self.predict(X) WITH keep_hidden_layers\n",
    "                to keep all intermediate outputs\n",
    "            - executes compute_metric (y, y_pred, loss) WITH loss_derivative\n",
    "            - for each layer from last to first : computes loss\n",
    "              derivatives (aka gradient) with respect to bias and weights\n",
    "              \n",
    "            output 1 : gradient with respect to weights \n",
    "               (list of 2D arrays \n",
    "               len(list) = n_layers\n",
    "               axis 0 = number of neurons of the layer\n",
    "               axis 1 = number of neurons of the previous layer (or features in the input)\n",
    "            output 2 : gradient with respect to bias\n",
    "               (list of 1D arrays)\n",
    "               len(list) = n_layers\n",
    "               axis 0 = number of neurons of the layer\n",
    "            '''\n",
    "        delta_weights=[]\n",
    "        delta_bias=[]\n",
    "        \n",
    "        # compute the outputs and the derivatives of each layer\n",
    "        layers_outputs, layers_activation_derivatives\\\n",
    "                = self.predict(X, keep_hidden_layers = True)\n",
    "        # compute d_loss/d_ypred\n",
    "        dloss_doutput = compute_metric (y, \n",
    "                                        layers_outputs[-1], \n",
    "                                        self.loss, \n",
    "                                        loss_derivative = True)\n",
    "        for layer_index in range(self.n_layers-1, -1, -1):\n",
    "            # compute d_loss/d_input of the layer\n",
    "            dloss_dinput = dloss_doutput * layers_activation_derivatives[layer_index]\n",
    "            \n",
    "            # compute gradient with respect to weights and bias\n",
    "            delta_weights.append(np.dot(dloss_dinput.T, layers_outputs[layer_index]))\n",
    "            delta_bias.append(np.sum(dloss_dinput, axis=0))\n",
    "            \n",
    "            # update dloss_doutput for next propagation\n",
    "            if layer_index > 0:\n",
    "                dloss_doutput = np.dot (dloss_dinput, self.weights[layer_index])\n",
    "        \n",
    "        delta_weights.reverse()\n",
    "        delta_bias.reverse()\n",
    "                \n",
    "        return delta_weights, delta_bias\n",
    "            \n",
    "    \n",
    "    def fit (self, X, y, loss=None, learning_rate=0.01,\n",
    "             batch_size=1, n_epochs=10, verbose=1,\n",
    "             optimizer_type='sgd',\n",
    "             alpha_init=0.001, beta_1=0.9,\n",
    "             beta_2=0.999, epsilon=1e-8):\n",
    "        '''input X : 2D array or pd DataFrame\n",
    "                axis 0 = samples\n",
    "                axis 1 = features\n",
    "        '''\n",
    "        if loss:\n",
    "            self.loss=loss\n",
    "        \n",
    "        if optimizer_type == 'adam':\n",
    "            optimizer = adam_optimizer (self.weights, self.bias, \n",
    "                                        alpha_init=alpha_init, beta_1=beta_1,\n",
    "                                        beta_2=beta_2, epsilon=epsilon)\n",
    "        \n",
    "        X = np.array(X)\n",
    "        y = np.array(y)\n",
    "        n_samples = X.shape[0]\n",
    "        n_minibatches_per_epoch = int(n_samples / batch_size)\n",
    "        \n",
    "        if verbose>0:\n",
    "            print(f'initial loss: {self.score(X, y, self.loss)}')\n",
    "        \n",
    "        for epoch_index in range (n_epochs):\n",
    "            if verbose>1:\n",
    "                print(f'beginning epoch n°{epoch_index + 1}')\n",
    "                \n",
    "            #progress_batches = ProgressBar()\n",
    "            #for mini_batch_index in progress_batches(range(n_minibatches_per_epoch)):\n",
    "            for mini_batch_index in range(n_minibatches_per_epoch):\n",
    "                gradient_weights, gradient_bias\\\n",
    "                    = self.compute_backpropagation(X[mini_batch_index * batch_size :\\\n",
    "                                                     (mini_batch_index +1) * batch_size],\n",
    "                                                   y[mini_batch_index * batch_size :\\\n",
    "                                                     (mini_batch_index +1) * batch_size])\n",
    "                if optimizer_type == 'sgd':\n",
    "                    #compute the update directly\n",
    "                    weights_update = [-learning_rate * grad for grad in gradient_weights]\n",
    "                    bias_update = [-learning_rate * grad for grad in gradient_bias]\n",
    "               \n",
    "                elif optimizer_type == 'adam':\n",
    "                    #compute the update with the optimizer\n",
    "                    weights_update, bias_update = optimizer.get_update(gradient_weights, gradient_bias)\n",
    "                \n",
    "                else:\n",
    "                    raise ValueError(f'unsupported optimizer type {optimizer}') \n",
    "                    \n",
    "                # updating weights and bias\n",
    "                self.weights = [w + w_update  for w, w_update in zip(self.weights, weights_update)]\n",
    "                self.bias = [b + b_update for b, b_update in zip(self.bias, bias_update)]\n",
    "                        \n",
    "            if verbose>1:\n",
    "                print(f'end of epoch n°{epoch_index + 1}. loss: {self.score(X, y, self.loss)}')\n",
    "        if verbose==1:\n",
    "            print(f'final loss: {self.score(X, y, self.loss)}')\n",
    "    "
   ]
  },
  {
   "cell_type": "code",
   "execution_count": null,
   "metadata": {},
   "outputs": [],
   "source": []
  },
  {
   "cell_type": "markdown",
   "metadata": {},
   "source": [
    "# Tests"
   ]
  },
  {
   "cell_type": "code",
   "execution_count": 7,
   "metadata": {
    "ExecuteTime": {
     "end_time": "2021-01-29T14:31:01.608859Z",
     "start_time": "2021-01-29T14:31:01.591995Z"
    }
   },
   "outputs": [],
   "source": [
    "if __name__ == \"__main__\":\n",
    "    #test all the features of the handmade_nn class\n",
    "    from unittest import TestCase\n",
    "\n"
   ]
  },
  {
   "cell_type": "markdown",
   "metadata": {},
   "source": [
    "## compute_activation function tests"
   ]
  },
  {
   "cell_type": "code",
   "execution_count": 8,
   "metadata": {
    "ExecuteTime": {
     "end_time": "2021-01-29T14:31:02.049444Z",
     "start_time": "2021-01-29T14:31:02.024572Z"
    }
   },
   "outputs": [],
   "source": [
    "    #---------------------------------------------------------------------------\n",
    "    ## tests for function compute_activation\n",
    "    #---------------------------------------------------------------------------\n",
    "\n",
    "    assert (compute_activation(np.array([[-1,0], [0, 1], [1, 3]]),\n",
    "                               'relu') ==\\\n",
    "            np.array([[0,0], [0, 1], [1, 3]]))\\\n",
    "            .all(), \"uncorrect relu function behaviour\"\n",
    "\n",
    "    #---------------------------------------------------------------------------\n",
    "    assert (compute_activation(np.array([[-1,0], [0, 1], [1, 3]]),\n",
    "                               'linear') ==\\\n",
    "            np.array([[-1,0], [0, 1], [1, 3]]))\\\n",
    "            .all(), \"uncorrect linear function behaviour\"\n",
    "\n",
    "    #---------------------------------------------------------------------------\n",
    "    assert (np.round(compute_activation(np.array([[-1,0], [0, 1], [1, 3]]),\n",
    "                                        'sigmoid'), decimals= 8) ==\\\n",
    "            np.array([[0.26894142, 0.5       ],\n",
    "                      [0.5       , 0.73105858],\n",
    "                      [0.73105858, 0.95257413]]))\\\n",
    "            .all(), \"uncorrect sigmoid function behaviour\"\n",
    "\n",
    "    #---------------------------------------------------------------------------\n",
    "    assert (np.round(compute_activation(np.array([[-1,0], [0, 1], [1, 3]]),\n",
    "                                        'tanh'), decimals= 8) ==\\\n",
    "            np.array([[-0.76159416,  0.        ],\n",
    "                      [ 0.        ,  0.76159416],\n",
    "                      [ 0.76159416,  0.99505475]]))\\\n",
    "            .all(), \"uncorrect tanh function behaviour\"\n",
    "\n",
    "    #---------------------------------------------------------------------------\n",
    "    assert (np.round(compute_activation(np.array([[-1,0], [0, 1], [1, 3]]),\n",
    "                                        'softmax'), decimals= 8) ==\\\n",
    "            np.array([[0.09003057, 0.04201007],\n",
    "                      [0.24472847, 0.1141952 ],\n",
    "                      [0.66524096, 0.84379473]]))\\\n",
    "            .all(), \"uncorrect softmax function behaviour\"\n",
    "\n",
    "    #---------------------------------------------------------------------------\n",
    "    test=TestCase()\n",
    "    with test.assertRaises(ValueError) as context:\n",
    "        compute_activation(0,'typo_error')\n",
    "    assert 'Unknown activation type' in str(context.exception),\\\n",
    "        \"no or wrong Exception raised when inputing an unknown activation_type\\\n",
    "         while calling compute_activation\""
   ]
  },
  {
   "cell_type": "markdown",
   "metadata": {},
   "source": [
    "## compute_activation_derivative function tests"
   ]
  },
  {
   "cell_type": "code",
   "execution_count": 9,
   "metadata": {
    "ExecuteTime": {
     "end_time": "2021-01-29T14:31:02.438157Z",
     "start_time": "2021-01-29T14:31:02.422389Z"
    }
   },
   "outputs": [],
   "source": [
    "    #---------------------------------------------------------------------------\n",
    "    ## tests for function compute_activation_derivative\n",
    "    #---------------------------------------------------------------------------\n",
    "\n",
    "    assert (compute_activation_derivative(np.array([[0,0], [0, 1], [1, 3]]),\n",
    "                                          'relu') ==\\\n",
    "            np.array([[0,0], [0, 1], [1, 1]]))\\\n",
    "            .all(), \"uncorrect relu function behaviour\"\n",
    "\n",
    "    #---------------------------------------------------------------------------\n",
    "    assert (compute_activation_derivative(np.array([[-1,0], [0, 1], [1, 3]]),\n",
    "                                          'linear') ==\\\n",
    "            np.array([[1,1], [1, 1], [1, 1]]))\\\n",
    "            .all(), \"uncorrect linear function behaviour\"\n",
    "\n",
    "    #---------------------------------------------------------------------------\n",
    "    assert (np.round(compute_activation_derivative\\\n",
    "                     (np.array([[0.26894142, 0.5       ],\n",
    "                                [0.5       , 0.73105858],\n",
    "                                [0.73105858, 0.95257413]]),\n",
    "                      'sigmoid'), decimals= 8) ==\\\n",
    "            np.array([[0.19661193, 0.25      ],\n",
    "                      [0.25      , 0.19661193],\n",
    "                      [0.19661193, 0.04517666]]))\\\n",
    "            .all(), \"uncorrect sigmoid function behaviour\"\n",
    "\n",
    "    #---------------------------------------------------------------------------\n",
    "    assert (np.round(compute_activation_derivative\\\n",
    "                     (np.array([[-0.76159416,  0.        ],\n",
    "                                [ 0.        ,  0.76159416],\n",
    "                                [ 0.76159416,  0.99505475]]),\n",
    "                                        'tanh'), decimals= 8) ==\\\n",
    "            np.array([[0.41997434, 1.        ],\n",
    "                      [1.        , 0.41997434],\n",
    "                      [0.41997434, 0.00986604]]))\\\n",
    "            .all(), \"uncorrect tanh function behaviour\"\n",
    "\n",
    "    #---------------------------------------------------------------------------\n",
    "    assert (np.round(compute_activation_derivative\\\n",
    "                     (np.array([[0.09003057, 0.04201007],\n",
    "                                [0.24472847, 0.1141952 ],\n",
    "                                [0.66524096, 0.84379473]]),\n",
    "                                        'softmax'), decimals= 8) ==\\\n",
    "            np.array([[0.08192507, 0.04024522],\n",
    "                      [0.18483645, 0.10115466],\n",
    "                      [0.22269543, 0.13180518]]))\\\n",
    "            .all(), \"uncorrect softmax function behaviour\"\n",
    "\n",
    "    #---------------------------------------------------------------------------\n",
    "    test=TestCase()\n",
    "    with test.assertRaises(ValueError) as context:\n",
    "        compute_activation_derivative(0,'typo_error')\n",
    "    assert 'Unknown activation type' in str(context.exception),\\\n",
    "        \"no or wrong Exception raised when inputing an unknown activation_type\\\n",
    "         while calling compute_activation_derivative\""
   ]
  },
  {
   "cell_type": "markdown",
   "metadata": {},
   "source": [
    "## add_dense_layer method tests"
   ]
  },
  {
   "cell_type": "code",
   "execution_count": 10,
   "metadata": {
    "ExecuteTime": {
     "end_time": "2021-01-29T14:31:02.834637Z",
     "start_time": "2021-01-29T14:31:02.824186Z"
    }
   },
   "outputs": [],
   "source": [
    "    #---------------------------------------------------------------------------\n",
    "    ## tests for method add_dense_layer\n",
    "    #---------------------------------------------------------------------------\n",
    "\n",
    "    my_nn=handmade_nn()\n",
    "    test=TestCase()\n",
    "    with test.assertRaises(ValueError) as context:\n",
    "        my_nn.add_dense_layer(5,'relu')\n",
    "    assert 'Use set_input_dim before creating first layer'\\\n",
    "           in str(context.exception),\\\n",
    "        \"no or wrong Exception raised when adding first layer\\\n",
    "         to a network without setting input_dim\"\n",
    "\n",
    "    #---------------------------------------------------------------------------\n",
    "    my_nn=handmade_nn(5)\n",
    "    test=TestCase()\n",
    "    with test.assertRaises(ValueError) as context:\n",
    "        my_nn.add_dense_layer(10,'typo_error')\n",
    "    assert 'Unknown activation type' in str(context.exception),\\\n",
    "        \"no or wrong Exception raised when inputing\\\n",
    "         an unknown activation_type while adding layer\""
   ]
  },
  {
   "cell_type": "markdown",
   "metadata": {},
   "source": [
    "## predict method tests without hidden_layers"
   ]
  },
  {
   "cell_type": "code",
   "execution_count": 11,
   "metadata": {
    "ExecuteTime": {
     "end_time": "2021-01-29T14:31:03.267805Z",
     "start_time": "2021-01-29T14:31:03.225105Z"
    }
   },
   "outputs": [],
   "source": [
    "    #---------------------------------------------------------------------------\n",
    "    ## tests for method predict - normal mode (without intermediate states) ####\n",
    "    #---------------------------------------------------------------------------\n",
    "\n",
    "    my_nn=handmade_nn(5)# Empty neural network : just a pass-through for 5-values inputs\n",
    "\n",
    "    assert my_nn.predict([2,3,2,3,4]).shape == (1,5),\\\n",
    "        \"list not supported as an input for predict\"\n",
    "    #---------------------------------------------------------------------------\n",
    "\n",
    "    assert my_nn.predict([[2,3,2,3,4],[-2,-1,1,3,4]]).shape == (2,5),\\\n",
    "        \"list of list not supported as an input for predict\"\n",
    "\n",
    "    #---------------------------------------------------------------------------\n",
    "    test=TestCase()\n",
    "    with test.assertRaises(ValueError) as context:\n",
    "        my_nn.predict(np.array([[[1,1],[1,2],[1,3],[1,4],[1,5]],\n",
    "                                    [[2,1],[2,2],[2,3],[3,4],[3,5]]]))\n",
    "    assert 'X vector dimension too high' in str(context.exception),\\\n",
    "        \"no or wrong Exception raised when inputing a 3D-array in predict method\"\n",
    "\n",
    "    #---------------------------------------------------------------------------\n",
    "    test=TestCase()\n",
    "    with test.assertRaises(ValueError) as context:\n",
    "        my_nn.predict(np.array([[1,1],[1,2],[1,3],[1,4],[1,5]]))\n",
    "    assert 'Unconsistent number of features' in str(context.exception),\\\n",
    "        \"no or wrong Exception raised when inputing a X\\\n",
    "         with unconsistant size vs. network input_dim in predict method\"\n",
    "\n",
    "    #---------------------------------------------------------------------------\n",
    "    my_nn=handmade_nn(5)\n",
    "    my_nn.add_dense_layer(10, 'linear')\n",
    "    my_nn.weights[0] = np.vstack((np.identity(5),np.zeros((5,5))))\n",
    "    assert my_nn.predict(np.array([-2,-1,2,3,4])).shape == (1,10),\\\n",
    "        \"1-D array not supported as an input for predict method\"\n",
    "\n",
    "    #---------------------------------------------------------------------------\n",
    "    my_nn=handmade_nn(5)\n",
    "    my_nn.add_dense_layer(10, 'linear')\n",
    "    my_nn.weights[0] = np.vstack((np.identity(5),np.zeros((5,5))))\n",
    "    assert my_nn.predict(np.array([[-2,-1,2,3,4],\n",
    "                                         [-12,-11,12,13,14]])).shape == (2,10),\\\n",
    "        \"the shape of the prediction for a 2*5 X input\\\n",
    "         by a network having 10neurons on last layer should be 2*10\"\n",
    "    \n",
    "    #--General-test-of-predict-method-with-all-activation-types-----------------\n",
    "    my_nn=handmade_nn(5)\n",
    "\n",
    "    my_nn.add_dense_layer(10, 'relu')\n",
    "    my_nn.weights[-1] = np.concatenate([np.identity(5), np.zeros((5,5))], axis=0)\n",
    "    my_nn.bias[-1] = np.array([0,0,0,0,1,1,1,0,0,0])\n",
    "\n",
    "    my_nn.add_dense_layer(10, 'linear')\n",
    "    my_nn.weights[-1] = np.flip(np.identity(10), 1)\n",
    "    my_nn.bias[-1] = np.array([1,1,1,1,1,1,0,0,0,0])\n",
    "\n",
    "    my_nn.add_dense_layer(10, 'tanh')\n",
    "    my_nn.weights[-1] = np.identity(10)\n",
    "    my_nn.bias[-1] = np.array([0,0,0,0,1,1,1,1,0,0])\n",
    "\n",
    "    my_nn.add_dense_layer(10, 'softmax')\n",
    "    my_nn.weights[-1] = np.flip(np.identity(10), 1)\n",
    "    my_nn.bias[-1] = np.array([0,0,0,0,0,0,1,1,1,1])\n",
    "\n",
    "    my_nn.add_dense_layer(1, 'sigmoid')\n",
    "    my_nn.weights[-1] = np.expand_dims(np.arange(1,11,1), axis=0)\n",
    "    my_nn.bias[-1] = np.array([0.5])\n",
    "\n",
    "\n",
    "    assert np.round(my_nn.predict([-2,-1,2,3,4])[0,0], decimals=8) == 0.99939824,\\\n",
    "        \"the general test of predict method on a network involving\\\n",
    "         all activation types and manually set bias and weights\\\n",
    "         did not return the correct value\" \n"
   ]
  },
  {
   "cell_type": "markdown",
   "metadata": {},
   "source": [
    "## predict method tests with hidden_layers"
   ]
  },
  {
   "cell_type": "code",
   "execution_count": 12,
   "metadata": {
    "ExecuteTime": {
     "end_time": "2021-01-29T14:31:05.182745Z",
     "start_time": "2021-01-29T14:31:05.155265Z"
    }
   },
   "outputs": [],
   "source": [
    "    #---------------------------------------------------------------------------\n",
    "    ## tests for method predict - backprop mode (with intermediate states) #####\n",
    "    #---------------------------------------------------------------------------\n",
    "    \n",
    "    my_nn = handmade_nn(5)# Empty neural network : just a pass-through for 5-values inputs\n",
    "    my_nn.add_dense_layer(3, 'linear', weights_initializer='ones')\n",
    "    \n",
    "    outputs = my_nn.predict([2,3,2,3,4], keep_hidden_layers=True)\n",
    "    n_outputs = len(np.array(outputs))\n",
    "    output_type = type(outputs)\n",
    "    assert output_type == tuple,\\\n",
    "        f\"predict method with keep_hidden_layers must return a tuple. type is {output_type}\"\n",
    "    \n",
    "    #---------------------------------------------------------------------------\n",
    "    assert n_outputs == 2,\\\n",
    "        f\"predict method with keep_hidden_layers must return 2 output. here returns {n_outputs}\"\n",
    "    \n",
    "    #---------------------------------------------------------------------------\n",
    "    layers_outputs, layers_derivatives = outputs\n",
    "    \n",
    "    assert len(layers_outputs) == 2,\\\n",
    "        \"the list of outputs of layers has not correct length using predict with keep_hidden_layers\"\n",
    "    \n",
    "    #---------------------------------------------------------------------------\n",
    "    assert len(layers_derivatives) == 1,\\\n",
    "        \"the list of derivatives of layers has not correct length using predict with keep_hidden_layers\"\n",
    "    \n",
    "    #---------------------------------------------------------------------------\n",
    "    assert (layers_outputs[1] == np.array([[14., 14., 14.]])).all(),\\\n",
    "        \"uncorrect layers_outputs of predict method with keep_hidden_layers\"\n",
    "    \n",
    "    #---------------------------------------------------------------------------\n",
    "    assert (layers_derivatives[0] == np.array([[1., 1., 1.]])).all(),\\\n",
    "        \"uncorrect layers_derivatives of predict method with keep_hidden_layers\"     "
   ]
  },
  {
   "cell_type": "markdown",
   "metadata": {},
   "source": [
    "## compute_metric function tests - normal mode"
   ]
  },
  {
   "cell_type": "code",
   "execution_count": 13,
   "metadata": {
    "ExecuteTime": {
     "end_time": "2021-01-29T14:31:05.627843Z",
     "start_time": "2021-01-29T14:31:05.607055Z"
    }
   },
   "outputs": [],
   "source": [
    "    #---------------------------------------------------------------------------\n",
    "    ### tests for function compute_metric - normal mode (not derivative)########\n",
    "    #---------------------------------------------------------------------------\n",
    "\n",
    "    test=TestCase()\n",
    "    with test.assertRaises(ValueError) as context:\n",
    "        compute_metric(np.array([[[1,1],[1,2]],\n",
    "                                 [[2,1],[2,2]]]),\n",
    "                       np.array([[1,2],\n",
    "                                 [3,4]]),\n",
    "                       'mse')\n",
    "    assert 'y vector dimension too high' in str(context.exception),\\\n",
    "        \"no or wrong Exception raised when inputing a 3D-array as y\\\n",
    "         in compute_metric function\"\n",
    "\n",
    "    #---------------------------------------------------------------------------\n",
    "    test=TestCase()\n",
    "    with test.assertRaises(ValueError) as context:\n",
    "        compute_metric(np.array([[1,2],\n",
    "                                 [3,4]]),\n",
    "                       np.array([[[1,1],[1,2]],\n",
    "                                 [[2,1],[2,2]]]),\n",
    "                       'mse')\n",
    "    assert 'y_pred vector dimension too high' in str(context.exception),\\\n",
    "        \"no or wrong Exception raised when inputing a 3D-array as y_pred\\\n",
    "         in compute_metric function\"\n",
    "\n",
    "    #---------------------------------------------------------------------------\n",
    "    test=TestCase()\n",
    "    with test.assertRaises(ValueError) as context:\n",
    "        compute_metric(np.array([[1,2,3],\n",
    "                                 [4,5,6]]),\n",
    "                       np.array([[1,2],\n",
    "                                 [3,4]]),\n",
    "                       'mse')\n",
    "    assert 'unconsistent vectors dimensions' in str(context.exception),\\\n",
    "        \"no or wrong Exception raised when inputing unconsistent\\\n",
    "         y vs y_pred vectors shapes in compute_metric function\"\n",
    "\n",
    "    #---------------------------------------------------------------------------\n",
    "    assert compute_metric([1,0],[0.5,1],'mse') == 0.625,\\\n",
    "        \"uncorrect mse metric behaviour\"\n",
    "\n",
    "    #---------------------------------------------------------------------------\n",
    "    assert compute_metric([[1,0],[0,0]],[[0.5,1],[1,1]],'mse') == 0.8125,\\\n",
    "        \"uncorrect mse metric behaviour for multi-features regressions\\\n",
    "         (2D y and y_pred vectors)\"\n",
    "\n",
    "    #---------------------------------------------------------------------------\n",
    "    assert compute_metric([1,0],[0.5,1],'mae') == 0.75,\\\n",
    "        \"uncorrect mae metric behaviour\"\n",
    "\n",
    "    #---------------------------------------------------------------------------\n",
    "    assert np.round(compute_metric([[1,0,0],[0,1,0]],[[0.8,0.1,0.1],[0.2,0.6,0.2]],\n",
    "                                   'categorical_crossentropy'),\n",
    "                    decimals=8) == 0.36698459,\\\n",
    "        \"uncorrect categorical_crossentropy metric behaviour\"\n",
    "\n",
    "    #---------------------------------------------------------------------------\n",
    "    assert np.round(compute_metric([1,0],[0.9,0.1],'binary_crossentropy'),\n",
    "                    decimals=8) == 0.10536052,\\\n",
    "        \"uncorrect binary_crossentropy metric behaviour\"\n",
    "\n",
    "    #---------------------------------------------------------------------------\n",
    "    test=TestCase()\n",
    "    with test.assertRaises(ValueError) as context:\n",
    "        compute_metric([[1,0,1],[0,0,0]],\n",
    "                       [[0.5,0.9,0.1],\n",
    "                        [0.9,0.9,0.1]],\n",
    "                       'binary_crossentropy')\n",
    "    assert '1 max for binary_crossentropy' in str(context.exception),\\\n",
    "        \"no or wrong Exception raised when inputing 2D y/y_pred vectors\\\n",
    "         with binary_crossentropy selected in compute_metric function\"\n",
    "\n",
    "    #---------------------------------------------------------------------------\n",
    "    test=TestCase()\n",
    "    with test.assertRaises(ValueError) as context:\n",
    "        compute_metric([0],[0],'typo_error')\n",
    "    assert 'Unknown metric' in str(context.exception),\\\n",
    "        \"no or wrong Exception raised when inputing\\\n",
    "         unknown metric in compute_metric function\""
   ]
  },
  {
   "cell_type": "markdown",
   "metadata": {},
   "source": [
    "## compute_metric function tests - derivative mode"
   ]
  },
  {
   "cell_type": "code",
   "execution_count": 101,
   "metadata": {
    "ExecuteTime": {
     "end_time": "2021-01-20T20:42:49.112671Z",
     "start_time": "2021-01-20T20:42:49.096526Z"
    }
   },
   "outputs": [],
   "source": [
    "    #---------------------------------------------------------------------------\n",
    "    ### tests for function compute_metric - derivative mode ####################\n",
    "    #---------------------------------------------------------------------------\n",
    "\n",
    "    assert len(compute_metric([1,0],[0.5,1],'mse', loss_derivative = True)\\\n",
    "               .shape) == 2,\\\n",
    "        \"uncorrect output : compute_metric must return a 2D array in derivative mode\"\n",
    "\n",
    "    #---------------------------------------------------------------------------    \n",
    "    assert (compute_metric([1,0],[0.5,1],'mse', loss_derivative = True)\\\n",
    "                == np.array([[-0.5],[1]])).all(),\\\n",
    "        \"uncorrect mse metric behaviour in derivative mode\"\n",
    "\n",
    "    #---------------------------------------------------------------------------\n",
    "    assert (compute_metric([[1,0],[0,0]],[[0.5,1],[1,1]],'mse',\n",
    "                       loss_derivative = True)\\\n",
    "                == np.array([[-0.25, 0.5],[0.5, 0.5]])).all(),\\\n",
    "        \"uncorrect mse metric behaviour for multi-features regressions\\\n",
    "         (2D y and y_pred vectors) in derivative mode\"\n",
    "\n",
    "    #---------------------------------------------------------------------------\n",
    "    assert (compute_metric([1,0],[0.5,1],'mae', loss_derivative = True)\\\n",
    "                == np.array([[-0.5],[0.5]])).all(),\\\n",
    "        \"uncorrect mae metric behaviour in derivative mode\"\n",
    "\n",
    "    #---------------------------------------------------------------------------\n",
    "    assert (np.round(compute_metric([[1,0,0],[0,1,0]],[[0.8,0.1,0.1],[0.2,0.6,0.2]],\n",
    "                                   'categorical_crossentropy',\n",
    "                                   loss_derivative = True),\n",
    "                    decimals=8) == np.array([[-0.625, -0.        , -0.],\n",
    "                                             [-0.   , -0.83333333, -0.]])).all(),\\\n",
    "        \"uncorrect categorical_crossentropy metric behaviour in derivative mode\"\n",
    "\n",
    "    #---------------------------------------------------------------------------\n",
    "    assert (np.round(compute_metric([1,0],[0.9,0.1],\n",
    "                                   'binary_crossentropy',\n",
    "                                   loss_derivative = True),\n",
    "                    decimals=8) == np.array([[-0.55555556],\n",
    "                                             [ 0.55555556]])).all(),\\\n",
    "        \"uncorrect binary_crossentropy metric behaviour in derivative mode\""
   ]
  },
  {
   "cell_type": "markdown",
   "metadata": {},
   "source": [
    "## compute_backpropagation method tests"
   ]
  },
  {
   "cell_type": "code",
   "execution_count": 33,
   "metadata": {
    "ExecuteTime": {
     "end_time": "2021-01-21T15:41:55.471596Z",
     "start_time": "2021-01-21T15:41:55.291619Z"
    }
   },
   "outputs": [],
   "source": [
    "    #---------------------------------------------------------------------------\n",
    "    ### tests for backpropagation method (computing the gradient) ##############\n",
    "    #---------------------------------------------------------------------------\n",
    "\n",
    "    my_nn=handmade_nn(input_dim = 2)\n",
    "    my_nn.add_dense_layer(2, 'linear', weights_initializer='ones')\n",
    "    my_nn.add_dense_layer(1, 'linear', weights_initializer='ones')\n",
    "    my_nn.set_loss('mse')\n",
    "    \n",
    "    outputs = my_nn.compute_backpropagation(np.array([[1,2],[2,3],[3,4]]), np.array([4,5,6]))\n",
    "    n_outputs = len(np.array(outputs))\n",
    "    output_type = type(outputs)\n",
    "    assert output_type == tuple,\\\n",
    "        f\"backpropagation method must return a tuple. type is {output_type}\"\n",
    "    \n",
    "    #---------------------------------------------------------------------------\n",
    "    assert n_outputs == 2,\\\n",
    "        f\"backpropagation method must return 2 output. here returns {n_outputs}\"\n",
    "    \n",
    "    gradient_weights, gradient_bias = outputs\n",
    "    \n",
    "    #---------------------------------------------------------------------------\n",
    "    assert len(gradient_weights) == 2,\\\n",
    "        \"using backpropagation: the list of weights has not correct length\"\n",
    "    \n",
    "    #---------------------------------------------------------------------------\n",
    "    assert len(gradient_bias) == 2,\\\n",
    "        \"using backpropagation: the list of bias has not correct length\"\n",
    "    \n",
    "    #---------------------------------------------------------------------------\n",
    "    assert (gradient_weights[0] == np.array([[24., 34.],\n",
    "                                             [24., 34.]])).all(),\\\n",
    "        \"using backpropagation: uncorrect gradient with respect to weights\"\n",
    "    \n",
    "    #---------------------------------------------------------------------------\n",
    "    assert (gradient_bias[0] == np.array([10., 10.])).all(),\\\n",
    "        \"using backpropagation: uncorrect gradient with respect to bias\""
   ]
  },
  {
   "cell_type": "markdown",
   "metadata": {},
   "source": [
    "## fit method tests"
   ]
  },
  {
   "cell_type": "code",
   "execution_count": 97,
   "metadata": {
    "ExecuteTime": {
     "end_time": "2021-01-29T16:16:43.725484Z",
     "start_time": "2021-01-29T16:16:43.371218Z"
    }
   },
   "outputs": [
    {
     "name": "stdout",
     "output_type": "stream",
     "text": [
      "initial loss: 3.7224549337159085\n",
      "final loss: 7.099748146989106e-30\n"
     ]
    }
   ],
   "source": [
    "    #---------------------------------------------------------------------------\n",
    "    ### tests for fit method\n",
    "    #---------------------------------------------------------------------------\n",
    "\n",
    "    my_nn=handmade_nn(input_dim = 2)\n",
    "    my_nn.add_dense_layer(1, 'linear',)\n",
    "    X= np.ones((10_000, 2))\n",
    "    y= np.zeros((10_000,1))\n",
    "    my_nn.fit(X,y, loss='mse',optimizer_type='sgd', batch_size=7, n_epochs=2)\n",
    "    \n",
    "    assert my_nn.score(X,y,'mse') < 0.5,\\\n",
    "        \"fit method has not converged with build-in sgd optimizer on a trivial regression\""
   ]
  },
  {
   "cell_type": "markdown",
   "metadata": {},
   "source": [
    "## optimizers tests"
   ]
  },
  {
   "cell_type": "code",
   "execution_count": 98,
   "metadata": {
    "ExecuteTime": {
     "end_time": "2021-01-29T16:20:23.022772Z",
     "start_time": "2021-01-29T16:20:22.392833Z"
    }
   },
   "outputs": [
    {
     "name": "stdout",
     "output_type": "stream",
     "text": [
      "initial loss: 0.19504073992867837\n",
      "final loss: 1.3019286424057714e-31\n"
     ]
    }
   ],
   "source": [
    "    #---------------------------------------------------------------------------\n",
    "    ### tests for optimizers\n",
    "    #---------------------------------------------------------------------------\n",
    "\n",
    "    my_nn=handmade_nn(input_dim = 2)\n",
    "    my_nn.add_dense_layer(1, 'linear',)\n",
    "    X= np.ones((10_000, 2))\n",
    "    y= np.zeros((10_000,1))\n",
    "    my_nn.fit(X,y, loss='mse',optimizer_type='adam', batch_size=7, n_epochs=2)\n",
    "    \n",
    "    assert my_nn.score(X,y,'mse') < 0.5,\\\n",
    "        \"not converged with adam optimizer on a trivial regression\""
   ]
  },
  {
   "cell_type": "markdown",
   "metadata": {
    "ExecuteTime": {
     "end_time": "2021-01-20T20:15:11.008648Z",
     "start_time": "2021-01-20T20:15:10.990443Z"
    }
   },
   "source": [
    "# comparing with keras"
   ]
  },
  {
   "cell_type": "markdown",
   "metadata": {},
   "source": [
    "## create data"
   ]
  },
  {
   "cell_type": "code",
   "execution_count": 2,
   "metadata": {
    "ExecuteTime": {
     "end_time": "2021-01-21T12:03:46.029544Z",
     "start_time": "2021-01-21T12:03:43.215585Z"
    }
   },
   "outputs": [],
   "source": [
    "from sklearn.datasets import make_circles\n",
    "X_circle, y_circle = make_circles(n_samples= 100, noise=0.1)"
   ]
  },
  {
   "cell_type": "code",
   "execution_count": 71,
   "metadata": {
    "ExecuteTime": {
     "end_time": "2021-01-20T20:24:54.962691Z",
     "start_time": "2021-01-20T20:24:54.935218Z"
    }
   },
   "outputs": [
    {
     "data": {
      "text/plain": [
       "array([1, 1, 0, 1, 0, 0, 1, 0, 0, 0, 0, 1, 0, 0, 0, 0, 1, 0, 1, 0, 0, 1,\n",
       "       1, 1, 0, 1, 0, 1, 1, 0, 1, 0, 0, 1, 1, 0, 1, 0, 1, 0, 0, 0, 0, 0,\n",
       "       1, 1, 1, 1, 1, 1, 0, 1, 1, 0, 0, 0, 1, 1, 1, 0, 1, 1, 1, 1, 1, 1,\n",
       "       0, 1, 1, 0, 1, 0, 1, 0, 0, 0, 0, 1, 1, 0, 1, 1, 1, 0, 1, 0, 0, 0,\n",
       "       0, 1, 0, 0, 0, 0, 0, 1, 0, 1, 1, 1])"
      ]
     },
     "execution_count": 71,
     "metadata": {},
     "output_type": "execute_result"
    }
   ],
   "source": [
    "y_circle"
   ]
  },
  {
   "cell_type": "markdown",
   "metadata": {},
   "source": [
    "## handmade nn"
   ]
  },
  {
   "cell_type": "code",
   "execution_count": 32,
   "metadata": {
    "ExecuteTime": {
     "end_time": "2021-01-21T12:54:00.239553Z",
     "start_time": "2021-01-21T12:53:12.823934Z"
    },
    "collapsed": true
   },
   "outputs": [
    {
     "name": "stderr",
     "output_type": "stream",
     "text": [
      "100% (14 of 14) |########################| Elapsed Time: 0:00:00 Time:  0:00:00\n",
      "100% (14 of 14) |########################| Elapsed Time: 0:00:00 Time:  0:00:00\n",
      "100% (14 of 14) |########################| Elapsed Time: 0:00:00 Time:  0:00:00\n",
      "100% (14 of 14) |########################| Elapsed Time: 0:00:00 Time:  0:00:00\n",
      "100% (14 of 14) |########################| Elapsed Time: 0:00:00 Time:  0:00:00\n",
      "100% (14 of 14) |########################| Elapsed Time: 0:00:00 Time:  0:00:00\n",
      "100% (14 of 14) |########################| Elapsed Time: 0:00:00 Time:  0:00:00\n",
      "N/A% (0 of 14) |                         | Elapsed Time: 0:00:00 ETA:  --:--:--"
     ]
    },
    {
     "name": "stdout",
     "output_type": "stream",
     "text": [
      "initial loss: 0.7941040714196206\n",
      "beginning epoch n°1\n",
      "end of epoch n°1. loss: 0.6823406943157961\n",
      "beginning epoch n°2\n",
      "end of epoch n°2. loss: 0.6803955074040035\n",
      "beginning epoch n°3\n",
      "end of epoch n°3. loss: 0.675901493271478\n",
      "beginning epoch n°4\n",
      "end of epoch n°4. loss: 0.6715798007923752\n",
      "beginning epoch n°5\n",
      "end of epoch n°5. loss: 0.6673945141671954\n",
      "beginning epoch n°6\n",
      "end of epoch n°6. loss: 0.6638697578622351\n",
      "beginning epoch n°7\n",
      "end of epoch n°7. loss: 0.6600494584830695\n",
      "beginning epoch n°8\n"
     ]
    },
    {
     "name": "stderr",
     "output_type": "stream",
     "text": [
      "100% (14 of 14) |########################| Elapsed Time: 0:00:00 Time:  0:00:00\n",
      "100% (14 of 14) |########################| Elapsed Time: 0:00:00 Time:  0:00:00\n",
      "100% (14 of 14) |########################| Elapsed Time: 0:00:00 Time:  0:00:00\n",
      "100% (14 of 14) |########################| Elapsed Time: 0:00:00 Time:  0:00:00\n",
      "100% (14 of 14) |########################| Elapsed Time: 0:00:00 Time:  0:00:00"
     ]
    },
    {
     "name": "stdout",
     "output_type": "stream",
     "text": [
      "end of epoch n°8. loss: 0.6559587552055526\n",
      "beginning epoch n°9\n",
      "end of epoch n°9. loss: 0.6564299078884395\n",
      "beginning epoch n°10\n",
      "end of epoch n°10. loss: 0.6517155811472953\n",
      "beginning epoch n°11\n",
      "end of epoch n°11. loss: 0.6442590122205318\n",
      "beginning epoch n°12\n"
     ]
    },
    {
     "name": "stderr",
     "output_type": "stream",
     "text": [
      "\n",
      "100% (14 of 14) |########################| Elapsed Time: 0:00:00 Time:  0:00:00\n",
      "100% (14 of 14) |########################| Elapsed Time: 0:00:00 Time:  0:00:00\n",
      "100% (14 of 14) |########################| Elapsed Time: 0:00:00 Time:  0:00:00\n",
      "100% (14 of 14) |########################| Elapsed Time: 0:00:00 Time:  0:00:00\n",
      "100% (14 of 14) |########################| Elapsed Time: 0:00:00 Time:  0:00:00\n",
      "100% (14 of 14) |########################| Elapsed Time: 0:00:00 Time:  0:00:00"
     ]
    },
    {
     "name": "stdout",
     "output_type": "stream",
     "text": [
      "end of epoch n°12. loss: 0.6414238486702469\n",
      "beginning epoch n°13\n",
      "end of epoch n°13. loss: 0.6364243171091507\n",
      "beginning epoch n°14\n",
      "end of epoch n°14. loss: 0.6292410563682784\n",
      "beginning epoch n°15\n",
      "end of epoch n°15. loss: 0.6238278518409487\n",
      "beginning epoch n°16\n",
      "end of epoch n°16. loss: 0.6345081691411307\n",
      "beginning epoch n°17\n",
      "end of epoch n°17. loss: 0.6209145244533846\n",
      "beginning epoch n°18\n"
     ]
    },
    {
     "name": "stderr",
     "output_type": "stream",
     "text": [
      "\n",
      "100% (14 of 14) |########################| Elapsed Time: 0:00:00 Time:  0:00:00\n",
      "100% (14 of 14) |########################| Elapsed Time: 0:00:00 Time:  0:00:00\n",
      "100% (14 of 14) |########################| Elapsed Time: 0:00:00 Time:  0:00:00\n",
      "100% (14 of 14) |########################| Elapsed Time: 0:00:00 Time:  0:00:00"
     ]
    },
    {
     "name": "stdout",
     "output_type": "stream",
     "text": [
      "end of epoch n°18. loss: 0.6315383198112565\n",
      "beginning epoch n°19\n",
      "end of epoch n°19. loss: 0.6294583883254643\n",
      "beginning epoch n°20\n",
      "end of epoch n°20. loss: 0.6282813934337526\n",
      "beginning epoch n°21\n",
      "end of epoch n°21. loss: 0.6193996254983895\n",
      "beginning epoch n°22\n"
     ]
    },
    {
     "name": "stderr",
     "output_type": "stream",
     "text": [
      "\n",
      "100% (14 of 14) |########################| Elapsed Time: 0:00:00 Time:  0:00:00\n",
      "100% (14 of 14) |########################| Elapsed Time: 0:00:00 Time:  0:00:00\n",
      "100% (14 of 14) |########################| Elapsed Time: 0:00:00 Time:  0:00:00\n",
      "100% (14 of 14) |########################| Elapsed Time: 0:00:00 Time:  0:00:00\n",
      "100% (14 of 14) |########################| Elapsed Time: 0:00:00 Time:  0:00:00"
     ]
    },
    {
     "name": "stdout",
     "output_type": "stream",
     "text": [
      "end of epoch n°22. loss: 0.6179125848451006\n",
      "beginning epoch n°23\n",
      "end of epoch n°23. loss: 0.6259324962795203\n",
      "beginning epoch n°24\n",
      "end of epoch n°24. loss: 0.6168357847948411\n",
      "beginning epoch n°25\n",
      "end of epoch n°25. loss: 0.6099493454004541\n",
      "beginning epoch n°26\n",
      "end of epoch n°26. loss: 0.6083756269676891\n",
      "beginning epoch n°27\n"
     ]
    },
    {
     "name": "stderr",
     "output_type": "stream",
     "text": [
      "\n",
      "100% (14 of 14) |########################| Elapsed Time: 0:00:00 Time:  0:00:00\n",
      "100% (14 of 14) |########################| Elapsed Time: 0:00:00 Time:  0:00:00\n",
      "100% (14 of 14) |########################| Elapsed Time: 0:00:00 Time:  0:00:00\n",
      "100% (14 of 14) |########################| Elapsed Time: 0:00:00 Time:  0:00:00\n",
      "100% (14 of 14) |########################| Elapsed Time: 0:00:00 Time:  0:00:00"
     ]
    },
    {
     "name": "stdout",
     "output_type": "stream",
     "text": [
      "end of epoch n°27. loss: 0.6062388023671884\n",
      "beginning epoch n°28\n",
      "end of epoch n°28. loss: 0.6007708819421402\n",
      "beginning epoch n°29\n",
      "end of epoch n°29. loss: 0.5866409080737243\n",
      "beginning epoch n°30\n",
      "end of epoch n°30. loss: 0.5939241311143829\n",
      "beginning epoch n°31\n",
      "end of epoch n°31. loss: 0.5837728478881626\n",
      "beginning epoch n°32\n"
     ]
    },
    {
     "name": "stderr",
     "output_type": "stream",
     "text": [
      "\n",
      "100% (14 of 14) |########################| Elapsed Time: 0:00:00 Time:  0:00:00\n",
      "100% (14 of 14) |########################| Elapsed Time: 0:00:00 Time:  0:00:00\n",
      "100% (14 of 14) |########################| Elapsed Time: 0:00:00 Time:  0:00:00\n",
      "100% (14 of 14) |########################| Elapsed Time: 0:00:00 Time:  0:00:00\n",
      "100% (14 of 14) |########################| Elapsed Time: 0:00:00 Time:  0:00:00\n",
      "100% (14 of 14) |########################| Elapsed Time: 0:00:00 Time:  0:00:00"
     ]
    },
    {
     "name": "stdout",
     "output_type": "stream",
     "text": [
      "end of epoch n°32. loss: 0.5920822476009632\n",
      "beginning epoch n°33\n",
      "end of epoch n°33. loss: 0.5908395780330823\n",
      "beginning epoch n°34\n",
      "end of epoch n°34. loss: 0.5978585906415694\n",
      "beginning epoch n°35\n",
      "end of epoch n°35. loss: 0.6744469112393834\n",
      "beginning epoch n°36\n",
      "end of epoch n°36. loss: 0.5938874626051243\n",
      "beginning epoch n°37\n",
      "end of epoch n°37. loss: 0.6572695830966908\n",
      "beginning epoch n°38\n"
     ]
    },
    {
     "name": "stderr",
     "output_type": "stream",
     "text": [
      "\n",
      "100% (14 of 14) |########################| Elapsed Time: 0:00:00 Time:  0:00:00\n",
      "100% (14 of 14) |########################| Elapsed Time: 0:00:00 Time:  0:00:00\n",
      "100% (14 of 14) |########################| Elapsed Time: 0:00:00 Time:  0:00:00\n",
      "  7% (1 of 14) |#                        | Elapsed Time: 0:00:00 ETA:  00:00:00"
     ]
    },
    {
     "name": "stdout",
     "output_type": "stream",
     "text": [
      "end of epoch n°38. loss: 0.6491611426200915\n",
      "beginning epoch n°39\n",
      "end of epoch n°39. loss: 0.6479759737556576\n",
      "beginning epoch n°40\n",
      "end of epoch n°40. loss: 0.6524418491309141\n",
      "beginning epoch n°41\n",
      "end of epoch n°41. loss: 0.593512486762362\n",
      "beginning epoch n°42\n"
     ]
    },
    {
     "name": "stderr",
     "output_type": "stream",
     "text": [
      "100% (14 of 14) |########################| Elapsed Time: 0:00:00 Time:  0:00:00\n",
      "100% (14 of 14) |########################| Elapsed Time: 0:00:00 Time:  0:00:00\n",
      "100% (14 of 14) |########################| Elapsed Time: 0:00:00 Time:  0:00:00\n",
      "100% (14 of 14) |########################| Elapsed Time: 0:00:00 Time:  0:00:00\n",
      "100% (14 of 14) |########################| Elapsed Time: 0:00:00 Time:  0:00:00\n",
      "100% (14 of 14) |########################| Elapsed Time: 0:00:00 Time:  0:00:00\n",
      "100% (14 of 14) |########################| Elapsed Time: 0:00:00 Time:  0:00:00"
     ]
    },
    {
     "name": "stdout",
     "output_type": "stream",
     "text": [
      "end of epoch n°42. loss: 0.577880481082937\n",
      "beginning epoch n°43\n",
      "end of epoch n°43. loss: 0.5326898897693563\n",
      "beginning epoch n°44\n",
      "end of epoch n°44. loss: 0.5205254741370037\n",
      "beginning epoch n°45\n",
      "end of epoch n°45. loss: 0.5169116732808924\n",
      "beginning epoch n°46\n",
      "end of epoch n°46. loss: 0.5148897169580525\n",
      "beginning epoch n°47\n",
      "end of epoch n°47. loss: 0.5102745736029803\n",
      "beginning epoch n°48\n"
     ]
    },
    {
     "name": "stderr",
     "output_type": "stream",
     "text": [
      "\n",
      "100% (14 of 14) |########################| Elapsed Time: 0:00:00 Time:  0:00:00\n",
      "100% (14 of 14) |########################| Elapsed Time: 0:00:00 Time:  0:00:00\n",
      "100% (14 of 14) |########################| Elapsed Time: 0:00:00 Time:  0:00:00\n",
      "100% (14 of 14) |########################| Elapsed Time: 0:00:00 Time:  0:00:00\n",
      "100% (14 of 14) |########################| Elapsed Time: 0:00:00 Time:  0:00:00\n",
      "N/A% (0 of 14) |                         | Elapsed Time: 0:00:00 ETA:  --:--:--"
     ]
    },
    {
     "name": "stdout",
     "output_type": "stream",
     "text": [
      "end of epoch n°48. loss: 0.5036330325440559\n",
      "beginning epoch n°49\n",
      "end of epoch n°49. loss: 0.5058495244430323\n",
      "beginning epoch n°50\n",
      "end of epoch n°50. loss: 0.49902547838193256\n",
      "beginning epoch n°51\n",
      "end of epoch n°51. loss: 0.49616493718531357\n",
      "beginning epoch n°52\n",
      "end of epoch n°52. loss: 0.5150381030828608\n",
      "beginning epoch n°53\n",
      "end of epoch n°53. loss: 0.501559158753577\n",
      "beginning epoch n°54\n"
     ]
    },
    {
     "name": "stderr",
     "output_type": "stream",
     "text": [
      "100% (14 of 14) |########################| Elapsed Time: 0:00:00 Time:  0:00:00\n",
      "100% (14 of 14) |########################| Elapsed Time: 0:00:00 Time:  0:00:00\n",
      "100% (14 of 14) |########################| Elapsed Time: 0:00:00 Time:  0:00:00\n",
      "100% (14 of 14) |########################| Elapsed Time: 0:00:00 Time:  0:00:00\n",
      "N/A% (0 of 14) |                         | Elapsed Time: 0:00:00 ETA:  --:--:--"
     ]
    },
    {
     "name": "stdout",
     "output_type": "stream",
     "text": [
      "end of epoch n°54. loss: 0.4926640626918772\n",
      "beginning epoch n°55\n",
      "end of epoch n°55. loss: 0.492589353325707\n",
      "beginning epoch n°56\n",
      "end of epoch n°56. loss: 0.491576934715152\n",
      "beginning epoch n°57\n",
      "end of epoch n°57. loss: 0.4892610287703289\n",
      "beginning epoch n°58\n"
     ]
    },
    {
     "name": "stderr",
     "output_type": "stream",
     "text": [
      "100% (14 of 14) |########################| Elapsed Time: 0:00:00 Time:  0:00:00\n",
      "100% (14 of 14) |########################| Elapsed Time: 0:00:00 Time:  0:00:00\n",
      "100% (14 of 14) |########################| Elapsed Time: 0:00:00 Time:  0:00:00\n",
      "100% (14 of 14) |########################| Elapsed Time: 0:00:00 Time:  0:00:00\n",
      "100% (14 of 14) |########################| Elapsed Time: 0:00:00 Time:  0:00:00\n",
      "100% (14 of 14) |########################| Elapsed Time: 0:00:00 Time:  0:00:00"
     ]
    },
    {
     "name": "stdout",
     "output_type": "stream",
     "text": [
      "end of epoch n°58. loss: 0.48859701268866507\n",
      "beginning epoch n°59\n",
      "end of epoch n°59. loss: 0.4887649061585775\n",
      "beginning epoch n°60\n",
      "end of epoch n°60. loss: 0.4892099829879571\n",
      "beginning epoch n°61\n",
      "end of epoch n°61. loss: 0.48965319352556796\n",
      "beginning epoch n°62\n",
      "end of epoch n°62. loss: 0.5032079152949904\n",
      "beginning epoch n°63\n"
     ]
    },
    {
     "name": "stderr",
     "output_type": "stream",
     "text": [
      "\n",
      "100% (14 of 14) |########################| Elapsed Time: 0:00:00 Time:  0:00:00\n",
      "100% (14 of 14) |########################| Elapsed Time: 0:00:00 Time:  0:00:00\n",
      "100% (14 of 14) |########################| Elapsed Time: 0:00:00 Time:  0:00:00\n",
      "100% (14 of 14) |########################| Elapsed Time: 0:00:00 Time:  0:00:00\n",
      "100% (14 of 14) |########################| Elapsed Time: 0:00:00 Time:  0:00:00"
     ]
    },
    {
     "name": "stdout",
     "output_type": "stream",
     "text": [
      "end of epoch n°63. loss: 0.5005886419697692\n",
      "beginning epoch n°64\n",
      "end of epoch n°64. loss: 0.523027574790732\n",
      "beginning epoch n°65\n",
      "end of epoch n°65. loss: 0.5343663517871573\n",
      "beginning epoch n°66\n",
      "end of epoch n°66. loss: 0.5792911457051154\n",
      "beginning epoch n°67\n",
      "end of epoch n°67. loss: 0.5706083928949244\n",
      "beginning epoch n°68\n"
     ]
    },
    {
     "name": "stderr",
     "output_type": "stream",
     "text": [
      "\n",
      "100% (14 of 14) |########################| Elapsed Time: 0:00:00 Time:  0:00:00\n",
      "100% (14 of 14) |########################| Elapsed Time: 0:00:00 Time:  0:00:00\n",
      "100% (14 of 14) |########################| Elapsed Time: 0:00:00 Time:  0:00:00\n",
      "100% (14 of 14) |########################| Elapsed Time: 0:00:00 Time:  0:00:00\n",
      "100% (14 of 14) |########################| Elapsed Time: 0:00:00 Time:  0:00:00\n"
     ]
    },
    {
     "name": "stdout",
     "output_type": "stream",
     "text": [
      "end of epoch n°68. loss: 0.561988181398655\n",
      "beginning epoch n°69\n",
      "end of epoch n°69. loss: 0.5540480226626932\n",
      "beginning epoch n°70\n",
      "end of epoch n°70. loss: 0.5351158675792136\n",
      "beginning epoch n°71\n",
      "end of epoch n°71. loss: 0.5356569269347728\n",
      "beginning epoch n°72\n",
      "end of epoch n°72. loss: 0.5341166577933889\n",
      "beginning epoch n°73\n",
      "end of epoch n°73. loss: 0.5318229593017301"
     ]
    },
    {
     "name": "stderr",
     "output_type": "stream",
     "text": [
      "100% (14 of 14) |########################| Elapsed Time: 0:00:00 Time:  0:00:00\n",
      "100% (14 of 14) |########################| Elapsed Time: 0:00:00 Time:  0:00:00\n",
      "100% (14 of 14) |########################| Elapsed Time: 0:00:00 Time:  0:00:00\n",
      "100% (14 of 14) |########################| Elapsed Time: 0:00:00 Time:  0:00:00\n",
      "100% (14 of 14) |########################| Elapsed Time: 0:00:00 Time:  0:00:00\n",
      "100% (14 of 14) |########################| Elapsed Time: 0:00:00 Time:  0:00:00\n"
     ]
    },
    {
     "name": "stdout",
     "output_type": "stream",
     "text": [
      "\n",
      "beginning epoch n°74\n",
      "end of epoch n°74. loss: 0.519920880276417\n",
      "beginning epoch n°75\n",
      "end of epoch n°75. loss: 0.5211494640500425\n",
      "beginning epoch n°76\n",
      "end of epoch n°76. loss: 0.5209434932990897\n",
      "beginning epoch n°77\n",
      "end of epoch n°77. loss: 0.5122924319322564\n",
      "beginning epoch n°78\n",
      "end of epoch n°78. loss: 0.5133007306415515\n",
      "beginning epoch n°79\n"
     ]
    },
    {
     "name": "stderr",
     "output_type": "stream",
     "text": [
      "100% (14 of 14) |########################| Elapsed Time: 0:00:00 Time:  0:00:00\n",
      "100% (14 of 14) |########################| Elapsed Time: 0:00:00 Time:  0:00:00\n",
      "100% (14 of 14) |########################| Elapsed Time: 0:00:00 Time:  0:00:00\n",
      "100% (14 of 14) |########################| Elapsed Time: 0:00:00 Time:  0:00:00\n",
      "100% (14 of 14) |########################| Elapsed Time: 0:00:00 Time:  0:00:00\n",
      "100% (14 of 14) |########################| Elapsed Time: 0:00:00 Time:  0:00:00"
     ]
    },
    {
     "name": "stdout",
     "output_type": "stream",
     "text": [
      "end of epoch n°79. loss: 0.5141437050671332\n",
      "beginning epoch n°80\n",
      "end of epoch n°80. loss: 0.5060298040577027\n",
      "beginning epoch n°81\n",
      "end of epoch n°81. loss: 0.5080946358960667\n",
      "beginning epoch n°82\n",
      "end of epoch n°82. loss: 0.5087447886792893\n",
      "beginning epoch n°83\n",
      "end of epoch n°83. loss: 0.5020748237712422\n",
      "beginning epoch n°84\n",
      "end of epoch n°84. loss: 0.5046031919223823\n",
      "beginning epoch n°85\n"
     ]
    },
    {
     "name": "stderr",
     "output_type": "stream",
     "text": [
      "\n",
      "100% (14 of 14) |########################| Elapsed Time: 0:00:00 Time:  0:00:00\n",
      "100% (14 of 14) |########################| Elapsed Time: 0:00:00 Time:  0:00:00\n",
      "100% (14 of 14) |########################| Elapsed Time: 0:00:00 Time:  0:00:00\n",
      " 71% (10 of 14) |#################       | Elapsed Time: 0:00:00 ETA:  00:00:00"
     ]
    },
    {
     "name": "stdout",
     "output_type": "stream",
     "text": [
      "end of epoch n°85. loss: 0.5054883415639196\n",
      "beginning epoch n°86\n",
      "end of epoch n°86. loss: 0.4997233890248844\n",
      "beginning epoch n°87\n",
      "end of epoch n°87. loss: 0.5017949173302667\n",
      "beginning epoch n°88\n",
      "end of epoch n°88. loss: 0.5034065786045935\n",
      "beginning epoch n°89\n"
     ]
    },
    {
     "name": "stderr",
     "output_type": "stream",
     "text": [
      "100% (14 of 14) |########################| Elapsed Time: 0:00:00 Time:  0:00:00\n",
      "100% (14 of 14) |########################| Elapsed Time: 0:00:00 Time:  0:00:00\n",
      "100% (14 of 14) |########################| Elapsed Time: 0:00:00 Time:  0:00:00\n",
      "100% (14 of 14) |########################| Elapsed Time: 0:00:00 Time:  0:00:00\n",
      "100% (14 of 14) |########################| Elapsed Time: 0:00:00 Time:  0:00:00\n",
      "100% (14 of 14) |########################| Elapsed Time: 0:00:00 Time:  0:00:00\n",
      "N/A% (0 of 14) |                         | Elapsed Time: 0:00:00 ETA:  --:--:--"
     ]
    },
    {
     "name": "stdout",
     "output_type": "stream",
     "text": [
      "end of epoch n°89. loss: 0.4956361891165937\n",
      "beginning epoch n°90\n",
      "end of epoch n°90. loss: 0.49790376535198017\n",
      "beginning epoch n°91\n",
      "end of epoch n°91. loss: 0.49960256363805366\n",
      "beginning epoch n°92\n",
      "end of epoch n°92. loss: 0.49269086521626204\n",
      "beginning epoch n°93\n",
      "end of epoch n°93. loss: 0.49488065611619064\n",
      "beginning epoch n°94\n",
      "end of epoch n°94. loss: 0.4965560909439172\n",
      "beginning epoch n°95\n"
     ]
    },
    {
     "name": "stderr",
     "output_type": "stream",
     "text": [
      "100% (14 of 14) |########################| Elapsed Time: 0:00:00 Time:  0:00:00\n",
      "100% (14 of 14) |########################| Elapsed Time: 0:00:00 Time:  0:00:00\n",
      "100% (14 of 14) |########################| Elapsed Time: 0:00:00 Time:  0:00:00\n",
      "100% (14 of 14) |########################| Elapsed Time: 0:00:00 Time:  0:00:00\n",
      "100% (14 of 14) |########################| Elapsed Time: 0:00:00 Time:  0:00:00\n",
      "N/A% (0 of 14) |                         | Elapsed Time: 0:00:00 ETA:  --:--:--"
     ]
    },
    {
     "name": "stdout",
     "output_type": "stream",
     "text": [
      "end of epoch n°95. loss: 0.49044160110485213\n",
      "beginning epoch n°96\n",
      "end of epoch n°96. loss: 0.4926297097060186\n",
      "beginning epoch n°97\n",
      "end of epoch n°97. loss: 0.49412545302603506\n",
      "beginning epoch n°98\n",
      "end of epoch n°98. loss: 0.49345734051236206\n",
      "beginning epoch n°99\n",
      "end of epoch n°99. loss: 0.4941245509551156\n",
      "beginning epoch n°100\n"
     ]
    },
    {
     "name": "stderr",
     "output_type": "stream",
     "text": [
      "100% (14 of 14) |########################| Elapsed Time: 0:00:00 Time:  0:00:00\n",
      "100% (14 of 14) |########################| Elapsed Time: 0:00:00 Time:  0:00:00\n",
      "100% (14 of 14) |########################| Elapsed Time: 0:00:00 Time:  0:00:00\n",
      "100% (14 of 14) |########################| Elapsed Time: 0:00:00 Time:  0:00:00\n",
      "100% (14 of 14) |########################| Elapsed Time: 0:00:00 Time:  0:00:00\n",
      "100% (14 of 14) |########################| Elapsed Time: 0:00:00 Time:  0:00:00\n"
     ]
    },
    {
     "name": "stdout",
     "output_type": "stream",
     "text": [
      "end of epoch n°100. loss: 0.4879321510947446\n",
      "beginning epoch n°101\n",
      "end of epoch n°101. loss: 0.4904265910362478\n",
      "beginning epoch n°102\n",
      "end of epoch n°102. loss: 0.49023774962054545\n",
      "beginning epoch n°103\n",
      "end of epoch n°103. loss: 0.49092640135767257\n",
      "beginning epoch n°104\n",
      "end of epoch n°104. loss: 0.4855677268368472\n",
      "beginning epoch n°105\n"
     ]
    },
    {
     "name": "stderr",
     "output_type": "stream",
     "text": [
      "100% (14 of 14) |########################| Elapsed Time: 0:00:00 Time:  0:00:00\n",
      "100% (14 of 14) |########################| Elapsed Time: 0:00:00 Time:  0:00:00\n",
      "100% (14 of 14) |########################| Elapsed Time: 0:00:00 Time:  0:00:00\n",
      "100% (14 of 14) |########################| Elapsed Time: 0:00:00 Time:  0:00:00\n",
      "N/A% (0 of 14) |                         | Elapsed Time: 0:00:00 ETA:  --:--:--"
     ]
    },
    {
     "name": "stdout",
     "output_type": "stream",
     "text": [
      "end of epoch n°105. loss: 0.48792458376530695\n",
      "beginning epoch n°106\n",
      "end of epoch n°106. loss: 0.4878984532797119\n",
      "beginning epoch n°107\n",
      "end of epoch n°107. loss: 0.4885355217746957\n",
      "beginning epoch n°108\n",
      "end of epoch n°108. loss: 0.48395057899112826\n",
      "beginning epoch n°109\n",
      "end of epoch n°109. loss: 0.4859289877298144\n",
      "beginning epoch n°110\n"
     ]
    },
    {
     "name": "stderr",
     "output_type": "stream",
     "text": [
      "100% (14 of 14) |########################| Elapsed Time: 0:00:00 Time:  0:00:00\n",
      "100% (14 of 14) |########################| Elapsed Time: 0:00:00 Time:  0:00:00\n",
      "100% (14 of 14) |########################| Elapsed Time: 0:00:00 Time:  0:00:00\n",
      "100% (14 of 14) |########################| Elapsed Time: 0:00:00 Time:  0:00:00\n",
      "100% (14 of 14) |########################| Elapsed Time: 0:00:00 Time:  0:00:00\n",
      "100% (14 of 14) |########################| Elapsed Time: 0:00:00 Time:  0:00:00\n"
     ]
    },
    {
     "name": "stdout",
     "output_type": "stream",
     "text": [
      "end of epoch n°110. loss: 0.48210921444815846\n",
      "beginning epoch n°111\n",
      "end of epoch n°111. loss: 0.48426537698765393\n",
      "beginning epoch n°112\n",
      "end of epoch n°112. loss: 0.48091201701678954\n",
      "beginning epoch n°113\n",
      "end of epoch n°113. loss: 0.48309114319265656\n",
      "beginning epoch n°114\n",
      "end of epoch n°114. loss: 0.4800630825941478\n",
      "beginning epoch n°115\n",
      "end of epoch n°115. loss: 0.4823937115975766"
     ]
    },
    {
     "name": "stderr",
     "output_type": "stream",
     "text": [
      "100% (14 of 14) |########################| Elapsed Time: 0:00:00 Time:  0:00:00\n",
      "100% (14 of 14) |########################| Elapsed Time: 0:00:00 Time:  0:00:00\n",
      "100% (14 of 14) |########################| Elapsed Time: 0:00:00 Time:  0:00:00\n",
      "100% (14 of 14) |########################| Elapsed Time: 0:00:00 Time:  0:00:00\n",
      "N/A% (0 of 14) |                         | Elapsed Time: 0:00:00 ETA:  --:--:--"
     ]
    },
    {
     "name": "stdout",
     "output_type": "stream",
     "text": [
      "\n",
      "beginning epoch n°116\n",
      "end of epoch n°116. loss: 0.47919727082336167\n",
      "beginning epoch n°117\n",
      "end of epoch n°117. loss: 0.478308291802833\n",
      "beginning epoch n°118\n",
      "end of epoch n°118. loss: 0.4806270503452496\n",
      "beginning epoch n°119\n",
      "end of epoch n°119. loss: 0.4782978064052959\n",
      "beginning epoch n°120\n"
     ]
    },
    {
     "name": "stderr",
     "output_type": "stream",
     "text": [
      "100% (14 of 14) |########################| Elapsed Time: 0:00:00 Time:  0:00:00\n",
      "100% (14 of 14) |########################| Elapsed Time: 0:00:00 Time:  0:00:00\n",
      "100% (14 of 14) |########################| Elapsed Time: 0:00:00 Time:  0:00:00\n",
      "100% (14 of 14) |########################| Elapsed Time: 0:00:00 Time:  0:00:00\n",
      "100% (14 of 14) |########################| Elapsed Time: 0:00:00 Time:  0:00:00\n",
      "N/A% (0 of 14) |                         | Elapsed Time: 0:00:00 ETA:  --:--:--"
     ]
    },
    {
     "name": "stdout",
     "output_type": "stream",
     "text": [
      "end of epoch n°120. loss: 0.4805863113727864\n",
      "beginning epoch n°121\n",
      "end of epoch n°121. loss: 0.4777817525399032\n",
      "beginning epoch n°122\n",
      "end of epoch n°122. loss: 0.4800784524962785\n",
      "beginning epoch n°123\n",
      "end of epoch n°123. loss: 0.4780986903389723\n",
      "beginning epoch n°124\n",
      "end of epoch n°124. loss: 0.47685066498281237\n",
      "beginning epoch n°125\n"
     ]
    },
    {
     "name": "stderr",
     "output_type": "stream",
     "text": [
      "100% (14 of 14) |########################| Elapsed Time: 0:00:00 Time:  0:00:00\n",
      "100% (14 of 14) |########################| Elapsed Time: 0:00:00 Time:  0:00:00\n",
      "100% (14 of 14) |########################| Elapsed Time: 0:00:00 Time:  0:00:00\n",
      "100% (14 of 14) |########################| Elapsed Time: 0:00:00 Time:  0:00:00\n",
      "100% (14 of 14) |########################| Elapsed Time: 0:00:00 Time:  0:00:00\n",
      "100% (14 of 14) |########################| Elapsed Time: 0:00:00 Time:  0:00:00\n",
      "N/A% (0 of 14) |                         | Elapsed Time: 0:00:00 ETA:  --:--:--"
     ]
    },
    {
     "name": "stdout",
     "output_type": "stream",
     "text": [
      "end of epoch n°125. loss: 0.4790049815259274\n",
      "beginning epoch n°126\n",
      "end of epoch n°126. loss: 0.47730049100539707\n",
      "beginning epoch n°127\n",
      "end of epoch n°127. loss: 0.47900413816154325\n",
      "beginning epoch n°128\n",
      "end of epoch n°128. loss: 0.47705514057596665\n",
      "beginning epoch n°129\n",
      "end of epoch n°129. loss: 0.4786144213826713\n",
      "beginning epoch n°130\n",
      "end of epoch n°130. loss: 0.4766990983375367\n",
      "beginning epoch n°131\n"
     ]
    },
    {
     "name": "stderr",
     "output_type": "stream",
     "text": [
      "100% (14 of 14) |########################| Elapsed Time: 0:00:00 Time:  0:00:00\n",
      "100% (14 of 14) |########################| Elapsed Time: 0:00:00 Time:  0:00:00\n",
      "100% (14 of 14) |########################| Elapsed Time: 0:00:00 Time:  0:00:00\n",
      "100% (14 of 14) |########################| Elapsed Time: 0:00:00 Time:  0:00:00\n",
      "100% (14 of 14) |########################| Elapsed Time: 0:00:00 Time:  0:00:00\n"
     ]
    },
    {
     "name": "stdout",
     "output_type": "stream",
     "text": [
      "end of epoch n°131. loss: 0.47816923695802627\n",
      "beginning epoch n°132\n",
      "end of epoch n°132. loss: 0.4763325406581791\n",
      "beginning epoch n°133\n",
      "end of epoch n°133. loss: 0.47775904782559336\n",
      "beginning epoch n°134\n",
      "end of epoch n°134. loss: 0.47597122866516\n",
      "beginning epoch n°135\n",
      "end of epoch n°135. loss: 0.47728491388637906\n",
      "beginning epoch n°136\n"
     ]
    },
    {
     "name": "stderr",
     "output_type": "stream",
     "text": [
      "100% (14 of 14) |########################| Elapsed Time: 0:00:00 Time:  0:00:00\n",
      "100% (14 of 14) |########################| Elapsed Time: 0:00:00 Time:  0:00:00\n",
      "100% (14 of 14) |########################| Elapsed Time: 0:00:00 Time:  0:00:00\n",
      "100% (14 of 14) |########################| Elapsed Time: 0:00:00 Time:  0:00:00\n",
      "100% (14 of 14) |########################| Elapsed Time: 0:00:00 Time:  0:00:00\n",
      "N/A% (0 of 14) |                         | Elapsed Time: 0:00:00 ETA:  --:--:--"
     ]
    },
    {
     "name": "stdout",
     "output_type": "stream",
     "text": [
      "end of epoch n°136. loss: 0.4756270840086871\n",
      "beginning epoch n°137\n",
      "end of epoch n°137. loss: 0.476857211046605\n",
      "beginning epoch n°138\n",
      "end of epoch n°138. loss: 0.4752944573188348\n",
      "beginning epoch n°139\n",
      "end of epoch n°139. loss: 0.4764414776874431\n",
      "beginning epoch n°140\n",
      "end of epoch n°140. loss: 0.4743351782057978\n",
      "beginning epoch n°141\n"
     ]
    },
    {
     "name": "stderr",
     "output_type": "stream",
     "text": [
      "100% (14 of 14) |########################| Elapsed Time: 0:00:00 Time:  0:00:00\n",
      "100% (14 of 14) |########################| Elapsed Time: 0:00:00 Time:  0:00:00\n",
      "100% (14 of 14) |########################| Elapsed Time: 0:00:00 Time:  0:00:00\n",
      "100% (14 of 14) |########################| Elapsed Time: 0:00:00 Time:  0:00:00\n",
      "N/A% (0 of 14) |                         | Elapsed Time: 0:00:00 ETA:  --:--:--"
     ]
    },
    {
     "name": "stdout",
     "output_type": "stream",
     "text": [
      "end of epoch n°141. loss: 0.47572589393320486\n",
      "beginning epoch n°142\n",
      "end of epoch n°142. loss: 0.47391188115768634\n",
      "beginning epoch n°143\n",
      "end of epoch n°143. loss: 0.47532386819866707\n",
      "beginning epoch n°144\n",
      "end of epoch n°144. loss: 0.47366014688962105\n",
      "beginning epoch n°145\n"
     ]
    },
    {
     "name": "stderr",
     "output_type": "stream",
     "text": [
      "100% (14 of 14) |########################| Elapsed Time: 0:00:00 Time:  0:00:00\n",
      "100% (14 of 14) |########################| Elapsed Time: 0:00:00 Time:  0:00:00\n",
      "100% (14 of 14) |########################| Elapsed Time: 0:00:00 Time:  0:00:00\n",
      "100% (14 of 14) |########################| Elapsed Time: 0:00:00 Time:  0:00:00\n",
      "100% (14 of 14) |########################| Elapsed Time: 0:00:00 Time:  0:00:00\n",
      "100% (14 of 14) |########################| Elapsed Time: 0:00:00 Time:  0:00:00"
     ]
    },
    {
     "name": "stdout",
     "output_type": "stream",
     "text": [
      "end of epoch n°145. loss: 0.47509037611955407\n",
      "beginning epoch n°146\n",
      "end of epoch n°146. loss: 0.4741511355737378\n",
      "beginning epoch n°147\n",
      "end of epoch n°147. loss: 0.47504028536486387\n",
      "beginning epoch n°148\n",
      "end of epoch n°148. loss: 0.4733353238168547\n",
      "beginning epoch n°149\n",
      "end of epoch n°149. loss: 0.4745088049634068\n",
      "beginning epoch n°150\n"
     ]
    },
    {
     "name": "stderr",
     "output_type": "stream",
     "text": [
      "\n",
      "100% (14 of 14) |########################| Elapsed Time: 0:00:00 Time:  0:00:00\n",
      "100% (14 of 14) |########################| Elapsed Time: 0:00:00 Time:  0:00:00\n",
      "100% (14 of 14) |########################| Elapsed Time: 0:00:00 Time:  0:00:00\n",
      "100% (14 of 14) |########################| Elapsed Time: 0:00:00 Time:  0:00:00\n",
      "100% (14 of 14) |########################| Elapsed Time: 0:00:00 Time:  0:00:00"
     ]
    },
    {
     "name": "stdout",
     "output_type": "stream",
     "text": [
      "end of epoch n°150. loss: 0.4730882612320373\n",
      "beginning epoch n°151\n",
      "end of epoch n°151. loss: 0.47411643279340265\n",
      "beginning epoch n°152\n",
      "end of epoch n°152. loss: 0.47276015116474823\n",
      "beginning epoch n°153\n",
      "end of epoch n°153. loss: 0.4738318570350934\n",
      "beginning epoch n°154\n",
      "end of epoch n°154. loss: 0.4726313508310613\n",
      "beginning epoch n°155\n"
     ]
    },
    {
     "name": "stderr",
     "output_type": "stream",
     "text": [
      "\n",
      "100% (14 of 14) |########################| Elapsed Time: 0:00:00 Time:  0:00:00\n",
      "100% (14 of 14) |########################| Elapsed Time: 0:00:00 Time:  0:00:00\n",
      "100% (14 of 14) |########################| Elapsed Time: 0:00:00 Time:  0:00:00\n",
      "100% (14 of 14) |########################| Elapsed Time: 0:00:00 Time:  0:00:00\n"
     ]
    },
    {
     "name": "stdout",
     "output_type": "stream",
     "text": [
      "end of epoch n°155. loss: 0.4735096204173868\n",
      "beginning epoch n°156\n",
      "end of epoch n°156. loss: 0.47233521400554035\n",
      "beginning epoch n°157\n",
      "end of epoch n°157. loss: 0.4732450211787597\n",
      "beginning epoch n°158\n",
      "end of epoch n°158. loss: 0.47220699995677196\n",
      "beginning epoch n°159\n",
      "end of epoch n°159. loss: 0.47303871245968326"
     ]
    },
    {
     "name": "stderr",
     "output_type": "stream",
     "text": [
      "100% (14 of 14) |########################| Elapsed Time: 0:00:00 Time:  0:00:00\n",
      "100% (14 of 14) |########################| Elapsed Time: 0:00:00 Time:  0:00:00\n",
      "100% (14 of 14) |########################| Elapsed Time: 0:00:00 Time:  0:00:00\n",
      "N/A% (0 of 14) |                         | Elapsed Time: 0:00:00 ETA:  --:--:--"
     ]
    },
    {
     "name": "stdout",
     "output_type": "stream",
     "text": [
      "\n",
      "beginning epoch n°160\n",
      "end of epoch n°160. loss: 0.47199865764537485\n",
      "beginning epoch n°161\n",
      "end of epoch n°161. loss: 0.4727934113657736\n",
      "beginning epoch n°162\n",
      "end of epoch n°162. loss: 0.4717825897919707\n",
      "beginning epoch n°163\n"
     ]
    },
    {
     "name": "stderr",
     "output_type": "stream",
     "text": [
      "100% (14 of 14) |########################| Elapsed Time: 0:00:00 Time:  0:00:00\n",
      "100% (14 of 14) |########################| Elapsed Time: 0:00:00 Time:  0:00:00\n",
      "100% (14 of 14) |########################| Elapsed Time: 0:00:00 Time:  0:00:00\n",
      "100% (14 of 14) |########################| Elapsed Time: 0:00:00 Time:  0:00:00\n",
      "100% (14 of 14) |########################| Elapsed Time: 0:00:00 Time:  0:00:00\n"
     ]
    },
    {
     "name": "stdout",
     "output_type": "stream",
     "text": [
      "end of epoch n°163. loss: 0.47254483301872097\n",
      "beginning epoch n°164\n",
      "end of epoch n°164. loss: 0.4715684108922808\n",
      "beginning epoch n°165\n",
      "end of epoch n°165. loss: 0.47229602142548527\n",
      "beginning epoch n°166\n",
      "end of epoch n°166. loss: 0.47290274080526296\n",
      "beginning epoch n°167\n",
      "end of epoch n°167. loss: 0.47138518902574433\n",
      "beginning epoch n°168\n"
     ]
    },
    {
     "name": "stderr",
     "output_type": "stream",
     "text": [
      "100% (14 of 14) |########################| Elapsed Time: 0:00:00 Time:  0:00:00\n",
      "100% (14 of 14) |########################| Elapsed Time: 0:00:00 Time:  0:00:00\n",
      "100% (14 of 14) |########################| Elapsed Time: 0:00:00 Time:  0:00:00\n",
      "100% (14 of 14) |########################| Elapsed Time: 0:00:00 Time:  0:00:00\n",
      "100% (14 of 14) |########################| Elapsed Time: 0:00:00 Time:  0:00:00\n",
      "100% (14 of 14) |########################| Elapsed Time: 0:00:00 Time:  0:00:00"
     ]
    },
    {
     "name": "stdout",
     "output_type": "stream",
     "text": [
      "end of epoch n°168. loss: 0.47201804416924753\n",
      "beginning epoch n°169\n",
      "end of epoch n°169. loss: 0.4725985247301423\n",
      "beginning epoch n°170\n",
      "end of epoch n°170. loss: 0.4710972434776214\n",
      "beginning epoch n°171\n",
      "end of epoch n°171. loss: 0.4716796385030804\n",
      "beginning epoch n°172\n",
      "end of epoch n°172. loss: 0.47225354770815864\n",
      "beginning epoch n°173\n"
     ]
    },
    {
     "name": "stderr",
     "output_type": "stream",
     "text": [
      "\n",
      "100% (14 of 14) |########################| Elapsed Time: 0:00:00 Time:  0:00:00\n",
      "100% (14 of 14) |########################| Elapsed Time: 0:00:00 Time:  0:00:00\n",
      "100% (14 of 14) |########################| Elapsed Time: 0:00:00 Time:  0:00:00\n",
      " 42% (6 of 14) |##########               | Elapsed Time: 0:00:00 ETA:  00:00:00"
     ]
    },
    {
     "name": "stdout",
     "output_type": "stream",
     "text": [
      "end of epoch n°173. loss: 0.47080268842584394\n",
      "beginning epoch n°174\n",
      "end of epoch n°174. loss: 0.47133591328919294\n",
      "beginning epoch n°175\n",
      "end of epoch n°175. loss: 0.471910636254051\n",
      "beginning epoch n°176\n",
      "end of epoch n°176. loss: 0.4705125120935845\n",
      "beginning epoch n°177\n"
     ]
    },
    {
     "name": "stderr",
     "output_type": "stream",
     "text": [
      "100% (14 of 14) |########################| Elapsed Time: 0:00:00 Time:  0:00:00\n",
      "100% (14 of 14) |########################| Elapsed Time: 0:00:00 Time:  0:00:00\n",
      "100% (14 of 14) |########################| Elapsed Time: 0:00:00 Time:  0:00:00\n",
      "100% (14 of 14) |########################| Elapsed Time: 0:00:00 Time:  0:00:00\n",
      "100% (14 of 14) |########################| Elapsed Time: 0:00:00 Time:  0:00:00\n"
     ]
    },
    {
     "name": "stdout",
     "output_type": "stream",
     "text": [
      "end of epoch n°177. loss: 0.47099852860370545\n",
      "beginning epoch n°178\n",
      "end of epoch n°178. loss: 0.4715695842433689\n",
      "beginning epoch n°179\n",
      "end of epoch n°179. loss: 0.470223382968615\n",
      "beginning epoch n°180\n",
      "end of epoch n°180. loss: 0.4706628134121252\n",
      "beginning epoch n°181\n",
      "end of epoch n°181. loss: 0.4712299957957945"
     ]
    },
    {
     "name": "stderr",
     "output_type": "stream",
     "text": [
      "100% (14 of 14) |########################| Elapsed Time: 0:00:00 Time:  0:00:00\n",
      "100% (14 of 14) |########################| Elapsed Time: 0:00:00 Time:  0:00:00\n",
      "N/A% (0 of 14) |                         | Elapsed Time: 0:00:00 ETA:  --:--:--"
     ]
    },
    {
     "name": "stdout",
     "output_type": "stream",
     "text": [
      "\n",
      "beginning epoch n°182\n",
      "end of epoch n°182. loss: 0.4713386122964136\n",
      "beginning epoch n°183\n",
      "end of epoch n°183. loss: 0.4699154291120549\n",
      "beginning epoch n°184\n"
     ]
    },
    {
     "name": "stderr",
     "output_type": "stream",
     "text": [
      "100% (14 of 14) |########################| Elapsed Time: 0:00:00 Time:  0:00:00\n",
      "100% (14 of 14) |########################| Elapsed Time: 0:00:00 Time:  0:00:00\n",
      "100% (14 of 14) |########################| Elapsed Time: 0:00:00 Time:  0:00:00\n",
      "100% (14 of 14) |########################| Elapsed Time: 0:00:00 Time:  0:00:00\n",
      "100% (14 of 14) |########################| Elapsed Time: 0:00:00 Time:  0:00:00\n",
      "100% (14 of 14) |########################| Elapsed Time: 0:00:00 Time:  0:00:00"
     ]
    },
    {
     "name": "stdout",
     "output_type": "stream",
     "text": [
      "end of epoch n°184. loss: 0.47027375587631776\n",
      "beginning epoch n°185\n",
      "end of epoch n°185. loss: 0.47082685030586346\n",
      "beginning epoch n°186\n",
      "end of epoch n°186. loss: 0.47092422266338657\n",
      "beginning epoch n°187\n",
      "end of epoch n°187. loss: 0.46955895327843017\n",
      "beginning epoch n°188\n",
      "end of epoch n°188. loss: 0.46986049000917984\n",
      "beginning epoch n°189\n"
     ]
    },
    {
     "name": "stderr",
     "output_type": "stream",
     "text": [
      "\n",
      "100% (14 of 14) |########################| Elapsed Time: 0:00:00 Time:  0:00:00\n",
      "100% (14 of 14) |########################| Elapsed Time: 0:00:00 Time:  0:00:00\n",
      "100% (14 of 14) |########################| Elapsed Time: 0:00:00 Time:  0:00:00\n",
      "100% (14 of 14) |########################| Elapsed Time: 0:00:00 Time:  0:00:00"
     ]
    },
    {
     "name": "stdout",
     "output_type": "stream",
     "text": [
      "end of epoch n°189. loss: 0.4704104168854113\n",
      "beginning epoch n°190\n",
      "end of epoch n°190. loss: 0.4705033069616286\n",
      "beginning epoch n°191\n",
      "end of epoch n°191. loss: 0.47052322858335754\n",
      "beginning epoch n°192\n",
      "end of epoch n°192. loss: 0.4691585412502182\n",
      "beginning epoch n°193\n"
     ]
    },
    {
     "name": "stderr",
     "output_type": "stream",
     "text": [
      "\n",
      "100% (14 of 14) |########################| Elapsed Time: 0:00:00 Time:  0:00:00\n",
      "100% (14 of 14) |########################| Elapsed Time: 0:00:00 Time:  0:00:00\n",
      "100% (14 of 14) |########################| Elapsed Time: 0:00:00 Time:  0:00:00\n",
      "100% (14 of 14) |########################| Elapsed Time: 0:00:00 Time:  0:00:00\n",
      "N/A% (0 of 14) |                         | Elapsed Time: 0:00:00 ETA:  --:--:--"
     ]
    },
    {
     "name": "stdout",
     "output_type": "stream",
     "text": [
      "end of epoch n°193. loss: 0.4693791893984639\n",
      "beginning epoch n°194\n",
      "end of epoch n°194. loss: 0.46988916107889817\n",
      "beginning epoch n°195\n",
      "end of epoch n°195. loss: 0.47012911919851447\n",
      "beginning epoch n°196\n",
      "end of epoch n°196. loss: 0.46878978922514314\n",
      "beginning epoch n°197\n",
      "end of epoch n°197. loss: 0.46897819427261844\n",
      "beginning epoch n°198\n"
     ]
    },
    {
     "name": "stderr",
     "output_type": "stream",
     "text": [
      "100% (14 of 14) |########################| Elapsed Time: 0:00:00 Time:  0:00:00\n",
      "100% (14 of 14) |########################| Elapsed Time: 0:00:00 Time:  0:00:00\n",
      "100% (14 of 14) |########################| Elapsed Time: 0:00:00 Time:  0:00:00\n",
      "100% (14 of 14) |########################| Elapsed Time: 0:00:00 Time:  0:00:00\n",
      "100% (14 of 14) |########################| Elapsed Time: 0:00:00 Time:  0:00:00\n",
      "N/A% (0 of 14) |                         | Elapsed Time: 0:00:00 ETA:  --:--:--"
     ]
    },
    {
     "name": "stdout",
     "output_type": "stream",
     "text": [
      "end of epoch n°198. loss: 0.46948013705555014\n",
      "beginning epoch n°199\n",
      "end of epoch n°199. loss: 0.4697160641034116\n",
      "beginning epoch n°200\n",
      "end of epoch n°200. loss: 0.4696542354962972\n",
      "beginning epoch n°201\n",
      "end of epoch n°201. loss: 0.4696007914548001\n",
      "beginning epoch n°202\n",
      "end of epoch n°202. loss: 0.46950462531210774\n",
      "beginning epoch n°203\n"
     ]
    },
    {
     "name": "stderr",
     "output_type": "stream",
     "text": [
      "100% (14 of 14) |########################| Elapsed Time: 0:00:00 Time:  0:00:00\n",
      "100% (14 of 14) |########################| Elapsed Time: 0:00:00 Time:  0:00:00\n",
      "100% (14 of 14) |########################| Elapsed Time: 0:00:00 Time:  0:00:00\n",
      "100% (14 of 14) |########################| Elapsed Time: 0:00:00 Time:  0:00:00\n",
      "100% (14 of 14) |########################| Elapsed Time: 0:00:00 Time:  0:00:00\n",
      "N/A% (0 of 14) |                         | Elapsed Time: 0:00:00 ETA:  --:--:--"
     ]
    },
    {
     "name": "stdout",
     "output_type": "stream",
     "text": [
      "end of epoch n°203. loss: 0.46832997845051716\n",
      "beginning epoch n°204\n",
      "end of epoch n°204. loss: 0.468399547137847\n",
      "beginning epoch n°205\n",
      "end of epoch n°205. loss: 0.4688633495950005\n",
      "beginning epoch n°206\n",
      "end of epoch n°206. loss: 0.4690910786054707\n",
      "beginning epoch n°207\n",
      "end of epoch n°207. loss: 0.46902453653049286\n",
      "beginning epoch n°208\n"
     ]
    },
    {
     "name": "stderr",
     "output_type": "stream",
     "text": [
      "100% (14 of 14) |########################| Elapsed Time: 0:00:00 Time:  0:00:00\n",
      "100% (14 of 14) |########################| Elapsed Time: 0:00:00 Time:  0:00:00\n",
      "100% (14 of 14) |########################| Elapsed Time: 0:00:00 Time:  0:00:00\n",
      "100% (14 of 14) |########################| Elapsed Time: 0:00:00 Time:  0:00:00\n",
      "100% (14 of 14) |########################| Elapsed Time: 0:00:00 Time:  0:00:00\n",
      "N/A% (0 of 14) |                         | Elapsed Time: 0:00:00 ETA:  --:--:--"
     ]
    },
    {
     "name": "stdout",
     "output_type": "stream",
     "text": [
      "end of epoch n°208. loss: 0.468920436489087\n",
      "beginning epoch n°209\n",
      "end of epoch n°209. loss: 0.4678542884826534\n",
      "beginning epoch n°210\n",
      "end of epoch n°210. loss: 0.46786470683764997\n",
      "beginning epoch n°211\n",
      "end of epoch n°211. loss: 0.4683134428522123\n",
      "beginning epoch n°212\n",
      "end of epoch n°212. loss: 0.4685462355159257\n",
      "beginning epoch n°213\n"
     ]
    },
    {
     "name": "stderr",
     "output_type": "stream",
     "text": [
      "100% (14 of 14) |########################| Elapsed Time: 0:00:00 Time:  0:00:00\n",
      "100% (14 of 14) |########################| Elapsed Time: 0:00:00 Time:  0:00:00\n",
      "100% (14 of 14) |########################| Elapsed Time: 0:00:00 Time:  0:00:00\n",
      "100% (14 of 14) |########################| Elapsed Time: 0:00:00 Time:  0:00:00\n",
      "100% (14 of 14) |########################| Elapsed Time: 0:00:00 Time:  0:00:00\n"
     ]
    },
    {
     "name": "stdout",
     "output_type": "stream",
     "text": [
      "end of epoch n°213. loss: 0.4684377611998542\n",
      "beginning epoch n°214\n",
      "end of epoch n°214. loss: 0.46854932438470476\n",
      "beginning epoch n°215\n",
      "end of epoch n°215. loss: 0.4671870688505457\n",
      "beginning epoch n°216\n",
      "end of epoch n°216. loss: 0.46724507039096486\n",
      "beginning epoch n°217\n"
     ]
    },
    {
     "name": "stderr",
     "output_type": "stream",
     "text": [
      "100% (14 of 14) |########################| Elapsed Time: 0:00:00 Time:  0:00:00\n",
      "100% (14 of 14) |########################| Elapsed Time: 0:00:00 Time:  0:00:00\n",
      "100% (14 of 14) |########################| Elapsed Time: 0:00:00 Time:  0:00:00\n",
      "100% (14 of 14) |########################| Elapsed Time: 0:00:00 Time:  0:00:00"
     ]
    },
    {
     "name": "stdout",
     "output_type": "stream",
     "text": [
      "end of epoch n°217. loss: 0.4677052102015617\n",
      "beginning epoch n°218\n",
      "end of epoch n°218. loss: 0.4679333809697366\n",
      "beginning epoch n°219\n",
      "end of epoch n°219. loss: 0.4678775506630825\n",
      "beginning epoch n°220\n",
      "end of epoch n°220. loss: 0.4668594691138736\n",
      "beginning epoch n°221\n"
     ]
    },
    {
     "name": "stderr",
     "output_type": "stream",
     "text": [
      "\n",
      "100% (14 of 14) |########################| Elapsed Time: 0:00:00 Time:  0:00:00\n",
      "100% (14 of 14) |########################| Elapsed Time: 0:00:00 Time:  0:00:00\n",
      "N/A% (0 of 14) |                         | Elapsed Time: 0:00:00 ETA:  --:--:--"
     ]
    },
    {
     "name": "stdout",
     "output_type": "stream",
     "text": [
      "end of epoch n°221. loss: 0.46676904978691297\n",
      "beginning epoch n°222\n",
      "end of epoch n°222. loss: 0.46722512882499684\n",
      "beginning epoch n°223\n",
      "end of epoch n°223. loss: 0.46746426523701373\n",
      "beginning epoch n°224\n"
     ]
    },
    {
     "name": "stderr",
     "output_type": "stream",
     "text": [
      "100% (14 of 14) |########################| Elapsed Time: 0:00:00 Time:  0:00:00\n",
      "100% (14 of 14) |########################| Elapsed Time: 0:00:00 Time:  0:00:00\n",
      "100% (14 of 14) |########################| Elapsed Time: 0:00:00 Time:  0:00:00\n",
      "100% (14 of 14) |########################| Elapsed Time: 0:00:00 Time:  0:00:00\n",
      "100% (14 of 14) |########################| Elapsed Time: 0:00:00 Time:  0:00:00\n",
      "N/A% (0 of 14) |                         | Elapsed Time: 0:00:00 ETA:  --:--:--"
     ]
    },
    {
     "name": "stdout",
     "output_type": "stream",
     "text": [
      "end of epoch n°224. loss: 0.46661008924799974\n",
      "beginning epoch n°225\n",
      "end of epoch n°225. loss: 0.4664114302745441\n",
      "beginning epoch n°226\n",
      "end of epoch n°226. loss: 0.46685258621824344\n",
      "beginning epoch n°227\n",
      "end of epoch n°227. loss: 0.4670857352807865\n",
      "beginning epoch n°228\n",
      "end of epoch n°228. loss: 0.4663662000099378\n",
      "beginning epoch n°229\n"
     ]
    },
    {
     "name": "stderr",
     "output_type": "stream",
     "text": [
      "100% (14 of 14) |########################| Elapsed Time: 0:00:00 Time:  0:00:00\n",
      "100% (14 of 14) |########################| Elapsed Time: 0:00:00 Time:  0:00:00\n",
      "100% (14 of 14) |########################| Elapsed Time: 0:00:00 Time:  0:00:00\n",
      "N/A% (0 of 14) |                         | Elapsed Time: 0:00:00 ETA:  --:--:--"
     ]
    },
    {
     "name": "stdout",
     "output_type": "stream",
     "text": [
      "end of epoch n°229. loss: 0.46606946833923774\n",
      "beginning epoch n°230\n",
      "end of epoch n°230. loss: 0.46649707890153413\n",
      "beginning epoch n°231\n",
      "end of epoch n°231. loss: 0.46619237966281546\n",
      "beginning epoch n°232\n"
     ]
    },
    {
     "name": "stderr",
     "output_type": "stream",
     "text": [
      "100% (14 of 14) |########################| Elapsed Time: 0:00:00 Time:  0:00:00\n",
      "100% (14 of 14) |########################| Elapsed Time: 0:00:00 Time:  0:00:00\n",
      "100% (14 of 14) |########################| Elapsed Time: 0:00:00 Time:  0:00:00\n",
      "100% (14 of 14) |########################| Elapsed Time: 0:00:00 Time:  0:00:00"
     ]
    },
    {
     "name": "stdout",
     "output_type": "stream",
     "text": [
      "end of epoch n°232. loss: 0.4658172247245094\n",
      "beginning epoch n°233\n",
      "end of epoch n°233. loss: 0.46622542433538444\n",
      "beginning epoch n°234\n",
      "end of epoch n°234. loss: 0.46644303690957073\n",
      "beginning epoch n°235\n"
     ]
    },
    {
     "name": "stderr",
     "output_type": "stream",
     "text": [
      "\n",
      "100% (14 of 14) |########################| Elapsed Time: 0:00:00 Time:  0:00:00\n",
      "100% (14 of 14) |########################| Elapsed Time: 0:00:00 Time:  0:00:00\n",
      "100% (14 of 14) |########################| Elapsed Time: 0:00:00 Time:  0:00:00\n",
      "100% (14 of 14) |########################| Elapsed Time: 0:00:00 Time:  0:00:00\n",
      "N/A% (0 of 14) |                         | Elapsed Time: 0:00:00 ETA:  --:--:--"
     ]
    },
    {
     "name": "stdout",
     "output_type": "stream",
     "text": [
      "end of epoch n°235. loss: 0.4659395274117339\n",
      "beginning epoch n°236\n",
      "end of epoch n°236. loss: 0.46543615695609175\n",
      "beginning epoch n°237\n",
      "end of epoch n°237. loss: 0.465976987764148\n",
      "beginning epoch n°238\n",
      "end of epoch n°238. loss: 0.4659046450170438\n",
      "beginning epoch n°239\n",
      "end of epoch n°239. loss: 0.46557205685491226\n",
      "beginning epoch n°240\n"
     ]
    },
    {
     "name": "stderr",
     "output_type": "stream",
     "text": [
      "100% (14 of 14) |########################| Elapsed Time: 0:00:00 Time:  0:00:00\n",
      "100% (14 of 14) |########################| Elapsed Time: 0:00:00 Time:  0:00:00\n",
      "100% (14 of 14) |########################| Elapsed Time: 0:00:00 Time:  0:00:00\n",
      "100% (14 of 14) |########################| Elapsed Time: 0:00:00 Time:  0:00:00\n",
      "100% (14 of 14) |########################| Elapsed Time: 0:00:00 Time:  0:00:00\n"
     ]
    },
    {
     "name": "stdout",
     "output_type": "stream",
     "text": [
      "end of epoch n°240. loss: 0.46513517228013923\n",
      "beginning epoch n°241\n",
      "end of epoch n°241. loss: 0.46551341650195144\n",
      "beginning epoch n°242\n",
      "end of epoch n°242. loss: 0.4656791550408017\n",
      "beginning epoch n°243\n",
      "end of epoch n°243. loss: 0.46568773235533767\n",
      "beginning epoch n°244\n",
      "end of epoch n°244. loss: 0.46566315666579244"
     ]
    },
    {
     "name": "stderr",
     "output_type": "stream",
     "text": [
      "100% (14 of 14) |########################| Elapsed Time: 0:00:00 Time:  0:00:00\n",
      "100% (14 of 14) |########################| Elapsed Time: 0:00:00 Time:  0:00:00\n",
      "100% (14 of 14) |########################| Elapsed Time: 0:00:00 Time:  0:00:00\n",
      "100% (14 of 14) |########################| Elapsed Time: 0:00:00 Time:  0:00:00\n",
      "N/A% (0 of 14) |                         | Elapsed Time: 0:00:00 ETA:  --:--:--"
     ]
    },
    {
     "name": "stdout",
     "output_type": "stream",
     "text": [
      "\n",
      "beginning epoch n°245\n",
      "end of epoch n°245. loss: 0.46549202637851317\n",
      "beginning epoch n°246\n",
      "end of epoch n°246. loss: 0.46512733463369166\n",
      "beginning epoch n°247\n",
      "end of epoch n°247. loss: 0.4646626554391237\n",
      "beginning epoch n°248\n",
      "end of epoch n°248. loss: 0.4649445606754312\n",
      "beginning epoch n°249\n"
     ]
    },
    {
     "name": "stderr",
     "output_type": "stream",
     "text": [
      "100% (14 of 14) |########################| Elapsed Time: 0:00:00 Time:  0:00:00\n",
      "100% (14 of 14) |########################| Elapsed Time: 0:00:00 Time:  0:00:00\n",
      "100% (14 of 14) |########################| Elapsed Time: 0:00:00 Time:  0:00:00\n",
      "100% (14 of 14) |########################| Elapsed Time: 0:00:00 Time:  0:00:00\n"
     ]
    },
    {
     "name": "stdout",
     "output_type": "stream",
     "text": [
      "end of epoch n°249. loss: 0.4650515098857991\n",
      "beginning epoch n°250\n",
      "end of epoch n°250. loss: 0.4650965887888882\n",
      "beginning epoch n°251\n",
      "end of epoch n°251. loss: 0.46495840326087323\n",
      "beginning epoch n°252\n",
      "end of epoch n°252. loss: 0.4649763724175912\n",
      "beginning epoch n°253\n"
     ]
    },
    {
     "name": "stderr",
     "output_type": "stream",
     "text": [
      "100% (14 of 14) |########################| Elapsed Time: 0:00:00 Time:  0:00:00\n",
      "100% (14 of 14) |########################| Elapsed Time: 0:00:00 Time:  0:00:00\n",
      "100% (14 of 14) |########################| Elapsed Time: 0:00:00 Time:  0:00:00\n",
      "100% (14 of 14) |########################| Elapsed Time: 0:00:00 Time:  0:00:00\n",
      "N/A% (0 of 14) |                         | Elapsed Time: 0:00:00 ETA:  --:--:--"
     ]
    },
    {
     "name": "stdout",
     "output_type": "stream",
     "text": [
      "end of epoch n°253. loss: 0.4649488818440463\n",
      "beginning epoch n°254\n",
      "end of epoch n°254. loss: 0.4648975949978132\n",
      "beginning epoch n°255\n",
      "end of epoch n°255. loss: 0.4648376966835587\n",
      "beginning epoch n°256\n",
      "end of epoch n°256. loss: 0.46465846564403884\n",
      "beginning epoch n°257\n"
     ]
    },
    {
     "name": "stderr",
     "output_type": "stream",
     "text": [
      "100% (14 of 14) |########################| Elapsed Time: 0:00:00 Time:  0:00:00\n",
      "100% (14 of 14) |########################| Elapsed Time: 0:00:00 Time:  0:00:00\n",
      "100% (14 of 14) |########################| Elapsed Time: 0:00:00 Time:  0:00:00\n",
      "100% (14 of 14) |########################| Elapsed Time: 0:00:00 Time:  0:00:00\n",
      "100% (14 of 14) |########################| Elapsed Time: 0:00:00 Time:  0:00:00\n",
      "N/A% (0 of 14) |                         | Elapsed Time: 0:00:00 ETA:  --:--:--"
     ]
    },
    {
     "name": "stdout",
     "output_type": "stream",
     "text": [
      "end of epoch n°257. loss: 0.46465042680476143\n",
      "beginning epoch n°258\n",
      "end of epoch n°258. loss: 0.4646083584343884\n",
      "beginning epoch n°259\n",
      "end of epoch n°259. loss: 0.4645455356650608\n",
      "beginning epoch n°260\n",
      "end of epoch n°260. loss: 0.4644792408149459\n",
      "beginning epoch n°261\n",
      "end of epoch n°261. loss: 0.4644172480493989\n",
      "beginning epoch n°262\n"
     ]
    },
    {
     "name": "stderr",
     "output_type": "stream",
     "text": [
      "100% (14 of 14) |########################| Elapsed Time: 0:00:00 Time:  0:00:00\n",
      "100% (14 of 14) |########################| Elapsed Time: 0:00:00 Time:  0:00:00\n",
      "100% (14 of 14) |########################| Elapsed Time: 0:00:00 Time:  0:00:00\n",
      "100% (14 of 14) |########################| Elapsed Time: 0:00:00 Time:  0:00:00\n",
      "N/A% (0 of 14) |                         | Elapsed Time: 0:00:00 ETA:  --:--:--"
     ]
    },
    {
     "name": "stdout",
     "output_type": "stream",
     "text": [
      "end of epoch n°262. loss: 0.4642392278562392\n",
      "beginning epoch n°263\n",
      "end of epoch n°263. loss: 0.46423020266920145\n",
      "beginning epoch n°264\n",
      "end of epoch n°264. loss: 0.46418888415485837\n",
      "beginning epoch n°265\n",
      "end of epoch n°265. loss: 0.46413218920958843\n",
      "beginning epoch n°266\n"
     ]
    },
    {
     "name": "stderr",
     "output_type": "stream",
     "text": [
      "100% (14 of 14) |########################| Elapsed Time: 0:00:00 Time:  0:00:00\n",
      "100% (14 of 14) |########################| Elapsed Time: 0:00:00 Time:  0:00:00\n",
      "100% (14 of 14) |########################| Elapsed Time: 0:00:00 Time:  0:00:00\n"
     ]
    },
    {
     "name": "stdout",
     "output_type": "stream",
     "text": [
      "end of epoch n°266. loss: 0.46406832949673216\n",
      "beginning epoch n°267\n",
      "end of epoch n°267. loss: 0.46400130117036914\n",
      "beginning epoch n°268\n",
      "end of epoch n°268. loss: 0.4639330801569004\n"
     ]
    },
    {
     "name": "stderr",
     "output_type": "stream",
     "text": [
      "100% (14 of 14) |########################| Elapsed Time: 0:00:00 Time:  0:00:00\n",
      "100% (14 of 14) |########################| Elapsed Time: 0:00:00 Time:  0:00:00\n",
      "N/A% (0 of 14) |                         | Elapsed Time: 0:00:00 ETA:  --:--:--"
     ]
    },
    {
     "name": "stdout",
     "output_type": "stream",
     "text": [
      "beginning epoch n°269\n",
      "end of epoch n°269. loss: 0.46386465173243335\n",
      "beginning epoch n°270\n",
      "end of epoch n°270. loss: 0.46379650486783697\n",
      "beginning epoch n°271\n"
     ]
    },
    {
     "name": "stderr",
     "output_type": "stream",
     "text": [
      "100% (14 of 14) |########################| Elapsed Time: 0:00:00 Time:  0:00:00\n",
      "100% (14 of 14) |########################| Elapsed Time: 0:00:00 Time:  0:00:00\n",
      "100% (14 of 14) |########################| Elapsed Time: 0:00:00 Time:  0:00:00\n",
      "100% (14 of 14) |########################| Elapsed Time: 0:00:00 Time:  0:00:00\n",
      "100% (14 of 14) |########################| Elapsed Time: 0:00:00 Time:  0:00:00\n"
     ]
    },
    {
     "name": "stdout",
     "output_type": "stream",
     "text": [
      "end of epoch n°271. loss: 0.46372887562258147\n",
      "beginning epoch n°272\n",
      "end of epoch n°272. loss: 0.4636618699359586\n",
      "beginning epoch n°273\n",
      "end of epoch n°273. loss: 0.4636770802803239\n",
      "beginning epoch n°274\n",
      "end of epoch n°274. loss: 0.46347966977404015\n",
      "beginning epoch n°275\n",
      "end of epoch n°275. loss: 0.46371373490196693\n",
      "beginning epoch n°276\n"
     ]
    },
    {
     "name": "stderr",
     "output_type": "stream",
     "text": [
      "100% (14 of 14) |########################| Elapsed Time: 0:00:00 Time:  0:00:00\n",
      "100% (14 of 14) |########################| Elapsed Time: 0:00:00 Time:  0:00:00\n",
      "100% (14 of 14) |########################| Elapsed Time: 0:00:00 Time:  0:00:00\n",
      "100% (14 of 14) |########################| Elapsed Time: 0:00:00 Time:  0:00:00\n",
      "100% (14 of 14) |########################| Elapsed Time: 0:00:00 Time:  0:00:00\n",
      "100% (14 of 14) |########################| Elapsed Time: 0:00:00 Time:  0:00:00\n"
     ]
    },
    {
     "name": "stdout",
     "output_type": "stream",
     "text": [
      "end of epoch n°276. loss: 0.46350439272133204\n",
      "beginning epoch n°277\n",
      "end of epoch n°277. loss: 0.4636638570746292\n",
      "beginning epoch n°278\n",
      "end of epoch n°278. loss: 0.4635288863512496\n",
      "beginning epoch n°279\n",
      "end of epoch n°279. loss: 0.463427053461724\n",
      "beginning epoch n°280\n",
      "end of epoch n°280. loss: 0.4633416414037145\n",
      "beginning epoch n°281\n",
      "end of epoch n°281. loss: 0.4632645774800105\n"
     ]
    },
    {
     "name": "stderr",
     "output_type": "stream",
     "text": [
      "100% (14 of 14) |########################| Elapsed Time: 0:00:00 Time:  0:00:00\n",
      "100% (14 of 14) |########################| Elapsed Time: 0:00:00 Time:  0:00:00\n",
      "100% (14 of 14) |########################| Elapsed Time: 0:00:00 Time:  0:00:00\n",
      "100% (14 of 14) |########################| Elapsed Time: 0:00:00 Time:  0:00:00\n",
      "100% (14 of 14) |########################| Elapsed Time: 0:00:00 Time:  0:00:00\n",
      "N/A% (0 of 14) |                         | Elapsed Time: 0:00:00 ETA:  --:--:--"
     ]
    },
    {
     "name": "stdout",
     "output_type": "stream",
     "text": [
      "beginning epoch n°282\n",
      "end of epoch n°282. loss: 0.4631920013926106\n",
      "beginning epoch n°283\n",
      "end of epoch n°283. loss: 0.4631220383747596\n",
      "beginning epoch n°284\n",
      "end of epoch n°284. loss: 0.4630513958209123\n",
      "beginning epoch n°285\n",
      "end of epoch n°285. loss: 0.4629845535607918\n",
      "beginning epoch n°286\n",
      "end of epoch n°286. loss: 0.4629185608175825\n",
      "beginning epoch n°287\n"
     ]
    },
    {
     "name": "stderr",
     "output_type": "stream",
     "text": [
      "100% (14 of 14) |########################| Elapsed Time: 0:00:00 Time:  0:00:00\n",
      "100% (14 of 14) |########################| Elapsed Time: 0:00:00 Time:  0:00:00\n",
      "100% (14 of 14) |########################| Elapsed Time: 0:00:00 Time:  0:00:00\n",
      "100% (14 of 14) |########################| Elapsed Time: 0:00:00 Time:  0:00:00\n",
      "  7% (1 of 14) |#                        | Elapsed Time: 0:00:00 ETA:  00:00:00"
     ]
    },
    {
     "name": "stdout",
     "output_type": "stream",
     "text": [
      "end of epoch n°287. loss: 0.4628533404026083\n",
      "beginning epoch n°288\n",
      "end of epoch n°288. loss: 0.4628053136014382\n",
      "beginning epoch n°289\n",
      "end of epoch n°289. loss: 0.4627595119558536\n",
      "beginning epoch n°290\n",
      "end of epoch n°290. loss: 0.4627139614086743\n",
      "beginning epoch n°291\n"
     ]
    },
    {
     "name": "stderr",
     "output_type": "stream",
     "text": [
      "100% (14 of 14) |########################| Elapsed Time: 0:00:00 Time:  0:00:00\n",
      "100% (14 of 14) |########################| Elapsed Time: 0:00:00 Time:  0:00:00\n",
      "100% (14 of 14) |########################| Elapsed Time: 0:00:00 Time:  0:00:00\n"
     ]
    },
    {
     "name": "stdout",
     "output_type": "stream",
     "text": [
      "end of epoch n°291. loss: 0.4626686643220993\n",
      "beginning epoch n°292\n",
      "end of epoch n°292. loss: 0.4626236251117399\n",
      "beginning epoch n°293\n",
      "end of epoch n°293. loss: 0.4625788488126659\n",
      "beginning epoch n°294\n"
     ]
    },
    {
     "name": "stderr",
     "output_type": "stream",
     "text": [
      "100% (14 of 14) |########################| Elapsed Time: 0:00:00 Time:  0:00:00\n",
      "100% (14 of 14) |########################| Elapsed Time: 0:00:00 Time:  0:00:00\n",
      "100% (14 of 14) |########################| Elapsed Time: 0:00:00 Time:  0:00:00\n",
      "100% (14 of 14) |########################| Elapsed Time: 0:00:00 Time:  0:00:00\n",
      "100% (14 of 14) |########################| Elapsed Time: 0:00:00 Time:  0:00:00\n",
      "N/A% (0 of 14) |                         | Elapsed Time: 0:00:00 ETA:  --:--:--"
     ]
    },
    {
     "name": "stdout",
     "output_type": "stream",
     "text": [
      "end of epoch n°294. loss: 0.4625343402772026\n",
      "beginning epoch n°295\n",
      "end of epoch n°295. loss: 0.4624901037587963\n",
      "beginning epoch n°296\n",
      "end of epoch n°296. loss: 0.4624461427244811\n",
      "beginning epoch n°297\n",
      "end of epoch n°297. loss: 0.4624024597985762\n",
      "beginning epoch n°298\n",
      "end of epoch n°298. loss: 0.4623590567788471\n",
      "beginning epoch n°299\n"
     ]
    },
    {
     "name": "stderr",
     "output_type": "stream",
     "text": [
      "100% (14 of 14) |########################| Elapsed Time: 0:00:00 Time:  0:00:00\n",
      "100% (14 of 14) |########################| Elapsed Time: 0:00:00 Time:  0:00:00\n",
      "100% (14 of 14) |########################| Elapsed Time: 0:00:00 Time:  0:00:00\n",
      "100% (14 of 14) |########################| Elapsed Time: 0:00:00 Time:  0:00:00\n"
     ]
    },
    {
     "name": "stdout",
     "output_type": "stream",
     "text": [
      "end of epoch n°299. loss: 0.46231593469031507\n",
      "beginning epoch n°300\n",
      "end of epoch n°300. loss: 0.46227309385645876\n",
      "beginning epoch n°301\n",
      "end of epoch n°301. loss: 0.46207381039768736\n",
      "beginning epoch n°302\n"
     ]
    },
    {
     "name": "stderr",
     "output_type": "stream",
     "text": [
      "100% (14 of 14) |########################| Elapsed Time: 0:00:00 Time:  0:00:00\n",
      "100% (14 of 14) |########################| Elapsed Time: 0:00:00 Time:  0:00:00\n",
      "100% (14 of 14) |########################| Elapsed Time: 0:00:00 Time:  0:00:00\n",
      "100% (14 of 14) |########################| Elapsed Time: 0:00:00 Time:  0:00:00\n"
     ]
    },
    {
     "name": "stdout",
     "output_type": "stream",
     "text": [
      "end of epoch n°302. loss: 0.46227475100567267\n",
      "beginning epoch n°303\n",
      "end of epoch n°303. loss: 0.4621719472436891\n",
      "beginning epoch n°304\n",
      "end of epoch n°304. loss: 0.46210560246311727\n",
      "beginning epoch n°305\n",
      "end of epoch n°305. loss: 0.46205465041904104\n",
      "beginning epoch n°306\n",
      "end of epoch n°306. loss: 0.46185159039374585"
     ]
    },
    {
     "name": "stderr",
     "output_type": "stream",
     "text": [
      "100% (14 of 14) |########################| Elapsed Time: 0:00:00 Time:  0:00:00\n",
      "100% (14 of 14) |########################| Elapsed Time: 0:00:00 Time:  0:00:00\n",
      "100% (14 of 14) |########################| Elapsed Time: 0:00:00 Time:  0:00:00\n",
      " 35% (5 of 14) |########                 | Elapsed Time: 0:00:00 ETA:  00:00:00"
     ]
    },
    {
     "name": "stdout",
     "output_type": "stream",
     "text": [
      "\n",
      "beginning epoch n°307\n",
      "end of epoch n°307. loss: 0.4620520127523353\n",
      "beginning epoch n°308\n",
      "end of epoch n°308. loss: 0.4619520457498754\n",
      "beginning epoch n°309\n",
      "end of epoch n°309. loss: 0.4618883103702604\n",
      "beginning epoch n°310\n"
     ]
    },
    {
     "name": "stderr",
     "output_type": "stream",
     "text": [
      "100% (14 of 14) |########################| Elapsed Time: 0:00:00 Time:  0:00:00\n",
      "100% (14 of 14) |########################| Elapsed Time: 0:00:00 Time:  0:00:00\n",
      "100% (14 of 14) |########################| Elapsed Time: 0:00:00 Time:  0:00:00\n",
      "100% (14 of 14) |########################| Elapsed Time: 0:00:00 Time:  0:00:00\n",
      "N/A% (0 of 14) |                         | Elapsed Time: 0:00:00 ETA:  --:--:--"
     ]
    },
    {
     "name": "stdout",
     "output_type": "stream",
     "text": [
      "end of epoch n°310. loss: 0.4618400674620635\n",
      "beginning epoch n°311\n",
      "end of epoch n°311. loss: 0.4616342982502307\n",
      "beginning epoch n°312\n",
      "end of epoch n°312. loss: 0.46184042964484384\n",
      "beginning epoch n°313\n",
      "end of epoch n°313. loss: 0.4617436010546623\n",
      "beginning epoch n°314\n"
     ]
    },
    {
     "name": "stderr",
     "output_type": "stream",
     "text": [
      "100% (14 of 14) |########################| Elapsed Time: 0:00:00 Time:  0:00:00\n",
      "100% (14 of 14) |########################| Elapsed Time: 0:00:00 Time:  0:00:00\n",
      "100% (14 of 14) |########################| Elapsed Time: 0:00:00 Time:  0:00:00\n",
      "100% (14 of 14) |########################| Elapsed Time: 0:00:00 Time:  0:00:00\n",
      "100% (14 of 14) |########################| Elapsed Time: 0:00:00 Time:  0:00:00\n",
      "N/A% (0 of 14) |                         | Elapsed Time: 0:00:00 ETA:  --:--:--"
     ]
    },
    {
     "name": "stdout",
     "output_type": "stream",
     "text": [
      "end of epoch n°314. loss: 0.461682537402744\n",
      "beginning epoch n°315\n",
      "end of epoch n°315. loss: 0.461472383030844\n",
      "beginning epoch n°316\n",
      "end of epoch n°316. loss: 0.4616777584542246\n",
      "beginning epoch n°317\n",
      "end of epoch n°317. loss: 0.4615816650189828\n",
      "beginning epoch n°318\n",
      "end of epoch n°318. loss: 0.46136308707097257\n",
      "beginning epoch n°319\n"
     ]
    },
    {
     "name": "stderr",
     "output_type": "stream",
     "text": [
      "100% (14 of 14) |########################| Elapsed Time: 0:00:00 Time:  0:00:00\n",
      "100% (14 of 14) |########################| Elapsed Time: 0:00:00 Time:  0:00:00\n",
      "100% (14 of 14) |########################| Elapsed Time: 0:00:00 Time:  0:00:00\n",
      "100% (14 of 14) |########################| Elapsed Time: 0:00:00 Time:  0:00:00\n"
     ]
    },
    {
     "name": "stdout",
     "output_type": "stream",
     "text": [
      "end of epoch n°319. loss: 0.4615603919127176\n",
      "beginning epoch n°320\n",
      "end of epoch n°320. loss: 0.461462402078505\n",
      "beginning epoch n°321\n",
      "end of epoch n°321. loss: 0.46124266127648383\n",
      "beginning epoch n°322\n"
     ]
    },
    {
     "name": "stderr",
     "output_type": "stream",
     "text": [
      "100% (14 of 14) |########################| Elapsed Time: 0:00:00 Time:  0:00:00\n",
      "100% (14 of 14) |########################| Elapsed Time: 0:00:00 Time:  0:00:00\n",
      "100% (14 of 14) |########################| Elapsed Time: 0:00:00 Time:  0:00:00\n",
      "100% (14 of 14) |########################| Elapsed Time: 0:00:00 Time:  0:00:00\n"
     ]
    },
    {
     "name": "stdout",
     "output_type": "stream",
     "text": [
      "end of epoch n°322. loss: 0.461441770669852\n",
      "beginning epoch n°323\n",
      "end of epoch n°323. loss: 0.46134521163655834\n",
      "beginning epoch n°324\n",
      "end of epoch n°324. loss: 0.46112363781746696\n",
      "beginning epoch n°325\n",
      "end of epoch n°325. loss: 0.4613259770508049\n",
      "beginning epoch n°326\n",
      "end of epoch n°326. loss: 0.46123110702684"
     ]
    },
    {
     "name": "stderr",
     "output_type": "stream",
     "text": [
      "100% (14 of 14) |########################| Elapsed Time: 0:00:00 Time:  0:00:00\n",
      "100% (14 of 14) |########################| Elapsed Time: 0:00:00 Time:  0:00:00\n",
      "100% (14 of 14) |########################| Elapsed Time: 0:00:00 Time:  0:00:00\n",
      "100% (14 of 14) |########################| Elapsed Time: 0:00:00 Time:  0:00:00\n",
      "100% (14 of 14) |########################| Elapsed Time: 0:00:00 Time:  0:00:00\n",
      "100% (14 of 14) |########################| Elapsed Time: 0:00:00 Time:  0:00:00"
     ]
    },
    {
     "name": "stdout",
     "output_type": "stream",
     "text": [
      "\n",
      "beginning epoch n°327\n",
      "end of epoch n°327. loss: 0.4610072073778821\n",
      "beginning epoch n°328\n",
      "end of epoch n°328. loss: 0.46121290810568205\n",
      "beginning epoch n°329\n",
      "end of epoch n°329. loss: 0.4611196340890352\n",
      "beginning epoch n°330\n",
      "end of epoch n°330. loss: 0.4608932429761964\n",
      "beginning epoch n°331\n",
      "end of epoch n°331. loss: 0.4611022052248088\n",
      "beginning epoch n°332\n"
     ]
    },
    {
     "name": "stderr",
     "output_type": "stream",
     "text": [
      "\n",
      "100% (14 of 14) |########################| Elapsed Time: 0:00:00 Time:  0:00:00\n",
      "100% (14 of 14) |########################| Elapsed Time: 0:00:00 Time:  0:00:00\n",
      "100% (14 of 14) |########################| Elapsed Time: 0:00:00 Time:  0:00:00"
     ]
    },
    {
     "name": "stdout",
     "output_type": "stream",
     "text": [
      "end of epoch n°332. loss: 0.46101041535643533\n",
      "beginning epoch n°333\n",
      "end of epoch n°333. loss: 0.46078150350307306\n",
      "beginning epoch n°334\n",
      "end of epoch n°334. loss: 0.4609936009284494\n",
      "beginning epoch n°335\n"
     ]
    },
    {
     "name": "stderr",
     "output_type": "stream",
     "text": [
      "\n",
      "100% (14 of 14) |########################| Elapsed Time: 0:00:00 Time:  0:00:00\n",
      "100% (14 of 14) |########################| Elapsed Time: 0:00:00 Time:  0:00:00\n",
      "100% (14 of 14) |########################| Elapsed Time: 0:00:00 Time:  0:00:00\n",
      "100% (14 of 14) |########################| Elapsed Time: 0:00:00 Time:  0:00:00\n",
      "N/A% (0 of 14) |                         | Elapsed Time: 0:00:00 ETA:  --:--:--"
     ]
    },
    {
     "name": "stdout",
     "output_type": "stream",
     "text": [
      "end of epoch n°335. loss: 0.46074053464807685\n",
      "beginning epoch n°336\n",
      "end of epoch n°336. loss: 0.4609305463466971\n",
      "beginning epoch n°337\n",
      "end of epoch n°337. loss: 0.46083300579222686\n",
      "beginning epoch n°338\n",
      "end of epoch n°338. loss: 0.46060089259603787\n",
      "beginning epoch n°339\n",
      "end of epoch n°339. loss: 0.46081498755265604\n",
      "beginning epoch n°340\n"
     ]
    },
    {
     "name": "stderr",
     "output_type": "stream",
     "text": [
      "100% (14 of 14) |########################| Elapsed Time: 0:00:00 Time:  0:00:00\n",
      "100% (14 of 14) |########################| Elapsed Time: 0:00:00 Time:  0:00:00\n",
      "100% (14 of 14) |########################| Elapsed Time: 0:00:00 Time:  0:00:00\n",
      "100% (14 of 14) |########################| Elapsed Time: 0:00:00 Time:  0:00:00\n",
      "100% (14 of 14) |########################| Elapsed Time: 0:00:00 Time:  0:00:00\n",
      "100% (14 of 14) |########################| Elapsed Time: 0:00:00 Time:  0:00:00\n"
     ]
    },
    {
     "name": "stdout",
     "output_type": "stream",
     "text": [
      "end of epoch n°340. loss: 0.46055910732780864\n",
      "beginning epoch n°341\n",
      "end of epoch n°341. loss: 0.4607535337017654\n",
      "beginning epoch n°342\n",
      "end of epoch n°342. loss: 0.4604937628360478\n",
      "beginning epoch n°343\n",
      "end of epoch n°343. loss: 0.46068457972989385\n",
      "beginning epoch n°344\n",
      "end of epoch n°344. loss: 0.46042373392000924\n",
      "beginning epoch n°345\n"
     ]
    },
    {
     "name": "stderr",
     "output_type": "stream",
     "text": [
      "100% (14 of 14) |########################| Elapsed Time: 0:00:00 Time:  0:00:00\n",
      "100% (14 of 14) |########################| Elapsed Time: 0:00:00 Time:  0:00:00\n",
      "100% (14 of 14) |########################| Elapsed Time: 0:00:00 Time:  0:00:00\n",
      "N/A% (0 of 14) |                         | Elapsed Time: 0:00:00 ETA:  --:--:--"
     ]
    },
    {
     "name": "stdout",
     "output_type": "stream",
     "text": [
      "end of epoch n°345. loss: 0.4606150865489692\n",
      "beginning epoch n°346\n",
      "end of epoch n°346. loss: 0.4603532754784545\n",
      "beginning epoch n°347\n",
      "end of epoch n°347. loss: 0.4605463811328482\n",
      "beginning epoch n°348\n",
      "end of epoch n°348. loss: 0.4602834197711324\n",
      "beginning epoch n°349\n"
     ]
    },
    {
     "name": "stderr",
     "output_type": "stream",
     "text": [
      "100% (14 of 14) |########################| Elapsed Time: 0:00:00 Time:  0:00:00\n",
      "100% (14 of 14) |########################| Elapsed Time: 0:00:00 Time:  0:00:00\n",
      "100% (14 of 14) |########################| Elapsed Time: 0:00:00 Time:  0:00:00\n",
      "100% (14 of 14) |########################| Elapsed Time: 0:00:00 Time:  0:00:00\n",
      "100% (14 of 14) |########################| Elapsed Time: 0:00:00 Time:  0:00:00\n"
     ]
    },
    {
     "name": "stdout",
     "output_type": "stream",
     "text": [
      "end of epoch n°349. loss: 0.4604786436953238\n",
      "beginning epoch n°350\n",
      "end of epoch n°350. loss: 0.46021439867401825\n",
      "beginning epoch n°351\n",
      "end of epoch n°351. loss: 0.46041182559273935\n",
      "beginning epoch n°352\n",
      "end of epoch n°352. loss: 0.46014622869636873\n",
      "beginning epoch n°353\n",
      "end of epoch n°353. loss: 0.4603458468671182\n",
      "beginning epoch n°354\n"
     ]
    },
    {
     "name": "stderr",
     "output_type": "stream",
     "text": [
      "100% (14 of 14) |########################| Elapsed Time: 0:00:00 Time:  0:00:00\n",
      "100% (14 of 14) |########################| Elapsed Time: 0:00:00 Time:  0:00:00\n",
      "100% (14 of 14) |########################| Elapsed Time: 0:00:00 Time:  0:00:00\n",
      "100% (14 of 14) |########################| Elapsed Time: 0:00:00 Time:  0:00:00\n",
      "100% (14 of 14) |########################| Elapsed Time: 0:00:00 Time:  0:00:00\n",
      "N/A% (0 of 14) |                         | Elapsed Time: 0:00:00 ETA:  --:--:--"
     ]
    },
    {
     "name": "stdout",
     "output_type": "stream",
     "text": [
      "end of epoch n°354. loss: 0.4600788702444653\n",
      "beginning epoch n°355\n",
      "end of epoch n°355. loss: 0.4602806369741475\n",
      "beginning epoch n°356\n",
      "end of epoch n°356. loss: 0.46001227411782786\n",
      "beginning epoch n°357\n",
      "end of epoch n°357. loss: 0.4602161399722984\n",
      "beginning epoch n°358\n",
      "end of epoch n°358. loss: 0.4599463947851317\n",
      "beginning epoch n°359\n"
     ]
    },
    {
     "name": "stderr",
     "output_type": "stream",
     "text": [
      "100% (14 of 14) |########################| Elapsed Time: 0:00:00 Time:  0:00:00\n",
      "100% (14 of 14) |########################| Elapsed Time: 0:00:00 Time:  0:00:00\n",
      "100% (14 of 14) |########################| Elapsed Time: 0:00:00 Time:  0:00:00\n",
      "100% (14 of 14) |########################| Elapsed Time: 0:00:00 Time:  0:00:00\n",
      "100% (14 of 14) |########################| Elapsed Time: 0:00:00 Time:  0:00:00\n",
      "100% (14 of 14) |########################| Elapsed Time: 0:00:00 Time:  0:00:00\n"
     ]
    },
    {
     "name": "stdout",
     "output_type": "stream",
     "text": [
      "end of epoch n°359. loss: 0.460152312276668\n",
      "beginning epoch n°360\n",
      "end of epoch n°360. loss: 0.45988119334054006\n",
      "beginning epoch n°361\n",
      "end of epoch n°361. loss: 0.46008911960773685\n",
      "beginning epoch n°362\n",
      "end of epoch n°362. loss: 0.45981663731705474\n",
      "beginning epoch n°363\n",
      "end of epoch n°363. loss: 0.46002653450711256\n",
      "beginning epoch n°364\n"
     ]
    },
    {
     "name": "stderr",
     "output_type": "stream",
     "text": [
      "100% (14 of 14) |########################| Elapsed Time: 0:00:00 Time:  0:00:00\n",
      "100% (14 of 14) |########################| Elapsed Time: 0:00:00 Time:  0:00:00\n",
      "100% (14 of 14) |########################| Elapsed Time: 0:00:00 Time:  0:00:00\n",
      "100% (14 of 14) |########################| Elapsed Time: 0:00:00 Time:  0:00:00\n",
      "N/A% (0 of 14) |                         | Elapsed Time: 0:00:00 ETA:  --:--:--"
     ]
    },
    {
     "name": "stdout",
     "output_type": "stream",
     "text": [
      "end of epoch n°364. loss: 0.4597526996885892\n",
      "beginning epoch n°365\n",
      "end of epoch n°365. loss: 0.45996453452320174\n",
      "beginning epoch n°366\n",
      "end of epoch n°366. loss: 0.4596893578040712\n",
      "beginning epoch n°367\n",
      "end of epoch n°367. loss: 0.45990310091873626\n",
      "beginning epoch n°368\n",
      "end of epoch n°368. loss: 0.45962659246433246\n",
      "beginning epoch n°369\n"
     ]
    },
    {
     "name": "stderr",
     "output_type": "stream",
     "text": [
      "100% (14 of 14) |########################| Elapsed Time: 0:00:00 Time:  0:00:00\n",
      "100% (14 of 14) |########################| Elapsed Time: 0:00:00 Time:  0:00:00\n",
      "100% (14 of 14) |########################| Elapsed Time: 0:00:00 Time:  0:00:00\n",
      "100% (14 of 14) |########################| Elapsed Time: 0:00:00 Time:  0:00:00\n",
      "N/A% (0 of 14) |                         | Elapsed Time: 0:00:00 ETA:  --:--:--"
     ]
    },
    {
     "name": "stdout",
     "output_type": "stream",
     "text": [
      "end of epoch n°369. loss: 0.45984221774723116\n",
      "beginning epoch n°370\n",
      "end of epoch n°370. loss: 0.4595643871771905\n",
      "beginning epoch n°371\n",
      "end of epoch n°371. loss: 0.459781871184996\n",
      "beginning epoch n°372\n",
      "end of epoch n°372. loss: 0.45950272757320226\n",
      "beginning epoch n°373\n"
     ]
    },
    {
     "name": "stderr",
     "output_type": "stream",
     "text": [
      "100% (14 of 14) |########################| Elapsed Time: 0:00:00 Time:  0:00:00\n",
      "100% (14 of 14) |########################| Elapsed Time: 0:00:00 Time:  0:00:00\n",
      "100% (14 of 14) |########################| Elapsed Time: 0:00:00 Time:  0:00:00\n",
      "100% (14 of 14) |########################| Elapsed Time: 0:00:00 Time:  0:00:00\n",
      " 28% (4 of 14) |#######                  | Elapsed Time: 0:00:00 ETA:  00:00:00"
     ]
    },
    {
     "name": "stdout",
     "output_type": "stream",
     "text": [
      "end of epoch n°373. loss: 0.4597220490414251\n",
      "beginning epoch n°374\n",
      "end of epoch n°374. loss: 0.4594416009528618\n",
      "beginning epoch n°375\n",
      "end of epoch n°375. loss: 0.45966274039573557\n",
      "beginning epoch n°376\n",
      "end of epoch n°376. loss: 0.45938099593732007\n",
      "beginning epoch n°377\n"
     ]
    },
    {
     "name": "stderr",
     "output_type": "stream",
     "text": [
      "100% (14 of 14) |########################| Elapsed Time: 0:00:00 Time:  0:00:00\n",
      "100% (14 of 14) |########################| Elapsed Time: 0:00:00 Time:  0:00:00\n",
      "100% (14 of 14) |########################| Elapsed Time: 0:00:00 Time:  0:00:00\n",
      "100% (14 of 14) |########################| Elapsed Time: 0:00:00 Time:  0:00:00\n",
      "100% (14 of 14) |########################| Elapsed Time: 0:00:00 Time:  0:00:00\n",
      "N/A% (0 of 14) |                         | Elapsed Time: 0:00:00 ETA:  --:--:--"
     ]
    },
    {
     "name": "stdout",
     "output_type": "stream",
     "text": [
      "end of epoch n°377. loss: 0.4596039353249833\n",
      "beginning epoch n°378\n",
      "end of epoch n°378. loss: 0.4593209021993326\n",
      "beginning epoch n°379\n",
      "end of epoch n°379. loss: 0.45954562469898086\n",
      "beginning epoch n°380\n",
      "end of epoch n°380. loss: 0.4592613102559535\n",
      "beginning epoch n°381\n",
      "end of epoch n°381. loss: 0.45948780002482986\n",
      "beginning epoch n°382\n"
     ]
    },
    {
     "name": "stderr",
     "output_type": "stream",
     "text": [
      "100% (14 of 14) |########################| Elapsed Time: 0:00:00 Time:  0:00:00\n",
      "100% (14 of 14) |########################| Elapsed Time: 0:00:00 Time:  0:00:00\n",
      "100% (14 of 14) |########################| Elapsed Time: 0:00:00 Time:  0:00:00\n",
      "100% (14 of 14) |########################| Elapsed Time: 0:00:00 Time:  0:00:00\n"
     ]
    },
    {
     "name": "stdout",
     "output_type": "stream",
     "text": [
      "end of epoch n°382. loss: 0.4592022113086232\n",
      "beginning epoch n°383\n",
      "end of epoch n°383. loss: 0.45943045332854865\n",
      "beginning epoch n°384\n",
      "end of epoch n°384. loss: 0.45914359711958874\n",
      "beginning epoch n°385\n"
     ]
    },
    {
     "name": "stderr",
     "output_type": "stream",
     "text": [
      "100% (14 of 14) |########################| Elapsed Time: 0:00:00 Time:  0:00:00\n",
      "100% (14 of 14) |########################| Elapsed Time: 0:00:00 Time:  0:00:00\n",
      "100% (14 of 14) |########################| Elapsed Time: 0:00:00 Time:  0:00:00\n",
      "N/A% (0 of 14) |                         | Elapsed Time: 0:00:00 ETA:  --:--:--"
     ]
    },
    {
     "name": "stdout",
     "output_type": "stream",
     "text": [
      "end of epoch n°385. loss: 0.45937357706459936\n",
      "beginning epoch n°386\n",
      "end of epoch n°386. loss: 0.45908545991617283\n",
      "beginning epoch n°387\n",
      "end of epoch n°387. loss: 0.45931716404646833\n",
      "beginning epoch n°388\n",
      "end of epoch n°388. loss: 0.4590277923163885\n",
      "beginning epoch n°389\n"
     ]
    },
    {
     "name": "stderr",
     "output_type": "stream",
     "text": [
      "100% (14 of 14) |########################| Elapsed Time: 0:00:00 Time:  0:00:00\n",
      "100% (14 of 14) |########################| Elapsed Time: 0:00:00 Time:  0:00:00\n",
      "100% (14 of 14) |########################| Elapsed Time: 0:00:00 Time:  0:00:00\n",
      "100% (14 of 14) |########################| Elapsed Time: 0:00:00 Time:  0:00:00\n",
      "100% (14 of 14) |########################| Elapsed Time: 0:00:00 Time:  0:00:00\n"
     ]
    },
    {
     "name": "stdout",
     "output_type": "stream",
     "text": [
      "end of epoch n°389. loss: 0.45907932971862564\n",
      "beginning epoch n°390\n",
      "end of epoch n°390. loss: 0.4592553979199703\n",
      "beginning epoch n°391\n",
      "end of epoch n°391. loss: 0.4589562984423721\n",
      "beginning epoch n°392\n",
      "end of epoch n°392. loss: 0.4591789518312784\n",
      "beginning epoch n°393\n"
     ]
    },
    {
     "name": "stderr",
     "output_type": "stream",
     "text": [
      "100% (14 of 14) |########################| Elapsed Time: 0:00:00 Time:  0:00:00\n",
      "100% (14 of 14) |########################| Elapsed Time: 0:00:00 Time:  0:00:00\n",
      "100% (14 of 14) |########################| Elapsed Time: 0:00:00 Time:  0:00:00\n",
      "100% (14 of 14) |########################| Elapsed Time: 0:00:00 Time:  0:00:00\n",
      "N/A% (0 of 14) |                         | Elapsed Time: 0:00:00 ETA:  --:--:--"
     ]
    },
    {
     "name": "stdout",
     "output_type": "stream",
     "text": [
      "end of epoch n°393. loss: 0.45888668081465817\n",
      "beginning epoch n°394\n",
      "end of epoch n°394. loss: 0.4589367195599643\n",
      "beginning epoch n°395\n",
      "end of epoch n°395. loss: 0.45910926853359635\n",
      "beginning epoch n°396\n",
      "end of epoch n°396. loss: 0.45881136923945964\n",
      "beginning epoch n°397\n",
      "end of epoch n°397. loss: 0.45902365045449317\n",
      "beginning epoch n°398\n"
     ]
    },
    {
     "name": "stderr",
     "output_type": "stream",
     "text": [
      "100% (14 of 14) |########################| Elapsed Time: 0:00:00 Time:  0:00:00\n",
      "100% (14 of 14) |########################| Elapsed Time: 0:00:00 Time:  0:00:00\n",
      "100% (14 of 14) |########################| Elapsed Time: 0:00:00 Time:  0:00:00\n",
      "100% (14 of 14) |########################| Elapsed Time: 0:00:00 Time:  0:00:00\n",
      "100% (14 of 14) |########################| Elapsed Time: 0:00:00 Time:  0:00:00\n"
     ]
    },
    {
     "name": "stdout",
     "output_type": "stream",
     "text": [
      "end of epoch n°398. loss: 0.4587326756446137\n",
      "beginning epoch n°399\n",
      "end of epoch n°399. loss: 0.4587777065909511\n",
      "beginning epoch n°400\n",
      "end of epoch n°400. loss: 0.45894546198975356\n",
      "beginning epoch n°401\n",
      "end of epoch n°401. loss: 0.4586444851719109\n",
      "beginning epoch n°402\n",
      "end of epoch n°402. loss: 0.4586837654177853"
     ]
    },
    {
     "name": "stderr",
     "output_type": "stream",
     "text": [
      "100% (14 of 14) |########################| Elapsed Time: 0:00:00 Time:  0:00:00\n",
      "100% (14 of 14) |########################| Elapsed Time: 0:00:00 Time:  0:00:00\n",
      "100% (14 of 14) |########################| Elapsed Time: 0:00:00 Time:  0:00:00\n",
      "100% (14 of 14) |########################| Elapsed Time: 0:00:00 Time:  0:00:00\n",
      "100% (14 of 14) |########################| Elapsed Time: 0:00:00 Time:  0:00:00"
     ]
    },
    {
     "name": "stdout",
     "output_type": "stream",
     "text": [
      "\n",
      "beginning epoch n°403\n",
      "end of epoch n°403. loss: 0.4588492959345233\n",
      "beginning epoch n°404\n",
      "end of epoch n°404. loss: 0.45854644987309284\n",
      "beginning epoch n°405\n",
      "end of epoch n°405. loss: 0.45858525451322046\n",
      "beginning epoch n°406\n",
      "end of epoch n°406. loss: 0.45875344092463516\n",
      "beginning epoch n°407\n"
     ]
    },
    {
     "name": "stderr",
     "output_type": "stream",
     "text": [
      "\n",
      "100% (14 of 14) |########################| Elapsed Time: 0:00:00 Time:  0:00:00\n",
      "100% (14 of 14) |########################| Elapsed Time: 0:00:00 Time:  0:00:00\n",
      "100% (14 of 14) |########################| Elapsed Time: 0:00:00 Time:  0:00:00\n"
     ]
    },
    {
     "name": "stdout",
     "output_type": "stream",
     "text": [
      "end of epoch n°407. loss: 0.45844886923025213\n",
      "beginning epoch n°408\n",
      "end of epoch n°408. loss: 0.45848765343584674\n",
      "beginning epoch n°409\n",
      "end of epoch n°409. loss: 0.458659256530758\n",
      "beginning epoch n°410\n",
      "end of epoch n°410. loss: 0.45835286270566916\n",
      "beginning epoch n°411\n"
     ]
    },
    {
     "name": "stderr",
     "output_type": "stream",
     "text": [
      "100% (14 of 14) |########################| Elapsed Time: 0:00:00 Time:  0:00:00\n",
      "100% (14 of 14) |########################| Elapsed Time: 0:00:00 Time:  0:00:00\n",
      "100% (14 of 14) |########################| Elapsed Time: 0:00:00 Time:  0:00:00\n",
      "100% (14 of 14) |########################| Elapsed Time: 0:00:00 Time:  0:00:00\n",
      "100% (14 of 14) |########################| Elapsed Time: 0:00:00 Time:  0:00:00\n",
      "100% (14 of 14) |########################| Elapsed Time: 0:00:00 Time:  0:00:00"
     ]
    },
    {
     "name": "stdout",
     "output_type": "stream",
     "text": [
      "end of epoch n°411. loss: 0.4583916456671247\n",
      "beginning epoch n°412\n",
      "end of epoch n°412. loss: 0.45856672708328267\n",
      "beginning epoch n°413\n",
      "end of epoch n°413. loss: 0.458258476713475\n",
      "beginning epoch n°414\n",
      "end of epoch n°414. loss: 0.4582972303258606\n",
      "beginning epoch n°415\n",
      "end of epoch n°415. loss: 0.4584757147642209\n",
      "beginning epoch n°416\n"
     ]
    },
    {
     "name": "stderr",
     "output_type": "stream",
     "text": [
      "\n",
      "100% (14 of 14) |########################| Elapsed Time: 0:00:00 Time:  0:00:00\n",
      "100% (14 of 14) |########################| Elapsed Time: 0:00:00 Time:  0:00:00\n"
     ]
    },
    {
     "name": "stdout",
     "output_type": "stream",
     "text": [
      "end of epoch n°416. loss: 0.4581656045104809\n",
      "beginning epoch n°417\n",
      "end of epoch n°417. loss: 0.45820430218367475\n",
      "beginning epoch n°418\n",
      "end of epoch n°418. loss: 0.45838609796212254\n",
      "beginning epoch n°419\n"
     ]
    },
    {
     "name": "stderr",
     "output_type": "stream",
     "text": [
      "100% (14 of 14) |########################| Elapsed Time: 0:00:00 Time:  0:00:00\n",
      "100% (14 of 14) |########################| Elapsed Time: 0:00:00 Time:  0:00:00\n",
      "100% (14 of 14) |########################| Elapsed Time: 0:00:00 Time:  0:00:00\n",
      "100% (14 of 14) |########################| Elapsed Time: 0:00:00 Time:  0:00:00\n"
     ]
    },
    {
     "name": "stdout",
     "output_type": "stream",
     "text": [
      "end of epoch n°419. loss: 0.45807413666914143\n",
      "beginning epoch n°420\n",
      "end of epoch n°420. loss: 0.45811275890735176\n",
      "beginning epoch n°421\n",
      "end of epoch n°421. loss: 0.45829778351388384\n",
      "beginning epoch n°422\n"
     ]
    },
    {
     "name": "stderr",
     "output_type": "stream",
     "text": [
      "100% (14 of 14) |########################| Elapsed Time: 0:00:00 Time:  0:00:00\n",
      "100% (14 of 14) |########################| Elapsed Time: 0:00:00 Time:  0:00:00\n",
      "100% (14 of 14) |########################| Elapsed Time: 0:00:00 Time:  0:00:00\n",
      "100% (14 of 14) |########################| Elapsed Time: 0:00:00 Time:  0:00:00\n",
      " 42% (6 of 14) |##########               | Elapsed Time: 0:00:00 ETA:   0:00:00"
     ]
    },
    {
     "name": "stdout",
     "output_type": "stream",
     "text": [
      "end of epoch n°422. loss: 0.4579839976763689\n",
      "beginning epoch n°423\n",
      "end of epoch n°423. loss: 0.4580225288446684\n",
      "beginning epoch n°424\n",
      "end of epoch n°424. loss: 0.4582107071806148\n",
      "beginning epoch n°425\n",
      "end of epoch n°425. loss: 0.4578950966563918\n",
      "beginning epoch n°426\n",
      "end of epoch n°426. loss: 0.45793352850138436\n",
      "beginning epoch n°427\n"
     ]
    },
    {
     "name": "stderr",
     "output_type": "stream",
     "text": [
      "100% (14 of 14) |########################| Elapsed Time: 0:00:00 Time:  0:00:00\n",
      "100% (14 of 14) |########################| Elapsed Time: 0:00:00 Time:  0:00:00\n",
      "100% (14 of 14) |########################| Elapsed Time: 0:00:00 Time:  0:00:00\n",
      "100% (14 of 14) |########################| Elapsed Time: 0:00:00 Time:  0:00:00\n",
      "100% (14 of 14) |########################| Elapsed Time: 0:00:00 Time:  0:00:00\n",
      "100% (14 of 14) |########################| Elapsed Time: 0:00:00 Time:  0:00:00\n",
      "N/A% (0 of 14) |                         | Elapsed Time: 0:00:00 ETA:  --:--:--"
     ]
    },
    {
     "name": "stdout",
     "output_type": "stream",
     "text": [
      "end of epoch n°427. loss: 0.45812480667089295\n",
      "beginning epoch n°428\n",
      "end of epoch n°428. loss: 0.4578073866268945\n",
      "beginning epoch n°429\n",
      "end of epoch n°429. loss: 0.45784571335389757\n",
      "beginning epoch n°430\n",
      "end of epoch n°430. loss: 0.4580400403124606\n",
      "beginning epoch n°431\n",
      "end of epoch n°431. loss: 0.4577208256185776\n",
      "beginning epoch n°432\n",
      "end of epoch n°432. loss: 0.4577590426358676\n",
      "beginning epoch n°433\n"
     ]
    },
    {
     "name": "stderr",
     "output_type": "stream",
     "text": [
      "100% (14 of 14) |########################| Elapsed Time: 0:00:00 Time:  0:00:00\n",
      "100% (14 of 14) |########################| Elapsed Time: 0:00:00 Time:  0:00:00\n",
      "100% (14 of 14) |########################| Elapsed Time: 0:00:00 Time:  0:00:00\n"
     ]
    },
    {
     "name": "stdout",
     "output_type": "stream",
     "text": [
      "end of epoch n°433. loss: 0.45776162684384336\n",
      "beginning epoch n°434\n",
      "end of epoch n°434. loss: 0.4579351743531879\n",
      "beginning epoch n°435\n",
      "end of epoch n°435. loss: 0.4576112360770622\n",
      "beginning epoch n°436\n"
     ]
    },
    {
     "name": "stderr",
     "output_type": "stream",
     "text": [
      "100% (14 of 14) |########################| Elapsed Time: 0:00:00 Time:  0:00:00\n",
      "100% (14 of 14) |########################| Elapsed Time: 0:00:00 Time:  0:00:00\n",
      "100% (14 of 14) |########################| Elapsed Time: 0:00:00 Time:  0:00:00\n",
      "100% (14 of 14) |########################| Elapsed Time: 0:00:00 Time:  0:00:00\n",
      "100% (14 of 14) |########################| Elapsed Time: 0:00:00 Time:  0:00:00\n"
     ]
    },
    {
     "name": "stdout",
     "output_type": "stream",
     "text": [
      "end of epoch n°436. loss: 0.4576467608837897\n",
      "beginning epoch n°437\n",
      "end of epoch n°437. loss: 0.4576479578640506\n",
      "beginning epoch n°438\n",
      "end of epoch n°438. loss: 0.4578238689424435\n",
      "beginning epoch n°439\n",
      "end of epoch n°439. loss: 0.4574977249318844\n",
      "beginning epoch n°440\n",
      "end of epoch n°440. loss: 0.45753306887796846\n"
     ]
    },
    {
     "name": "stderr",
     "output_type": "stream",
     "text": [
      "100% (14 of 14) |########################| Elapsed Time: 0:00:00 Time:  0:00:00\n",
      "100% (14 of 14) |########################| Elapsed Time: 0:00:00 Time:  0:00:00\n",
      "100% (14 of 14) |########################| Elapsed Time: 0:00:00 Time:  0:00:00\n",
      "100% (14 of 14) |########################| Elapsed Time: 0:00:00 Time:  0:00:00\n",
      "100% (14 of 14) |########################| Elapsed Time: 0:00:00 Time:  0:00:00\n",
      "100% (14 of 14) |########################| Elapsed Time: 0:00:00 Time:  0:00:00\n"
     ]
    },
    {
     "name": "stdout",
     "output_type": "stream",
     "text": [
      "beginning epoch n°441\n",
      "end of epoch n°441. loss: 0.4575344509319352\n",
      "beginning epoch n°442\n",
      "end of epoch n°442. loss: 0.45771457151170714\n",
      "beginning epoch n°443\n",
      "end of epoch n°443. loss: 0.45738618547930104\n",
      "beginning epoch n°444\n",
      "end of epoch n°444. loss: 0.4574215019226726\n",
      "beginning epoch n°445\n",
      "end of epoch n°445. loss: 0.45742317263945403\n",
      "beginning epoch n°446\n",
      "end of epoch n°446. loss: 0.45613878558949783\n"
     ]
    },
    {
     "name": "stderr",
     "output_type": "stream",
     "text": [
      "100% (14 of 14) |########################| Elapsed Time: 0:00:00 Time:  0:00:00\n",
      "100% (14 of 14) |########################| Elapsed Time: 0:00:00 Time:  0:00:00\n",
      "100% (14 of 14) |########################| Elapsed Time: 0:00:00 Time:  0:00:00\n",
      "100% (14 of 14) |########################| Elapsed Time: 0:00:00 Time:  0:00:00\n",
      "N/A% (0 of 14) |                         | Elapsed Time: 0:00:00 ETA:  --:--:--"
     ]
    },
    {
     "name": "stdout",
     "output_type": "stream",
     "text": [
      "beginning epoch n°447\n",
      "end of epoch n°447. loss: 0.45787126849076154\n",
      "beginning epoch n°448\n",
      "end of epoch n°448. loss: 0.4573672353351023\n",
      "beginning epoch n°449\n",
      "end of epoch n°449. loss: 0.4573348571222968\n",
      "beginning epoch n°450\n",
      "end of epoch n°450. loss: 0.45731188783288623\n",
      "beginning epoch n°451\n"
     ]
    },
    {
     "name": "stderr",
     "output_type": "stream",
     "text": [
      "100% (14 of 14) |########################| Elapsed Time: 0:00:00 Time:  0:00:00\n",
      "100% (14 of 14) |########################| Elapsed Time: 0:00:00 Time:  0:00:00\n",
      "100% (14 of 14) |########################| Elapsed Time: 0:00:00 Time:  0:00:00\n",
      "100% (14 of 14) |########################| Elapsed Time: 0:00:00 Time:  0:00:00\n",
      "100% (14 of 14) |########################| Elapsed Time: 0:00:00 Time:  0:00:00"
     ]
    },
    {
     "name": "stdout",
     "output_type": "stream",
     "text": [
      "end of epoch n°451. loss: 0.45728965093286844\n",
      "beginning epoch n°452\n",
      "end of epoch n°452. loss: 0.4574730651974782\n",
      "beginning epoch n°453\n",
      "end of epoch n°453. loss: 0.45713144415924467\n",
      "beginning epoch n°454\n",
      "end of epoch n°454. loss: 0.45716325030669913\n",
      "beginning epoch n°455\n"
     ]
    },
    {
     "name": "stderr",
     "output_type": "stream",
     "text": [
      "\n",
      "100% (14 of 14) |########################| Elapsed Time: 0:00:00 Time:  0:00:00\n",
      "100% (14 of 14) |########################| Elapsed Time: 0:00:00 Time:  0:00:00\n",
      "100% (14 of 14) |########################| Elapsed Time: 0:00:00 Time:  0:00:00\n",
      " 85% (12 of 14) |####################    | Elapsed Time: 0:00:00 ETA:  00:00:00"
     ]
    },
    {
     "name": "stdout",
     "output_type": "stream",
     "text": [
      "end of epoch n°455. loss: 0.45716342224634915\n",
      "beginning epoch n°456\n",
      "end of epoch n°456. loss: 0.4571493789755182\n",
      "beginning epoch n°457\n",
      "end of epoch n°457. loss: 0.45584907557495663\n",
      "beginning epoch n°458\n",
      "end of epoch n°458. loss: 0.45770500542336\n",
      "beginning epoch n°459\n"
     ]
    },
    {
     "name": "stderr",
     "output_type": "stream",
     "text": [
      "100% (14 of 14) |########################| Elapsed Time: 0:00:00 Time:  0:00:00\n",
      "100% (14 of 14) |########################| Elapsed Time: 0:00:00 Time:  0:00:00\n",
      "100% (14 of 14) |########################| Elapsed Time: 0:00:00 Time:  0:00:00\n",
      "100% (14 of 14) |########################| Elapsed Time: 0:00:00 Time:  0:00:00\n",
      "100% (14 of 14) |########################| Elapsed Time: 0:00:00 Time:  0:00:00\n",
      "N/A% (0 of 14) |                         | Elapsed Time: 0:00:00 ETA:  --:--:--"
     ]
    },
    {
     "name": "stdout",
     "output_type": "stream",
     "text": [
      "end of epoch n°459. loss: 0.45712690724023125\n",
      "beginning epoch n°460\n",
      "end of epoch n°460. loss: 0.4570657820364588\n",
      "beginning epoch n°461\n",
      "end of epoch n°461. loss: 0.45702724994421823\n",
      "beginning epoch n°462\n",
      "end of epoch n°462. loss: 0.4569969969122688\n",
      "beginning epoch n°463\n",
      "end of epoch n°463. loss: 0.45696961124528807\n",
      "beginning epoch n°464\n"
     ]
    },
    {
     "name": "stderr",
     "output_type": "stream",
     "text": [
      "100% (14 of 14) |########################| Elapsed Time: 0:00:00 Time:  0:00:00\n",
      "100% (14 of 14) |########################| Elapsed Time: 0:00:00 Time:  0:00:00\n",
      "100% (14 of 14) |########################| Elapsed Time: 0:00:00 Time:  0:00:00\n",
      "100% (14 of 14) |########################| Elapsed Time: 0:00:00 Time:  0:00:00\n",
      "100% (14 of 14) |########################| Elapsed Time: 0:00:00 Time:  0:00:00\n",
      "N/A% (0 of 14) |                         | Elapsed Time: 0:00:00 ETA:  --:--:--"
     ]
    },
    {
     "name": "stdout",
     "output_type": "stream",
     "text": [
      "end of epoch n°464. loss: 0.45694311942628496\n",
      "beginning epoch n°465\n",
      "end of epoch n°465. loss: 0.45563037387091015\n",
      "beginning epoch n°466\n",
      "end of epoch n°466. loss: 0.45750139857595706\n",
      "beginning epoch n°467\n",
      "end of epoch n°467. loss: 0.4569146354477563\n",
      "beginning epoch n°468\n",
      "end of epoch n°468. loss: 0.45685354850062787\n",
      "beginning epoch n°469\n"
     ]
    },
    {
     "name": "stderr",
     "output_type": "stream",
     "text": [
      "100% (14 of 14) |########################| Elapsed Time: 0:00:00 Time:  0:00:00\n",
      "100% (14 of 14) |########################| Elapsed Time: 0:00:00 Time:  0:00:00\n",
      "100% (14 of 14) |########################| Elapsed Time: 0:00:00 Time:  0:00:00\n",
      "100% (14 of 14) |########################| Elapsed Time: 0:00:00 Time:  0:00:00\n",
      "100% (14 of 14) |########################| Elapsed Time: 0:00:00 Time:  0:00:00\n",
      "100% (14 of 14) |########################| Elapsed Time: 0:00:00 Time:  0:00:00\n"
     ]
    },
    {
     "name": "stdout",
     "output_type": "stream",
     "text": [
      "end of epoch n°469. loss: 0.456815711576464\n",
      "beginning epoch n°470\n",
      "end of epoch n°470. loss: 0.45678653124646734\n",
      "beginning epoch n°471\n",
      "end of epoch n°471. loss: 0.4567604137995423\n",
      "beginning epoch n°472\n",
      "end of epoch n°472. loss: 0.45673527417579557\n",
      "beginning epoch n°473\n",
      "end of epoch n°473. loss: 0.4567103979140844\n",
      "beginning epoch n°474\n",
      "end of epoch n°474. loss: 0.45668554880527273"
     ]
    },
    {
     "name": "stderr",
     "output_type": "stream",
     "text": [
      "100% (14 of 14) |########################| Elapsed Time: 0:00:00 Time:  0:00:00\n",
      "100% (14 of 14) |########################| Elapsed Time: 0:00:00 Time:  0:00:00\n",
      "100% (14 of 14) |########################| Elapsed Time: 0:00:00 Time:  0:00:00\n",
      "100% (14 of 14) |########################| Elapsed Time: 0:00:00 Time:  0:00:00\n",
      "N/A% (0 of 14) |                         | Elapsed Time: 0:00:00 ETA:  --:--:--"
     ]
    },
    {
     "name": "stdout",
     "output_type": "stream",
     "text": [
      "\n",
      "beginning epoch n°475\n",
      "end of epoch n°475. loss: 0.45657516656988145\n",
      "beginning epoch n°476\n",
      "end of epoch n°476. loss: 0.4552403301078254\n",
      "beginning epoch n°477\n",
      "end of epoch n°477. loss: 0.45715077777252217\n",
      "beginning epoch n°478\n",
      "end of epoch n°478. loss: 0.45649013057921806\n",
      "beginning epoch n°479\n"
     ]
    },
    {
     "name": "stderr",
     "output_type": "stream",
     "text": [
      "100% (14 of 14) |########################| Elapsed Time: 0:00:00 Time:  0:00:00\n",
      "100% (14 of 14) |########################| Elapsed Time: 0:00:00 Time:  0:00:00\n",
      "100% (14 of 14) |########################| Elapsed Time: 0:00:00 Time:  0:00:00\n",
      "100% (14 of 14) |########################| Elapsed Time: 0:00:00 Time:  0:00:00\n",
      "100% (14 of 14) |########################| Elapsed Time: 0:00:00 Time:  0:00:00\n",
      "100% (14 of 14) |########################| Elapsed Time: 0:00:00 Time:  0:00:00"
     ]
    },
    {
     "name": "stdout",
     "output_type": "stream",
     "text": [
      "end of epoch n°479. loss: 0.45617029864621705\n",
      "beginning epoch n°480\n",
      "end of epoch n°480. loss: 0.45618408528058635\n",
      "beginning epoch n°481\n",
      "end of epoch n°481. loss: 0.4551382414950272\n",
      "beginning epoch n°482\n",
      "end of epoch n°482. loss: 0.45700214373405623\n",
      "beginning epoch n°483\n",
      "end of epoch n°483. loss: 0.45649803960478974\n",
      "beginning epoch n°484\n"
     ]
    },
    {
     "name": "stderr",
     "output_type": "stream",
     "text": [
      "\n",
      "100% (14 of 14) |########################| Elapsed Time: 0:00:00 Time:  0:00:00\n",
      "100% (14 of 14) |########################| Elapsed Time: 0:00:00 Time:  0:00:00\n",
      "100% (14 of 14) |########################| Elapsed Time: 0:00:00 Time:  0:00:00\n",
      "100% (14 of 14) |########################| Elapsed Time: 0:00:00 Time:  0:00:00\n",
      "100% (14 of 14) |########################| Elapsed Time: 0:00:00 Time:  0:00:00"
     ]
    },
    {
     "name": "stdout",
     "output_type": "stream",
     "text": [
      "end of epoch n°484. loss: 0.45609829678174335\n",
      "beginning epoch n°485\n",
      "end of epoch n°485. loss: 0.4559265413911564\n",
      "beginning epoch n°486\n",
      "end of epoch n°486. loss: 0.45605808317913143\n",
      "beginning epoch n°487\n",
      "end of epoch n°487. loss: 0.45509021457871723\n",
      "beginning epoch n°488\n",
      "end of epoch n°488. loss: 0.4563793917014739\n",
      "beginning epoch n°489\n"
     ]
    },
    {
     "name": "stderr",
     "output_type": "stream",
     "text": [
      "\n",
      "100% (14 of 14) |########################| Elapsed Time: 0:00:00 Time:  0:00:00\n",
      "100% (14 of 14) |########################| Elapsed Time: 0:00:00 Time:  0:00:00\n",
      "100% (14 of 14) |########################| Elapsed Time: 0:00:00 Time:  0:00:00\n",
      "100% (14 of 14) |########################| Elapsed Time: 0:00:00 Time:  0:00:00\n",
      "N/A% (0 of 14) |                         | Elapsed Time: 0:00:00 ETA:  --:--:--"
     ]
    },
    {
     "name": "stdout",
     "output_type": "stream",
     "text": [
      "end of epoch n°489. loss: 0.45516216318394137\n",
      "beginning epoch n°490\n",
      "end of epoch n°490. loss: 0.45701058838591296\n",
      "beginning epoch n°491\n",
      "end of epoch n°491. loss: 0.456421459605447\n",
      "beginning epoch n°492\n",
      "end of epoch n°492. loss: 0.4561342469211391\n",
      "beginning epoch n°493\n",
      "end of epoch n°493. loss: 0.4561608411888594\n",
      "beginning epoch n°494\n"
     ]
    },
    {
     "name": "stderr",
     "output_type": "stream",
     "text": [
      "100% (14 of 14) |########################| Elapsed Time: 0:00:00 Time:  0:00:00\n",
      "100% (14 of 14) |########################| Elapsed Time: 0:00:00 Time:  0:00:00\n",
      "100% (14 of 14) |########################| Elapsed Time: 0:00:00 Time:  0:00:00\n",
      "100% (14 of 14) |########################| Elapsed Time: 0:00:00 Time:  0:00:00\n",
      "100% (14 of 14) |########################| Elapsed Time: 0:00:00 Time:  0:00:00"
     ]
    },
    {
     "name": "stdout",
     "output_type": "stream",
     "text": [
      "end of epoch n°494. loss: 0.455953285791226\n",
      "beginning epoch n°495\n",
      "end of epoch n°495. loss: 0.4560482174272775\n",
      "beginning epoch n°496\n",
      "end of epoch n°496. loss: 0.4558654175117421\n",
      "beginning epoch n°497\n",
      "end of epoch n°497. loss: 0.45598653906141345\n",
      "beginning epoch n°498\n"
     ]
    },
    {
     "name": "stderr",
     "output_type": "stream",
     "text": [
      "\n",
      "100% (14 of 14) |########################| Elapsed Time: 0:00:00 Time:  0:00:00\n",
      "100% (14 of 14) |########################| Elapsed Time: 0:00:00 Time:  0:00:00\n",
      "100% (14 of 14) |########################| Elapsed Time: 0:00:00 Time:  0:00:00\n",
      "100% (14 of 14) |########################| Elapsed Time: 0:00:00 Time:  0:00:00\n"
     ]
    },
    {
     "name": "stdout",
     "output_type": "stream",
     "text": [
      "end of epoch n°498. loss: 0.4549774785218738\n",
      "beginning epoch n°499\n",
      "end of epoch n°499. loss: 0.4568364638307961\n",
      "beginning epoch n°500\n",
      "end of epoch n°500. loss: 0.45630091116555\n",
      "beginning epoch n°501\n",
      "end of epoch n°501. loss: 0.4558528817815531\n",
      "beginning epoch n°502\n",
      "end of epoch n°502. loss: 0.4557041726870462\n",
      "beginning epoch n°503\n"
     ]
    },
    {
     "name": "stderr",
     "output_type": "stream",
     "text": [
      "100% (14 of 14) |########################| Elapsed Time: 0:00:00 Time:  0:00:00\n",
      "100% (14 of 14) |########################| Elapsed Time: 0:00:00 Time:  0:00:00\n",
      "100% (14 of 14) |########################| Elapsed Time: 0:00:00 Time:  0:00:00\n",
      "100% (14 of 14) |########################| Elapsed Time: 0:00:00 Time:  0:00:00\n",
      "100% (14 of 14) |########################| Elapsed Time: 0:00:00 Time:  0:00:00"
     ]
    },
    {
     "name": "stdout",
     "output_type": "stream",
     "text": [
      "end of epoch n°503. loss: 0.45585810465814147\n",
      "beginning epoch n°504\n",
      "end of epoch n°504. loss: 0.4557114984011803\n",
      "beginning epoch n°505\n",
      "end of epoch n°505. loss: 0.4558585496547669\n",
      "beginning epoch n°506\n",
      "end of epoch n°506. loss: 0.45570711046442614\n",
      "beginning epoch n°507\n"
     ]
    },
    {
     "name": "stderr",
     "output_type": "stream",
     "text": [
      "\n",
      "100% (14 of 14) |########################| Elapsed Time: 0:00:00 Time:  0:00:00\n",
      "100% (14 of 14) |########################| Elapsed Time: 0:00:00 Time:  0:00:00\n",
      "100% (14 of 14) |########################| Elapsed Time: 0:00:00 Time:  0:00:00\n",
      "100% (14 of 14) |########################| Elapsed Time: 0:00:00 Time:  0:00:00\n"
     ]
    },
    {
     "name": "stdout",
     "output_type": "stream",
     "text": [
      "end of epoch n°507. loss: 0.4558534499768879\n",
      "beginning epoch n°508\n",
      "end of epoch n°508. loss: 0.45569640512375786\n",
      "beginning epoch n°509\n",
      "end of epoch n°509. loss: 0.45584502874939564\n",
      "beginning epoch n°510\n",
      "end of epoch n°510. loss: 0.4556828867245766\n",
      "beginning epoch n°511\n",
      "end of epoch n°511. loss: 0.4558351497465257\n",
      "beginning epoch n°512\n"
     ]
    },
    {
     "name": "stderr",
     "output_type": "stream",
     "text": [
      "100% (14 of 14) |########################| Elapsed Time: 0:00:00 Time:  0:00:00\n",
      "100% (14 of 14) |########################| Elapsed Time: 0:00:00 Time:  0:00:00\n",
      "100% (14 of 14) |########################| Elapsed Time: 0:00:00 Time:  0:00:00\n",
      "100% (14 of 14) |########################| Elapsed Time: 0:00:00 Time:  0:00:00\n",
      "100% (14 of 14) |########################| Elapsed Time: 0:00:00 Time:  0:00:00"
     ]
    },
    {
     "name": "stdout",
     "output_type": "stream",
     "text": [
      "end of epoch n°512. loss: 0.45566842641065314\n",
      "beginning epoch n°513\n",
      "end of epoch n°513. loss: 0.4558248656328719\n",
      "beginning epoch n°514\n",
      "end of epoch n°514. loss: 0.45565391047827547\n",
      "beginning epoch n°515\n",
      "end of epoch n°515. loss: 0.4558146700905411\n",
      "beginning epoch n°516\n"
     ]
    },
    {
     "name": "stderr",
     "output_type": "stream",
     "text": [
      "\n",
      "100% (14 of 14) |########################| Elapsed Time: 0:00:00 Time:  0:00:00\n",
      "100% (14 of 14) |########################| Elapsed Time: 0:00:00 Time:  0:00:00\n",
      "100% (14 of 14) |########################| Elapsed Time: 0:00:00 Time:  0:00:00\n",
      "100% (14 of 14) |########################| Elapsed Time: 0:00:00 Time:  0:00:00\n"
     ]
    },
    {
     "name": "stdout",
     "output_type": "stream",
     "text": [
      "end of epoch n°516. loss: 0.4556397178387359\n",
      "beginning epoch n°517\n",
      "end of epoch n°517. loss: 0.4556243186865134\n",
      "beginning epoch n°518\n",
      "end of epoch n°518. loss: 0.4546101776845431\n",
      "beginning epoch n°519\n",
      "end of epoch n°519. loss: 0.4542674397851079\n",
      "beginning epoch n°520\n",
      "end of epoch n°520. loss: 0.4542191381051481\n",
      "beginning epoch n°521\n"
     ]
    },
    {
     "name": "stderr",
     "output_type": "stream",
     "text": [
      "100% (14 of 14) |########################| Elapsed Time: 0:00:00 Time:  0:00:00\n",
      "100% (14 of 14) |########################| Elapsed Time: 0:00:00 Time:  0:00:00\n",
      "100% (14 of 14) |########################| Elapsed Time: 0:00:00 Time:  0:00:00\n",
      "100% (14 of 14) |########################| Elapsed Time: 0:00:00 Time:  0:00:00\n",
      "100% (14 of 14) |########################| Elapsed Time: 0:00:00 Time:  0:00:00\n",
      "100% (14 of 14) |########################| Elapsed Time: 0:00:00 Time:  0:00:00\n",
      "N/A% (0 of 14) |                         | Elapsed Time: 0:00:00 ETA:  --:--:--"
     ]
    },
    {
     "name": "stdout",
     "output_type": "stream",
     "text": [
      "end of epoch n°521. loss: 0.4543261557342917\n",
      "beginning epoch n°522\n",
      "end of epoch n°522. loss: 0.45449768472319024\n",
      "beginning epoch n°523\n",
      "end of epoch n°523. loss: 0.45468966361952057\n",
      "beginning epoch n°524\n",
      "end of epoch n°524. loss: 0.45489847739170686\n",
      "beginning epoch n°525\n",
      "end of epoch n°525. loss: 0.45458690793040163\n",
      "beginning epoch n°526\n",
      "end of epoch n°526. loss: 0.4549047926111517\n",
      "beginning epoch n°527\n"
     ]
    },
    {
     "name": "stderr",
     "output_type": "stream",
     "text": [
      "100% (14 of 14) |########################| Elapsed Time: 0:00:00 Time:  0:00:00\n",
      "100% (14 of 14) |########################| Elapsed Time: 0:00:00 Time:  0:00:00\n",
      "100% (14 of 14) |########################| Elapsed Time: 0:00:00 Time:  0:00:00\n",
      "100% (14 of 14) |########################| Elapsed Time: 0:00:00 Time:  0:00:00\n",
      "100% (14 of 14) |########################| Elapsed Time: 0:00:00 Time:  0:00:00\n",
      "100% (14 of 14) |########################| Elapsed Time: 0:00:00 Time:  0:00:00\n"
     ]
    },
    {
     "name": "stdout",
     "output_type": "stream",
     "text": [
      "end of epoch n°527. loss: 0.454632564450943\n",
      "beginning epoch n°528\n",
      "end of epoch n°528. loss: 0.4549914208603071\n",
      "beginning epoch n°529\n",
      "end of epoch n°529. loss: 0.45471236757205247\n",
      "beginning epoch n°530\n",
      "end of epoch n°530. loss: 0.45453483664622985\n",
      "beginning epoch n°531\n",
      "end of epoch n°531. loss: 0.45440924158431484\n",
      "beginning epoch n°532\n"
     ]
    },
    {
     "name": "stderr",
     "output_type": "stream",
     "text": [
      "100% (14 of 14) |########################| Elapsed Time: 0:00:00 Time:  0:00:00\n",
      "100% (14 of 14) |########################| Elapsed Time: 0:00:00 Time:  0:00:00\n",
      "100% (14 of 14) |########################| Elapsed Time: 0:00:00 Time:  0:00:00\n",
      "100% (14 of 14) |########################| Elapsed Time: 0:00:00 Time:  0:00:00\n",
      "100% (14 of 14) |########################| Elapsed Time: 0:00:00 Time:  0:00:00\n"
     ]
    },
    {
     "name": "stdout",
     "output_type": "stream",
     "text": [
      "end of epoch n°532. loss: 0.45483726622735965\n",
      "beginning epoch n°533\n",
      "end of epoch n°533. loss: 0.45458438005494295\n",
      "beginning epoch n°534\n",
      "end of epoch n°534. loss: 0.4547314015566109\n",
      "beginning epoch n°535\n",
      "end of epoch n°535. loss: 0.4544820134075318\n",
      "beginning epoch n°536\n",
      "end of epoch n°536. loss: 0.4542690957420232\n",
      "beginning epoch n°537\n"
     ]
    },
    {
     "name": "stderr",
     "output_type": "stream",
     "text": [
      "100% (14 of 14) |########################| Elapsed Time: 0:00:00 Time:  0:00:00\n",
      "100% (14 of 14) |########################| Elapsed Time: 0:00:00 Time:  0:00:00\n",
      "100% (14 of 14) |########################| Elapsed Time: 0:00:00 Time:  0:00:00\n",
      "100% (14 of 14) |########################| Elapsed Time: 0:00:00 Time:  0:00:00\n",
      "100% (14 of 14) |########################| Elapsed Time: 0:00:00 Time:  0:00:00\n",
      "N/A% (0 of 14) |                         | Elapsed Time: 0:00:00 ETA:  --:--:--"
     ]
    },
    {
     "name": "stdout",
     "output_type": "stream",
     "text": [
      "end of epoch n°537. loss: 0.45256485842897454\n",
      "beginning epoch n°538\n",
      "end of epoch n°538. loss: 0.4523718990852787\n",
      "beginning epoch n°539\n",
      "end of epoch n°539. loss: 0.4521927301325855\n",
      "beginning epoch n°540\n",
      "end of epoch n°540. loss: 0.4520358794851751\n",
      "beginning epoch n°541\n",
      "end of epoch n°541. loss: 0.4519165333175048\n",
      "beginning epoch n°542\n",
      "end of epoch n°542. loss: 0.4513329918296054\n",
      "beginning epoch n°543\n"
     ]
    },
    {
     "name": "stderr",
     "output_type": "stream",
     "text": [
      "100% (14 of 14) |########################| Elapsed Time: 0:00:00 Time:  0:00:00\n",
      "100% (14 of 14) |########################| Elapsed Time: 0:00:00 Time:  0:00:00\n",
      "100% (14 of 14) |########################| Elapsed Time: 0:00:00 Time:  0:00:00\n",
      "100% (14 of 14) |########################| Elapsed Time: 0:00:00 Time:  0:00:00\n",
      "100% (14 of 14) |########################| Elapsed Time: 0:00:00 Time:  0:00:00\n"
     ]
    },
    {
     "name": "stdout",
     "output_type": "stream",
     "text": [
      "end of epoch n°543. loss: 0.4513741609805302\n",
      "beginning epoch n°544\n",
      "end of epoch n°544. loss: 0.45088585256915054\n",
      "beginning epoch n°545\n",
      "end of epoch n°545. loss: 0.45099881900280764\n",
      "beginning epoch n°546\n",
      "end of epoch n°546. loss: 0.4505418056743451\n",
      "beginning epoch n°547\n",
      "end of epoch n°547. loss: 0.4507054255402213\n",
      "beginning epoch n°548\n"
     ]
    },
    {
     "name": "stderr",
     "output_type": "stream",
     "text": [
      "100% (14 of 14) |########################| Elapsed Time: 0:00:00 Time:  0:00:00\n",
      "100% (14 of 14) |########################| Elapsed Time: 0:00:00 Time:  0:00:00\n",
      "100% (14 of 14) |########################| Elapsed Time: 0:00:00 Time:  0:00:00\n",
      "100% (14 of 14) |########################| Elapsed Time: 0:00:00 Time:  0:00:00\n",
      "100% (14 of 14) |########################| Elapsed Time: 0:00:00 Time:  0:00:00\n",
      "100% (14 of 14) |########################| Elapsed Time: 0:00:00 Time:  0:00:00\n",
      "N/A% (0 of 14) |                         | Elapsed Time: 0:00:00 ETA:  --:--:--"
     ]
    },
    {
     "name": "stdout",
     "output_type": "stream",
     "text": [
      "end of epoch n°548. loss: 0.45027376374615147\n",
      "beginning epoch n°549\n",
      "end of epoch n°549. loss: 0.4526625394881661\n",
      "beginning epoch n°550\n",
      "end of epoch n°550. loss: 0.4508854300767686\n",
      "beginning epoch n°551\n",
      "end of epoch n°551. loss: 0.450216984845675\n",
      "beginning epoch n°552\n",
      "end of epoch n°552. loss: 0.4525480497250499\n",
      "beginning epoch n°553\n",
      "end of epoch n°553. loss: 0.45067791025210496\n",
      "beginning epoch n°554\n"
     ]
    },
    {
     "name": "stderr",
     "output_type": "stream",
     "text": [
      "100% (14 of 14) |########################| Elapsed Time: 0:00:00 Time:  0:00:00\n",
      "100% (14 of 14) |########################| Elapsed Time: 0:00:00 Time:  0:00:00\n",
      "100% (14 of 14) |########################| Elapsed Time: 0:00:00 Time:  0:00:00\n",
      "100% (14 of 14) |########################| Elapsed Time: 0:00:00 Time:  0:00:00\n"
     ]
    },
    {
     "name": "stdout",
     "output_type": "stream",
     "text": [
      "end of epoch n°554. loss: 0.4499756480679496\n",
      "beginning epoch n°555\n",
      "end of epoch n°555. loss: 0.4523161793093921\n",
      "beginning epoch n°556\n",
      "end of epoch n°556. loss: 0.4504383854721763\n",
      "beginning epoch n°557\n",
      "end of epoch n°557. loss: 0.4497373928885133\n",
      "beginning epoch n°558\n"
     ]
    },
    {
     "name": "stderr",
     "output_type": "stream",
     "text": [
      "100% (14 of 14) |########################| Elapsed Time: 0:00:00 Time:  0:00:00\n",
      "100% (14 of 14) |########################| Elapsed Time: 0:00:00 Time:  0:00:00\n",
      "100% (14 of 14) |########################| Elapsed Time: 0:00:00 Time:  0:00:00\n",
      "N/A% (0 of 14) |                         | Elapsed Time: 0:00:00 ETA:  --:--:--"
     ]
    },
    {
     "name": "stdout",
     "output_type": "stream",
     "text": [
      "end of epoch n°558. loss: 0.4520915662814001\n",
      "beginning epoch n°559\n",
      "end of epoch n°559. loss: 0.45021916299249987\n",
      "beginning epoch n°560\n",
      "end of epoch n°560. loss: 0.4523895956748779\n",
      "beginning epoch n°561\n"
     ]
    },
    {
     "name": "stderr",
     "output_type": "stream",
     "text": [
      "100% (14 of 14) |########################| Elapsed Time: 0:00:00 Time:  0:00:00\n",
      "100% (14 of 14) |########################| Elapsed Time: 0:00:00 Time:  0:00:00\n",
      "100% (14 of 14) |########################| Elapsed Time: 0:00:00 Time:  0:00:00\n",
      "100% (14 of 14) |########################| Elapsed Time: 0:00:00 Time:  0:00:00\n",
      "100% (14 of 14) |########################| Elapsed Time: 0:00:00 Time:  0:00:00\n",
      "100% (14 of 14) |########################| Elapsed Time: 0:00:00 Time:  0:00:00"
     ]
    },
    {
     "name": "stdout",
     "output_type": "stream",
     "text": [
      "end of epoch n°561. loss: 0.4503190954119028\n",
      "beginning epoch n°562\n",
      "end of epoch n°562. loss: 0.44954084442170483\n",
      "beginning epoch n°563\n",
      "end of epoch n°563. loss: 0.4518876617683184\n",
      "beginning epoch n°564\n",
      "end of epoch n°564. loss: 0.4499878372059053\n",
      "beginning epoch n°565\n",
      "end of epoch n°565. loss: 0.45215920875822685\n",
      "beginning epoch n°566\n"
     ]
    },
    {
     "name": "stderr",
     "output_type": "stream",
     "text": [
      "\n",
      "100% (14 of 14) |########################| Elapsed Time: 0:00:00 Time:  0:00:00\n",
      "100% (14 of 14) |########################| Elapsed Time: 0:00:00 Time:  0:00:00\n",
      "100% (14 of 14) |########################| Elapsed Time: 0:00:00 Time:  0:00:00\n",
      "100% (14 of 14) |########################| Elapsed Time: 0:00:00 Time:  0:00:00\n",
      "N/A% (0 of 14) |                         | Elapsed Time: 0:00:00 ETA:  --:--:--"
     ]
    },
    {
     "name": "stdout",
     "output_type": "stream",
     "text": [
      "end of epoch n°566. loss: 0.4500809214950204\n",
      "beginning epoch n°567\n",
      "end of epoch n°567. loss: 0.44930281701595687\n",
      "beginning epoch n°568\n",
      "end of epoch n°568. loss: 0.4516587046824292\n",
      "beginning epoch n°569\n",
      "end of epoch n°569. loss: 0.44976238426878334\n",
      "beginning epoch n°570\n",
      "end of epoch n°570. loss: 0.4519385000880027\n",
      "beginning epoch n°571\n"
     ]
    },
    {
     "name": "stderr",
     "output_type": "stream",
     "text": [
      "100% (14 of 14) |########################| Elapsed Time: 0:00:00 Time:  0:00:00\n",
      "100% (14 of 14) |########################| Elapsed Time: 0:00:00 Time:  0:00:00\n",
      "100% (14 of 14) |########################| Elapsed Time: 0:00:00 Time:  0:00:00\n",
      "100% (14 of 14) |########################| Elapsed Time: 0:00:00 Time:  0:00:00\n",
      "100% (14 of 14) |########################| Elapsed Time: 0:00:00 Time:  0:00:00\n",
      "100% (14 of 14) |########################| Elapsed Time: 0:00:00 Time:  0:00:00"
     ]
    },
    {
     "name": "stdout",
     "output_type": "stream",
     "text": [
      "end of epoch n°571. loss: 0.44986509348656517\n",
      "beginning epoch n°572\n",
      "end of epoch n°572. loss: 0.4490926694735882\n",
      "beginning epoch n°573\n",
      "end of epoch n°573. loss: 0.4514552806228002\n",
      "beginning epoch n°574\n",
      "end of epoch n°574. loss: 0.4495652729823047\n",
      "beginning epoch n°575\n",
      "end of epoch n°575. loss: 0.44887142775113603\n",
      "beginning epoch n°576\n"
     ]
    },
    {
     "name": "stderr",
     "output_type": "stream",
     "text": [
      "\n",
      "100% (14 of 14) |########################| Elapsed Time: 0:00:00 Time:  0:00:00\n",
      "100% (14 of 14) |########################| Elapsed Time: 0:00:00 Time:  0:00:00\n",
      "100% (14 of 14) |########################| Elapsed Time: 0:00:00 Time:  0:00:00\n",
      "N/A% (0 of 14) |                         | Elapsed Time: 0:00:00 ETA:  --:--:--"
     ]
    },
    {
     "name": "stdout",
     "output_type": "stream",
     "text": [
      "end of epoch n°576. loss: 0.45125775567795545\n",
      "beginning epoch n°577\n",
      "end of epoch n°577. loss: 0.44940257622706975\n",
      "beginning epoch n°578\n",
      "end of epoch n°578. loss: 0.44872701963825984\n",
      "beginning epoch n°579\n",
      "end of epoch n°579. loss: 0.4511184740325065\n",
      "beginning epoch n°580\n"
     ]
    },
    {
     "name": "stderr",
     "output_type": "stream",
     "text": [
      "100% (14 of 14) |########################| Elapsed Time: 0:00:00 Time:  0:00:00\n",
      "100% (14 of 14) |########################| Elapsed Time: 0:00:00 Time:  0:00:00\n",
      "100% (14 of 14) |########################| Elapsed Time: 0:00:00 Time:  0:00:00\n",
      "100% (14 of 14) |########################| Elapsed Time: 0:00:00 Time:  0:00:00\n",
      "100% (14 of 14) |########################| Elapsed Time: 0:00:00 Time:  0:00:00\n",
      "100% (14 of 14) |########################| Elapsed Time: 0:00:00 Time:  0:00:00\n",
      "100% (14 of 14) |########################| Elapsed Time: 0:00:00 Time:  0:00:00"
     ]
    },
    {
     "name": "stdout",
     "output_type": "stream",
     "text": [
      "end of epoch n°580. loss: 0.4492761506209799\n",
      "beginning epoch n°581\n",
      "end of epoch n°581. loss: 0.4486087715102617\n",
      "beginning epoch n°582\n",
      "end of epoch n°582. loss: 0.4510021946595807\n",
      "beginning epoch n°583\n",
      "end of epoch n°583. loss: 0.44916725816115183\n",
      "beginning epoch n°584\n",
      "end of epoch n°584. loss: 0.44850515471329594\n",
      "beginning epoch n°585\n",
      "end of epoch n°585. loss: 0.4508997348045501\n",
      "beginning epoch n°586\n"
     ]
    },
    {
     "name": "stderr",
     "output_type": "stream",
     "text": [
      "\n",
      "100% (14 of 14) |########################| Elapsed Time: 0:00:00 Time:  0:00:00\n",
      "100% (14 of 14) |########################| Elapsed Time: 0:00:00 Time:  0:00:00\n",
      "100% (14 of 14) |########################| Elapsed Time: 0:00:00 Time:  0:00:00\n",
      "100% (14 of 14) |########################| Elapsed Time: 0:00:00 Time:  0:00:00\n",
      "N/A% (0 of 14) |                         | Elapsed Time: 0:00:00 ETA:  --:--:--"
     ]
    },
    {
     "name": "stdout",
     "output_type": "stream",
     "text": [
      "end of epoch n°586. loss: 0.44906989543584674\n",
      "beginning epoch n°587\n",
      "end of epoch n°587. loss: 0.4484117647186271\n",
      "beginning epoch n°588\n",
      "end of epoch n°588. loss: 0.45080722263308387\n",
      "beginning epoch n°589\n",
      "end of epoch n°589. loss: 0.4489811798299015\n",
      "beginning epoch n°590\n",
      "end of epoch n°590. loss: 0.4483262765259785\n",
      "beginning epoch n°591\n"
     ]
    },
    {
     "name": "stderr",
     "output_type": "stream",
     "text": [
      "100% (14 of 14) |########################| Elapsed Time: 0:00:00 Time:  0:00:00\n",
      "100% (14 of 14) |########################| Elapsed Time: 0:00:00 Time:  0:00:00\n",
      "100% (14 of 14) |########################| Elapsed Time: 0:00:00 Time:  0:00:00\n",
      "100% (14 of 14) |########################| Elapsed Time: 0:00:00 Time:  0:00:00\n",
      "100% (14 of 14) |########################| Elapsed Time: 0:00:00 Time:  0:00:00\n",
      "N/A% (0 of 14) |                         | Elapsed Time: 0:00:00 ETA:  --:--:--"
     ]
    },
    {
     "name": "stdout",
     "output_type": "stream",
     "text": [
      "end of epoch n°591. loss: 0.45072250630008975\n",
      "beginning epoch n°592\n",
      "end of epoch n°592. loss: 0.4488993926790477\n",
      "beginning epoch n°593\n",
      "end of epoch n°593. loss: 0.4482472266146227\n",
      "beginning epoch n°594\n",
      "end of epoch n°594. loss: 0.45064418709987925\n",
      "beginning epoch n°595\n",
      "end of epoch n°595. loss: 0.4488233646016437\n",
      "beginning epoch n°596\n"
     ]
    },
    {
     "name": "stderr",
     "output_type": "stream",
     "text": [
      "100% (14 of 14) |########################| Elapsed Time: 0:00:00 Time:  0:00:00\n",
      "100% (14 of 14) |########################| Elapsed Time: 0:00:00 Time:  0:00:00\n",
      "100% (14 of 14) |########################| Elapsed Time: 0:00:00 Time:  0:00:00\n",
      "100% (14 of 14) |########################| Elapsed Time: 0:00:00 Time:  0:00:00\n",
      "100% (14 of 14) |########################| Elapsed Time: 0:00:00 Time:  0:00:00\n",
      "N/A% (0 of 14) |                         | Elapsed Time: 0:00:00 ETA:  --:--:--"
     ]
    },
    {
     "name": "stdout",
     "output_type": "stream",
     "text": [
      "end of epoch n°596. loss: 0.4481735816779592\n",
      "beginning epoch n°597\n",
      "end of epoch n°597. loss: 0.44782416821919346\n",
      "beginning epoch n°598\n",
      "end of epoch n°598. loss: 0.45030879735882784\n",
      "beginning epoch n°599\n",
      "end of epoch n°599. loss: 0.44859226323450124\n",
      "beginning epoch n°600\n",
      "end of epoch n°600. loss: 0.4479904897315754\n",
      "beginning epoch n°601\n"
     ]
    },
    {
     "name": "stderr",
     "output_type": "stream",
     "text": [
      "100% (14 of 14) |########################| Elapsed Time: 0:00:00 Time:  0:00:00\n",
      "100% (14 of 14) |########################| Elapsed Time: 0:00:00 Time:  0:00:00\n",
      "100% (14 of 14) |########################| Elapsed Time: 0:00:00 Time:  0:00:00\n",
      "100% (14 of 14) |########################| Elapsed Time: 0:00:00 Time:  0:00:00\n",
      "100% (14 of 14) |########################| Elapsed Time: 0:00:00 Time:  0:00:00"
     ]
    },
    {
     "name": "stdout",
     "output_type": "stream",
     "text": [
      "end of epoch n°601. loss: 0.4476685974378834\n",
      "beginning epoch n°602\n",
      "end of epoch n°602. loss: 0.45015882170783156\n",
      "beginning epoch n°603\n",
      "end of epoch n°603. loss: 0.4484594793034228\n",
      "beginning epoch n°604\n",
      "end of epoch n°604. loss: 0.4478684445264845\n",
      "beginning epoch n°605\n"
     ]
    },
    {
     "name": "stderr",
     "output_type": "stream",
     "text": [
      "\n",
      "100% (14 of 14) |########################| Elapsed Time: 0:00:00 Time:  0:00:00\n",
      "100% (14 of 14) |########################| Elapsed Time: 0:00:00 Time:  0:00:00\n",
      "100% (14 of 14) |########################| Elapsed Time: 0:00:00 Time:  0:00:00\n",
      "100% (14 of 14) |########################| Elapsed Time: 0:00:00 Time:  0:00:00\n",
      "N/A% (0 of 14) |                         | Elapsed Time: 0:00:00 ETA:  --:--:--"
     ]
    },
    {
     "name": "stdout",
     "output_type": "stream",
     "text": [
      "end of epoch n°605. loss: 0.44755521155133904\n",
      "beginning epoch n°606\n",
      "end of epoch n°606. loss: 0.45004582151609523\n",
      "beginning epoch n°607\n",
      "end of epoch n°607. loss: 0.44835318557548104\n",
      "beginning epoch n°608\n",
      "end of epoch n°608. loss: 0.4477674316498858\n",
      "beginning epoch n°609\n",
      "end of epoch n°609. loss: 0.4474592667424615\n",
      "beginning epoch n°610\n"
     ]
    },
    {
     "name": "stderr",
     "output_type": "stream",
     "text": [
      "100% (14 of 14) |########################| Elapsed Time: 0:00:00 Time:  0:00:00\n",
      "100% (14 of 14) |########################| Elapsed Time: 0:00:00 Time:  0:00:00\n",
      "100% (14 of 14) |########################| Elapsed Time: 0:00:00 Time:  0:00:00\n",
      "100% (14 of 14) |########################| Elapsed Time: 0:00:00 Time:  0:00:00\n",
      "100% (14 of 14) |########################| Elapsed Time: 0:00:00 Time:  0:00:00\n",
      "100% (14 of 14) |########################| Elapsed Time: 0:00:00 Time:  0:00:00\n"
     ]
    },
    {
     "name": "stdout",
     "output_type": "stream",
     "text": [
      "end of epoch n°610. loss: 0.4472738061754965\n",
      "beginning epoch n°611\n",
      "end of epoch n°611. loss: 0.4498007238629074\n",
      "beginning epoch n°612\n",
      "end of epoch n°612. loss: 0.4481611640207855\n",
      "beginning epoch n°613\n",
      "end of epoch n°613. loss: 0.44760219510248417\n",
      "beginning epoch n°614\n",
      "end of epoch n°614. loss: 0.4473113185895768\n",
      "beginning epoch n°615\n",
      "end of epoch n°615. loss: 0.4471380086173384\n",
      "beginning epoch n°616\n"
     ]
    },
    {
     "name": "stderr",
     "output_type": "stream",
     "text": [
      "100% (14 of 14) |########################| Elapsed Time: 0:00:00 Time:  0:00:00\n",
      "100% (14 of 14) |########################| Elapsed Time: 0:00:00 Time:  0:00:00\n",
      "100% (14 of 14) |########################| Elapsed Time: 0:00:00 Time:  0:00:00\n",
      "100% (14 of 14) |########################| Elapsed Time: 0:00:00 Time:  0:00:00\n",
      "100% (14 of 14) |########################| Elapsed Time: 0:00:00 Time:  0:00:00\n",
      "100% (14 of 14) |########################| Elapsed Time: 0:00:00 Time:  0:00:00\n",
      "N/A% (0 of 14) |                         | Elapsed Time: 0:00:00 ETA:  --:--:--"
     ]
    },
    {
     "name": "stdout",
     "output_type": "stream",
     "text": [
      "end of epoch n°616. loss: 0.4502560556032039\n",
      "beginning epoch n°617\n",
      "end of epoch n°617. loss: 0.44773948654692325\n",
      "beginning epoch n°618\n",
      "end of epoch n°618. loss: 0.4472624235743436\n",
      "beginning epoch n°619\n",
      "end of epoch n°619. loss: 0.44704412465875365\n",
      "beginning epoch n°620\n",
      "end of epoch n°620. loss: 0.44695097027862374\n",
      "beginning epoch n°621\n",
      "end of epoch n°621. loss: 0.4468977326999991\n",
      "beginning epoch n°622\n"
     ]
    },
    {
     "name": "stderr",
     "output_type": "stream",
     "text": [
      "100% (14 of 14) |########################| Elapsed Time: 0:00:00 Time:  0:00:00\n",
      "100% (14 of 14) |########################| Elapsed Time: 0:00:00 Time:  0:00:00\n",
      "100% (14 of 14) |########################| Elapsed Time: 0:00:00 Time:  0:00:00\n",
      "100% (14 of 14) |########################| Elapsed Time: 0:00:00 Time:  0:00:00\n",
      "100% (14 of 14) |########################| Elapsed Time: 0:00:00 Time:  0:00:00\n",
      "100% (14 of 14) |########################| Elapsed Time: 0:00:00 Time:  0:00:00\n"
     ]
    },
    {
     "name": "stdout",
     "output_type": "stream",
     "text": [
      "end of epoch n°622. loss: 0.4468587949528176\n",
      "beginning epoch n°623\n",
      "end of epoch n°623. loss: 0.44682439087826603\n",
      "beginning epoch n°624\n",
      "end of epoch n°624. loss: 0.44679096211649416\n",
      "beginning epoch n°625\n",
      "end of epoch n°625. loss: 0.44675743472067075\n",
      "beginning epoch n°626\n",
      "end of epoch n°626. loss: 0.4467236859244691\n",
      "beginning epoch n°627\n",
      "end of epoch n°627. loss: 0.4466899109067015\n",
      "beginning epoch n°628\n"
     ]
    },
    {
     "name": "stderr",
     "output_type": "stream",
     "text": [
      "100% (14 of 14) |########################| Elapsed Time: 0:00:00 Time:  0:00:00\n",
      "100% (14 of 14) |########################| Elapsed Time: 0:00:00 Time:  0:00:00\n",
      "100% (14 of 14) |########################| Elapsed Time: 0:00:00 Time:  0:00:00\n",
      "100% (14 of 14) |########################| Elapsed Time: 0:00:00 Time:  0:00:00\n",
      "100% (14 of 14) |########################| Elapsed Time: 0:00:00 Time:  0:00:00\n",
      "100% (14 of 14) |########################| Elapsed Time: 0:00:00 Time:  0:00:00\n",
      "100% (14 of 14) |########################| Elapsed Time: 0:00:00 Time:  0:00:00"
     ]
    },
    {
     "name": "stdout",
     "output_type": "stream",
     "text": [
      "end of epoch n°628. loss: 0.44665636993659596\n",
      "beginning epoch n°629\n",
      "end of epoch n°629. loss: 0.44662329631740916\n",
      "beginning epoch n°630\n",
      "end of epoch n°630. loss: 0.44659087057063696\n",
      "beginning epoch n°631\n",
      "end of epoch n°631. loss: 0.44655922018217514\n",
      "beginning epoch n°632\n",
      "end of epoch n°632. loss: 0.4465284277668256\n",
      "beginning epoch n°633\n",
      "end of epoch n°633. loss: 0.44649854076882073\n",
      "beginning epoch n°634\n"
     ]
    },
    {
     "name": "stderr",
     "output_type": "stream",
     "text": [
      "\n",
      "100% (14 of 14) |########################| Elapsed Time: 0:00:00 Time:  0:00:00\n",
      "100% (14 of 14) |########################| Elapsed Time: 0:00:00 Time:  0:00:00\n",
      "100% (14 of 14) |########################| Elapsed Time: 0:00:00 Time:  0:00:00\n",
      "N/A% (0 of 14) |                         | Elapsed Time: 0:00:00 ETA:  --:--:--"
     ]
    },
    {
     "name": "stdout",
     "output_type": "stream",
     "text": [
      "end of epoch n°634. loss: 0.446469580214018\n",
      "beginning epoch n°635\n",
      "end of epoch n°635. loss: 0.44644154784424583\n",
      "beginning epoch n°636\n",
      "end of epoch n°636. loss: 0.4464144316578622\n",
      "beginning epoch n°637\n",
      "end of epoch n°637. loss: 0.4464050777219966\n",
      "beginning epoch n°638\n"
     ]
    },
    {
     "name": "stderr",
     "output_type": "stream",
     "text": [
      "100% (14 of 14) |########################| Elapsed Time: 0:00:00 Time:  0:00:00\n",
      "100% (14 of 14) |########################| Elapsed Time: 0:00:00 Time:  0:00:00\n",
      "100% (14 of 14) |########################| Elapsed Time: 0:00:00 Time:  0:00:00\n",
      "100% (14 of 14) |########################| Elapsed Time: 0:00:00 Time:  0:00:00\n",
      "100% (14 of 14) |########################| Elapsed Time: 0:00:00 Time:  0:00:00\n",
      "100% (14 of 14) |########################| Elapsed Time: 0:00:00 Time:  0:00:00\n",
      "100% (14 of 14) |########################| Elapsed Time: 0:00:00 Time:  0:00:00"
     ]
    },
    {
     "name": "stdout",
     "output_type": "stream",
     "text": [
      "end of epoch n°638. loss: 0.4463659147382901\n",
      "beginning epoch n°639\n",
      "end of epoch n°639. loss: 0.4463236330524269\n",
      "beginning epoch n°640\n",
      "end of epoch n°640. loss: 0.4462827970419645\n",
      "beginning epoch n°641\n",
      "end of epoch n°641. loss: 0.44624476989614664\n",
      "beginning epoch n°642\n",
      "end of epoch n°642. loss: 0.4462097397368801\n",
      "beginning epoch n°643\n",
      "end of epoch n°643. loss: 0.44617747739224856\n",
      "beginning epoch n°644\n"
     ]
    },
    {
     "name": "stderr",
     "output_type": "stream",
     "text": [
      "\n",
      "100% (14 of 14) |########################| Elapsed Time: 0:00:00 Time:  0:00:00\n",
      "100% (14 of 14) |########################| Elapsed Time: 0:00:00 Time:  0:00:00\n",
      "100% (14 of 14) |########################| Elapsed Time: 0:00:00 Time:  0:00:00\n",
      "100% (14 of 14) |########################| Elapsed Time: 0:00:00 Time:  0:00:00\n",
      "100% (14 of 14) |########################| Elapsed Time: 0:00:00 Time:  0:00:00\n",
      "100% (14 of 14) |########################| Elapsed Time: 0:00:00 Time:  0:00:00\n",
      "100% (14 of 14) |########################| Elapsed Time: 0:00:00 Time:  0:00:00\n",
      "100% (14 of 14) |########################| Elapsed Time: 0:00:00 Time:  0:00:00\n",
      "100% (14 of 14) |########################| Elapsed Time: 0:00:00 Time:  0:00:00\n",
      "100% (14 of 14) |########################| Elapsed Time: 0:00:00 Time:  0:00:00\n",
      "100% (14 of 14) |########################| Elapsed Time: 0:00:00 Time:  0:00:00"
     ]
    },
    {
     "name": "stdout",
     "output_type": "stream",
     "text": [
      "end of epoch n°644. loss: 0.4461476393244416\n",
      "beginning epoch n°645\n",
      "end of epoch n°645. loss: 0.4461198835480033\n",
      "beginning epoch n°646\n",
      "end of epoch n°646. loss: 0.4460939086044614\n",
      "beginning epoch n°647\n",
      "end of epoch n°647. loss: 0.4460694616415152\n",
      "beginning epoch n°648\n",
      "end of epoch n°648. loss: 0.4460463349815376\n",
      "beginning epoch n°649\n",
      "end of epoch n°649. loss: 0.44602435922974676\n",
      "beginning epoch n°650\n",
      "end of epoch n°650. loss: 0.4460033961109564\n",
      "beginning epoch n°651\n",
      "end of epoch n°651. loss: 0.4459833321550775\n",
      "beginning epoch n°652\n",
      "end of epoch n°652. loss: 0.44596407349881495\n",
      "beginning epoch n°653\n",
      "end of epoch n°653. loss: 0.4459455417451453\n",
      "beginning epoch n°654\n",
      "end of epoch n°654. loss: 0.44592767071944805\n",
      "beginning epoch n°655\n"
     ]
    },
    {
     "name": "stderr",
     "output_type": "stream",
     "text": [
      "\n",
      "100% (14 of 14) |########################| Elapsed Time: 0:00:00 Time:  0:00:00\n",
      "100% (14 of 14) |########################| Elapsed Time: 0:00:00 Time:  0:00:00\n",
      "100% (14 of 14) |########################| Elapsed Time: 0:00:00 Time:  0:00:00\n",
      "100% (14 of 14) |########################| Elapsed Time: 0:00:00 Time:  0:00:00\n",
      " 14% (2 of 14) |###                      | Elapsed Time: 0:00:00 ETA:  00:00:00"
     ]
    },
    {
     "name": "stdout",
     "output_type": "stream",
     "text": [
      "end of epoch n°655. loss: 0.4459104039482042\n",
      "beginning epoch n°656\n",
      "end of epoch n°656. loss: 0.44589369270537177\n",
      "beginning epoch n°657\n",
      "end of epoch n°657. loss: 0.4458774944989707\n",
      "beginning epoch n°658\n",
      "end of epoch n°658. loss: 0.44586177189682547\n",
      "beginning epoch n°659\n",
      "end of epoch n°659. loss: 0.44584649161287276\n",
      "beginning epoch n°660\n"
     ]
    },
    {
     "name": "stderr",
     "output_type": "stream",
     "text": [
      "100% (14 of 14) |########################| Elapsed Time: 0:00:00 Time:  0:00:00\n",
      "100% (14 of 14) |########################| Elapsed Time: 0:00:00 Time:  0:00:00\n",
      "100% (14 of 14) |########################| Elapsed Time: 0:00:00 Time:  0:00:00\n",
      "100% (14 of 14) |########################| Elapsed Time: 0:00:00 Time:  0:00:00\n",
      "100% (14 of 14) |########################| Elapsed Time: 0:00:00 Time:  0:00:00\n",
      "100% (14 of 14) |########################| Elapsed Time: 0:00:00 Time:  0:00:00\n",
      "100% (14 of 14) |########################| Elapsed Time: 0:00:00 Time:  0:00:00\n",
      "100% (14 of 14) |########################| Elapsed Time: 0:00:00 Time:  0:00:00\n",
      "100% (14 of 14) |########################| Elapsed Time: 0:00:00 Time:  0:00:00\n",
      "100% (14 of 14) |########################| Elapsed Time: 0:00:00 Time:  0:00:00\n"
     ]
    },
    {
     "name": "stdout",
     "output_type": "stream",
     "text": [
      "end of epoch n°660. loss: 0.4458316237935021\n",
      "beginning epoch n°661\n",
      "end of epoch n°661. loss: 0.44581714145753365\n",
      "beginning epoch n°662\n",
      "end of epoch n°662. loss: 0.4458030200543404\n",
      "beginning epoch n°663\n",
      "end of epoch n°663. loss: 0.4457892371129793\n",
      "beginning epoch n°664\n",
      "end of epoch n°664. loss: 0.4457757719615816\n",
      "beginning epoch n°665\n",
      "end of epoch n°665. loss: 0.44576260550111774\n",
      "beginning epoch n°666\n",
      "end of epoch n°666. loss: 0.4457497200213744\n",
      "beginning epoch n°667\n",
      "end of epoch n°667. loss: 0.4457370990498126\n",
      "beginning epoch n°668\n",
      "end of epoch n°668. loss: 0.4457247272261452\n",
      "beginning epoch n°669\n",
      "end of epoch n°669. loss: 0.4457125901971246"
     ]
    },
    {
     "name": "stderr",
     "output_type": "stream",
     "text": [
      "100% (14 of 14) |########################| Elapsed Time: 0:00:00 Time:  0:00:00\n",
      "100% (14 of 14) |########################| Elapsed Time: 0:00:00 Time:  0:00:00\n",
      "100% (14 of 14) |########################| Elapsed Time: 0:00:00 Time:  0:00:00\n",
      "100% (14 of 14) |########################| Elapsed Time: 0:00:00 Time:  0:00:00\n",
      "100% (14 of 14) |########################| Elapsed Time: 0:00:00 Time:  0:00:00\n",
      "100% (14 of 14) |########################| Elapsed Time: 0:00:00 Time:  0:00:00"
     ]
    },
    {
     "name": "stdout",
     "output_type": "stream",
     "text": [
      "\n",
      "beginning epoch n°670\n",
      "end of epoch n°670. loss: 0.4457006745273061\n",
      "beginning epoch n°671\n",
      "end of epoch n°671. loss: 0.4456889676225076\n",
      "beginning epoch n°672\n",
      "end of epoch n°672. loss: 0.4456774576634471\n",
      "beginning epoch n°673\n",
      "end of epoch n°673. loss: 0.44566613354759277\n",
      "beginning epoch n°674\n",
      "end of epoch n°674. loss: 0.4456549848377066\n",
      "beginning epoch n°675\n"
     ]
    },
    {
     "name": "stderr",
     "output_type": "stream",
     "text": [
      "\n",
      "100% (14 of 14) |########################| Elapsed Time: 0:00:00 Time:  0:00:00\n",
      " 35% (5 of 14) |########                 | Elapsed Time: 0:00:00 ETA:   0:00:00"
     ]
    },
    {
     "name": "stdout",
     "output_type": "stream",
     "text": [
      "end of epoch n°675. loss: 0.44564400171589663\n",
      "beginning epoch n°676\n",
      "end of epoch n°676. loss: 0.44563317494224586\n",
      "beginning epoch n°677\n"
     ]
    },
    {
     "name": "stderr",
     "output_type": "stream",
     "text": [
      "100% (14 of 14) |########################| Elapsed Time: 0:00:00 Time:  0:00:00\n",
      "100% (14 of 14) |########################| Elapsed Time: 0:00:00 Time:  0:00:00\n",
      "100% (14 of 14) |########################| Elapsed Time: 0:00:00 Time:  0:00:00\n",
      "100% (14 of 14) |########################| Elapsed Time: 0:00:00 Time:  0:00:00\n",
      "N/A% (0 of 14) |                         | Elapsed Time: 0:00:00 ETA:  --:--:--"
     ]
    },
    {
     "name": "stdout",
     "output_type": "stream",
     "text": [
      "end of epoch n°677. loss: 0.4456224958172917\n",
      "beginning epoch n°678\n",
      "end of epoch n°678. loss: 0.44561195614777455\n",
      "beginning epoch n°679\n",
      "end of epoch n°679. loss: 0.44560154821519943\n",
      "beginning epoch n°680\n",
      "end of epoch n°680. loss: 0.44559126474684063\n",
      "beginning epoch n°681\n"
     ]
    },
    {
     "name": "stderr",
     "output_type": "stream",
     "text": [
      "100% (14 of 14) |########################| Elapsed Time: 0:00:00 Time:  0:00:00\n",
      "100% (14 of 14) |########################| Elapsed Time: 0:00:00 Time:  0:00:00\n",
      "100% (14 of 14) |########################| Elapsed Time: 0:00:00 Time:  0:00:00\n",
      "100% (14 of 14) |########################| Elapsed Time: 0:00:00 Time:  0:00:00\n",
      "100% (14 of 14) |########################| Elapsed Time: 0:00:00 Time:  0:00:00\n",
      "N/A% (0 of 14) |                         | Elapsed Time: 0:00:00 ETA:  --:--:--"
     ]
    },
    {
     "name": "stdout",
     "output_type": "stream",
     "text": [
      "end of epoch n°681. loss: 0.44558109888889164\n",
      "beginning epoch n°682\n",
      "end of epoch n°682. loss: 0.4455710441815162\n",
      "beginning epoch n°683\n",
      "end of epoch n°683. loss: 0.44556109453560494\n",
      "beginning epoch n°684\n",
      "end of epoch n°684. loss: 0.44555124421106496\n",
      "beginning epoch n°685\n",
      "end of epoch n°685. loss: 0.44554148779650565\n",
      "beginning epoch n°686\n"
     ]
    },
    {
     "name": "stderr",
     "output_type": "stream",
     "text": [
      "100% (14 of 14) |########################| Elapsed Time: 0:00:00 Time:  0:00:00\n",
      "100% (14 of 14) |########################| Elapsed Time: 0:00:00 Time:  0:00:00\n",
      "100% (14 of 14) |########################| Elapsed Time: 0:00:00 Time:  0:00:00\n",
      "100% (14 of 14) |########################| Elapsed Time: 0:00:00 Time:  0:00:00\n",
      "100% (14 of 14) |########################| Elapsed Time: 0:00:00 Time:  0:00:00\n",
      "100% (14 of 14) |########################| Elapsed Time: 0:00:00 Time:  0:00:00\n",
      "100% (14 of 14) |########################| Elapsed Time: 0:00:00 Time:  0:00:00\n"
     ]
    },
    {
     "name": "stdout",
     "output_type": "stream",
     "text": [
      "end of epoch n°686. loss: 0.445531820190202\n",
      "beginning epoch n°687\n",
      "end of epoch n°687. loss: 0.44552223658222784\n",
      "beginning epoch n°688\n",
      "end of epoch n°688. loss: 0.4455127324376754\n",
      "beginning epoch n°689\n",
      "end of epoch n°689. loss: 0.44550330348087813\n",
      "beginning epoch n°690\n",
      "end of epoch n°690. loss: 0.4454939456805677\n",
      "beginning epoch n°691\n",
      "end of epoch n°691. loss: 0.44548465523590397\n",
      "beginning epoch n°692\n",
      "end of epoch n°692. loss: 0.44547542856331745"
     ]
    },
    {
     "name": "stderr",
     "output_type": "stream",
     "text": [
      "100% (14 of 14) |########################| Elapsed Time: 0:00:00 Time:  0:00:00\n",
      "100% (14 of 14) |########################| Elapsed Time: 0:00:00 Time:  0:00:00\n",
      "100% (14 of 14) |########################| Elapsed Time: 0:00:00 Time:  0:00:00\n",
      "100% (14 of 14) |########################| Elapsed Time: 0:00:00 Time:  0:00:00\n",
      "100% (14 of 14) |########################| Elapsed Time: 0:00:00 Time:  0:00:00\n"
     ]
    },
    {
     "name": "stdout",
     "output_type": "stream",
     "text": [
      "\n",
      "beginning epoch n°693\n",
      "end of epoch n°693. loss: 0.44546626228411734\n",
      "beginning epoch n°694\n",
      "end of epoch n°694. loss: 0.44545715321281343\n",
      "beginning epoch n°695\n",
      "end of epoch n°695. loss: 0.4454481011768037\n",
      "beginning epoch n°696\n",
      "end of epoch n°696. loss: 0.4454394908556687\n",
      "beginning epoch n°697\n",
      "end of epoch n°697. loss: 0.4454303830917991\n",
      "beginning epoch n°698\n"
     ]
    },
    {
     "name": "stderr",
     "output_type": "stream",
     "text": [
      "100% (14 of 14) |########################| Elapsed Time: 0:00:00 Time:  0:00:00\n",
      "100% (14 of 14) |########################| Elapsed Time: 0:00:00 Time:  0:00:00\n",
      "100% (14 of 14) |########################| Elapsed Time: 0:00:00 Time:  0:00:00\n",
      "100% (14 of 14) |########################| Elapsed Time: 0:00:00 Time:  0:00:00\n",
      "100% (14 of 14) |########################| Elapsed Time: 0:00:00 Time:  0:00:00\n",
      "100% (14 of 14) |########################| Elapsed Time: 0:00:00 Time:  0:00:00\n",
      "100% (14 of 14) |########################| Elapsed Time: 0:00:00 Time:  0:00:00\n",
      "N/A% (0 of 14) |                         | Elapsed Time: 0:00:00 ETA:  --:--:--"
     ]
    },
    {
     "name": "stdout",
     "output_type": "stream",
     "text": [
      "end of epoch n°698. loss: 0.4454214161321315\n",
      "beginning epoch n°699\n",
      "end of epoch n°699. loss: 0.44541252103514944\n",
      "beginning epoch n°700\n",
      "end of epoch n°700. loss: 0.4454036796925307\n",
      "beginning epoch n°701\n",
      "end of epoch n°701. loss: 0.4453948834813358\n",
      "beginning epoch n°702\n",
      "end of epoch n°702. loss: 0.4453861276197795\n",
      "beginning epoch n°703\n",
      "end of epoch n°703. loss: 0.44537740899202943\n",
      "beginning epoch n°704\n",
      "end of epoch n°704. loss: 0.44536872525127835\n",
      "beginning epoch n°705\n"
     ]
    },
    {
     "name": "stderr",
     "output_type": "stream",
     "text": [
      "100% (14 of 14) |########################| Elapsed Time: 0:00:00 Time:  0:00:00\n",
      "100% (14 of 14) |########################| Elapsed Time: 0:00:00 Time:  0:00:00\n",
      "100% (14 of 14) |########################| Elapsed Time: 0:00:00 Time:  0:00:00\n",
      "100% (14 of 14) |########################| Elapsed Time: 0:00:00 Time:  0:00:00\n",
      "100% (14 of 14) |########################| Elapsed Time: 0:00:00 Time:  0:00:00\n",
      "100% (14 of 14) |########################| Elapsed Time: 0:00:00 Time:  0:00:00\n",
      "100% (14 of 14) |########################| Elapsed Time: 0:00:00 Time:  0:00:00"
     ]
    },
    {
     "name": "stdout",
     "output_type": "stream",
     "text": [
      "end of epoch n°705. loss: 0.4453600744403905\n",
      "beginning epoch n°706\n",
      "end of epoch n°706. loss: 0.4453514548272157\n",
      "beginning epoch n°707\n",
      "end of epoch n°707. loss: 0.4453428648306724\n",
      "beginning epoch n°708\n",
      "end of epoch n°708. loss: 0.44533430298568477\n",
      "beginning epoch n°709\n",
      "end of epoch n°709. loss: 0.4453257679249071\n",
      "beginning epoch n°710\n",
      "end of epoch n°710. loss: 0.4453172583678062\n",
      "beginning epoch n°711\n"
     ]
    },
    {
     "name": "stderr",
     "output_type": "stream",
     "text": [
      "\n",
      "100% (14 of 14) |########################| Elapsed Time: 0:00:00 Time:  0:00:00\n",
      "100% (14 of 14) |########################| Elapsed Time: 0:00:00 Time:  0:00:00\n",
      "100% (14 of 14) |########################| Elapsed Time: 0:00:00 Time:  0:00:00\n",
      "100% (14 of 14) |########################| Elapsed Time: 0:00:00 Time:  0:00:00\n",
      "100% (14 of 14) |########################| Elapsed Time: 0:00:00 Time:  0:00:00\n",
      "100% (14 of 14) |########################| Elapsed Time: 0:00:00 Time:  0:00:00\n",
      "100% (14 of 14) |########################| Elapsed Time: 0:00:00 Time:  0:00:00\n",
      "100% (14 of 14) |########################| Elapsed Time: 0:00:00 Time:  0:00:00\n",
      "100% (14 of 14) |########################| Elapsed Time: 0:00:00 Time:  0:00:00\n",
      "100% (14 of 14) |########################| Elapsed Time: 0:00:00 Time:  0:00:00\n"
     ]
    },
    {
     "name": "stdout",
     "output_type": "stream",
     "text": [
      "end of epoch n°711. loss: 0.4453087731130707\n",
      "beginning epoch n°712\n",
      "end of epoch n°712. loss: 0.44530031103263845\n",
      "beginning epoch n°713\n",
      "end of epoch n°713. loss: 0.4452918710666093\n",
      "beginning epoch n°714\n",
      "end of epoch n°714. loss: 0.44528345221871973\n",
      "beginning epoch n°715\n",
      "end of epoch n°715. loss: 0.4452750535522387\n",
      "beginning epoch n°716\n",
      "end of epoch n°716. loss: 0.44526667418620464\n",
      "beginning epoch n°717\n",
      "end of epoch n°717. loss: 0.4452583132919561\n",
      "beginning epoch n°718\n",
      "end of epoch n°718. loss: 0.44524997008992423\n",
      "beginning epoch n°719\n",
      "end of epoch n°719. loss: 0.4452416438466582\n",
      "beginning epoch n°720\n",
      "end of epoch n°720. loss: 0.4452333338720593\n",
      "beginning epoch n°721\n",
      "end of epoch n°721. loss: 0.4452250395168074"
     ]
    },
    {
     "name": "stderr",
     "output_type": "stream",
     "text": [
      "100% (14 of 14) |########################| Elapsed Time: 0:00:00 Time:  0:00:00\n",
      "100% (14 of 14) |########################| Elapsed Time: 0:00:00 Time:  0:00:00\n",
      "100% (14 of 14) |########################| Elapsed Time: 0:00:00 Time:  0:00:00\n",
      "100% (14 of 14) |########################| Elapsed Time: 0:00:00 Time:  0:00:00\n",
      "100% (14 of 14) |########################| Elapsed Time: 0:00:00 Time:  0:00:00\n",
      "100% (14 of 14) |########################| Elapsed Time: 0:00:00 Time:  0:00:00"
     ]
    },
    {
     "name": "stdout",
     "output_type": "stream",
     "text": [
      "\n",
      "beginning epoch n°722\n",
      "end of epoch n°722. loss: 0.4452167601699557\n",
      "beginning epoch n°723\n",
      "end of epoch n°723. loss: 0.4452084952566867\n",
      "beginning epoch n°724\n",
      "end of epoch n°724. loss: 0.4452002442362087\n",
      "beginning epoch n°725\n",
      "end of epoch n°725. loss: 0.4451920065997858\n",
      "beginning epoch n°726\n",
      "end of epoch n°726. loss: 0.44518378186888896\n",
      "beginning epoch n°727\n"
     ]
    },
    {
     "name": "stderr",
     "output_type": "stream",
     "text": [
      "\n",
      "100% (14 of 14) |########################| Elapsed Time: 0:00:00 Time:  0:00:00\n",
      "100% (14 of 14) |########################| Elapsed Time: 0:00:00 Time:  0:00:00\n",
      "100% (14 of 14) |########################| Elapsed Time: 0:00:00 Time:  0:00:00\n",
      "100% (14 of 14) |########################| Elapsed Time: 0:00:00 Time:  0:00:00\n",
      "100% (14 of 14) |########################| Elapsed Time: 0:00:00 Time:  0:00:00\n",
      "100% (14 of 14) |########################| Elapsed Time: 0:00:00 Time:  0:00:00\n",
      "100% (14 of 14) |########################| Elapsed Time: 0:00:00 Time:  0:00:00\n",
      "100% (14 of 14) |########################| Elapsed Time: 0:00:00 Time:  0:00:00\n",
      "100% (14 of 14) |########################| Elapsed Time: 0:00:00 Time:  0:00:00\n",
      "N/A% (0 of 14) |                         | Elapsed Time: 0:00:00 ETA:  --:--:--"
     ]
    },
    {
     "name": "stdout",
     "output_type": "stream",
     "text": [
      "end of epoch n°727. loss: 0.4451755695934609\n",
      "beginning epoch n°728\n",
      "end of epoch n°728. loss: 0.44516736935028317\n",
      "beginning epoch n°729\n",
      "end of epoch n°729. loss: 0.44515918074144323\n",
      "beginning epoch n°730\n",
      "end of epoch n°730. loss: 0.44515100339288965\n",
      "beginning epoch n°731\n",
      "end of epoch n°731. loss: 0.4451428369530741\n",
      "beginning epoch n°732\n",
      "end of epoch n°732. loss: 0.4451346810916707\n",
      "beginning epoch n°733\n",
      "end of epoch n°733. loss: 0.4451265354983708\n",
      "beginning epoch n°734\n",
      "end of epoch n°734. loss: 0.44511839988174756\n",
      "beginning epoch n°735\n",
      "end of epoch n°735. loss: 0.4451102739681847\n",
      "beginning epoch n°736\n",
      "end of epoch n°736. loss: 0.4451021575008676\n",
      "beginning epoch n°737\n"
     ]
    },
    {
     "name": "stderr",
     "output_type": "stream",
     "text": [
      "100% (14 of 14) |########################| Elapsed Time: 0:00:00 Time:  0:00:00\n",
      "100% (14 of 14) |########################| Elapsed Time: 0:00:00 Time:  0:00:00\n",
      "100% (14 of 14) |########################| Elapsed Time: 0:00:00 Time:  0:00:00\n",
      "100% (14 of 14) |########################| Elapsed Time: 0:00:00 Time:  0:00:00\n",
      "100% (14 of 14) |########################| Elapsed Time: 0:00:00 Time:  0:00:00\n",
      "100% (14 of 14) |########################| Elapsed Time: 0:00:00 Time:  0:00:00\n",
      "100% (14 of 14) |########################| Elapsed Time: 0:00:00 Time:  0:00:00\n"
     ]
    },
    {
     "name": "stdout",
     "output_type": "stream",
     "text": [
      "end of epoch n°737. loss: 0.44509405023883203\n",
      "beginning epoch n°738\n",
      "end of epoch n°738. loss: 0.4450859519560659\n",
      "beginning epoch n°739\n",
      "end of epoch n°739. loss: 0.4450778624406655\n",
      "beginning epoch n°740\n",
      "end of epoch n°740. loss: 0.4450697814940351\n",
      "beginning epoch n°741\n",
      "end of epoch n°741. loss: 0.4450617089301357\n",
      "beginning epoch n°742\n",
      "end of epoch n°742. loss: 0.4450536445747748\n",
      "beginning epoch n°743\n"
     ]
    },
    {
     "name": "stderr",
     "output_type": "stream",
     "text": [
      "100% (14 of 14) |########################| Elapsed Time: 0:00:00 Time:  0:00:00\n",
      "100% (14 of 14) |########################| Elapsed Time: 0:00:00 Time:  0:00:00\n",
      "100% (14 of 14) |########################| Elapsed Time: 0:00:00 Time:  0:00:00\n",
      "100% (14 of 14) |########################| Elapsed Time: 0:00:00 Time:  0:00:00\n",
      "100% (14 of 14) |########################| Elapsed Time: 0:00:00 Time:  0:00:00\n",
      "N/A% (0 of 14) |                         | Elapsed Time: 0:00:00 ETA:  --:--:--"
     ]
    },
    {
     "name": "stdout",
     "output_type": "stream",
     "text": [
      "end of epoch n°743. loss: 0.44504558826493645\n",
      "beginning epoch n°744\n",
      "end of epoch n°744. loss: 0.4450375420422773\n",
      "beginning epoch n°745\n",
      "end of epoch n°745. loss: 0.4450298547798572\n",
      "beginning epoch n°746\n",
      "end of epoch n°746. loss: 0.4450216792868346\n",
      "beginning epoch n°747\n",
      "end of epoch n°747. loss: 0.44501360178635285\n",
      "beginning epoch n°748\n",
      "end of epoch n°748. loss: 0.44500555759231347\n",
      "beginning epoch n°749\n"
     ]
    },
    {
     "name": "stderr",
     "output_type": "stream",
     "text": [
      "100% (14 of 14) |########################| Elapsed Time: 0:00:00 Time:  0:00:00\n",
      "100% (14 of 14) |########################| Elapsed Time: 0:00:00 Time:  0:00:00\n",
      "100% (14 of 14) |########################| Elapsed Time: 0:00:00 Time:  0:00:00\n",
      "100% (14 of 14) |########################| Elapsed Time: 0:00:00 Time:  0:00:00\n"
     ]
    },
    {
     "name": "stdout",
     "output_type": "stream",
     "text": [
      "end of epoch n°749. loss: 0.44499753144145565\n",
      "beginning epoch n°750\n",
      "end of epoch n°750. loss: 0.4449895172800165\n",
      "beginning epoch n°751\n",
      "end of epoch n°751. loss: 0.44498151255808255\n",
      "beginning epoch n°752\n",
      "end of epoch n°752. loss: 0.44497351613713454\n",
      "beginning epoch n°753\n"
     ]
    },
    {
     "name": "stderr",
     "output_type": "stream",
     "text": [
      "100% (14 of 14) |########################| Elapsed Time: 0:00:00 Time:  0:00:00\n",
      "100% (14 of 14) |########################| Elapsed Time: 0:00:00 Time:  0:00:00\n",
      "100% (14 of 14) |########################| Elapsed Time: 0:00:00 Time:  0:00:00\n",
      "100% (14 of 14) |########################| Elapsed Time: 0:00:00 Time:  0:00:00\n",
      "100% (14 of 14) |########################| Elapsed Time: 0:00:00 Time:  0:00:00\n",
      "100% (14 of 14) |########################| Elapsed Time: 0:00:00 Time:  0:00:00\n",
      "100% (14 of 14) |########################| Elapsed Time: 0:00:00 Time:  0:00:00"
     ]
    },
    {
     "name": "stdout",
     "output_type": "stream",
     "text": [
      "end of epoch n°753. loss: 0.44496552746265977\n",
      "beginning epoch n°754\n",
      "end of epoch n°754. loss: 0.44495754622862493\n",
      "beginning epoch n°755\n",
      "end of epoch n°755. loss: 0.44494957223913467\n",
      "beginning epoch n°756\n",
      "end of epoch n°756. loss: 0.44494160535078126\n",
      "beginning epoch n°757\n",
      "end of epoch n°757. loss: 0.44493364544830755\n",
      "beginning epoch n°758\n",
      "end of epoch n°758. loss: 0.44492569243403024\n",
      "beginning epoch n°759\n"
     ]
    },
    {
     "name": "stderr",
     "output_type": "stream",
     "text": [
      "\n",
      "100% (14 of 14) |########################| Elapsed Time: 0:00:00 Time:  0:00:00\n",
      "100% (14 of 14) |########################| Elapsed Time: 0:00:00 Time:  0:00:00\n",
      "100% (14 of 14) |########################| Elapsed Time: 0:00:00 Time:  0:00:00\n",
      "100% (14 of 14) |########################| Elapsed Time: 0:00:00 Time:  0:00:00\n",
      "100% (14 of 14) |########################| Elapsed Time: 0:00:00 Time:  0:00:00\n",
      "100% (14 of 14) |########################| Elapsed Time: 0:00:00 Time:  0:00:00\n",
      "100% (14 of 14) |########################| Elapsed Time: 0:00:00 Time:  0:00:00\n",
      "N/A% (0 of 14) |                         | Elapsed Time: 0:00:00 ETA:  --:--:--"
     ]
    },
    {
     "name": "stdout",
     "output_type": "stream",
     "text": [
      "end of epoch n°759. loss: 0.44491774622292946\n",
      "beginning epoch n°760\n",
      "end of epoch n°760. loss: 0.4449098067400744\n",
      "beginning epoch n°761\n",
      "end of epoch n°761. loss: 0.4449018739190387\n",
      "beginning epoch n°762\n",
      "end of epoch n°762. loss: 0.444893947700767\n",
      "beginning epoch n°763\n",
      "end of epoch n°763. loss: 0.4448860280326805\n",
      "beginning epoch n°764\n",
      "end of epoch n°764. loss: 0.4448781148679333\n",
      "beginning epoch n°765\n",
      "end of epoch n°765. loss: 0.44487020816478606\n",
      "beginning epoch n°766\n",
      "end of epoch n°766. loss: 0.44486230788606923\n",
      "beginning epoch n°767\n"
     ]
    },
    {
     "name": "stderr",
     "output_type": "stream",
     "text": [
      "100% (14 of 14) |########################| Elapsed Time: 0:00:00 Time:  0:00:00\n",
      "100% (14 of 14) |########################| Elapsed Time: 0:00:00 Time:  0:00:00\n",
      "100% (14 of 14) |########################| Elapsed Time: 0:00:00 Time:  0:00:00\n",
      "100% (14 of 14) |########################| Elapsed Time: 0:00:00 Time:  0:00:00\n",
      "100% (14 of 14) |########################| Elapsed Time: 0:00:00 Time:  0:00:00\n",
      "100% (14 of 14) |########################| Elapsed Time: 0:00:00 Time:  0:00:00\n",
      "N/A% (0 of 14) |                         | Elapsed Time: 0:00:00 ETA:  --:--:--"
     ]
    },
    {
     "name": "stdout",
     "output_type": "stream",
     "text": [
      "end of epoch n°767. loss: 0.44485441399872394\n",
      "beginning epoch n°768\n",
      "end of epoch n°768. loss: 0.4448465264734095\n",
      "beginning epoch n°769\n",
      "end of epoch n°769. loss: 0.4448386452841643\n",
      "beginning epoch n°770\n",
      "end of epoch n°770. loss: 0.4448307704081107\n",
      "beginning epoch n°771\n",
      "end of epoch n°771. loss: 0.4448229018251996\n",
      "beginning epoch n°772\n",
      "end of epoch n°772. loss: 0.444815039517984\n",
      "beginning epoch n°773\n"
     ]
    },
    {
     "name": "stderr",
     "output_type": "stream",
     "text": [
      "100% (14 of 14) |########################| Elapsed Time: 0:00:00 Time:  0:00:00\n",
      "100% (14 of 14) |########################| Elapsed Time: 0:00:00 Time:  0:00:00\n",
      "100% (14 of 14) |########################| Elapsed Time: 0:00:00 Time:  0:00:00\n",
      "100% (14 of 14) |########################| Elapsed Time: 0:00:00 Time:  0:00:00\n",
      "100% (14 of 14) |########################| Elapsed Time: 0:00:00 Time:  0:00:00\n",
      "100% (14 of 14) |########################| Elapsed Time: 0:00:00 Time:  0:00:00\n",
      "N/A% (0 of 14) |                         | Elapsed Time: 0:00:00 ETA:  --:--:--"
     ]
    },
    {
     "name": "stdout",
     "output_type": "stream",
     "text": [
      "end of epoch n°773. loss: 0.44480718347142006\n",
      "beginning epoch n°774\n",
      "end of epoch n°774. loss: 0.44479933367268776\n",
      "beginning epoch n°775\n",
      "end of epoch n°775. loss: 0.4447914901110319\n",
      "beginning epoch n°776\n",
      "end of epoch n°776. loss: 0.44478365277761545\n",
      "beginning epoch n°777\n",
      "end of epoch n°777. loss: 0.4447758216653894\n",
      "beginning epoch n°778\n",
      "end of epoch n°778. loss: 0.4447679967689696\n",
      "beginning epoch n°779\n"
     ]
    },
    {
     "name": "stderr",
     "output_type": "stream",
     "text": [
      "100% (14 of 14) |########################| Elapsed Time: 0:00:00 Time:  0:00:00\n",
      "100% (14 of 14) |########################| Elapsed Time: 0:00:00 Time:  0:00:00\n",
      "100% (14 of 14) |########################| Elapsed Time: 0:00:00 Time:  0:00:00\n",
      "100% (14 of 14) |########################| Elapsed Time: 0:00:00 Time:  0:00:00\n",
      "100% (14 of 14) |########################| Elapsed Time: 0:00:00 Time:  0:00:00\n",
      "100% (14 of 14) |########################| Elapsed Time: 0:00:00 Time:  0:00:00"
     ]
    },
    {
     "name": "stdout",
     "output_type": "stream",
     "text": [
      "end of epoch n°779. loss: 0.4447601780845271\n",
      "beginning epoch n°780\n",
      "end of epoch n°780. loss: 0.4447523656096844\n",
      "beginning epoch n°781\n",
      "end of epoch n°781. loss: 0.44474455934342005\n",
      "beginning epoch n°782\n",
      "end of epoch n°782. loss: 0.44473675928598055\n",
      "beginning epoch n°783\n",
      "end of epoch n°783. loss: 0.44472896543879636\n",
      "beginning epoch n°784\n"
     ]
    },
    {
     "name": "stderr",
     "output_type": "stream",
     "text": [
      "\n",
      "100% (14 of 14) |########################| Elapsed Time: 0:00:00 Time:  0:00:00\n",
      "100% (14 of 14) |########################| Elapsed Time: 0:00:00 Time:  0:00:00\n",
      "100% (14 of 14) |########################| Elapsed Time: 0:00:00 Time:  0:00:00\n",
      "100% (14 of 14) |########################| Elapsed Time: 0:00:00 Time:  0:00:00\n",
      "100% (14 of 14) |########################| Elapsed Time: 0:00:00 Time:  0:00:00\n",
      "100% (14 of 14) |########################| Elapsed Time: 0:00:00 Time:  0:00:00\n",
      "100% (14 of 14) |########################| Elapsed Time: 0:00:00 Time:  0:00:00\n"
     ]
    },
    {
     "name": "stdout",
     "output_type": "stream",
     "text": [
      "end of epoch n°784. loss: 0.44472117924334265\n",
      "beginning epoch n°785\n",
      "end of epoch n°785. loss: 0.4447137234210312\n",
      "beginning epoch n°786\n",
      "end of epoch n°786. loss: 0.44470581355558925\n",
      "beginning epoch n°787\n",
      "end of epoch n°787. loss: 0.4446979971417589\n",
      "beginning epoch n°788\n",
      "end of epoch n°788. loss: 0.44469021132037545\n",
      "beginning epoch n°789\n",
      "end of epoch n°789. loss: 0.44468244152712055\n",
      "beginning epoch n°790\n",
      "end of epoch n°790. loss: 0.4446746822292285\n",
      "beginning epoch n°791\n",
      "end of epoch n°791. loss: 0.4446669312158669"
     ]
    },
    {
     "name": "stderr",
     "output_type": "stream",
     "text": [
      "100% (14 of 14) |########################| Elapsed Time: 0:00:00 Time:  0:00:00\n",
      "100% (14 of 14) |########################| Elapsed Time: 0:00:00 Time:  0:00:00\n",
      "100% (14 of 14) |########################| Elapsed Time: 0:00:00 Time:  0:00:00\n",
      "100% (14 of 14) |########################| Elapsed Time: 0:00:00 Time:  0:00:00\n"
     ]
    },
    {
     "name": "stdout",
     "output_type": "stream",
     "text": [
      "\n",
      "beginning epoch n°792\n",
      "end of epoch n°792. loss: 0.44465918757428696\n",
      "beginning epoch n°793\n",
      "end of epoch n°793. loss: 0.4446514509116571\n",
      "beginning epoch n°794\n",
      "end of epoch n°794. loss: 0.4446437210474076\n",
      "beginning epoch n°795\n"
     ]
    },
    {
     "name": "stderr",
     "output_type": "stream",
     "text": [
      "100% (14 of 14) |########################| Elapsed Time: 0:00:00 Time:  0:00:00\n",
      "100% (14 of 14) |########################| Elapsed Time: 0:00:00 Time:  0:00:00\n",
      "100% (14 of 14) |########################| Elapsed Time: 0:00:00 Time:  0:00:00\n",
      "100% (14 of 14) |########################| Elapsed Time: 0:00:00 Time:  0:00:00\n",
      "100% (14 of 14) |########################| Elapsed Time: 0:00:00 Time:  0:00:00\n",
      "100% (14 of 14) |########################| Elapsed Time: 0:00:00 Time:  0:00:00\n"
     ]
    },
    {
     "name": "stdout",
     "output_type": "stream",
     "text": [
      "end of epoch n°795. loss: 0.4446359978897185\n",
      "beginning epoch n°796\n",
      "end of epoch n°796. loss: 0.4446282813856562\n",
      "beginning epoch n°797\n",
      "end of epoch n°797. loss: 0.444620571500977\n",
      "beginning epoch n°798\n",
      "end of epoch n°798. loss: 0.44461286821183327\n",
      "beginning epoch n°799\n",
      "end of epoch n°799. loss: 0.44460517150118883\n",
      "beginning epoch n°800\n",
      "end of epoch n°800. loss: 0.44459748135708066\n",
      "beginning epoch n°801\n"
     ]
    },
    {
     "name": "stderr",
     "output_type": "stream",
     "text": [
      "100% (14 of 14) |########################| Elapsed Time: 0:00:00 Time:  0:00:00\n",
      "100% (14 of 14) |########################| Elapsed Time: 0:00:00 Time:  0:00:00\n",
      "100% (14 of 14) |########################| Elapsed Time: 0:00:00 Time:  0:00:00\n",
      "100% (14 of 14) |########################| Elapsed Time: 0:00:00 Time:  0:00:00\n",
      "N/A% (0 of 14) |                         | Elapsed Time: 0:00:00 ETA:  --:--:--"
     ]
    },
    {
     "name": "stdout",
     "output_type": "stream",
     "text": [
      "end of epoch n°801. loss: 0.44458979777160584\n",
      "beginning epoch n°802\n",
      "end of epoch n°802. loss: 0.44458212074021347\n",
      "beginning epoch n°803\n",
      "end of epoch n°803. loss: 0.4445744502611481\n",
      "beginning epoch n°804\n",
      "end of epoch n°804. loss: 0.44456678633499\n",
      "beginning epoch n°805\n",
      "end of epoch n°805. loss: 0.44455912896427124\n",
      "beginning epoch n°806\n"
     ]
    },
    {
     "name": "stderr",
     "output_type": "stream",
     "text": [
      "100% (14 of 14) |########################| Elapsed Time: 0:00:00 Time:  0:00:00\n",
      "100% (14 of 14) |########################| Elapsed Time: 0:00:00 Time:  0:00:00\n",
      "100% (14 of 14) |########################| Elapsed Time: 0:00:00 Time:  0:00:00\n",
      "100% (14 of 14) |########################| Elapsed Time: 0:00:00 Time:  0:00:00\n",
      "100% (14 of 14) |########################| Elapsed Time: 0:00:00 Time:  0:00:00\n",
      "100% (14 of 14) |########################| Elapsed Time: 0:00:00 Time:  0:00:00\n",
      "100% (14 of 14) |########################| Elapsed Time: 0:00:00 Time:  0:00:00\n",
      "100% (14 of 14) |########################| Elapsed Time: 0:00:00 Time:  0:00:00"
     ]
    },
    {
     "name": "stdout",
     "output_type": "stream",
     "text": [
      "end of epoch n°806. loss: 0.44455147815315443\n",
      "beginning epoch n°807\n",
      "end of epoch n°807. loss: 0.44454383390716756\n",
      "beginning epoch n°808\n",
      "end of epoch n°808. loss: 0.44453619623298457\n",
      "beginning epoch n°809\n",
      "end of epoch n°809. loss: 0.44452856513824485\n",
      "beginning epoch n°810\n",
      "end of epoch n°810. loss: 0.44452094063140535\n",
      "beginning epoch n°811\n",
      "end of epoch n°811. loss: 0.444513322721619\n",
      "beginning epoch n°812\n",
      "end of epoch n°812. loss: 0.4445057114186327\n",
      "beginning epoch n°813\n"
     ]
    },
    {
     "name": "stderr",
     "output_type": "stream",
     "text": [
      "\n",
      "100% (14 of 14) |########################| Elapsed Time: 0:00:00 Time:  0:00:00\n",
      "100% (14 of 14) |########################| Elapsed Time: 0:00:00 Time:  0:00:00\n",
      "100% (14 of 14) |########################| Elapsed Time: 0:00:00 Time:  0:00:00\n",
      "100% (14 of 14) |########################| Elapsed Time: 0:00:00 Time:  0:00:00\n",
      "100% (14 of 14) |########################| Elapsed Time: 0:00:00 Time:  0:00:00\n",
      "100% (14 of 14) |########################| Elapsed Time: 0:00:00 Time:  0:00:00\n",
      "100% (14 of 14) |########################| Elapsed Time: 0:00:00 Time:  0:00:00"
     ]
    },
    {
     "name": "stdout",
     "output_type": "stream",
     "text": [
      "end of epoch n°813. loss: 0.44449810673270496\n",
      "beginning epoch n°814\n",
      "end of epoch n°814. loss: 0.4444905086745342\n",
      "beginning epoch n°815\n",
      "end of epoch n°815. loss: 0.44448291725520034\n",
      "beginning epoch n°816\n",
      "end of epoch n°816. loss: 0.44447533248611415\n",
      "beginning epoch n°817\n",
      "end of epoch n°817. loss: 0.44446775437897373\n",
      "beginning epoch n°818\n",
      "end of epoch n°818. loss: 0.4444601829457265\n",
      "beginning epoch n°819\n",
      "end of epoch n°819. loss: 0.44445261819853754\n",
      "beginning epoch n°820\n"
     ]
    },
    {
     "name": "stderr",
     "output_type": "stream",
     "text": [
      "\n",
      "100% (14 of 14) |########################| Elapsed Time: 0:00:00 Time:  0:00:00\n",
      "100% (14 of 14) |########################| Elapsed Time: 0:00:00 Time:  0:00:00\n",
      "100% (14 of 14) |########################| Elapsed Time: 0:00:00 Time:  0:00:00\n"
     ]
    },
    {
     "name": "stdout",
     "output_type": "stream",
     "text": [
      "end of epoch n°820. loss: 0.44444506014975865\n",
      "beginning epoch n°821\n",
      "end of epoch n°821. loss: 0.44443751077757165\n",
      "beginning epoch n°822\n",
      "end of epoch n°822. loss: 0.4444302685027406\n",
      "beginning epoch n°823\n"
     ]
    },
    {
     "name": "stderr",
     "output_type": "stream",
     "text": [
      "100% (14 of 14) |########################| Elapsed Time: 0:00:00 Time:  0:00:00\n",
      "100% (14 of 14) |########################| Elapsed Time: 0:00:00 Time:  0:00:00\n",
      "100% (14 of 14) |########################| Elapsed Time: 0:00:00 Time:  0:00:00\n",
      "100% (14 of 14) |########################| Elapsed Time: 0:00:00 Time:  0:00:00\n",
      "100% (14 of 14) |########################| Elapsed Time: 0:00:00 Time:  0:00:00\n",
      "N/A% (0 of 14) |                         | Elapsed Time: 0:00:00 ETA:  --:--:--"
     ]
    },
    {
     "name": "stdout",
     "output_type": "stream",
     "text": [
      "end of epoch n°823. loss: 0.4444226020955551\n",
      "beginning epoch n°824\n",
      "end of epoch n°824. loss: 0.44441502706737757\n",
      "beginning epoch n°825\n",
      "end of epoch n°825. loss: 0.4444074819145643\n",
      "beginning epoch n°826\n",
      "end of epoch n°826. loss: 0.44439995255093306\n",
      "beginning epoch n°827\n",
      "end of epoch n°827. loss: 0.444392433777517\n",
      "beginning epoch n°828\n",
      "end of epoch n°828. loss: 0.4443849235739323\n",
      "beginning epoch n°829\n"
     ]
    },
    {
     "name": "stderr",
     "output_type": "stream",
     "text": [
      "100% (14 of 14) |########################| Elapsed Time: 0:00:00 Time:  0:00:00\n",
      "100% (14 of 14) |########################| Elapsed Time: 0:00:00 Time:  0:00:00\n",
      "100% (14 of 14) |########################| Elapsed Time: 0:00:00 Time:  0:00:00\n",
      "100% (14 of 14) |########################| Elapsed Time: 0:00:00 Time:  0:00:00\n",
      "100% (14 of 14) |########################| Elapsed Time: 0:00:00 Time:  0:00:00\n",
      "100% (14 of 14) |########################| Elapsed Time: 0:00:00 Time:  0:00:00"
     ]
    },
    {
     "name": "stdout",
     "output_type": "stream",
     "text": [
      "end of epoch n°829. loss: 0.44437742113185\n",
      "beginning epoch n°830\n",
      "end of epoch n°830. loss: 0.44436992611658227\n",
      "beginning epoch n°831\n",
      "end of epoch n°831. loss: 0.4443624383813419\n",
      "beginning epoch n°832\n",
      "end of epoch n°832. loss: 0.44435495785509505\n",
      "beginning epoch n°833\n",
      "end of epoch n°833. loss: 0.4443474844984965\n",
      "beginning epoch n°834\n"
     ]
    },
    {
     "name": "stderr",
     "output_type": "stream",
     "text": [
      "\n",
      "100% (14 of 14) |########################| Elapsed Time: 0:00:00 Time:  0:00:00\n",
      "100% (14 of 14) |########################| Elapsed Time: 0:00:00 Time:  0:00:00\n",
      "100% (14 of 14) |########################| Elapsed Time: 0:00:00 Time:  0:00:00\n",
      "100% (14 of 14) |########################| Elapsed Time: 0:00:00 Time:  0:00:00\n",
      "100% (14 of 14) |########################| Elapsed Time: 0:00:00 Time:  0:00:00\n",
      "100% (14 of 14) |########################| Elapsed Time: 0:00:00 Time:  0:00:00\n",
      "N/A% (0 of 14) |                         | Elapsed Time: 0:00:00 ETA:  --:--:--"
     ]
    },
    {
     "name": "stdout",
     "output_type": "stream",
     "text": [
      "end of epoch n°834. loss: 0.4443400182866737\n",
      "beginning epoch n°835\n",
      "end of epoch n°835. loss: 0.4443325592024863\n",
      "beginning epoch n°836\n",
      "end of epoch n°836. loss: 0.44432510723379054\n",
      "beginning epoch n°837\n",
      "end of epoch n°837. loss: 0.4443176623721824\n",
      "beginning epoch n°838\n",
      "end of epoch n°838. loss: 0.44431022461228253\n",
      "beginning epoch n°839\n",
      "end of epoch n°839. loss: 0.4443027939512222\n",
      "beginning epoch n°840\n",
      "end of epoch n°840. loss: 0.4442953703882253\n",
      "beginning epoch n°841\n"
     ]
    },
    {
     "name": "stderr",
     "output_type": "stream",
     "text": [
      "100% (14 of 14) |########################| Elapsed Time: 0:00:00 Time:  0:00:00\n",
      "100% (14 of 14) |########################| Elapsed Time: 0:00:00 Time:  0:00:00\n",
      "100% (14 of 14) |########################| Elapsed Time: 0:00:00 Time:  0:00:00\n",
      "100% (14 of 14) |########################| Elapsed Time: 0:00:00 Time:  0:00:00\n",
      "100% (14 of 14) |########################| Elapsed Time: 0:00:00 Time:  0:00:00"
     ]
    },
    {
     "name": "stdout",
     "output_type": "stream",
     "text": [
      "end of epoch n°841. loss: 0.44428795392424875\n",
      "beginning epoch n°842\n",
      "end of epoch n°842. loss: 0.44428054456167954\n",
      "beginning epoch n°843\n",
      "end of epoch n°843. loss: 0.44427314230407583\n",
      "beginning epoch n°844\n",
      "end of epoch n°844. loss: 0.4442657471559525\n",
      "beginning epoch n°845\n"
     ]
    },
    {
     "name": "stderr",
     "output_type": "stream",
     "text": [
      "\n",
      "100% (14 of 14) |########################| Elapsed Time: 0:00:00 Time:  0:00:00\n",
      "100% (14 of 14) |########################| Elapsed Time: 0:00:00 Time:  0:00:00\n",
      "100% (14 of 14) |########################| Elapsed Time: 0:00:00 Time:  0:00:00\n",
      "100% (14 of 14) |########################| Elapsed Time: 0:00:00 Time:  0:00:00\n",
      "100% (14 of 14) |########################| Elapsed Time: 0:00:00 Time:  0:00:00\n",
      "100% (14 of 14) |########################| Elapsed Time: 0:00:00 Time:  0:00:00\n"
     ]
    },
    {
     "name": "stdout",
     "output_type": "stream",
     "text": [
      "end of epoch n°845. loss: 0.44425835912260553\n",
      "beginning epoch n°846\n",
      "end of epoch n°846. loss: 0.4442509782099667\n",
      "beginning epoch n°847\n",
      "end of epoch n°847. loss: 0.4442436044244863\n",
      "beginning epoch n°848\n",
      "end of epoch n°848. loss: 0.4442362377730367\n",
      "beginning epoch n°849\n",
      "end of epoch n°849. loss: 0.44422887826283497\n",
      "beginning epoch n°850\n",
      "end of epoch n°850. loss: 0.44422152590137826\n",
      "beginning epoch n°851\n"
     ]
    },
    {
     "name": "stderr",
     "output_type": "stream",
     "text": [
      "100% (14 of 14) |########################| Elapsed Time: 0:00:00 Time:  0:00:00\n",
      "100% (14 of 14) |########################| Elapsed Time: 0:00:00 Time:  0:00:00\n",
      "100% (14 of 14) |########################| Elapsed Time: 0:00:00 Time:  0:00:00\n",
      "100% (14 of 14) |########################| Elapsed Time: 0:00:00 Time:  0:00:00\n",
      "100% (14 of 14) |########################| Elapsed Time: 0:00:00 Time:  0:00:00\n",
      "100% (14 of 14) |########################| Elapsed Time: 0:00:00 Time:  0:00:00\n"
     ]
    },
    {
     "name": "stdout",
     "output_type": "stream",
     "text": [
      "end of epoch n°851. loss: 0.4442141806963913\n",
      "beginning epoch n°852\n",
      "end of epoch n°852. loss: 0.44420684265578353\n",
      "beginning epoch n°853\n",
      "end of epoch n°853. loss: 0.44419951178761174\n",
      "beginning epoch n°854\n",
      "end of epoch n°854. loss: 0.44419218810005084\n",
      "beginning epoch n°855\n",
      "end of epoch n°855. loss: 0.44418487160136727\n",
      "beginning epoch n°856\n",
      "end of epoch n°856. loss: 0.44417756265607006\n",
      "beginning epoch n°857\n",
      "end of epoch n°857. loss: 0.44417054368464837\n"
     ]
    },
    {
     "name": "stderr",
     "output_type": "stream",
     "text": [
      "100% (14 of 14) |########################| Elapsed Time: 0:00:00 Time:  0:00:00\n",
      "100% (14 of 14) |########################| Elapsed Time: 0:00:00 Time:  0:00:00\n",
      "100% (14 of 14) |########################| Elapsed Time: 0:00:00 Time:  0:00:00\n",
      "N/A% (0 of 14) |                         | Elapsed Time: 0:00:00 ETA:  --:--:--"
     ]
    },
    {
     "name": "stdout",
     "output_type": "stream",
     "text": [
      "beginning epoch n°858\n",
      "end of epoch n°858. loss: 0.4441631265757735\n",
      "beginning epoch n°859\n",
      "end of epoch n°859. loss: 0.4441557983506685\n",
      "beginning epoch n°860\n",
      "end of epoch n°860. loss: 0.44414849917700105\n",
      "beginning epoch n°861\n"
     ]
    },
    {
     "name": "stderr",
     "output_type": "stream",
     "text": [
      "100% (14 of 14) |########################| Elapsed Time: 0:00:00 Time:  0:00:00\n",
      "100% (14 of 14) |########################| Elapsed Time: 0:00:00 Time:  0:00:00\n",
      "100% (14 of 14) |########################| Elapsed Time: 0:00:00 Time:  0:00:00\n",
      "100% (14 of 14) |########################| Elapsed Time: 0:00:00 Time:  0:00:00\n",
      "100% (14 of 14) |########################| Elapsed Time: 0:00:00 Time:  0:00:00\n",
      "100% (14 of 14) |########################| Elapsed Time: 0:00:00 Time:  0:00:00\n",
      "100% (14 of 14) |########################| Elapsed Time: 0:00:00 Time:  0:00:00"
     ]
    },
    {
     "name": "stdout",
     "output_type": "stream",
     "text": [
      "end of epoch n°861. loss: 0.44414121552007046\n",
      "beginning epoch n°862\n",
      "end of epoch n°862. loss: 0.44413394251074245\n",
      "beginning epoch n°863\n",
      "end of epoch n°863. loss: 0.4441266783008267\n",
      "beginning epoch n°864\n",
      "end of epoch n°864. loss: 0.4441194221683621\n",
      "beginning epoch n°865\n",
      "end of epoch n°865. loss: 0.4441121738215768\n",
      "beginning epoch n°866\n",
      "end of epoch n°866. loss: 0.44410493313489624\n",
      "beginning epoch n°867\n"
     ]
    },
    {
     "name": "stderr",
     "output_type": "stream",
     "text": [
      "\n",
      "100% (14 of 14) |########################| Elapsed Time: 0:00:00 Time:  0:00:00\n",
      "100% (14 of 14) |########################| Elapsed Time: 0:00:00 Time:  0:00:00\n",
      "100% (14 of 14) |########################| Elapsed Time: 0:00:00 Time:  0:00:00\n",
      "100% (14 of 14) |########################| Elapsed Time: 0:00:00 Time:  0:00:00\n",
      "100% (14 of 14) |########################| Elapsed Time: 0:00:00 Time:  0:00:00\n",
      "N/A% (0 of 14) |                         | Elapsed Time: 0:00:00 ETA:  --:--:--"
     ]
    },
    {
     "name": "stdout",
     "output_type": "stream",
     "text": [
      "end of epoch n°867. loss: 0.4440977000475235\n",
      "beginning epoch n°868\n",
      "end of epoch n°868. loss: 0.4440904745246332\n",
      "beginning epoch n°869\n",
      "end of epoch n°869. loss: 0.4440832565427443\n",
      "beginning epoch n°870\n",
      "end of epoch n°870. loss: 0.4440760460842864\n",
      "beginning epoch n°871\n",
      "end of epoch n°871. loss: 0.44406884313554007\n",
      "beginning epoch n°872\n",
      "end of epoch n°872. loss: 0.44406164768575457\n",
      "beginning epoch n°873\n"
     ]
    },
    {
     "name": "stderr",
     "output_type": "stream",
     "text": [
      "100% (14 of 14) |########################| Elapsed Time: 0:00:00 Time:  0:00:00\n",
      "100% (14 of 14) |########################| Elapsed Time: 0:00:00 Time:  0:00:00\n",
      "100% (14 of 14) |########################| Elapsed Time: 0:00:00 Time:  0:00:00\n",
      "100% (14 of 14) |########################| Elapsed Time: 0:00:00 Time:  0:00:00\n",
      "100% (14 of 14) |########################| Elapsed Time: 0:00:00 Time:  0:00:00\n",
      "100% (14 of 14) |########################| Elapsed Time: 0:00:00 Time:  0:00:00\n",
      "100% (14 of 14) |########################| Elapsed Time: 0:00:00 Time:  0:00:00\n",
      "100% (14 of 14) |########################| Elapsed Time: 0:00:00 Time:  0:00:00"
     ]
    },
    {
     "name": "stdout",
     "output_type": "stream",
     "text": [
      "end of epoch n°873. loss: 0.4440544597266509\n",
      "beginning epoch n°874\n",
      "end of epoch n°874. loss: 0.4440472792520464\n",
      "beginning epoch n°875\n",
      "end of epoch n°875. loss: 0.44404010625753093\n",
      "beginning epoch n°876\n",
      "end of epoch n°876. loss: 0.44403294074017696\n",
      "beginning epoch n°877\n",
      "end of epoch n°877. loss: 0.4440257826982851\n",
      "beginning epoch n°878\n",
      "end of epoch n°878. loss: 0.44401863213116644\n",
      "beginning epoch n°879\n",
      "end of epoch n°879. loss: 0.4440114890389586\n",
      "beginning epoch n°880\n"
     ]
    },
    {
     "name": "stderr",
     "output_type": "stream",
     "text": [
      "\n",
      "100% (14 of 14) |########################| Elapsed Time: 0:00:00 Time:  0:00:00\n",
      "100% (14 of 14) |########################| Elapsed Time: 0:00:00 Time:  0:00:00\n",
      "100% (14 of 14) |########################| Elapsed Time: 0:00:00 Time:  0:00:00\n",
      "100% (14 of 14) |########################| Elapsed Time: 0:00:00 Time:  0:00:00\n",
      "100% (14 of 14) |########################| Elapsed Time: 0:00:00 Time:  0:00:00\n",
      "100% (14 of 14) |########################| Elapsed Time: 0:00:00 Time:  0:00:00"
     ]
    },
    {
     "name": "stdout",
     "output_type": "stream",
     "text": [
      "end of epoch n°880. loss: 0.44400435342247413\n",
      "beginning epoch n°881\n",
      "end of epoch n°881. loss: 0.4439972252830747\n",
      "beginning epoch n°882\n",
      "end of epoch n°882. loss: 0.44399010462256977\n",
      "beginning epoch n°883\n",
      "end of epoch n°883. loss: 0.4439829914431329\n",
      "beginning epoch n°884\n",
      "end of epoch n°884. loss: 0.4439758857472351\n",
      "beginning epoch n°885\n",
      "end of epoch n°885. loss: 0.443968787537588\n",
      "beginning epoch n°886\n"
     ]
    },
    {
     "name": "stderr",
     "output_type": "stream",
     "text": [
      "\n",
      "100% (14 of 14) |########################| Elapsed Time: 0:00:00 Time:  0:00:00\n",
      "100% (14 of 14) |########################| Elapsed Time: 0:00:00 Time:  0:00:00\n",
      "100% (14 of 14) |########################| Elapsed Time: 0:00:00 Time:  0:00:00\n",
      "100% (14 of 14) |########################| Elapsed Time: 0:00:00 Time:  0:00:00\n",
      "100% (14 of 14) |########################| Elapsed Time: 0:00:00 Time:  0:00:00\n",
      "100% (14 of 14) |########################| Elapsed Time: 0:00:00 Time:  0:00:00\n",
      "100% (14 of 14) |########################| Elapsed Time: 0:00:00 Time:  0:00:00"
     ]
    },
    {
     "name": "stdout",
     "output_type": "stream",
     "text": [
      "end of epoch n°886. loss: 0.4439616968170998\n",
      "beginning epoch n°887\n",
      "end of epoch n°887. loss: 0.4439546135888363\n",
      "beginning epoch n°888\n",
      "end of epoch n°888. loss: 0.44394753785599184\n",
      "beginning epoch n°889\n",
      "end of epoch n°889. loss: 0.4439404696218613\n",
      "beginning epoch n°890\n",
      "end of epoch n°890. loss: 0.4439334088898189\n",
      "beginning epoch n°891\n",
      "end of epoch n°891. loss: 0.4439263582320186\n",
      "beginning epoch n°892\n",
      "end of epoch n°892. loss: 0.4439195772149844\n",
      "beginning epoch n°893\n"
     ]
    },
    {
     "name": "stderr",
     "output_type": "stream",
     "text": [
      "\n",
      "100% (14 of 14) |########################| Elapsed Time: 0:00:00 Time:  0:00:00\n",
      "100% (14 of 14) |########################| Elapsed Time: 0:00:00 Time:  0:00:00\n",
      "100% (14 of 14) |########################| Elapsed Time: 0:00:00 Time:  0:00:00\n",
      "100% (14 of 14) |########################| Elapsed Time: 0:00:00 Time:  0:00:00\n"
     ]
    },
    {
     "name": "stdout",
     "output_type": "stream",
     "text": [
      "end of epoch n°893. loss: 0.44391242098961636\n",
      "beginning epoch n°894\n",
      "end of epoch n°894. loss: 0.4439053522164\n",
      "beginning epoch n°895\n",
      "end of epoch n°895. loss: 0.4438983119085533\n",
      "beginning epoch n°896\n",
      "end of epoch n°896. loss: 0.4438912868597894\n",
      "beginning epoch n°897\n",
      "end of epoch n°897. loss: 0.4438842724295462"
     ]
    },
    {
     "name": "stderr",
     "output_type": "stream",
     "text": [
      "100% (14 of 14) |########################| Elapsed Time: 0:00:00 Time:  0:00:00\n",
      "100% (14 of 14) |########################| Elapsed Time: 0:00:00 Time:  0:00:00\n",
      "100% (14 of 14) |########################| Elapsed Time: 0:00:00 Time:  0:00:00\n",
      "100% (14 of 14) |########################| Elapsed Time: 0:00:00 Time:  0:00:00\n",
      "100% (14 of 14) |########################| Elapsed Time: 0:00:00 Time:  0:00:00"
     ]
    },
    {
     "name": "stdout",
     "output_type": "stream",
     "text": [
      "\n",
      "beginning epoch n°898\n",
      "end of epoch n°898. loss: 0.44387726689441814\n",
      "beginning epoch n°899\n",
      "end of epoch n°899. loss: 0.4438702695963616\n",
      "beginning epoch n°900\n",
      "end of epoch n°900. loss: 0.4438632802757382\n",
      "beginning epoch n°901\n",
      "end of epoch n°901. loss: 0.44385629882289124\n",
      "beginning epoch n°902\n"
     ]
    },
    {
     "name": "stderr",
     "output_type": "stream",
     "text": [
      "\n",
      "100% (14 of 14) |########################| Elapsed Time: 0:00:00 Time:  0:00:00\n",
      "100% (14 of 14) |########################| Elapsed Time: 0:00:00 Time:  0:00:00\n",
      "100% (14 of 14) |########################| Elapsed Time: 0:00:00 Time:  0:00:00\n",
      "100% (14 of 14) |########################| Elapsed Time: 0:00:00 Time:  0:00:00\n",
      "100% (14 of 14) |########################| Elapsed Time: 0:00:00 Time:  0:00:00\n",
      "100% (14 of 14) |########################| Elapsed Time: 0:00:00 Time:  0:00:00\n",
      "100% (14 of 14) |########################| Elapsed Time: 0:00:00 Time:  0:00:00\n"
     ]
    },
    {
     "name": "stdout",
     "output_type": "stream",
     "text": [
      "end of epoch n°902. loss: 0.44384932518458625\n",
      "beginning epoch n°903\n",
      "end of epoch n°903. loss: 0.44384235932912375\n",
      "beginning epoch n°904\n",
      "end of epoch n°904. loss: 0.4438354012336756\n",
      "beginning epoch n°905\n",
      "end of epoch n°905. loss: 0.4438284508798596\n",
      "beginning epoch n°906\n",
      "end of epoch n°906. loss: 0.44382150825221495\n",
      "beginning epoch n°907\n",
      "end of epoch n°907. loss: 0.443814573337621\n",
      "beginning epoch n°908\n",
      "end of epoch n°908. loss: 0.443807646124981\n",
      "beginning epoch n°909\n",
      "end of epoch n°909. loss: 0.4438007266049647\n",
      "beginning epoch n°910\n"
     ]
    },
    {
     "name": "stderr",
     "output_type": "stream",
     "text": [
      "100% (14 of 14) |########################| Elapsed Time: 0:00:00 Time:  0:00:00\n",
      "100% (14 of 14) |########################| Elapsed Time: 0:00:00 Time:  0:00:00\n",
      "100% (14 of 14) |########################| Elapsed Time: 0:00:00 Time:  0:00:00\n",
      "100% (14 of 14) |########################| Elapsed Time: 0:00:00 Time:  0:00:00\n",
      "100% (14 of 14) |########################| Elapsed Time: 0:00:00 Time:  0:00:00\n",
      "100% (14 of 14) |########################| Elapsed Time: 0:00:00 Time:  0:00:00"
     ]
    },
    {
     "name": "stdout",
     "output_type": "stream",
     "text": [
      "end of epoch n°910. loss: 0.44379381476976376\n",
      "beginning epoch n°911\n",
      "end of epoch n°911. loss: 0.4437869106128619\n",
      "beginning epoch n°912\n",
      "end of epoch n°912. loss: 0.44378001412882356\n",
      "beginning epoch n°913\n",
      "end of epoch n°913. loss: 0.44377312531311086\n",
      "beginning epoch n°914\n",
      "end of epoch n°914. loss: 0.44376624416192534\n",
      "beginning epoch n°915\n"
     ]
    },
    {
     "name": "stderr",
     "output_type": "stream",
     "text": [
      "\n",
      "100% (14 of 14) |########################| Elapsed Time: 0:00:00 Time:  0:00:00\n",
      "100% (14 of 14) |########################| Elapsed Time: 0:00:00 Time:  0:00:00\n",
      "100% (14 of 14) |########################| Elapsed Time: 0:00:00 Time:  0:00:00\n",
      "100% (14 of 14) |########################| Elapsed Time: 0:00:00 Time:  0:00:00\n",
      "100% (14 of 14) |########################| Elapsed Time: 0:00:00 Time:  0:00:00\n",
      "100% (14 of 14) |########################| Elapsed Time: 0:00:00 Time:  0:00:00\n",
      "100% (14 of 14) |########################| Elapsed Time: 0:00:00 Time:  0:00:00\n"
     ]
    },
    {
     "name": "stdout",
     "output_type": "stream",
     "text": [
      "end of epoch n°915. loss: 0.4437593706720769\n",
      "beginning epoch n°916\n",
      "end of epoch n°916. loss: 0.44375250484087614\n",
      "beginning epoch n°917\n",
      "end of epoch n°917. loss: 0.4437456466660434\n",
      "beginning epoch n°918\n",
      "end of epoch n°918. loss: 0.44373879614563777\n",
      "beginning epoch n°919\n",
      "end of epoch n°919. loss: 0.44373195327799647\n",
      "beginning epoch n°920\n",
      "end of epoch n°920. loss: 0.4437251180616869\n",
      "beginning epoch n°921\n",
      "end of epoch n°921. loss: 0.4437182904954662\n",
      "beginning epoch n°922\n"
     ]
    },
    {
     "name": "stderr",
     "output_type": "stream",
     "text": [
      "100% (14 of 14) |########################| Elapsed Time: 0:00:00 Time:  0:00:00\n",
      "100% (14 of 14) |########################| Elapsed Time: 0:00:00 Time:  0:00:00\n",
      "100% (14 of 14) |########################| Elapsed Time: 0:00:00 Time:  0:00:00\n",
      "100% (14 of 14) |########################| Elapsed Time: 0:00:00 Time:  0:00:00\n"
     ]
    },
    {
     "name": "stdout",
     "output_type": "stream",
     "text": [
      "end of epoch n°922. loss: 0.4437114705782482\n",
      "beginning epoch n°923\n",
      "end of epoch n°923. loss: 0.44370465830907685\n",
      "beginning epoch n°924\n",
      "end of epoch n°924. loss: 0.44369785368710096\n",
      "beginning epoch n°925\n",
      "end of epoch n°925. loss: 0.4436910589183296\n",
      "beginning epoch n°926\n",
      "end of epoch n°926. loss: 0.44368451861630226"
     ]
    },
    {
     "name": "stderr",
     "output_type": "stream",
     "text": [
      "100% (14 of 14) |########################| Elapsed Time: 0:00:00 Time:  0:00:00\n",
      "100% (14 of 14) |########################| Elapsed Time: 0:00:00 Time:  0:00:00\n",
      "100% (14 of 14) |########################| Elapsed Time: 0:00:00 Time:  0:00:00\n",
      "100% (14 of 14) |########################| Elapsed Time: 0:00:00 Time:  0:00:00\n",
      "100% (14 of 14) |########################| Elapsed Time: 0:00:00 Time:  0:00:00\n",
      "100% (14 of 14) |########################| Elapsed Time: 0:00:00 Time:  0:00:00\n",
      "100% (14 of 14) |########################| Elapsed Time: 0:00:00 Time:  0:00:00\n"
     ]
    },
    {
     "name": "stdout",
     "output_type": "stream",
     "text": [
      "\n",
      "beginning epoch n°927\n",
      "end of epoch n°927. loss: 0.44367762381943265\n",
      "beginning epoch n°928\n",
      "end of epoch n°928. loss: 0.44367081425109556\n",
      "beginning epoch n°929\n",
      "end of epoch n°929. loss: 0.44366403224845546\n",
      "beginning epoch n°930\n",
      "end of epoch n°930. loss: 0.4436572650593316\n",
      "beginning epoch n°931\n",
      "end of epoch n°931. loss: 0.44365050830456637\n",
      "beginning epoch n°932\n",
      "end of epoch n°932. loss: 0.4436437603924342\n",
      "beginning epoch n°933\n",
      "end of epoch n°933. loss: 0.4436370207287274"
     ]
    },
    {
     "name": "stderr",
     "output_type": "stream",
     "text": [
      "100% (14 of 14) |########################| Elapsed Time: 0:00:00 Time:  0:00:00\n",
      "100% (14 of 14) |########################| Elapsed Time: 0:00:00 Time:  0:00:00\n",
      "100% (14 of 14) |########################| Elapsed Time: 0:00:00 Time:  0:00:00\n",
      "100% (14 of 14) |########################| Elapsed Time: 0:00:00 Time:  0:00:00\n",
      "100% (14 of 14) |########################| Elapsed Time: 0:00:00 Time:  0:00:00\n",
      "N/A% (0 of 14) |                         | Elapsed Time: 0:00:00 ETA:  --:--:--"
     ]
    },
    {
     "name": "stdout",
     "output_type": "stream",
     "text": [
      "\n",
      "beginning epoch n°934\n",
      "end of epoch n°934. loss: 0.4436302890844839\n",
      "beginning epoch n°935\n",
      "end of epoch n°935. loss: 0.44362356536467645\n",
      "beginning epoch n°936\n",
      "end of epoch n°936. loss: 0.44361684952283\n",
      "beginning epoch n°937\n",
      "end of epoch n°937. loss: 0.443610141530018\n",
      "beginning epoch n°938\n",
      "end of epoch n°938. loss: 0.44360344136406527\n",
      "beginning epoch n°939\n"
     ]
    },
    {
     "name": "stderr",
     "output_type": "stream",
     "text": [
      "100% (14 of 14) |########################| Elapsed Time: 0:00:00 Time:  0:00:00\n",
      "100% (14 of 14) |########################| Elapsed Time: 0:00:00 Time:  0:00:00\n",
      "100% (14 of 14) |########################| Elapsed Time: 0:00:00 Time:  0:00:00\n",
      "100% (14 of 14) |########################| Elapsed Time: 0:00:00 Time:  0:00:00\n",
      "100% (14 of 14) |########################| Elapsed Time: 0:00:00 Time:  0:00:00\n",
      "100% (14 of 14) |########################| Elapsed Time: 0:00:00 Time:  0:00:00\n",
      "100% (14 of 14) |########################| Elapsed Time: 0:00:00 Time:  0:00:00\n",
      "100% (14 of 14) |########################| Elapsed Time: 0:00:00 Time:  0:00:00\n"
     ]
    },
    {
     "name": "stdout",
     "output_type": "stream",
     "text": [
      "end of epoch n°939. loss: 0.4435967490060325\n",
      "beginning epoch n°940\n",
      "end of epoch n°940. loss: 0.44359006443915766\n",
      "beginning epoch n°941\n",
      "end of epoch n°941. loss: 0.4435833876485246\n",
      "beginning epoch n°942\n",
      "end of epoch n°942. loss: 0.4435767186208912\n",
      "beginning epoch n°943\n",
      "end of epoch n°943. loss: 0.44357005734452615\n",
      "beginning epoch n°944\n",
      "end of epoch n°944. loss: 0.44356340380902615\n",
      "beginning epoch n°945\n",
      "end of epoch n°945. loss: 0.44355675800513283\n",
      "beginning epoch n°946\n",
      "end of epoch n°946. loss: 0.443550119924557"
     ]
    },
    {
     "name": "stderr",
     "output_type": "stream",
     "text": [
      "100% (14 of 14) |########################| Elapsed Time: 0:00:00 Time:  0:00:00\n",
      "100% (14 of 14) |########################| Elapsed Time: 0:00:00 Time:  0:00:00\n",
      "100% (14 of 14) |########################| Elapsed Time: 0:00:00 Time:  0:00:00\n",
      "100% (14 of 14) |########################| Elapsed Time: 0:00:00 Time:  0:00:00\n",
      "100% (14 of 14) |########################| Elapsed Time: 0:00:00 Time:  0:00:00\n",
      "100% (14 of 14) |########################| Elapsed Time: 0:00:00 Time:  0:00:00"
     ]
    },
    {
     "name": "stdout",
     "output_type": "stream",
     "text": [
      "\n",
      "beginning epoch n°947\n",
      "end of epoch n°947. loss: 0.443543489559821\n",
      "beginning epoch n°948\n",
      "end of epoch n°948. loss: 0.4435368669041225\n",
      "beginning epoch n°949\n",
      "end of epoch n°949. loss: 0.44353025195121965\n",
      "beginning epoch n°950\n",
      "end of epoch n°950. loss: 0.4435236446953358\n",
      "beginning epoch n°951\n",
      "end of epoch n°951. loss: 0.44351704513108087\n",
      "beginning epoch n°952\n"
     ]
    },
    {
     "name": "stderr",
     "output_type": "stream",
     "text": [
      "\n",
      "100% (14 of 14) |########################| Elapsed Time: 0:00:00 Time:  0:00:00\n",
      "100% (14 of 14) |########################| Elapsed Time: 0:00:00 Time:  0:00:00\n",
      "100% (14 of 14) |########################| Elapsed Time: 0:00:00 Time:  0:00:00\n",
      "100% (14 of 14) |########################| Elapsed Time: 0:00:00 Time:  0:00:00\n",
      "N/A% (0 of 14) |                         | Elapsed Time: 0:00:00 ETA:  --:--:--"
     ]
    },
    {
     "name": "stdout",
     "output_type": "stream",
     "text": [
      "end of epoch n°952. loss: 0.44351045325338634\n",
      "beginning epoch n°953\n",
      "end of epoch n°953. loss: 0.44350386905745254\n",
      "beginning epoch n°954\n",
      "end of epoch n°954. loss: 0.44349729253870585\n",
      "beginning epoch n°955\n",
      "end of epoch n°955. loss: 0.4434907236927619\n",
      "beginning epoch n°956\n",
      "end of epoch n°956. loss: 0.4434841625153967\n",
      "beginning epoch n°957\n"
     ]
    },
    {
     "name": "stderr",
     "output_type": "stream",
     "text": [
      "100% (14 of 14) |########################| Elapsed Time: 0:00:00 Time:  0:00:00\n",
      "100% (14 of 14) |########################| Elapsed Time: 0:00:00 Time:  0:00:00\n",
      "100% (14 of 14) |########################| Elapsed Time: 0:00:00 Time:  0:00:00\n",
      "100% (14 of 14) |########################| Elapsed Time: 0:00:00 Time:  0:00:00\n",
      "100% (14 of 14) |########################| Elapsed Time: 0:00:00 Time:  0:00:00\n",
      "100% (14 of 14) |########################| Elapsed Time: 0:00:00 Time:  0:00:00\n",
      "N/A% (0 of 14) |                         | Elapsed Time: 0:00:00 ETA:  --:--:--"
     ]
    },
    {
     "name": "stdout",
     "output_type": "stream",
     "text": [
      "end of epoch n°957. loss: 0.4434776090025217\n",
      "beginning epoch n°958\n",
      "end of epoch n°958. loss: 0.4434710631501629\n",
      "beginning epoch n°959\n",
      "end of epoch n°959. loss: 0.44346452761190136\n",
      "beginning epoch n°960\n",
      "end of epoch n°960. loss: 0.44345823158465303\n",
      "beginning epoch n°961\n",
      "end of epoch n°961. loss: 0.4434515998055493\n",
      "beginning epoch n°962\n",
      "end of epoch n°962. loss: 0.4434450512531587\n",
      "beginning epoch n°963\n"
     ]
    },
    {
     "name": "stderr",
     "output_type": "stream",
     "text": [
      "100% (14 of 14) |########################| Elapsed Time: 0:00:00 Time:  0:00:00\n",
      "100% (14 of 14) |########################| Elapsed Time: 0:00:00 Time:  0:00:00\n",
      "100% (14 of 14) |########################| Elapsed Time: 0:00:00 Time:  0:00:00\n",
      "100% (14 of 14) |########################| Elapsed Time: 0:00:00 Time:  0:00:00\n",
      "100% (14 of 14) |########################| Elapsed Time: 0:00:00 Time:  0:00:00\n",
      "100% (14 of 14) |########################| Elapsed Time: 0:00:00 Time:  0:00:00\n",
      "100% (14 of 14) |########################| Elapsed Time: 0:00:00 Time:  0:00:00\n",
      "N/A% (0 of 14) |                         | Elapsed Time: 0:00:00 ETA:  --:--:--"
     ]
    },
    {
     "name": "stdout",
     "output_type": "stream",
     "text": [
      "end of epoch n°963. loss: 0.4434385293726056\n",
      "beginning epoch n°964\n",
      "end of epoch n°964. loss: 0.443432021808532\n",
      "beginning epoch n°965\n",
      "end of epoch n°965. loss: 0.4434255244110941\n",
      "beginning epoch n°966\n",
      "end of epoch n°966. loss: 0.44341903570339425\n",
      "beginning epoch n°967\n",
      "end of epoch n°967. loss: 0.4434125551466304\n",
      "beginning epoch n°968\n",
      "end of epoch n°968. loss: 0.4434060825384904\n",
      "beginning epoch n°969\n",
      "end of epoch n°969. loss: 0.44339961779681514\n",
      "beginning epoch n°970\n"
     ]
    },
    {
     "name": "stderr",
     "output_type": "stream",
     "text": [
      "100% (14 of 14) |########################| Elapsed Time: 0:00:00 Time:  0:00:00\n",
      "100% (14 of 14) |########################| Elapsed Time: 0:00:00 Time:  0:00:00\n",
      "100% (14 of 14) |########################| Elapsed Time: 0:00:00 Time:  0:00:00\n",
      "100% (14 of 14) |########################| Elapsed Time: 0:00:00 Time:  0:00:00\n",
      "100% (14 of 14) |########################| Elapsed Time: 0:00:00 Time:  0:00:00\n",
      "100% (14 of 14) |########################| Elapsed Time: 0:00:00 Time:  0:00:00\n",
      "N/A% (0 of 14) |                         | Elapsed Time: 0:00:00 ETA:  --:--:--"
     ]
    },
    {
     "name": "stdout",
     "output_type": "stream",
     "text": [
      "end of epoch n°970. loss: 0.44339316088129166\n",
      "beginning epoch n°971\n",
      "end of epoch n°971. loss: 0.44338671176578004\n",
      "beginning epoch n°972\n",
      "end of epoch n°972. loss: 0.44338027042910005\n",
      "beginning epoch n°973\n",
      "end of epoch n°973. loss: 0.4433738368522851\n",
      "beginning epoch n°974\n",
      "end of epoch n°974. loss: 0.44336741101791155\n",
      "beginning epoch n°975\n",
      "end of epoch n°975. loss: 0.44336099290997644\n",
      "beginning epoch n°976\n"
     ]
    },
    {
     "name": "stderr",
     "output_type": "stream",
     "text": [
      "100% (14 of 14) |########################| Elapsed Time: 0:00:00 Time:  0:00:00\n",
      "100% (14 of 14) |########################| Elapsed Time: 0:00:00 Time:  0:00:00\n",
      "100% (14 of 14) |########################| Elapsed Time: 0:00:00 Time:  0:00:00\n",
      "100% (14 of 14) |########################| Elapsed Time: 0:00:00 Time:  0:00:00\n",
      "100% (14 of 14) |########################| Elapsed Time: 0:00:00 Time:  0:00:00\n",
      "100% (14 of 14) |########################| Elapsed Time: 0:00:00 Time:  0:00:00\n"
     ]
    },
    {
     "name": "stdout",
     "output_type": "stream",
     "text": [
      "end of epoch n°976. loss: 0.4433545825138484\n",
      "beginning epoch n°977\n",
      "end of epoch n°977. loss: 0.4433481798161803\n",
      "beginning epoch n°978\n",
      "end of epoch n°978. loss: 0.4433417848047836\n",
      "beginning epoch n°979\n",
      "end of epoch n°979. loss: 0.44333539746848183\n",
      "beginning epoch n°980\n",
      "end of epoch n°980. loss: 0.4433290177969668\n",
      "beginning epoch n°981\n",
      "end of epoch n°981. loss: 0.4433226457806639"
     ]
    },
    {
     "name": "stderr",
     "output_type": "stream",
     "text": [
      "100% (14 of 14) |########################| Elapsed Time: 0:00:00 Time:  0:00:00\n",
      "100% (14 of 14) |########################| Elapsed Time: 0:00:00 Time:  0:00:00\n",
      "100% (14 of 14) |########################| Elapsed Time: 0:00:00 Time:  0:00:00\n",
      "100% (14 of 14) |########################| Elapsed Time: 0:00:00 Time:  0:00:00\n",
      "100% (14 of 14) |########################| Elapsed Time: 0:00:00 Time:  0:00:00\n",
      "100% (14 of 14) |########################| Elapsed Time: 0:00:00 Time:  0:00:00\n",
      "100% (14 of 14) |########################| Elapsed Time: 0:00:00 Time:  0:00:00\n",
      "100% (14 of 14) |########################| Elapsed Time: 0:00:00 Time:  0:00:00\n"
     ]
    },
    {
     "name": "stdout",
     "output_type": "stream",
     "text": [
      "\n",
      "beginning epoch n°982\n",
      "end of epoch n°982. loss: 0.44331628141061435\n",
      "beginning epoch n°983\n",
      "end of epoch n°983. loss: 0.44330992467837615\n",
      "beginning epoch n°984\n",
      "end of epoch n°984. loss: 0.4433035755759383\n",
      "beginning epoch n°985\n",
      "end of epoch n°985. loss: 0.4432972340956523\n",
      "beginning epoch n°986\n",
      "end of epoch n°986. loss: 0.4432909002301756\n",
      "beginning epoch n°987\n",
      "end of epoch n°987. loss: 0.4432845739724231\n",
      "beginning epoch n°988\n",
      "end of epoch n°988. loss: 0.44327825531552983\n",
      "beginning epoch n°989\n"
     ]
    },
    {
     "name": "stderr",
     "output_type": "stream",
     "text": [
      "100% (14 of 14) |########################| Elapsed Time: 0:00:00 Time:  0:00:00\n",
      "100% (14 of 14) |########################| Elapsed Time: 0:00:00 Time:  0:00:00\n",
      "100% (14 of 14) |########################| Elapsed Time: 0:00:00 Time:  0:00:00\n",
      "100% (14 of 14) |########################| Elapsed Time: 0:00:00 Time:  0:00:00\n",
      "100% (14 of 14) |########################| Elapsed Time: 0:00:00 Time:  0:00:00\n"
     ]
    },
    {
     "name": "stdout",
     "output_type": "stream",
     "text": [
      "end of epoch n°989. loss: 0.44327194425281746\n",
      "beginning epoch n°990\n",
      "end of epoch n°990. loss: 0.44326564077776953\n",
      "beginning epoch n°991\n",
      "end of epoch n°991. loss: 0.4432593448840075\n",
      "beginning epoch n°992\n",
      "end of epoch n°992. loss: 0.44325305656527303\n",
      "beginning epoch n°993\n",
      "end of epoch n°993. loss: 0.4432467790740263\n",
      "beginning epoch n°994\n"
     ]
    },
    {
     "name": "stderr",
     "output_type": "stream",
     "text": [
      "100% (14 of 14) |########################| Elapsed Time: 0:00:00 Time:  0:00:00\n",
      "100% (14 of 14) |########################| Elapsed Time: 0:00:00 Time:  0:00:00\n",
      "100% (14 of 14) |########################| Elapsed Time: 0:00:00 Time:  0:00:00\n",
      "N/A% (0 of 14) |                         | Elapsed Time: 0:00:00 ETA:  --:--:--"
     ]
    },
    {
     "name": "stdout",
     "output_type": "stream",
     "text": [
      "end of epoch n°994. loss: 0.44324072707907436\n",
      "beginning epoch n°995\n",
      "end of epoch n°995. loss: 0.44323435643565395\n",
      "beginning epoch n°996\n",
      "end of epoch n°996. loss: 0.44322806706605716\n",
      "beginning epoch n°997\n",
      "end of epoch n°997. loss: 0.44322180344709006\n",
      "beginning epoch n°998\n"
     ]
    },
    {
     "name": "stderr",
     "output_type": "stream",
     "text": [
      "100% (14 of 14) |########################| Elapsed Time: 0:00:00 Time:  0:00:00\n",
      "100% (14 of 14) |########################| Elapsed Time: 0:00:00 Time:  0:00:00\n",
      "100% (14 of 14) |########################| Elapsed Time: 0:00:00 Time:  0:00:00\n"
     ]
    },
    {
     "name": "stdout",
     "output_type": "stream",
     "text": [
      "end of epoch n°998. loss: 0.4432155535996556\n",
      "beginning epoch n°999\n",
      "end of epoch n°999. loss: 0.44320931358630283\n",
      "beginning epoch n°1000\n",
      "end of epoch n°1000. loss: 0.4432030820346609\n"
     ]
    }
   ],
   "source": [
    "my_nn=handmade_nn(input_dim = 2)\n",
    "my_nn.add_dense_layer(3, 'relu', weights_initializer= 'glorot_uniform')\n",
    "my_nn.add_dense_layer(3, 'relu', weights_initializer= 'glorot_uniform')\n",
    "my_nn.add_dense_layer(1, 'sigmoid', weights_initializer= 'glorot_uniform')\n",
    "my_nn.fit(X_circle, y_circle, loss='binary_crossentropy', learning_rate=0.5, batch_size=7, n_epochs=1000)"
   ]
  },
  {
   "cell_type": "markdown",
   "metadata": {},
   "source": [
    "## keras"
   ]
  },
  {
   "cell_type": "code",
   "execution_count": 29,
   "metadata": {
    "ExecuteTime": {
     "end_time": "2021-01-21T12:50:11.329882Z",
     "start_time": "2021-01-21T12:50:01.530505Z"
    },
    "collapsed": true
   },
   "outputs": [
    {
     "name": "stdout",
     "output_type": "stream",
     "text": [
      "Epoch 1/100\n",
      "15/15 [==============================] - 0s 7ms/step - loss: 0.7249\n",
      "Epoch 2/100\n",
      "15/15 [==============================] - 0s 3ms/step - loss: 0.7230\n",
      "Epoch 3/100\n",
      "15/15 [==============================] - 0s 11ms/step - loss: 0.7205\n",
      "Epoch 4/100\n",
      "15/15 [==============================] - 0s 5ms/step - loss: 0.7184\n",
      "Epoch 5/100\n",
      "15/15 [==============================] - 0s 6ms/step - loss: 0.7167\n",
      "Epoch 6/100\n",
      "15/15 [==============================] - 0s 6ms/step - loss: 0.7153\n",
      "Epoch 7/100\n",
      "15/15 [==============================] - 0s 3ms/step - loss: 0.7143\n",
      "Epoch 8/100\n",
      "15/15 [==============================] - 0s 5ms/step - loss: 0.7130\n",
      "Epoch 9/100\n",
      "15/15 [==============================] - 0s 4ms/step - loss: 0.7118\n",
      "Epoch 10/100\n",
      "15/15 [==============================] - 0s 4ms/step - loss: 0.7109\n",
      "Epoch 11/100\n",
      "15/15 [==============================] - 0s 2ms/step - loss: 0.7099\n",
      "Epoch 12/100\n",
      "15/15 [==============================] - 0s 4ms/step - loss: 0.7093\n",
      "Epoch 13/100\n",
      "15/15 [==============================] - 0s 10ms/step - loss: 0.7085\n",
      "Epoch 14/100\n",
      "15/15 [==============================] - 0s 3ms/step - loss: 0.7083\n",
      "Epoch 15/100\n",
      "15/15 [==============================] - 0s 5ms/step - loss: 0.7079\n",
      "Epoch 16/100\n",
      "15/15 [==============================] - 0s 8ms/step - loss: 0.7074\n",
      "Epoch 17/100\n",
      "15/15 [==============================] - 0s 6ms/step - loss: 0.7071\n",
      "Epoch 18/100\n",
      "15/15 [==============================] - 0s 2ms/step - loss: 0.7067\n",
      "Epoch 19/100\n",
      "15/15 [==============================] - 0s 9ms/step - loss: 0.7060\n",
      "Epoch 20/100\n",
      "15/15 [==============================] - 0s 4ms/step - loss: 0.7057\n",
      "Epoch 21/100\n",
      "15/15 [==============================] - 0s 2ms/step - loss: 0.7052\n",
      "Epoch 22/100\n",
      "15/15 [==============================] - 0s 3ms/step - loss: 0.7050\n",
      "Epoch 23/100\n",
      "15/15 [==============================] - 0s 5ms/step - loss: 0.7049\n",
      "Epoch 24/100\n",
      "15/15 [==============================] - 0s 4ms/step - loss: 0.7044\n",
      "Epoch 25/100\n",
      "15/15 [==============================] - 0s 11ms/step - loss: 0.7040\n",
      "Epoch 26/100\n",
      "15/15 [==============================] - 0s 12ms/step - loss: 0.7038\n",
      "Epoch 27/100\n",
      "15/15 [==============================] - 0s 5ms/step - loss: 0.7037\n",
      "Epoch 28/100\n",
      "15/15 [==============================] - 0s 5ms/step - loss: 0.7033\n",
      "Epoch 29/100\n",
      "15/15 [==============================] - 0s 4ms/step - loss: 0.7029\n",
      "Epoch 30/100\n",
      "15/15 [==============================] - 0s 3ms/step - loss: 0.7027\n",
      "Epoch 31/100\n",
      "15/15 [==============================] - 0s 11ms/step - loss: 0.7026\n",
      "Epoch 32/100\n",
      "15/15 [==============================] - 0s 3ms/step - loss: 0.7023\n",
      "Epoch 33/100\n",
      "15/15 [==============================] - 0s 9ms/step - loss: 0.7021\n",
      "Epoch 34/100\n",
      "15/15 [==============================] - 0s 4ms/step - loss: 0.7018\n",
      "Epoch 35/100\n",
      "15/15 [==============================] - 0s 5ms/step - loss: 0.7015\n",
      "Epoch 36/100\n",
      "15/15 [==============================] - 0s 6ms/step - loss: 0.7013\n",
      "Epoch 37/100\n",
      "15/15 [==============================] - 0s 7ms/step - loss: 0.7012A: 0s - loss: 0.705\n",
      "Epoch 38/100\n",
      "15/15 [==============================] - 0s 4ms/step - loss: 0.7011\n",
      "Epoch 39/100\n",
      "15/15 [==============================] - 0s 4ms/step - loss: 0.7008\n",
      "Epoch 40/100\n",
      "15/15 [==============================] - 0s 6ms/step - loss: 0.7006\n",
      "Epoch 41/100\n",
      "15/15 [==============================] - 0s 3ms/step - loss: 0.7003\n",
      "Epoch 42/100\n",
      "15/15 [==============================] - 0s 5ms/step - loss: 0.7002\n",
      "Epoch 43/100\n",
      "15/15 [==============================] - 0s 6ms/step - loss: 0.7000\n",
      "Epoch 44/100\n",
      "15/15 [==============================] - 0s 3ms/step - loss: 0.6998\n",
      "Epoch 45/100\n",
      "15/15 [==============================] - 0s 5ms/step - loss: 0.6997\n",
      "Epoch 46/100\n",
      "15/15 [==============================] - 0s 3ms/step - loss: 0.6995\n",
      "Epoch 47/100\n",
      "15/15 [==============================] - 0s 4ms/step - loss: 0.6995\n",
      "Epoch 48/100\n",
      "15/15 [==============================] - 0s 4ms/step - loss: 0.6993\n",
      "Epoch 49/100\n",
      "15/15 [==============================] - 0s 6ms/step - loss: 0.6992\n",
      "Epoch 50/100\n",
      "15/15 [==============================] - 0s 2ms/step - loss: 0.6990\n",
      "Epoch 51/100\n",
      "15/15 [==============================] - 0s 4ms/step - loss: 0.6989\n",
      "Epoch 52/100\n",
      "15/15 [==============================] - 0s 3ms/step - loss: 0.6988\n",
      "Epoch 53/100\n",
      "15/15 [==============================] - 0s 8ms/step - loss: 0.6987\n",
      "Epoch 54/100\n",
      "15/15 [==============================] - 0s 2ms/step - loss: 0.6985\n",
      "Epoch 55/100\n",
      "15/15 [==============================] - 0s 3ms/step - loss: 0.6982\n",
      "Epoch 56/100\n",
      "15/15 [==============================] - 0s 5ms/step - loss: 0.6980\n",
      "Epoch 57/100\n",
      "15/15 [==============================] - 0s 4ms/step - loss: 0.6980\n",
      "Epoch 58/100\n",
      "15/15 [==============================] - 0s 14ms/step - loss: 0.6978\n",
      "Epoch 59/100\n",
      "15/15 [==============================] - 0s 3ms/step - loss: 0.6977\n",
      "Epoch 60/100\n",
      "15/15 [==============================] - 0s 2ms/step - loss: 0.6977\n",
      "Epoch 61/100\n",
      "15/15 [==============================] - 0s 3ms/step - loss: 0.6974\n",
      "Epoch 62/100\n",
      "15/15 [==============================] - 0s 6ms/step - loss: 0.6972\n",
      "Epoch 63/100\n",
      "15/15 [==============================] - 0s 3ms/step - loss: 0.6971\n",
      "Epoch 64/100\n",
      "15/15 [==============================] - 0s 3ms/step - loss: 0.6969\n",
      "Epoch 65/100\n",
      "15/15 [==============================] - 0s 4ms/step - loss: 0.6969\n",
      "Epoch 66/100\n",
      "15/15 [==============================] - 0s 3ms/step - loss: 0.6967\n",
      "Epoch 67/100\n",
      "15/15 [==============================] - 0s 4ms/step - loss: 0.6966\n",
      "Epoch 68/100\n",
      "15/15 [==============================] - 0s 6ms/step - loss: 0.6965\n",
      "Epoch 69/100\n",
      "15/15 [==============================] - 0s 7ms/step - loss: 0.6964\n",
      "Epoch 70/100\n",
      "15/15 [==============================] - 0s 4ms/step - loss: 0.6963\n",
      "Epoch 71/100\n",
      "15/15 [==============================] - 0s 7ms/step - loss: 0.6963\n",
      "Epoch 72/100\n",
      "15/15 [==============================] - 0s 6ms/step - loss: 0.6960\n",
      "Epoch 73/100\n",
      "15/15 [==============================] - 0s 3ms/step - loss: 0.6959\n",
      "Epoch 74/100\n",
      "15/15 [==============================] - 0s 6ms/step - loss: 0.6959\n",
      "Epoch 75/100\n",
      "15/15 [==============================] - 0s 5ms/step - loss: 0.6958\n",
      "Epoch 76/100\n",
      "15/15 [==============================] - 0s 3ms/step - loss: 0.6956\n",
      "Epoch 77/100\n",
      "15/15 [==============================] - 0s 4ms/step - loss: 0.6955\n",
      "Epoch 78/100\n",
      "15/15 [==============================] - 0s 5ms/step - loss: 0.6954\n",
      "Epoch 79/100\n",
      "15/15 [==============================] - 0s 4ms/step - loss: 0.6954\n",
      "Epoch 80/100\n",
      "15/15 [==============================] - 0s 3ms/step - loss: 0.6952\n",
      "Epoch 81/100\n",
      "15/15 [==============================] - 0s 2ms/step - loss: 0.6952\n",
      "Epoch 82/100\n",
      "15/15 [==============================] - 0s 3ms/step - loss: 0.6951\n",
      "Epoch 83/100\n",
      "15/15 [==============================] - 0s 2ms/step - loss: 0.6948\n",
      "Epoch 84/100\n",
      "15/15 [==============================] - 0s 3ms/step - loss: 0.6948\n",
      "Epoch 85/100\n",
      "15/15 [==============================] - 0s 2ms/step - loss: 0.6946\n",
      "Epoch 86/100\n",
      "15/15 [==============================] - 0s 2ms/step - loss: 0.6946\n",
      "Epoch 87/100\n",
      "15/15 [==============================] - 0s 2ms/step - loss: 0.6944\n",
      "Epoch 88/100\n",
      "15/15 [==============================] - 0s 3ms/step - loss: 0.6944\n",
      "Epoch 89/100\n",
      "15/15 [==============================] - 0s 3ms/step - loss: 0.6944\n",
      "Epoch 90/100\n",
      "15/15 [==============================] - 0s 5ms/step - loss: 0.6941\n",
      "Epoch 91/100\n",
      "15/15 [==============================] - 0s 3ms/step - loss: 0.6940\n",
      "Epoch 92/100\n",
      "15/15 [==============================] - 0s 3ms/step - loss: 0.6939\n",
      "Epoch 93/100\n",
      "15/15 [==============================] - 0s 3ms/step - loss: 0.6939\n",
      "Epoch 94/100\n",
      "15/15 [==============================] - 0s 4ms/step - loss: 0.6937\n",
      "Epoch 95/100\n",
      "15/15 [==============================] - 0s 5ms/step - loss: 0.6936\n",
      "Epoch 96/100\n",
      "15/15 [==============================] - 0s 4ms/step - loss: 0.6935\n",
      "Epoch 97/100\n",
      "15/15 [==============================] - 0s 3ms/step - loss: 0.6935\n",
      "Epoch 98/100\n",
      "15/15 [==============================] - 0s 3ms/step - loss: 0.6935\n",
      "Epoch 99/100\n",
      "15/15 [==============================] - 0s 4ms/step - loss: 0.6933\n",
      "Epoch 100/100\n",
      "15/15 [==============================] - 0s 4ms/step - loss: 0.6933\n"
     ]
    },
    {
     "data": {
      "text/plain": [
       "<tensorflow.python.keras.callbacks.History at 0x1400d5650>"
      ]
     },
     "execution_count": 29,
     "metadata": {},
     "output_type": "execute_result"
    }
   ],
   "source": [
    "from tensorflow.keras import layers\n",
    "from tensorflow.keras import models\n",
    "from tensorflow.keras.optimizers import SGD\n",
    "\n",
    "keras_nn=models.Sequential()\n",
    "keras_nn.add(layers.Dense(3, input_dim=2, activation='relu', kernel_initializer='glorot_uniform'))\n",
    "keras_nn.add(layers.Dense(3, activation='relu'))\n",
    "keras_nn.add(layers.Dense(1, activation='sigmoid'))\n",
    "optim=SGD(learning_rate=0.5, momentum=0)\n",
    "keras_nn.compile(loss='binary_crossentropy',optimizer=\"SGD\",)\n",
    "keras_nn.fit(X_circle, y_circle,epochs=100,batch_size=7)"
   ]
  },
  {
   "cell_type": "code",
   "execution_count": 10,
   "metadata": {
    "ExecuteTime": {
     "end_time": "2021-01-21T12:15:17.013852Z",
     "start_time": "2021-01-21T12:15:05.367902Z"
    },
    "collapsed": true
   },
   "outputs": [
    {
     "name": "stdout",
     "output_type": "stream",
     "text": [
      "Epoch 1/100\n",
      " 2/15 [===>..........................] - ETA: 0s - loss: 0.6993WARNING:tensorflow:Callbacks method `on_train_batch_end` is slow compared to the batch time (batch time: 0.0034s vs `on_train_batch_end` time: 0.0859s). Check your callbacks.\n",
      "15/15 [==============================] - 0s 11ms/step - loss: 0.6910\n",
      "Epoch 2/100\n",
      "15/15 [==============================] - 0s 5ms/step - loss: 0.6909\n",
      "Epoch 3/100\n",
      "15/15 [==============================] - 0s 4ms/step - loss: 0.6908\n",
      "Epoch 4/100\n",
      "15/15 [==============================] - 0s 3ms/step - loss: 0.6908\n",
      "Epoch 5/100\n",
      "15/15 [==============================] - 0s 5ms/step - loss: 0.6909\n",
      "Epoch 6/100\n",
      "15/15 [==============================] - 0s 6ms/step - loss: 0.6909\n",
      "Epoch 7/100\n",
      "15/15 [==============================] - 0s 3ms/step - loss: 0.6907\n",
      "Epoch 8/100\n",
      "15/15 [==============================] - 0s 4ms/step - loss: 0.6908\n",
      "Epoch 9/100\n",
      "15/15 [==============================] - 0s 3ms/step - loss: 0.6908\n",
      "Epoch 10/100\n",
      "15/15 [==============================] - 0s 3ms/step - loss: 0.6907\n",
      "Epoch 11/100\n",
      "15/15 [==============================] - 0s 5ms/step - loss: 0.6908\n",
      "Epoch 12/100\n",
      "15/15 [==============================] - 0s 5ms/step - loss: 0.6906\n",
      "Epoch 13/100\n",
      "15/15 [==============================] - 0s 3ms/step - loss: 0.6906\n",
      "Epoch 14/100\n",
      "15/15 [==============================] - 0s 4ms/step - loss: 0.6905\n",
      "Epoch 15/100\n",
      "15/15 [==============================] - 0s 5ms/step - loss: 0.6907\n",
      "Epoch 16/100\n",
      "15/15 [==============================] - 0s 5ms/step - loss: 0.6904\n",
      "Epoch 17/100\n",
      "15/15 [==============================] - 0s 6ms/step - loss: 0.6904\n",
      "Epoch 18/100\n",
      "15/15 [==============================] - 0s 4ms/step - loss: 0.6903\n",
      "Epoch 19/100\n",
      "15/15 [==============================] - 0s 4ms/step - loss: 0.6904\n",
      "Epoch 20/100\n",
      "15/15 [==============================] - 0s 6ms/step - loss: 0.6904\n",
      "Epoch 21/100\n",
      "15/15 [==============================] - 0s 2ms/step - loss: 0.6902\n",
      "Epoch 22/100\n",
      "15/15 [==============================] - 0s 5ms/step - loss: 0.6902\n",
      "Epoch 23/100\n",
      "15/15 [==============================] - 0s 3ms/step - loss: 0.6902\n",
      "Epoch 24/100\n",
      "15/15 [==============================] - 0s 9ms/step - loss: 0.6901\n",
      "Epoch 25/100\n",
      "15/15 [==============================] - 0s 5ms/step - loss: 0.6902\n",
      "Epoch 26/100\n",
      "15/15 [==============================] - 0s 4ms/step - loss: 0.6902\n",
      "Epoch 27/100\n",
      "15/15 [==============================] - 0s 5ms/step - loss: 0.6901\n",
      "Epoch 28/100\n",
      "15/15 [==============================] - 0s 3ms/step - loss: 0.6901\n",
      "Epoch 29/100\n",
      "15/15 [==============================] - 0s 6ms/step - loss: 0.6900\n",
      "Epoch 30/100\n",
      "15/15 [==============================] - 0s 6ms/step - loss: 0.6901\n",
      "Epoch 31/100\n",
      "15/15 [==============================] - 0s 8ms/step - loss: 0.6902\n",
      "Epoch 32/100\n",
      "15/15 [==============================] - 0s 3ms/step - loss: 0.6900\n",
      "Epoch 33/100\n",
      "15/15 [==============================] - 0s 6ms/step - loss: 0.6900\n",
      "Epoch 34/100\n",
      "15/15 [==============================] - 0s 5ms/step - loss: 0.6901\n",
      "Epoch 35/100\n",
      "15/15 [==============================] - 0s 9ms/step - loss: 0.6902\n",
      "Epoch 36/100\n",
      "15/15 [==============================] - 0s 4ms/step - loss: 0.6900\n",
      "Epoch 37/100\n",
      "15/15 [==============================] - 0s 4ms/step - loss: 0.6900\n",
      "Epoch 38/100\n",
      "15/15 [==============================] - 0s 2ms/step - loss: 0.6898\n",
      "Epoch 39/100\n",
      "15/15 [==============================] - 0s 3ms/step - loss: 0.6899\n",
      "Epoch 40/100\n",
      "15/15 [==============================] - 0s 5ms/step - loss: 0.6898\n",
      "Epoch 41/100\n",
      "15/15 [==============================] - 0s 5ms/step - loss: 0.6899\n",
      "Epoch 42/100\n",
      "15/15 [==============================] - 0s 2ms/step - loss: 0.6898\n",
      "Epoch 43/100\n",
      "15/15 [==============================] - 0s 5ms/step - loss: 0.6897\n",
      "Epoch 44/100\n",
      "15/15 [==============================] - 0s 5ms/step - loss: 0.6897\n",
      "Epoch 45/100\n",
      "15/15 [==============================] - 0s 3ms/step - loss: 0.6897\n",
      "Epoch 46/100\n",
      "15/15 [==============================] - 0s 3ms/step - loss: 0.6898\n",
      "Epoch 47/100\n",
      "15/15 [==============================] - 0s 5ms/step - loss: 0.6898\n",
      "Epoch 48/100\n",
      "15/15 [==============================] - 0s 5ms/step - loss: 0.6896\n",
      "Epoch 49/100\n",
      "15/15 [==============================] - 0s 3ms/step - loss: 0.6897\n",
      "Epoch 50/100\n",
      "15/15 [==============================] - 0s 5ms/step - loss: 0.6897\n",
      "Epoch 51/100\n",
      "15/15 [==============================] - 0s 2ms/step - loss: 0.6896\n",
      "Epoch 52/100\n",
      "15/15 [==============================] - 0s 4ms/step - loss: 0.6895\n",
      "Epoch 53/100\n",
      "15/15 [==============================] - 0s 6ms/step - loss: 0.6895\n",
      "Epoch 54/100\n",
      "15/15 [==============================] - 0s 4ms/step - loss: 0.6896\n",
      "Epoch 55/100\n",
      "15/15 [==============================] - 0s 3ms/step - loss: 0.6895\n",
      "Epoch 56/100\n",
      "15/15 [==============================] - ETA: 0s - loss: 0.691 - 0s 6ms/step - loss: 0.6894\n",
      "Epoch 57/100\n",
      "15/15 [==============================] - 0s 2ms/step - loss: 0.6895\n",
      "Epoch 58/100\n",
      "15/15 [==============================] - 0s 3ms/step - loss: 0.6893\n",
      "Epoch 59/100\n",
      "15/15 [==============================] - 0s 3ms/step - loss: 0.6892\n",
      "Epoch 60/100\n",
      "15/15 [==============================] - 0s 12ms/step - loss: 0.6894\n",
      "Epoch 61/100\n",
      "15/15 [==============================] - 0s 4ms/step - loss: 0.6893\n",
      "Epoch 62/100\n",
      "15/15 [==============================] - 0s 4ms/step - loss: 0.6895\n",
      "Epoch 63/100\n",
      "15/15 [==============================] - 0s 5ms/step - loss: 0.6893\n",
      "Epoch 64/100\n",
      "15/15 [==============================] - 0s 4ms/step - loss: 0.6894\n",
      "Epoch 65/100\n",
      "15/15 [==============================] - 0s 5ms/step - loss: 0.6892\n",
      "Epoch 66/100\n",
      "15/15 [==============================] - 0s 5ms/step - loss: 0.6892\n",
      "Epoch 67/100\n",
      "15/15 [==============================] - 0s 9ms/step - loss: 0.6892\n",
      "Epoch 68/100\n",
      "15/15 [==============================] - 0s 5ms/step - loss: 0.6892\n",
      "Epoch 69/100\n",
      "15/15 [==============================] - 0s 5ms/step - loss: 0.6890\n",
      "Epoch 70/100\n",
      "15/15 [==============================] - 0s 11ms/step - loss: 0.6891\n",
      "Epoch 71/100\n",
      "15/15 [==============================] - 0s 3ms/step - loss: 0.6890\n",
      "Epoch 72/100\n",
      "15/15 [==============================] - 0s 4ms/step - loss: 0.6889\n",
      "Epoch 73/100\n",
      "15/15 [==============================] - 0s 6ms/step - loss: 0.6890\n",
      "Epoch 74/100\n",
      "15/15 [==============================] - 0s 6ms/step - loss: 0.6890\n",
      "Epoch 75/100\n",
      "15/15 [==============================] - 0s 4ms/step - loss: 0.6890\n",
      "Epoch 76/100\n",
      "15/15 [==============================] - 0s 6ms/step - loss: 0.6889\n",
      "Epoch 77/100\n",
      "15/15 [==============================] - 0s 4ms/step - loss: 0.6891A: 0s - loss: 0.689\n",
      "Epoch 78/100\n",
      "15/15 [==============================] - 0s 3ms/step - loss: 0.6889\n",
      "Epoch 79/100\n",
      "15/15 [==============================] - 0s 5ms/step - loss: 0.6888\n",
      "Epoch 80/100\n",
      "15/15 [==============================] - 0s 4ms/step - loss: 0.6889\n",
      "Epoch 81/100\n",
      "15/15 [==============================] - 0s 7ms/step - loss: 0.6888\n",
      "Epoch 82/100\n",
      "15/15 [==============================] - 0s 5ms/step - loss: 0.6888\n",
      "Epoch 83/100\n",
      "15/15 [==============================] - 0s 3ms/step - loss: 0.6888\n",
      "Epoch 84/100\n",
      "15/15 [==============================] - 0s 4ms/step - loss: 0.6887\n",
      "Epoch 85/100\n",
      "15/15 [==============================] - 0s 3ms/step - loss: 0.6887\n",
      "Epoch 86/100\n",
      "15/15 [==============================] - 0s 3ms/step - loss: 0.6886\n",
      "Epoch 87/100\n",
      "15/15 [==============================] - 0s 6ms/step - loss: 0.6887\n",
      "Epoch 88/100\n",
      "15/15 [==============================] - 0s 5ms/step - loss: 0.6887\n",
      "Epoch 89/100\n",
      "15/15 [==============================] - 0s 3ms/step - loss: 0.6885\n",
      "Epoch 90/100\n",
      "15/15 [==============================] - 0s 4ms/step - loss: 0.6884\n",
      "Epoch 91/100\n",
      "15/15 [==============================] - 0s 5ms/step - loss: 0.6885\n",
      "Epoch 92/100\n",
      "15/15 [==============================] - 0s 6ms/step - loss: 0.6885\n",
      "Epoch 93/100\n",
      "15/15 [==============================] - 0s 8ms/step - loss: 0.6885\n",
      "Epoch 94/100\n",
      "15/15 [==============================] - 0s 3ms/step - loss: 0.6884\n",
      "Epoch 95/100\n",
      "15/15 [==============================] - 0s 5ms/step - loss: 0.6883\n",
      "Epoch 96/100\n",
      "15/15 [==============================] - 0s 5ms/step - loss: 0.6884\n",
      "Epoch 97/100\n",
      "15/15 [==============================] - 0s 3ms/step - loss: 0.6883\n",
      "Epoch 98/100\n",
      "15/15 [==============================] - 0s 5ms/step - loss: 0.6882\n",
      "Epoch 99/100\n",
      "15/15 [==============================] - 0s 9ms/step - loss: 0.6882\n",
      "Epoch 100/100\n",
      "15/15 [==============================] - 0s 3ms/step - loss: 0.6882\n"
     ]
    },
    {
     "data": {
      "text/plain": [
       "<tensorflow.python.keras.callbacks.History at 0x13f7c7610>"
      ]
     },
     "execution_count": 10,
     "metadata": {},
     "output_type": "execute_result"
    }
   ],
   "source": [
    "from tensorflow.keras import layers\n",
    "from tensorflow.keras import models\n",
    "from tensorflow.keras.optimizers import SGD\n",
    "\n",
    "keras_nn=models.Sequential()\n",
    "keras_nn.add(layers.Dense(3, input_dim=2, activation='relu'))\n",
    "keras_nn.add(layers.Dense(3, activation='relu'))\n",
    "keras_nn.add(layers.Dense(1, activation='sigmoid'))\n",
    "optim=SGD(learning_rate=0.1, momentum=0)\n",
    "keras_nn.compile(loss='binary_crossentropy',optimizer=\"SGD\",)\n",
    "keras_nn.fit(X_circle, y_circle,epochs=100,batch_size=7)"
   ]
  },
  {
   "cell_type": "code",
   "execution_count": 8,
   "metadata": {
    "ExecuteTime": {
     "end_time": "2021-01-21T12:04:37.798023Z",
     "start_time": "2021-01-21T12:04:37.783698Z"
    }
   },
   "outputs": [
    {
     "data": {
      "text/plain": [
       "[<tf.Variable 'dense_9/kernel:0' shape=(2, 3) dtype=float32, numpy=\n",
       " array([[-0.19070828, -1.0427352 , -0.47327924],\n",
       "        [-0.08126521,  0.53566754, -0.8015432 ]], dtype=float32)>,\n",
       " <tf.Variable 'dense_9/bias:0' shape=(3,) dtype=float32, numpy=array([0., 0., 0.], dtype=float32)>,\n",
       " <tf.Variable 'dense_10/kernel:0' shape=(3, 3) dtype=float32, numpy=\n",
       " array([[-0.00738406, -0.1039865 , -0.8100574 ],\n",
       "        [ 0.4775288 ,  0.88445616,  0.5755501 ],\n",
       "        [-0.97946   , -0.8203008 ,  0.48600554]], dtype=float32)>,\n",
       " <tf.Variable 'dense_10/bias:0' shape=(3,) dtype=float32, numpy=array([0., 0., 0.], dtype=float32)>,\n",
       " <tf.Variable 'dense_11/kernel:0' shape=(3, 1) dtype=float32, numpy=\n",
       " array([[-0.679504  ],\n",
       "        [-1.1575626 ],\n",
       "        [-0.73089635]], dtype=float32)>,\n",
       " <tf.Variable 'dense_11/bias:0' shape=(1,) dtype=float32, numpy=array([0.], dtype=float32)>]"
      ]
     },
     "execution_count": 8,
     "metadata": {},
     "output_type": "execute_result"
    }
   ],
   "source": [
    "keras_nn.weights"
   ]
  },
  {
   "cell_type": "markdown",
   "metadata": {},
   "source": [
    "# Trash section : small tests, to be deleted"
   ]
  },
  {
   "cell_type": "code",
   "execution_count": 2,
   "metadata": {
    "ExecuteTime": {
     "end_time": "2021-01-26T20:17:38.728469Z",
     "start_time": "2021-01-26T20:17:38.719971Z"
    }
   },
   "outputs": [
    {
     "data": {
      "text/plain": [
       "2"
      ]
     },
     "execution_count": 2,
     "metadata": {},
     "output_type": "execute_result"
    }
   ],
   "source": [
    "int((11-1)/10+1)"
   ]
  },
  {
   "cell_type": "code",
   "execution_count": 16,
   "metadata": {
    "ExecuteTime": {
     "end_time": "2021-01-26T20:28:24.872756Z",
     "start_time": "2021-01-26T20:28:24.867449Z"
    }
   },
   "outputs": [],
   "source": [
    "f=np.ones(16)"
   ]
  },
  {
   "cell_type": "code",
   "execution_count": 17,
   "metadata": {
    "ExecuteTime": {
     "end_time": "2021-01-26T20:28:25.156261Z",
     "start_time": "2021-01-26T20:28:25.143316Z"
    }
   },
   "outputs": [
    {
     "name": "stdout",
     "output_type": "stream",
     "text": [
      "[1. 1. 1.]\n",
      "[1. 1. 1.]\n",
      "[1. 1. 1.]\n",
      "[1. 1. 1.]\n",
      "[1. 1. 1.]\n",
      "[1.]\n"
     ]
    }
   ],
   "source": [
    "index=0\n",
    "while index<f.size:\n",
    "    print(f[index:index+3])\n",
    "    index+=3"
   ]
  },
  {
   "cell_type": "code",
   "execution_count": 4,
   "metadata": {
    "ExecuteTime": {
     "end_time": "2021-01-28T22:34:53.553192Z",
     "start_time": "2021-01-28T22:34:53.545894Z"
    }
   },
   "outputs": [],
   "source": [
    "npp=[1,2]"
   ]
  },
  {
   "cell_type": "code",
   "execution_count": 5,
   "metadata": {
    "ExecuteTime": {
     "end_time": "2021-01-28T22:35:18.340625Z",
     "start_time": "2021-01-28T22:35:18.337185Z"
    }
   },
   "outputs": [],
   "source": [
    "df=npp.copy()"
   ]
  },
  {
   "cell_type": "code",
   "execution_count": 6,
   "metadata": {
    "ExecuteTime": {
     "end_time": "2021-01-28T22:35:28.286288Z",
     "start_time": "2021-01-28T22:35:28.270929Z"
    }
   },
   "outputs": [],
   "source": [
    "df[0]=4"
   ]
  },
  {
   "cell_type": "code",
   "execution_count": 7,
   "metadata": {
    "ExecuteTime": {
     "end_time": "2021-01-28T22:35:31.356200Z",
     "start_time": "2021-01-28T22:35:31.324029Z"
    }
   },
   "outputs": [
    {
     "data": {
      "text/plain": [
       "[1, 2]"
      ]
     },
     "execution_count": 7,
     "metadata": {},
     "output_type": "execute_result"
    }
   ],
   "source": [
    "npp"
   ]
  },
  {
   "cell_type": "code",
   "execution_count": 8,
   "metadata": {
    "ExecuteTime": {
     "end_time": "2021-01-28T22:35:33.991461Z",
     "start_time": "2021-01-28T22:35:33.963561Z"
    }
   },
   "outputs": [
    {
     "data": {
      "text/plain": [
       "[4, 2]"
      ]
     },
     "execution_count": 8,
     "metadata": {},
     "output_type": "execute_result"
    }
   ],
   "source": [
    "df"
   ]
  },
  {
   "cell_type": "code",
   "execution_count": 10,
   "metadata": {
    "ExecuteTime": {
     "end_time": "2021-01-28T22:47:21.123245Z",
     "start_time": "2021-01-28T22:47:21.106823Z"
    }
   },
   "outputs": [
    {
     "data": {
      "text/plain": [
       "2.0"
      ]
     },
     "execution_count": 10,
     "metadata": {},
     "output_type": "execute_result"
    }
   ],
   "source": [
    "np.sqrt(4)"
   ]
  },
  {
   "cell_type": "code",
   "execution_count": 12,
   "metadata": {
    "ExecuteTime": {
     "end_time": "2021-01-28T23:00:53.361717Z",
     "start_time": "2021-01-28T23:00:53.336887Z"
    }
   },
   "outputs": [
    {
     "name": "stdout",
     "output_type": "stream",
     "text": [
      "111\n",
      "222\n",
      "333\n"
     ]
    }
   ],
   "source": [
    "lis1=[1,2,3]\n",
    "lis2=[10,20,30]\n",
    "lis3=[100,200,300]\n",
    "for a,b,c in zip(lis1,lis2,lis3):\n",
    "    print(a+b+c)"
   ]
  },
  {
   "cell_type": "code",
   "execution_count": 21,
   "metadata": {
    "ExecuteTime": {
     "end_time": "2021-01-29T14:38:29.649281Z",
     "start_time": "2021-01-29T14:38:28.303157Z"
    }
   },
   "outputs": [
    {
     "data": {
      "text/plain": [
       "[(-1.0, 1.0), (-1.0, 1.0)]"
      ]
     },
     "execution_count": 21,
     "metadata": {},
     "output_type": "execute_result"
    },
    {
     "data": {
      "image/png": "[encoded data removed]",
      "text/plain": [
       "<Figure size 432x288 with 1 Axes>"
      ]
     },
     "metadata": {
      "needs_background": "light"
     },
     "output_type": "display_data"
    }
   ],
   "source": [
    "from sklearn.datasets import make_circles\n",
    "import seaborn as sns\n",
    "X_circle, y_circle = make_circles(n_samples= 100, noise=0.05, factor=0.5,random_state=1)\n",
    "X_circle *= 0.8\n",
    "plot = sns.scatterplot(x= X_circle[:,0], y=X_circle[:,1],hue=y_circle)\n",
    "plot.set(xlim=(-1,1), ylim=(-1,1))"
   ]
  },
  {
   "cell_type": "code",
   "execution_count": 30,
   "metadata": {
    "ExecuteTime": {
     "end_time": "2021-01-29T14:42:19.886528Z",
     "start_time": "2021-01-29T14:42:19.881261Z"
    }
   },
   "outputs": [],
   "source": [
    "model=handmade_nn(2)\n",
    "model.add_dense_layer(4,'tanh')\n",
    "model.add_dense_layer(3,'tanh')\n",
    "model.add_dense_layer(1,'sigmoid')"
   ]
  },
  {
   "cell_type": "code",
   "execution_count": 31,
   "metadata": {
    "ExecuteTime": {
     "end_time": "2021-01-29T14:42:23.201483Z",
     "start_time": "2021-01-29T14:42:21.610850Z"
    }
   },
   "outputs": [
    {
     "name": "stdout",
     "output_type": "stream",
     "text": [
      "initial loss: 0.6943541660953805\n",
      "final loss: 0.6486756628842517\n"
     ]
    }
   ],
   "source": [
    "model.fit(X_circle,y_circle,loss='binary_crossentropy',n_epochs=1000,batch_size=16)"
   ]
  },
  {
   "cell_type": "code",
   "execution_count": 32,
   "metadata": {
    "ExecuteTime": {
     "end_time": "2021-01-29T14:42:44.784322Z",
     "start_time": "2021-01-29T14:42:42.434520Z"
    }
   },
   "outputs": [
    {
     "name": "stdout",
     "output_type": "stream",
     "text": [
      "initial loss: 0.6486756628842517\n",
      "final loss: 0.009061494065794722\n"
     ]
    }
   ],
   "source": [
    "model.fit(X_circle,y_circle,loss='binary_crossentropy',n_epochs=1000,batch_size=16,optimizer='adam')"
   ]
  },
  {
   "cell_type": "code",
   "execution_count": null,
   "metadata": {},
   "outputs": [],
   "source": []
  }
 ],
 "metadata": {
  "kernelspec": {
   "display_name": "Python 3",
   "language": "python",
   "name": "python3"
  },
  "language_info": {
   "codemirror_mode": {
    "name": "ipython",
    "version": 3
   },
   "file_extension": ".py",
   "mimetype": "text/x-python",
   "name": "python",
   "nbconvert_exporter": "python",
   "pygments_lexer": "ipython3",
   "version": "3.7.7"
  },
  "toc": {
   "base_numbering": 1,
   "nav_menu": {},
   "number_sections": true,
   "sideBar": true,
   "skip_h1_title": false,
   "title_cell": "Table of Contents",
   "title_sidebar": "Contents",
   "toc_cell": false,
   "toc_position": {
    "height": "calc(100% - 180px)",
    "left": "10px",
    "top": "150px",
    "width": "349.091px"
   },
   "toc_section_display": true,
   "toc_window_display": true
  }
 },
 "nbformat": 4,
 "nbformat_minor": 4
}

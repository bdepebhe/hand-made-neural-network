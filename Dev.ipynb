{
 "cells": [
  {
   "cell_type": "markdown",
   "metadata": {},
   "source": [
    "# General lib imports"
   ]
  },
  {
   "cell_type": "code",
   "execution_count": 1,
   "metadata": {
    "ExecuteTime": {
     "end_time": "2021-01-15T17:11:26.503043Z",
     "start_time": "2021-01-15T17:11:25.064229Z"
    }
   },
   "outputs": [],
   "source": [
    "import pandas as pd\n",
    "import numpy as np"
   ]
  },
  {
   "cell_type": "markdown",
   "metadata": {},
   "source": [
    "# Code"
   ]
  },
  {
   "cell_type": "markdown",
   "metadata": {},
   "source": [
    "## Functions"
   ]
  },
  {
   "cell_type": "code",
   "execution_count": 2,
   "metadata": {
    "ExecuteTime": {
     "end_time": "2021-01-15T17:11:26.567071Z",
     "start_time": "2021-01-15T17:11:26.517705Z"
    }
   },
   "outputs": [],
   "source": [
    "def compute_activation (X, activation_type):\n",
    "    # Defining activation functions\n",
    "    # Takes a nparray or a single value\n",
    "    # Returns in the same format\n",
    "    X=np.array(X)\n",
    "    if activation_type == 'relu':\n",
    "        return np.maximum(X,0)\n",
    "    elif activation_type == 'sigmoid':\n",
    "        return 1/(1+np.exp(-X))\n",
    "    elif activation_type == 'tanh':\n",
    "        return np.tanh(X)\n",
    "    elif activation_type == 'linear':\n",
    "        return X\n",
    "    elif activation_type == 'softmax':\n",
    "        exp_x = np.exp(X)\n",
    "        return exp_x / exp_x.sum()\n",
    "        \n",
    "    #raise error if unknown type\n",
    "    else:\n",
    "        raise ValueError(f'Unknown activation type {activation_type}.\\\n",
    "                           Supported types : linear, relu, sigmoid, tanh, softmax')"
   ]
  },
  {
   "cell_type": "code",
   "execution_count": 3,
   "metadata": {
    "ExecuteTime": {
     "end_time": "2021-01-15T17:11:26.655181Z",
     "start_time": "2021-01-15T17:11:26.598630Z"
    }
   },
   "outputs": [],
   "source": [
    "def compute_metric (y, y_pred, metric):\n",
    "    # Defining loss and metric functions\n",
    "    # Takes a nparray, a list or a single value\n",
    "    # Always returns a scalar : in case of multioutputs (y.shape[1]>1), \n",
    "    #     uniform average of the errors along axis1\n",
    "        \n",
    "    #converting DataFrames, lists or lists of lists to nparray\n",
    "    y = np.array(y)\n",
    "    y_pred = np.array(y_pred)\n",
    "        \n",
    "    #deal with 1D inputs to forge a n_samples * 1 2D-array\n",
    "    if len(y.shape) == 1:\n",
    "        y = np.expand_dims(y, axis = 1)\n",
    "    if len(y_pred.shape) == 1:\n",
    "        y_pred = np.expand_dims(y_pred, axis = 1)\n",
    "            \n",
    "    #raise errors for unconsistant inputs\n",
    "    if len(y.shape) > 2:\n",
    "        raise ValueError('y vector dimension too high. Must be 2 max')\n",
    "    if len(y_pred.shape) > 2:\n",
    "        raise ValueError('y_pred vector dimension too high. Must be 2 max')\n",
    "    if y.shape != y_pred.shape:\n",
    "        raise ValueError(f'unconsistent vectors dimensions during scoring :\\\n",
    "                           y.shape= {y.shape} and y_pred.shape= {y_pred.shape}')\n",
    "        \n",
    "    #compute loss funtions\n",
    "    if metric == 'mse':\n",
    "        return np.square(y-y_pred).mean()\n",
    "    elif metric == 'mae':\n",
    "        return np.abs(y-y_pred).mean()\n",
    "    elif metric == 'categorical_crossentropy':\n",
    "        return -1/y.shape[0] * (np.multiply(y, np.log(y_pred)).sum())\n",
    "    elif metric == 'binary_crossentropy':\n",
    "        if y.shape[1]>1:\n",
    "            raise ValueError('y vector dimension too high.\\\n",
    "                              Must be 1 max for binary_crossentropy')\n",
    "        return -(y*np.log(y_pred)+(1-y)*np.log(1-y_pred)).mean()\n",
    "        \n",
    "    # compute other metrics functions\n",
    "    ## TODO ## accuracy, f1-score, recall, etc..\n",
    "    else:\n",
    "        raise ValueError(f'Unknown metric {metric}. Supported types :\\\n",
    "                           mse, mae, categorical_crossentropy, binary_crossentropy')"
   ]
  },
  {
   "cell_type": "markdown",
   "metadata": {},
   "source": [
    "## Model class"
   ]
  },
  {
   "cell_type": "code",
   "execution_count": 4,
   "metadata": {
    "ExecuteTime": {
     "end_time": "2021-01-15T17:11:26.717281Z",
     "start_time": "2021-01-15T17:11:26.668080Z"
    }
   },
   "outputs": [],
   "source": [
    "class handmade_nn ():\n",
    "    '''\n",
    "    hand-made version of neural network\n",
    "    so far, the possibilities are :\n",
    "    \n",
    "        - layers activation functions :\n",
    "            'linear', 'relu', 'sigmoid', 'tanh', 'softmax'\n",
    "    \n",
    "        - loss functions :\n",
    "            'mse', 'mae', 'binary_crossentropy', 'categorical_crossentropy'\n",
    "    \n",
    "        - solver :\n",
    "            SGD without momentum\n",
    "    '''\n",
    "    def __init__ (self, input_dim=0, loss=None, learning_rate=0.01, scoring=None):\n",
    "        self.weights=[]\n",
    "        self.bias=[]\n",
    "        self.activation_types=[]\n",
    "        self.input_dim=input_dim\n",
    "        self.loss=loss\n",
    "        self.learning_rate=learning_rate\n",
    "        self.scoring=scoring\n",
    "    \n",
    "    def set_input_dim (self,input_dim):\n",
    "        self.input_dim = input_dim\n",
    "        \n",
    "    def set_loss (self,loss):\n",
    "        self.loss = loss\n",
    "        \n",
    "    def set_learning_rate (self,learning_rate):\n",
    "        self.learning_rate = learning_rate\n",
    "        \n",
    "    def add_dense_layer (self, n_neurons, activation_type):\n",
    "        #check if the input_dim is set\n",
    "        if self.input_dim == 0:\n",
    "            raise ValueError('input_dim = 0 .\\\n",
    "                              Use set_input_dim before creating first layer')\n",
    "            \n",
    "        #get the size of the input os this layer\n",
    "        if len(self.bias) == 0:\n",
    "            previous_dim=self.input_dim\n",
    "        else:\n",
    "            previous_dim=(self.bias[-1].shape[0])\n",
    "            \n",
    "        #initialize the layer parameters \n",
    "        self.weights.append(np.zeros((n_neurons, previous_dim)))\n",
    "        self.bias.append(np.expand_dims(np.zeros(n_neurons), axis=1))\n",
    "        self.activation_types.append(activation_type)\n",
    "        \n",
    "        #test the activation type\n",
    "        compute_activation(0, activation_type)\n",
    "        \n",
    "    def predict (self,X):\n",
    "        #converting DataFrames, lists or lists of lists to nparray\n",
    "        X = np.array(X)\n",
    "        \n",
    "        #deal with 1D inputs to forge a 1 * n_features 2D-array\n",
    "        if len(X.shape) == 1:\n",
    "            X = np.expand_dims(X, axis = 0)\n",
    "            \n",
    "        #raise errors for unconsistant inputs\n",
    "        if len(X.shape) > 2:\n",
    "            raise ValueError('X vector dimension too high. Must be 2 max')\n",
    "        if X.shape[1] != self.input_dim:\n",
    "            raise ValueError(f'Unconsistent number of features.\\\n",
    "                               The network input_dim is {self.input_dim}')\n",
    "            \n",
    "        #compute the prediction\n",
    "        for layer_index, activation_type in enumerate(self.activation_types):\n",
    "            activation_input = np.dot(self.weights[layer_index], X.T)\\\n",
    "                               + self.bias[layer_index]\n",
    "            X = compute_activation(activation_input, activation_type).T\n",
    "        return X\n",
    "            "
   ]
  },
  {
   "cell_type": "markdown",
   "metadata": {},
   "source": [
    "# Tests"
   ]
  },
  {
   "cell_type": "markdown",
   "metadata": {},
   "source": [
    "## compute_activation function tests"
   ]
  },
  {
   "cell_type": "markdown",
   "metadata": {},
   "source": [
    "### test of each available function"
   ]
  },
  {
   "cell_type": "code",
   "execution_count": 5,
   "metadata": {
    "ExecuteTime": {
     "end_time": "2021-01-15T17:11:26.813528Z",
     "start_time": "2021-01-15T17:11:26.763889Z"
    }
   },
   "outputs": [],
   "source": [
    "assert (compute_activation([-2,-1,2,3,4],'relu') ==\\\n",
    "        np.array([[0, 0, 2, 3, 4]]))\\\n",
    "        .all(), \"uncorrect relu function behaviour\"\n",
    "\n",
    "assert (compute_activation([-2,-1,2,3,4],'linear') ==\\\n",
    "        np.array([[-2, -1, 2, 3, 4]]))\\\n",
    "        .all(), \"uncorrect linear function behaviour\"\n",
    "\n",
    "assert (np.round(compute_activation([-2,-1,2,3,4],'sigmoid'), decimals= 8) ==\\\n",
    "        np.array([[0.11920292, 0.26894142, 0.88079708, 0.95257413, 0.98201379]]))\\\n",
    "        .all(), \"uncorrect sigmoid function behaviour\"\n",
    "\n",
    "assert (np.round(compute_activation([-2,-1,2,3,4],'tanh'), decimals= 8) ==\\\n",
    "        np.array([[-0.96402758, -0.76159416,  0.96402758,  0.99505475,  0.9993293]]))\\\n",
    "        .all(), \"uncorrect tanh function behaviour\"\n",
    "\n",
    "assert (np.round(compute_activation([-2,-1,2,3,4],'softmax'), decimals= 8) ==\\\n",
    "        np.array([[0.00163892, 0.00445504, 0.08948193, 0.24323711, 0.66118700]]))\\\n",
    "        .all(), \"uncorrect softmax function behaviour\""
   ]
  },
  {
   "cell_type": "markdown",
   "metadata": {},
   "source": [
    "### raise ValueError for unknown activation type while calling compute_activation"
   ]
  },
  {
   "cell_type": "code",
   "execution_count": 6,
   "metadata": {
    "ExecuteTime": {
     "end_time": "2021-01-15T17:11:26.906761Z",
     "start_time": "2021-01-15T17:11:26.862133Z"
    }
   },
   "outputs": [],
   "source": [
    "from unittest import TestCase\n",
    "\n",
    "test=TestCase()\n",
    "with test.assertRaises(ValueError) as context:\n",
    "    compute_activation(0,'typo_error')\n",
    "assert 'Unknown activation type' in str(context.exception),\\\n",
    "    \"no or wrong Exception raised when inputing an unknown activation_type\\\n",
    "     while calling compute_activation\" "
   ]
  },
  {
   "cell_type": "markdown",
   "metadata": {},
   "source": [
    "## add_dense_layer method tests"
   ]
  },
  {
   "cell_type": "markdown",
   "metadata": {},
   "source": [
    "### raise ValueError if no input_dim"
   ]
  },
  {
   "cell_type": "code",
   "execution_count": 7,
   "metadata": {
    "ExecuteTime": {
     "end_time": "2021-01-15T17:11:26.931769Z",
     "start_time": "2021-01-15T17:11:26.915924Z"
    }
   },
   "outputs": [],
   "source": [
    "from unittest import TestCase\n",
    "my_first_nn=handmade_nn()\n",
    "\n",
    "test=TestCase()\n",
    "with test.assertRaises(ValueError) as context:\n",
    "    my_first_nn.add_dense_layer(5,'relu')\n",
    "assert 'Use set_input_dim before creating first layer'\\\n",
    "       in str(context.exception),\\\n",
    "    \"no or wrong Exception raised when adding first layer\\\n",
    "     to a network without setting input_dim\""
   ]
  },
  {
   "cell_type": "markdown",
   "metadata": {},
   "source": [
    "### raise ValueError for unknown activation type while adding layer"
   ]
  },
  {
   "cell_type": "code",
   "execution_count": 8,
   "metadata": {
    "ExecuteTime": {
     "end_time": "2021-01-15T17:11:26.964455Z",
     "start_time": "2021-01-15T17:11:26.950256Z"
    }
   },
   "outputs": [],
   "source": [
    "from unittest import TestCase\n",
    "my_first_nn=handmade_nn(5)\n",
    "\n",
    "test=TestCase()\n",
    "with test.assertRaises(ValueError) as context:\n",
    "    my_first_nn.add_dense_layer(10,'typo_error')\n",
    "assert 'Unknown activation type' in str(context.exception),\\\n",
    "    \"no or wrong Exception raised when inputing\\\n",
    "     an unknown activation_type while adding layer\"    "
   ]
  },
  {
   "cell_type": "markdown",
   "metadata": {},
   "source": [
    "## predict method tests"
   ]
  },
  {
   "cell_type": "markdown",
   "metadata": {},
   "source": [
    "### handling with a list as an input"
   ]
  },
  {
   "cell_type": "code",
   "execution_count": 9,
   "metadata": {
    "ExecuteTime": {
     "end_time": "2021-01-15T17:11:26.986853Z",
     "start_time": "2021-01-15T17:11:26.976138Z"
    }
   },
   "outputs": [],
   "source": [
    "my_first_nn=handmade_nn(5)\n",
    "# Empty neural network : just a pass-through for 5-values inputs\n",
    "assert my_first_nn.predict([2,3,2,3,4]).shape == (1,5),\\\n",
    "    \"list not supported as an input for predict\""
   ]
  },
  {
   "cell_type": "markdown",
   "metadata": {},
   "source": [
    "### handling with a list of lists as input"
   ]
  },
  {
   "cell_type": "code",
   "execution_count": 10,
   "metadata": {
    "ExecuteTime": {
     "end_time": "2021-01-15T17:11:27.066206Z",
     "start_time": "2021-01-15T17:11:27.024084Z"
    }
   },
   "outputs": [],
   "source": [
    "my_first_nn=handmade_nn(5)\n",
    "# Empty neural network : just a pass-through for 5-values inputs\n",
    "assert my_first_nn.predict([[2,3,2,3,4],[-2,-1,1,3,4]]).shape == (2,5),\\\n",
    "    \"list of list not supported as an input for predict\""
   ]
  },
  {
   "cell_type": "markdown",
   "metadata": {},
   "source": [
    "### handling with a 1D-array as input"
   ]
  },
  {
   "cell_type": "code",
   "execution_count": 11,
   "metadata": {
    "ExecuteTime": {
     "end_time": "2021-01-15T17:11:27.096367Z",
     "start_time": "2021-01-15T17:11:27.078299Z"
    }
   },
   "outputs": [],
   "source": [
    "my_first_nn=handmade_nn(5)\n",
    "my_first_nn.add_dense_layer(10, 'linear')\n",
    "assert my_first_nn.predict(np.array([-2,-1,2,3,4])).shape == (1,10),\\\n",
    "    \"1-D array not supported as an input for predict\""
   ]
  },
  {
   "cell_type": "markdown",
   "metadata": {},
   "source": [
    "### handling with a 2D-array (most common case) as input"
   ]
  },
  {
   "cell_type": "code",
   "execution_count": 12,
   "metadata": {
    "ExecuteTime": {
     "end_time": "2021-01-15T17:11:27.126866Z",
     "start_time": "2021-01-15T17:11:27.105232Z"
    }
   },
   "outputs": [],
   "source": [
    "my_first_nn=handmade_nn(5)\n",
    "my_first_nn.add_dense_layer(10, 'linear')\n",
    "assert my_first_nn.predict(np.array([[-2,-1,2,3,4],\n",
    "                                     [-12,-11,12,13,14]])).shape == (2,10),\\\n",
    "    f\"the shape of the prediction for a 2*5 X input\\\n",
    "    by a network having 10neurons on last layer should be 2*10\""
   ]
  },
  {
   "cell_type": "markdown",
   "metadata": {},
   "source": [
    "### raise error for 3D-array or more as input"
   ]
  },
  {
   "cell_type": "code",
   "execution_count": 13,
   "metadata": {
    "ExecuteTime": {
     "end_time": "2021-01-15T17:11:27.160082Z",
     "start_time": "2021-01-15T17:11:27.137911Z"
    }
   },
   "outputs": [],
   "source": [
    "from unittest import TestCase\n",
    "my_first_nn=handmade_nn(5)\n",
    "# Empty neural network : just a pass-through for 5-values inputs\n",
    "\n",
    "test=TestCase()\n",
    "with test.assertRaises(ValueError) as context:\n",
    "    my_first_nn.predict(np.array([[[1,1],[1,2],[1,3],[1,4],[1,5]],\n",
    "                                 [[2,1],[2,2],[2,3],[3,4],[3,5]]]))\n",
    "assert 'X vector dimension too high' in str(context.exception),\\\n",
    "    \"no or wrong Exception raised when inputing a 3D-array in predict method\"    "
   ]
  },
  {
   "cell_type": "markdown",
   "metadata": {},
   "source": [
    "### raise error for unconsitant X vs. input_dim"
   ]
  },
  {
   "cell_type": "code",
   "execution_count": 14,
   "metadata": {
    "ExecuteTime": {
     "end_time": "2021-01-15T17:11:27.194709Z",
     "start_time": "2021-01-15T17:11:27.169675Z"
    }
   },
   "outputs": [],
   "source": [
    "from unittest import TestCase\n",
    "my_first_nn=handmade_nn(5)\n",
    "# Empty neural network : just a pass-through for 5-values inputs\n",
    "\n",
    "test=TestCase()\n",
    "with test.assertRaises(ValueError) as context:\n",
    "    my_first_nn.predict(np.array([[1,1],[1,2],[1,3],[1,4],[1,5]]))\n",
    "assert 'Unconsistent number of features' in str(context.exception),\\\n",
    "    \"no or wrong Exception raised when inputing a X\\\n",
    "     with unconsistant size vs. network input_dim in method predict\"    "
   ]
  },
  {
   "cell_type": "markdown",
   "metadata": {},
   "source": [
    "## general tests of predict method with all activation types"
   ]
  },
  {
   "cell_type": "code",
   "execution_count": 15,
   "metadata": {
    "ExecuteTime": {
     "end_time": "2021-01-15T17:11:27.250888Z",
     "start_time": "2021-01-15T17:11:27.205737Z"
    }
   },
   "outputs": [],
   "source": [
    "my_first_nn=handmade_nn(5)\n",
    "\n",
    "my_first_nn.add_dense_layer(10, 'relu')\n",
    "my_first_nn.weights[-1] = np.concatenate([np.identity(5), np.zeros((5,5))], axis=0)\n",
    "my_first_nn.bias[-1] = np.expand_dims([0,0,0,0,1,1,1,0,0,0], axis=1)\n",
    "\n",
    "my_first_nn.add_dense_layer(10, 'linear')\n",
    "my_first_nn.weights[-1] = np.flip(np.identity(10), 1)\n",
    "my_first_nn.bias[-1] = np.expand_dims([1,1,1,1,1,1,0,0,0,0], axis=1)\n",
    "\n",
    "my_first_nn.add_dense_layer(10, 'tanh')\n",
    "my_first_nn.weights[-1] = np.identity(10)\n",
    "my_first_nn.bias[-1] = np.expand_dims([0,0,0,0,1,1,1,1,0,0], axis=1)\n",
    "\n",
    "my_first_nn.add_dense_layer(10, 'softmax')\n",
    "my_first_nn.weights[-1] = np.flip(np.identity(10), 1)\n",
    "my_first_nn.bias[-1] = np.expand_dims([0,0,0,0,0,0,1,1,1,1], axis=1)\n",
    "\n",
    "my_first_nn.add_dense_layer(1, 'sigmoid')\n",
    "my_first_nn.weights[-1] = np.expand_dims(np.arange(1,11,1), axis=0)\n",
    "my_first_nn.bias[-1] = np.expand_dims([0.5], axis=1)\n",
    "\n",
    "assert np.round(my_first_nn.predict([-2,-1,2,3,4])[0,0], decimals=8) == 0.99939824,\\\n",
    "    \"the general test of predict method on a network involving\\\n",
    "     all activation types and manually set bias and weights\\\n",
    "     did not return the correct value\"    "
   ]
  },
  {
   "cell_type": "markdown",
   "metadata": {},
   "source": [
    "## compute_metric function tests"
   ]
  },
  {
   "cell_type": "markdown",
   "metadata": {},
   "source": [
    "### raise error for 3D-array or more as input"
   ]
  },
  {
   "cell_type": "code",
   "execution_count": 16,
   "metadata": {
    "ExecuteTime": {
     "end_time": "2021-01-15T17:11:27.282825Z",
     "start_time": "2021-01-15T17:11:27.264042Z"
    }
   },
   "outputs": [],
   "source": [
    "from unittest import TestCase\n",
    "\n",
    "test=TestCase()\n",
    "with test.assertRaises(ValueError) as context:\n",
    "    compute_metric(np.array([[[1,1],[1,2]],\n",
    "                             [[2,1],[2,2]]]),\n",
    "                   np.array([[1,2],\n",
    "                             [3,4]]),\n",
    "                   'mse')\n",
    "assert 'y vector dimension too high' in str(context.exception),\\\n",
    "    \"no or wrong Exception raised when inputing a 3D-array as y\\\n",
    "     in compute_metric function\"\n",
    "\n",
    "test=TestCase()\n",
    "with test.assertRaises(ValueError) as context:\n",
    "    compute_metric(np.array([[1,2],\n",
    "                             [3,4]]),\n",
    "                   np.array([[[1,1],[1,2]],\n",
    "                             [[2,1],[2,2]]]),\n",
    "                   'mse')\n",
    "assert 'y_pred vector dimension too high' in str(context.exception),\\\n",
    "    \"no or wrong Exception raised when inputing a 3D-array as y_pred\\\n",
    "     in compute_metric function\"  "
   ]
  },
  {
   "cell_type": "markdown",
   "metadata": {},
   "source": [
    "### raise error for unconsistency between y & y_pred shapes"
   ]
  },
  {
   "cell_type": "code",
   "execution_count": 17,
   "metadata": {
    "ExecuteTime": {
     "end_time": "2021-01-15T17:11:27.316773Z",
     "start_time": "2021-01-15T17:11:27.295386Z"
    }
   },
   "outputs": [],
   "source": [
    "from unittest import TestCase\n",
    "\n",
    "test=TestCase()\n",
    "with test.assertRaises(ValueError) as context:\n",
    "    compute_metric(np.array([[1,2,3],\n",
    "                             [4,5,6]]),\n",
    "                   np.array([[1,2],\n",
    "                             [3,4]]),\n",
    "                   'mse')\n",
    "assert 'unconsistent vectors dimensions' in str(context.exception),\\\n",
    "    \"no or wrong Exception raised when inputing unconsistent\\\n",
    "     y vs y_pred vectors shapes in compute_metric function\""
   ]
  },
  {
   "cell_type": "markdown",
   "metadata": {},
   "source": [
    "### test of each available metric"
   ]
  },
  {
   "cell_type": "code",
   "execution_count": 18,
   "metadata": {
    "ExecuteTime": {
     "end_time": "2021-01-15T17:11:27.350164Z",
     "start_time": "2021-01-15T17:11:27.330758Z"
    }
   },
   "outputs": [],
   "source": [
    "assert compute_metric([1,0],[0.5,1],'mse') == 0.625,\\\n",
    "    \"uncorrect mse metric behaviour\"\n",
    "\n",
    "assert compute_metric([[1,0],[0,0]],[[0.5,1],[1,1]],'mse') == 0.8125,\\\n",
    "    \"uncorrect mse metric behaviour for multi-features regressions\\\n",
    "     (2D y and y_pred vectors)\"\n",
    "\n",
    "assert compute_metric([1,0],[0.5,1],'mae') == 0.75,\\\n",
    "    \"uncorrect mae metric behaviour\"\n",
    "\n",
    "assert np.round(compute_metric([[1,0,1],[0,0,0]],[[0.5,0.9,0.1],[0.9,0.9,0.1]],\n",
    "                               'categorical_crossentropy'),\n",
    "                decimals=8) == 1.49786614,\\\n",
    "    \"uncorrect categorical_crossentropy metric behaviour\"\n",
    "\n",
    "assert np.round(compute_metric([1,0],[0.9,0.1],'binary_crossentropy'),\n",
    "                decimals=8) == 0.10536052,\\\n",
    "    \"uncorrect binary_crossentropy metric behaviour\""
   ]
  },
  {
   "cell_type": "markdown",
   "metadata": {},
   "source": [
    "### raise error if a y vector of dim 2 is inputed and binary_crossentropy is selected"
   ]
  },
  {
   "cell_type": "code",
   "execution_count": 19,
   "metadata": {
    "ExecuteTime": {
     "end_time": "2021-01-15T17:11:27.378006Z",
     "start_time": "2021-01-15T17:11:27.364192Z"
    }
   },
   "outputs": [],
   "source": [
    "from unittest import TestCase\n",
    "\n",
    "test=TestCase()\n",
    "with test.assertRaises(ValueError) as context:\n",
    "    compute_metric([[1,0,1],[0,0,0]],\n",
    "                   [[0.5,0.9,0.1],\n",
    "                    [0.9,0.9,0.1]],\n",
    "                   'binary_crossentropy')\n",
    "assert '1 max for binary_crossentropy' in str(context.exception),\\\n",
    "    \"no or wrong Exception raised when inputing 2D y/y_pred vectors\\\n",
    "     with binary_crossentropy selected in compute_metric function\""
   ]
  },
  {
   "cell_type": "markdown",
   "metadata": {},
   "source": [
    "### raise error for unknown metric"
   ]
  },
  {
   "cell_type": "code",
   "execution_count": 20,
   "metadata": {
    "ExecuteTime": {
     "end_time": "2021-01-15T17:11:27.415338Z",
     "start_time": "2021-01-15T17:11:27.404160Z"
    }
   },
   "outputs": [],
   "source": [
    "from unittest import TestCase\n",
    "\n",
    "test=TestCase()\n",
    "with test.assertRaises(ValueError) as context:\n",
    "    compute_metric([0],[0],'typo_error')\n",
    "assert 'Unknown metric' in str(context.exception),\\\n",
    "    \"no or wrong Exception raised when inputing\\\n",
    "     unknown metric in compute_metric function\""
   ]
  },
  {
   "cell_type": "markdown",
   "metadata": {},
   "source": [
    "# Trash section : small tests, to be deleted"
   ]
  },
  {
   "cell_type": "code",
   "execution_count": 21,
   "metadata": {
    "ExecuteTime": {
     "end_time": "2021-01-15T17:11:27.466626Z",
     "start_time": "2021-01-15T17:11:27.430067Z"
    }
   },
   "outputs": [
    {
     "data": {
      "text/plain": [
       "0.8125"
      ]
     },
     "execution_count": 21,
     "metadata": {},
     "output_type": "execute_result"
    }
   ],
   "source": [
    "3.25/4"
   ]
  },
  {
   "cell_type": "code",
   "execution_count": 22,
   "metadata": {
    "ExecuteTime": {
     "end_time": "2021-01-15T17:11:27.503722Z",
     "start_time": "2021-01-15T17:11:27.479572Z"
    }
   },
   "outputs": [
    {
     "data": {
      "text/plain": [
       "0.10536051565782628"
      ]
     },
     "execution_count": 22,
     "metadata": {},
     "output_type": "execute_result"
    }
   ],
   "source": [
    "compute_metric([1,0],[0.9,0.1],'binary_crossentropy')"
   ]
  },
  {
   "cell_type": "code",
   "execution_count": 23,
   "metadata": {
    "ExecuteTime": {
     "end_time": "2021-01-15T17:11:27.532032Z",
     "start_time": "2021-01-15T17:11:27.515858Z"
    }
   },
   "outputs": [
    {
     "data": {
      "text/plain": [
       "-0.10536051565782628"
      ]
     },
     "execution_count": 23,
     "metadata": {},
     "output_type": "execute_result"
    }
   ],
   "source": [
    "np.log(0.9)"
   ]
  },
  {
   "cell_type": "code",
   "execution_count": 24,
   "metadata": {
    "ExecuteTime": {
     "end_time": "2021-01-15T17:11:27.563630Z",
     "start_time": "2021-01-15T17:11:27.544546Z"
    }
   },
   "outputs": [
    {
     "data": {
      "text/plain": [
       "array([[1],\n",
       "       [0]])"
      ]
     },
     "execution_count": 24,
     "metadata": {},
     "output_type": "execute_result"
    }
   ],
   "source": [
    "y=np.expand_dims(np.array([1,0]),axis=1)\n",
    "y"
   ]
  },
  {
   "cell_type": "code",
   "execution_count": 25,
   "metadata": {
    "ExecuteTime": {
     "end_time": "2021-01-15T17:11:27.597261Z",
     "start_time": "2021-01-15T17:11:27.572326Z"
    }
   },
   "outputs": [
    {
     "data": {
      "text/plain": [
       "array([0.9, 0.1])"
      ]
     },
     "execution_count": 25,
     "metadata": {},
     "output_type": "execute_result"
    }
   ],
   "source": [
    "y_pred=np.expand_dims(np.array([0.9,0.1]),axis=1)\n",
    "y_pred = y_pred[:,-1]\n",
    "y_pred"
   ]
  },
  {
   "cell_type": "code",
   "execution_count": 26,
   "metadata": {
    "ExecuteTime": {
     "end_time": "2021-01-15T17:11:27.628070Z",
     "start_time": "2021-01-15T17:11:27.602288Z"
    }
   },
   "outputs": [
    {
     "data": {
      "text/plain": [
       "array([-0.10536052, -2.30258509])"
      ]
     },
     "execution_count": 26,
     "metadata": {},
     "output_type": "execute_result"
    }
   ],
   "source": [
    "np.log(y_pred)"
   ]
  },
  {
   "cell_type": "code",
   "execution_count": 27,
   "metadata": {
    "ExecuteTime": {
     "end_time": "2021-01-15T17:11:27.666010Z",
     "start_time": "2021-01-15T17:11:27.635999Z"
    }
   },
   "outputs": [
    {
     "data": {
      "text/plain": [
       "array([-2.30258509, -0.10536052])"
      ]
     },
     "execution_count": 27,
     "metadata": {},
     "output_type": "execute_result"
    }
   ],
   "source": [
    "np.log(1-y_pred)"
   ]
  },
  {
   "cell_type": "code",
   "execution_count": 28,
   "metadata": {
    "ExecuteTime": {
     "end_time": "2021-01-15T17:11:27.703577Z",
     "start_time": "2021-01-15T17:11:27.681818Z"
    }
   },
   "outputs": [
    {
     "data": {
      "text/plain": [
       "1.203972804325936"
      ]
     },
     "execution_count": 28,
     "metadata": {},
     "output_type": "execute_result"
    }
   ],
   "source": [
    "-(y*np.log(y_pred)+(1-y)*np.log(1-y_pred)).mean()"
   ]
  },
  {
   "cell_type": "code",
   "execution_count": null,
   "metadata": {},
   "outputs": [],
   "source": []
  }
 ],
 "metadata": {
  "kernelspec": {
   "display_name": "Python 3",
   "language": "python",
   "name": "python3"
  },
  "language_info": {
   "codemirror_mode": {
    "name": "ipython",
    "version": 3
   },
   "file_extension": ".py",
   "mimetype": "text/x-python",
   "name": "python",
   "nbconvert_exporter": "python",
   "pygments_lexer": "ipython3",
   "version": "3.7.7"
  },
  "toc": {
   "base_numbering": 1,
   "nav_menu": {},
   "number_sections": true,
   "sideBar": true,
   "skip_h1_title": false,
   "title_cell": "Table of Contents",
   "title_sidebar": "Contents",
   "toc_cell": false,
   "toc_position": {
    "height": "calc(100% - 180px)",
    "left": "10px",
    "top": "150px",
    "width": "349.091px"
   },
   "toc_section_display": true,
   "toc_window_display": true
  }
 },
 "nbformat": 4,
 "nbformat_minor": 4
}

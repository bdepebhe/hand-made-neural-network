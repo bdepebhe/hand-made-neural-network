{
 "cells": [
  {
   "cell_type": "markdown",
   "metadata": {},
   "source": [
    "# General lib imports"
   ]
  },
  {
   "cell_type": "code",
   "execution_count": 2,
   "metadata": {
    "ExecuteTime": {
     "end_time": "2021-01-14T21:06:58.240212Z",
     "start_time": "2021-01-14T21:06:56.409220Z"
    }
   },
   "outputs": [],
   "source": [
    "import pandas as pd\n",
    "import numpy as np"
   ]
  },
  {
   "cell_type": "markdown",
   "metadata": {},
   "source": [
    "# Model class"
   ]
  },
  {
   "cell_type": "code",
   "execution_count": null,
   "metadata": {},
   "outputs": [],
   "source": []
  },
  {
   "cell_type": "code",
   "execution_count": 18,
   "metadata": {
    "ExecuteTime": {
     "end_time": "2021-01-14T16:21:44.315572Z",
     "start_time": "2021-01-14T16:21:44.246207Z"
    }
   },
   "outputs": [],
   "source": [
    "class handmade_nn ():\n",
    "    '''\n",
    "    hand-made version of neural network\n",
    "    so far, the possibilities are :\n",
    "    \n",
    "        - layers activation functions : 'linear', 'relu', 'sigmoid', 'tanh', 'softmax'\n",
    "    \n",
    "        - loss functions : 'mse', 'mae', 'binary_crossentropy', 'categorical_crossentropy'\n",
    "    \n",
    "        - solver : SGD without momentum\n",
    "    '''\n",
    "    def __init__ (self, input_dim=0, loss=None, learning_rate=0.01):\n",
    "        self.weights=[]\n",
    "        self.bias=[]\n",
    "        self.activation_types=[]\n",
    "        self.input_dim=input_dim\n",
    "        self.loss=loss\n",
    "        self.learning_rate=learning_rate\n",
    "    \n",
    "    def compute_activation(self,X,activation_type):\n",
    "        # Defining activation functions\n",
    "        # Takes a nparray or a single value\n",
    "        # Returns in the same format\n",
    "        if activation_type == 'relu':\n",
    "            return np.maximum(x,0)\n",
    "        elif activation_type == 'sigmoid':\n",
    "            return 1/(1+np.exp(-x))\n",
    "        elif activation_type == 'tanh':\n",
    "            return np.tanh(x)\n",
    "        elif activation_type == 'linear':\n",
    "            return x\n",
    "        elif activation_type == 'softmax':\n",
    "            exp_x = np.exp(x)\n",
    "            return exp_x / exp_x.sum()\n",
    "        \n",
    "        #raise error if unknown type\n",
    "        else:\n",
    "            raise ValueError(f'Unknow activation type {activation_type}. Supported types : linear, relu, sigmoid, tanh, softmax')\n",
    "            \n",
    "    def set_input_dim (self,input_dim):\n",
    "        self.input_dim = input_dim\n",
    "        \n",
    "    def set_loss (self,loss):\n",
    "        self.loss = loss\n",
    "        \n",
    "    def set_learning_rate (self,learning_rate):\n",
    "        self.learning_rate = learning_rate\n",
    "        \n",
    "    def add_dense_layer (self, n_neurons, activation_type):\n",
    "        #check if the input_dim is set\n",
    "        if self.input_dim == 0:\n",
    "            raise ValueError('input_dim = 0 . Use set_input_dim before creating first layer')\n",
    "            \n",
    "        #get the size of the input os this layer\n",
    "        if len(self.bias) == 0:\n",
    "            previous_dim=self.input_dim\n",
    "        else:\n",
    "            previous_dim=(self.bias[-1].shape[0])\n",
    "            \n",
    "        #initialize the layer parameters \n",
    "        self.weights.append(np.zeros((n_neurons, previous_dim)))\n",
    "        self.bias.append(np.expand_dims(np.zeros(n_neurons), axis=0))\n",
    "        self.activation_types.append(activation_type)\n",
    "        \n",
    "        #test the activation type\n",
    "        self.activation(0, activation_type)\n",
    "        \n",
    "    def predict (self,X):\n",
    "        #converting DataFrames, lists or lists of lists to nparray\n",
    "        X = np.array(X)\n",
    "        \n",
    "        #deal with 1D inputs to forge a 1 * n_features 2D-array\n",
    "        if len(X.shape) == 1:\n",
    "            X = np.expand_dims(X, axis = 0)\n",
    "            \n",
    "        #raise errors for unconsistant inputs\n",
    "        if len(X.shape) > 2:\n",
    "            raise ValueError('X vector dimension too high. Must be 2 max')\n",
    "        if X.shape[1] != self.input_dim:\n",
    "            raise ValueError(f'Unconsistent number of features. The network input_dim is {self.input_dim}')\n",
    "            \n",
    "        #compute the prediction\n",
    "        for layer_index, activation_type in enumerate(self.activation_types):\n",
    "            activation_input=np.dot(self.weights[layer_index],X.T) + self.bias[layer_index].T\n",
    "            X = self.compute_activation(activation_input, activation_type).T\n",
    "        return X\n",
    "    \n",
    "    def compute_metric (self, y, y_pred, metric):\n",
    "        # Defining loss and metric functions\n",
    "        # Takes a nparray, a list or a single value\n",
    "        # Always returns a scalar : in case of multioutputs (y.shape[1]>1), \n",
    "        #     uniform average of the errors along axis1\n",
    "        \n",
    "        #converting DataFrames, lists or lists of lists to nparray\n",
    "        y = np.array(y)\n",
    "        y_pred = np.array(y_pred)\n",
    "        \n",
    "        #deal with 1D inputs to forge a n_samples * 1 2D-array\n",
    "        if len(y.shape) == 1:\n",
    "            y = np.expand_dims(y, axis = 1)\n",
    "        if len(y_pred.shape) == 1:\n",
    "            y_pred = np.expand_dims(y_pred, axis = 1)\n",
    "            \n",
    "        #raise errors for unconsistant inputs\n",
    "        if len(y.shape) > 2:\n",
    "            raise ValueError('y vector dimension too high. Must be 2 max')\n",
    "        if len(y_pred.shape) > 2:\n",
    "            raise ValueError('y_pred vector dimension too high. Must be 2 max')\n",
    "        if y.shape != y_pred.shape:\n",
    "            raise ValueError(f'unconsistent vectors dimensions during scoring : y.shape= {y.shape} and y_pred.shape= {y_pred.shape}')\n",
    "        \n",
    "        #compute loss funtions\n",
    "        if metric == 'mse':\n",
    "            return np.square(y-y_pred).mean()\n",
    "        if metric == 'mae':\n",
    "            return np.abs(y-y_pred).mean()\n",
    "        if metric == 'binary_crossentropy'\n",
    "            if y.shape[1]>1:\n",
    "                raise ValueError('y vector dimension too high. Must be 1 max for binary_crossentropy')\n",
    "            y_pred = y_pred[:,-1]\n",
    "            return -(y*np.log(y_pred)+(1-y)*np.log(1-y_pred)).mean()\n",
    "        if metric == 'categorical_crossentropy':\n",
    "            pass\n",
    "        \n",
    "        # compute other metrics functions\n",
    "            "
   ]
  },
  {
   "cell_type": "markdown",
   "metadata": {},
   "source": [
    "# Tests"
   ]
  },
  {
   "cell_type": "markdown",
   "metadata": {},
   "source": [
    "## add_dense_layer method tests"
   ]
  },
  {
   "cell_type": "markdown",
   "metadata": {},
   "source": [
    "### raise ValueError if no input_dim"
   ]
  },
  {
   "cell_type": "code",
   "execution_count": 3,
   "metadata": {
    "ExecuteTime": {
     "end_time": "2021-01-14T16:13:47.200329Z",
     "start_time": "2021-01-14T16:13:47.172356Z"
    }
   },
   "outputs": [],
   "source": [
    "from unittest import TestCase\n",
    "my_first_nn=handmade_nn()\n",
    "\n",
    "test=TestCase()\n",
    "with test.assertRaises(ValueError) as context:\n",
    "    my_first_nn.add_dense_layer(5,'relu')\n",
    "assert 'input_dim = 0 . Use set_input_dim before creating first layer' in str(context.exception),\\\n",
    "    \"no or wrong Exception raised when adding first layer to a network without setting input_dim\""
   ]
  },
  {
   "cell_type": "markdown",
   "metadata": {},
   "source": [
    "### raise ValueError for unvalid activation type"
   ]
  },
  {
   "cell_type": "code",
   "execution_count": 4,
   "metadata": {
    "ExecuteTime": {
     "end_time": "2021-01-14T16:13:47.216009Z",
     "start_time": "2021-01-14T16:13:47.205845Z"
    }
   },
   "outputs": [],
   "source": [
    "from unittest import TestCase\n",
    "my_first_nn=handmade_nn(5)\n",
    "\n",
    "test=TestCase()\n",
    "with test.assertRaises(ValueError) as context:\n",
    "    my_first_nn.add_dense_layer(10,'typo_error')\n",
    "assert 'Unknow activation type' in str(context.exception),\\\n",
    "    \"no or wrong Exception raised when inputing an unvalid activation_type\"    "
   ]
  },
  {
   "cell_type": "markdown",
   "metadata": {},
   "source": [
    "## predict method tests"
   ]
  },
  {
   "cell_type": "markdown",
   "metadata": {},
   "source": [
    "### X format acceptance"
   ]
  },
  {
   "cell_type": "markdown",
   "metadata": {},
   "source": [
    "#### handling with a list as an input"
   ]
  },
  {
   "cell_type": "code",
   "execution_count": 5,
   "metadata": {
    "ExecuteTime": {
     "end_time": "2021-01-14T16:13:47.248052Z",
     "start_time": "2021-01-14T16:13:47.222790Z"
    }
   },
   "outputs": [],
   "source": [
    "my_first_nn=handmade_nn(5)\n",
    "# Empty neural network : just a pass-through for 5-values inputs\n",
    "assert my_first_nn.predict([2,3,2,3,4]).shape == (1,5),\\\n",
    "    \"list not supported as an input for predict\""
   ]
  },
  {
   "cell_type": "markdown",
   "metadata": {},
   "source": [
    "#### handling with a list of lists as input"
   ]
  },
  {
   "cell_type": "code",
   "execution_count": 6,
   "metadata": {
    "ExecuteTime": {
     "end_time": "2021-01-14T16:13:47.259723Z",
     "start_time": "2021-01-14T16:13:47.252344Z"
    }
   },
   "outputs": [],
   "source": [
    "my_first_nn=handmade_nn(5)\n",
    "# Empty neural network : just a pass-through for 5-values inputs\n",
    "assert my_first_nn.predict([[2,3,2,3,4],[-2,-1,1,3,4]]).shape == (2,5),\\\n",
    "    \"list of list not supported as an input for predict\""
   ]
  },
  {
   "cell_type": "markdown",
   "metadata": {},
   "source": [
    "#### handling with a 1D-array"
   ]
  },
  {
   "cell_type": "code",
   "execution_count": 7,
   "metadata": {
    "ExecuteTime": {
     "end_time": "2021-01-14T16:13:47.277883Z",
     "start_time": "2021-01-14T16:13:47.265253Z"
    }
   },
   "outputs": [],
   "source": [
    "my_first_nn=handmade_nn(5)\n",
    "my_first_nn.add_dense_layer(10, 'linear')\n",
    "my_first_nn.weights[0] = np.vstack((np.identity(5),np.zeros((5,5))))\n",
    "assert my_first_nn.predict(np.array([-2,-1,2,3,4])).shape == (1,10),\\\n",
    "    \"1-D array not supported as an input for predict\""
   ]
  },
  {
   "cell_type": "markdown",
   "metadata": {},
   "source": [
    "#### handling with a 2D-array (most common case)"
   ]
  },
  {
   "cell_type": "code",
   "execution_count": 8,
   "metadata": {
    "ExecuteTime": {
     "end_time": "2021-01-14T16:13:47.293279Z",
     "start_time": "2021-01-14T16:13:47.283542Z"
    }
   },
   "outputs": [],
   "source": [
    "my_first_nn=handmade_nn(5)\n",
    "my_first_nn.add_dense_layer(10, 'linear')\n",
    "my_first_nn.weights[0] = np.vstack((np.identity(5),np.zeros((5,5))))\n",
    "assert my_first_nn.predict(np.array([[-2,-1,2,3,4],[-12,-11,12,13,14]])).shape == (2,10),\\\n",
    "    f\"the shape of the prediction for a 2*5 X input by a network having 10neurons on last layer should be 2*10\""
   ]
  },
  {
   "cell_type": "markdown",
   "metadata": {},
   "source": [
    "#### raise error for 3D-array or more"
   ]
  },
  {
   "cell_type": "code",
   "execution_count": 9,
   "metadata": {
    "ExecuteTime": {
     "end_time": "2021-01-14T16:13:47.311359Z",
     "start_time": "2021-01-14T16:13:47.303218Z"
    }
   },
   "outputs": [],
   "source": [
    "from unittest import TestCase\n",
    "my_first_nn=handmade_nn(5)\n",
    "# Empty neural network : just a pass-through for 5-values inputs\n",
    "\n",
    "test=TestCase()\n",
    "with test.assertRaises(ValueError) as context:\n",
    "    my_first_nn.predict(np.array([[[1,1],[1,2],[1,3],[1,4],[1,5]],\n",
    "                                 [[2,1],[2,2],[2,3],[3,4],[3,5]]]))\n",
    "assert 'X vector dimension too high' in str(context.exception),\\\n",
    "    \"no or wrong Exception raised when inputing a 3D-array in predict method\"    "
   ]
  },
  {
   "cell_type": "markdown",
   "metadata": {},
   "source": [
    "#### raise error for unconsitant X vs. input_dim"
   ]
  },
  {
   "cell_type": "code",
   "execution_count": 10,
   "metadata": {
    "ExecuteTime": {
     "end_time": "2021-01-14T16:13:47.328274Z",
     "start_time": "2021-01-14T16:13:47.319643Z"
    }
   },
   "outputs": [],
   "source": [
    "from unittest import TestCase\n",
    "my_first_nn=handmade_nn(5)\n",
    "# Empty neural network : just a pass-through for 5-values inputs\n",
    "\n",
    "test=TestCase()\n",
    "with test.assertRaises(ValueError) as context:\n",
    "    my_first_nn.predict(np.array([[1,1],[1,2],[1,3],[1,4],[1,5]]))\n",
    "assert 'Unconsistent number of features' in str(context.exception),\\\n",
    "    \"no or wrong Exception raised when inputing a X with unconsistant size vs. network input_dim\"    "
   ]
  },
  {
   "cell_type": "markdown",
   "metadata": {},
   "source": [
    "### checking behaviour of each activation function"
   ]
  },
  {
   "cell_type": "markdown",
   "metadata": {},
   "source": [
    "#### relu"
   ]
  },
  {
   "cell_type": "code",
   "execution_count": 11,
   "metadata": {
    "ExecuteTime": {
     "end_time": "2021-01-14T16:13:47.345426Z",
     "start_time": "2021-01-14T16:13:47.334938Z"
    }
   },
   "outputs": [],
   "source": [
    "my_first_nn=handmade_nn(5)\n",
    "my_first_nn.add_dense_layer(10, 'relu')\n",
    "my_first_nn.weights[0] = np.vstack((np.identity(5),np.zeros((5,5))))\n",
    "assert (my_first_nn.predict([-2,-1,2,3,4]) ==\\\n",
    "        np.array([[0., 0., 2., 3., 4., 0., 0., 0., 0., 0.]]))\\\n",
    "        .all(), \"uncorrect relu function behaviour\""
   ]
  },
  {
   "cell_type": "markdown",
   "metadata": {},
   "source": [
    "#### linear "
   ]
  },
  {
   "cell_type": "code",
   "execution_count": 12,
   "metadata": {
    "ExecuteTime": {
     "end_time": "2021-01-14T16:13:47.370728Z",
     "start_time": "2021-01-14T16:13:47.350971Z"
    }
   },
   "outputs": [],
   "source": [
    "my_first_nn=handmade_nn(5)\n",
    "my_first_nn.add_dense_layer(10, 'linear')\n",
    "my_first_nn.weights[0] = np.vstack((np.identity(5),np.zeros((5,5))))\n",
    "assert (my_first_nn.predict([-2,-1,2,3,4]) ==\\\n",
    "        np.array([[-2., -1.,  2.,  3.,  4.,  0.,  0.,  0.,  0.,  0.]]))\\\n",
    "        .all(), \"uncorrect linear function behaviour\""
   ]
  },
  {
   "cell_type": "markdown",
   "metadata": {},
   "source": [
    "#### sigmoid"
   ]
  },
  {
   "cell_type": "code",
   "execution_count": 13,
   "metadata": {
    "ExecuteTime": {
     "end_time": "2021-01-14T16:13:47.402782Z",
     "start_time": "2021-01-14T16:13:47.387641Z"
    }
   },
   "outputs": [],
   "source": [
    "my_first_nn=handmade_nn(5)\n",
    "my_first_nn.add_dense_layer(10, 'sigmoid')\n",
    "my_first_nn.weights[0] = np.vstack((np.identity(5),np.zeros((5,5))))\n",
    "assert (np.round(my_first_nn.predict([-2,-1,2,3,4]), 8) ==\\\n",
    "        np.array([[0.11920292, 0.26894142, 0.88079708, 0.95257413, 0.98201379,\n",
    "        0.5       , 0.5       , 0.5       , 0.5       , 0.5       ]]))\\\n",
    "        .all(), \"uncorrect sigmoid function behaviour\""
   ]
  },
  {
   "cell_type": "markdown",
   "metadata": {},
   "source": [
    "#### tanh"
   ]
  },
  {
   "cell_type": "code",
   "execution_count": 14,
   "metadata": {
    "ExecuteTime": {
     "end_time": "2021-01-14T16:13:47.419621Z",
     "start_time": "2021-01-14T16:13:47.409420Z"
    }
   },
   "outputs": [],
   "source": [
    "my_first_nn=handmade_nn(5)\n",
    "my_first_nn.add_dense_layer(10, 'tanh')\n",
    "my_first_nn.weights[0] = np.vstack((np.identity(5),np.zeros((5,5))))\n",
    "assert (np.round(my_first_nn.predict([-2,-1,2,3,4]), 8) ==\\\n",
    "        np.array([[-0.96402758, -0.76159416,  0.96402758,  0.99505475,  0.9993293 ,\n",
    "         0.        ,  0.        ,  0.        ,  0.        ,  0.        ]]))\\\n",
    "        .all(), \"uncorrect tanh function behaviour\""
   ]
  },
  {
   "cell_type": "markdown",
   "metadata": {},
   "source": [
    "#### softmax"
   ]
  },
  {
   "cell_type": "code",
   "execution_count": 15,
   "metadata": {
    "ExecuteTime": {
     "end_time": "2021-01-14T16:13:47.449653Z",
     "start_time": "2021-01-14T16:13:47.430369Z"
    }
   },
   "outputs": [],
   "source": [
    "my_first_nn=handmade_nn(5)\n",
    "my_first_nn.add_dense_layer(10, 'softmax')\n",
    "my_first_nn.weights[0] = np.vstack((np.identity(5),np.zeros((5,5))))\n",
    "assert (np.round(my_first_nn.predict([-2,-1,2,3,4]), 8) ==\\\n",
    "        np.array([[0.00154535, 0.00420069, 0.08437311, 0.2293499 , 0.62343766,\n",
    "        0.01141866, 0.01141866, 0.01141866, 0.01141866, 0.01141866]]))\\\n",
    "        .all(), \"uncorrect softmax function behaviour\""
   ]
  },
  {
   "cell_type": "code",
   "execution_count": 8,
   "metadata": {
    "ExecuteTime": {
     "end_time": "2021-01-14T21:08:25.137090Z",
     "start_time": "2021-01-14T21:08:25.114897Z"
    }
   },
   "outputs": [
    {
     "data": {
      "text/plain": [
       "(3, 1)"
      ]
     },
     "execution_count": 8,
     "metadata": {},
     "output_type": "execute_result"
    }
   ],
   "source": [
    "np.expand_dims(np.array(pd.Series([2,4,5])),axis=1).shape"
   ]
  },
  {
   "cell_type": "code",
   "execution_count": 14,
   "metadata": {
    "ExecuteTime": {
     "end_time": "2021-01-14T21:29:56.017128Z",
     "start_time": "2021-01-14T21:29:55.993437Z"
    }
   },
   "outputs": [],
   "source": [
    "y_true = np.array([[0.5, 1],[-1, 1],[7, -6]])\n",
    "y_pred = np.array([[0, 2],[-1, 2],[8, -5]])\n",
    "mse=0.708"
   ]
  },
  {
   "cell_type": "code",
   "execution_count": 18,
   "metadata": {
    "ExecuteTime": {
     "end_time": "2021-01-14T21:31:01.087751Z",
     "start_time": "2021-01-14T21:31:01.082512Z"
    }
   },
   "outputs": [],
   "source": [
    "ess=y_true-y_pred"
   ]
  },
  {
   "cell_type": "code",
   "execution_count": 20,
   "metadata": {
    "ExecuteTime": {
     "end_time": "2021-01-14T21:31:26.572951Z",
     "start_time": "2021-01-14T21:31:26.554896Z"
    }
   },
   "outputs": [
    {
     "data": {
      "text/plain": [
       "array([[ 0.5, -1. ],\n",
       "       [ 0. , -1. ],\n",
       "       [-1. , -1. ]])"
      ]
     },
     "execution_count": 20,
     "metadata": {},
     "output_type": "execute_result"
    }
   ],
   "source": [
    "ess"
   ]
  },
  {
   "cell_type": "code",
   "execution_count": 24,
   "metadata": {
    "ExecuteTime": {
     "end_time": "2021-01-14T21:38:27.356915Z",
     "start_time": "2021-01-14T21:38:27.325954Z"
    }
   },
   "outputs": [
    {
     "data": {
      "text/plain": [
       "0.7083333333333334"
      ]
     },
     "execution_count": 24,
     "metadata": {},
     "output_type": "execute_result"
    }
   ],
   "source": [
    "np.square(ess).mean()"
   ]
  },
  {
   "cell_type": "code",
   "execution_count": 27,
   "metadata": {
    "ExecuteTime": {
     "end_time": "2021-01-14T22:10:09.549731Z",
     "start_time": "2021-01-14T22:10:09.533303Z"
    }
   },
   "outputs": [
    {
     "data": {
      "text/plain": [
       "(3, 1)"
      ]
     },
     "execution_count": 27,
     "metadata": {},
     "output_type": "execute_result"
    }
   ],
   "source": [
    "y=np.array([[1],[0],[1]])\n",
    "y.shape"
   ]
  },
  {
   "cell_type": "code",
   "execution_count": 28,
   "metadata": {
    "ExecuteTime": {
     "end_time": "2021-01-14T22:11:05.409137Z",
     "start_time": "2021-01-14T22:11:05.375058Z"
    }
   },
   "outputs": [
    {
     "data": {
      "text/plain": [
       "array([[0.9 ],\n",
       "       [0.2 ],\n",
       "       [0.95]])"
      ]
     },
     "execution_count": 28,
     "metadata": {},
     "output_type": "execute_result"
    }
   ],
   "source": [
    "y_pred=np.array([[0.9],[0.2],[0.95]])\n",
    "y_pred"
   ]
  },
  {
   "cell_type": "code",
   "execution_count": 35,
   "metadata": {
    "ExecuteTime": {
     "end_time": "2021-01-14T22:12:54.718101Z",
     "start_time": "2021-01-14T22:12:54.700812Z"
    }
   },
   "outputs": [
    {
     "data": {
      "text/plain": [
       "0.12659912045319552"
      ]
     },
     "execution_count": 35,
     "metadata": {},
     "output_type": "execute_result"
    }
   ],
   "source": [
    "-(y*np.log(y_pred)+(1-y)*np.log(1-y_pred)).mean()"
   ]
  },
  {
   "cell_type": "code",
   "execution_count": 32,
   "metadata": {
    "ExecuteTime": {
     "end_time": "2021-01-14T22:12:22.819375Z",
     "start_time": "2021-01-14T22:12:22.799406Z"
    }
   },
   "outputs": [
    {
     "data": {
      "text/plain": [
       "array([[0.1 ],\n",
       "       [0.8 ],\n",
       "       [0.05]])"
      ]
     },
     "execution_count": 32,
     "metadata": {},
     "output_type": "execute_result"
    }
   ],
   "source": [
    "(1-y_pred)"
   ]
  },
  {
   "cell_type": "code",
   "execution_count": null,
   "metadata": {},
   "outputs": [],
   "source": []
  }
 ],
 "metadata": {
  "kernelspec": {
   "display_name": "Python 3",
   "language": "python",
   "name": "python3"
  },
  "language_info": {
   "codemirror_mode": {
    "name": "ipython",
    "version": 3
   },
   "file_extension": ".py",
   "mimetype": "text/x-python",
   "name": "python",
   "nbconvert_exporter": "python",
   "pygments_lexer": "ipython3",
   "version": "3.7.7"
  },
  "toc": {
   "base_numbering": 1,
   "nav_menu": {},
   "number_sections": true,
   "sideBar": true,
   "skip_h1_title": false,
   "title_cell": "Table of Contents",
   "title_sidebar": "Contents",
   "toc_cell": false,
   "toc_position": {
    "height": "calc(100% - 180px)",
    "left": "10px",
    "top": "150px",
    "width": "349.091px"
   },
   "toc_section_display": true,
   "toc_window_display": true
  }
 },
 "nbformat": 4,
 "nbformat_minor": 4
}

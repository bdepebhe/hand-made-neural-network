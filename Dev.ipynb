{
 "cells": [
  {
   "cell_type": "markdown",
   "metadata": {},
   "source": [
    "# General lib imports"
   ]
  },
  {
   "cell_type": "code",
   "execution_count": 22,
   "metadata": {
    "ExecuteTime": {
     "end_time": "2021-01-18T18:41:38.316503Z",
     "start_time": "2021-01-18T18:41:38.302174Z"
    }
   },
   "outputs": [],
   "source": [
    "import pandas as pd\n",
    "import numpy as np\n",
    "from progressbar import progressbar"
   ]
  },
  {
   "cell_type": "markdown",
   "metadata": {},
   "source": [
    "# Code"
   ]
  },
  {
   "cell_type": "markdown",
   "metadata": {},
   "source": [
    "## Functions"
   ]
  },
  {
   "cell_type": "code",
   "execution_count": 108,
   "metadata": {
    "ExecuteTime": {
     "end_time": "2021-01-18T22:17:31.847220Z",
     "start_time": "2021-01-18T22:17:31.835856Z"
    }
   },
   "outputs": [],
   "source": [
    "def compute_activation (X, activation_type, derivative=False):\n",
    "    '''Defining activation functions\n",
    "     Takes a nparray or a single value\n",
    "    # Returns in the same format\n",
    "    \n",
    "    For softmax : assuming that X.shape[0]== n_neurons,\n",
    "        the axis0 of array X is used for computing the mean \n",
    "    '''\n",
    "    X=np.array(X)\n",
    "    if activation_type == 'relu':\n",
    "        if derivative == False:\n",
    "            return np.maximum(X,0)\n",
    "        else:\n",
    "            return (X > 0).astype(int)\n",
    "        \n",
    "    elif activation_type == 'sigmoid':\n",
    "        if derivative == False:\n",
    "            return 1 / (1 + np.exp(-X))\n",
    "        else:\n",
    "            return np.exp(-X) / np.square(1 + np.exp(-X))\n",
    "    \n",
    "    elif activation_type == 'tanh':\n",
    "        if derivative == False:\n",
    "            return np.tanh(X)\n",
    "        else:\n",
    "            return np.square(1 / np.cosh(X))\n",
    "            \n",
    "    elif activation_type == 'linear':\n",
    "        if derivative == False:\n",
    "            return X\n",
    "        else:\n",
    "            return np.ones(X.shape)\n",
    "            \n",
    "    elif activation_type == 'softmax':\n",
    "        exp_x = np.exp(X)\n",
    "        sigma_exp_x = exp_x.sum(axis=0)\n",
    "        if derivative == False: \n",
    "            return exp_x / sigma_exp_x\n",
    "        else:\n",
    "            return (exp_x * sigma_exp_x - np.square(exp_x)) / np.square(sigma_exp_x)\n",
    "        \n",
    "    #raise error if unknown type\n",
    "    else:\n",
    "        raise ValueError(f'Unknown activation type {activation_type}.\\\n",
    "                           Supported types : linear, relu, sigmoid, tanh, softmax')"
   ]
  },
  {
   "cell_type": "code",
   "execution_count": 40,
   "metadata": {
    "ExecuteTime": {
     "end_time": "2021-01-18T20:59:58.165563Z",
     "start_time": "2021-01-18T20:59:58.121302Z"
    }
   },
   "outputs": [],
   "source": [
    "def compute_metric (y, y_pred, metric, loss_derivative=False):\n",
    "    '''Defining loss and metric functions\n",
    "     Takes nparrays, lists or a single values\n",
    "     \n",
    "     ## IF loss_derivative==False:\n",
    "         output: always scalar\n",
    "         \n",
    "     ## IF loss_derivative==True: (True will be ignored for non-loss metrics)\n",
    "         Computes the partial derivative of the loss function\n",
    "           with respect to each component of each sample\n",
    "         output: 2Darray\n",
    "            n_samples * 1 for binary_crossentropy or single output regression\n",
    "            n_samples * n_class for categorical_crossentropy\n",
    "            n_samples * n_features for multifeatures regression)\n",
    "    '''\n",
    "        \n",
    "    #converting DataFrames, lists or lists of lists to nparray\n",
    "    y = np.array(y)\n",
    "    y_pred = np.array(y_pred)\n",
    "        \n",
    "    #deal with 1D inputs to forge a n_samples * 1 2D-array\n",
    "    if len(y.shape) == 1:\n",
    "        y = np.expand_dims(y, axis = 1)\n",
    "    if len(y_pred.shape) == 1:\n",
    "        y_pred = np.expand_dims(y_pred, axis = 1)\n",
    "            \n",
    "    #raise errors for unconsistant inputs\n",
    "    if len(y.shape) > 2:\n",
    "        raise ValueError('y vector dimension too high. Must be 2 max')\n",
    "    if len(y_pred.shape) > 2:\n",
    "        raise ValueError('y_pred vector dimension too high. Must be 2 max')\n",
    "    if y.shape != y_pred.shape:\n",
    "        raise ValueError(f'unconsistent vectors dimensions during scoring :\\\n",
    "                           y.shape= {y.shape} and y_pred.shape= {y_pred.shape}')\n",
    "        \n",
    "    #compute loss funtions (or derivatives if loss_derivative==True)\n",
    "    if metric == 'mse':\n",
    "        if loss_derivative == False:\n",
    "            return np.square(y-y_pred).mean()\n",
    "        else:\n",
    "            return 1 / y.size * 2 * (y_pred - y)\n",
    "        \n",
    "    elif metric == 'mae':\n",
    "        if loss_derivative == False:\n",
    "            return np.abs(y-y_pred).mean()\n",
    "        else:\n",
    "            return 1 / y.size * (y_pred - y) / np.abs(y - y_pred)\n",
    "        \n",
    "    elif metric == 'categorical_crossentropy':\n",
    "        if loss_derivative == False:\n",
    "            return -1/y.shape[0] * ((y * np.log(y_pred)).sum())\n",
    "        else:\n",
    "            return -1 / y.shape[0] * (y / y_pred)\n",
    "        \n",
    "    elif metric == 'binary_crossentropy':\n",
    "        if y.shape[1]>1:\n",
    "            raise ValueError('y vector dimension too high.\\\n",
    "                              Must be 1 max for binary_crossentropy')\n",
    "        if loss_derivative == False:\n",
    "            return -(y*np.log(y_pred)+(1-y)*np.log(1-y_pred)).mean()\n",
    "        else:\n",
    "            return -1 / y.size * (y / y_pred - (1-y) / (1-y_pred))\n",
    "        \n",
    "    # compute other metrics functions\n",
    "    ## TODO ## accuracy, f1-score, recall, etc..\n",
    "    else:\n",
    "        raise ValueError(f'Unknown metric {metric}. Supported types :\\\n",
    "                           mse, mae, categorical_crossentropy, binary_crossentropy')"
   ]
  },
  {
   "cell_type": "markdown",
   "metadata": {},
   "source": [
    "## Model class"
   ]
  },
  {
   "cell_type": "code",
   "execution_count": 57,
   "metadata": {
    "ExecuteTime": {
     "end_time": "2021-01-18T21:08:57.376370Z",
     "start_time": "2021-01-18T21:08:57.262569Z"
    }
   },
   "outputs": [],
   "source": [
    "class handmade_nn ():\n",
    "    '''\n",
    "    hand-made version of neural network\n",
    "    so far, the possibilities are :\n",
    "    \n",
    "        - layers activation functions :\n",
    "            'linear', 'relu', 'sigmoid', 'tanh', 'softmax'\n",
    "    \n",
    "        - loss functions :\n",
    "            'mse', 'mae', 'binary_crossentropy', 'categorical_crossentropy'\n",
    "    \n",
    "        - solver :\n",
    "            SGD without momentum\n",
    "    '''\n",
    "    def __init__ (self, input_dim=0):\n",
    "        self.weights=[]\n",
    "        self.bias=[]\n",
    "        self.activation_types=[]\n",
    "        self.input_dim=input_dim\n",
    "        self.n_layers=0\n",
    "\n",
    "    def set_input_dim (self,input_dim):\n",
    "        self.input_dim = input_dim\n",
    "        \n",
    "    def add_dense_layer (self, n_neurons, activation_type):\n",
    "        #check if the input_dim is set\n",
    "        if self.input_dim == 0:\n",
    "            raise ValueError('input_dim = 0 .\\\n",
    "                              Use set_input_dim before creating first layer')\n",
    "            \n",
    "        #get the size of the input os this layer\n",
    "        if len(self.bias) == 0:\n",
    "            previous_dim=self.input_dim\n",
    "        else:\n",
    "            previous_dim=(self.bias[-1].shape[0])\n",
    "            \n",
    "        #initialize the layer parameters \n",
    "        self.weights.append(np.zeros((n_neurons, previous_dim)))\n",
    "        self.bias.append(np.expand_dims(np.zeros(n_neurons), axis=1))\n",
    "        self.activation_types.append(activation_type)\n",
    "        self.n_layers += 1\n",
    "        \n",
    "        #test the activation type\n",
    "        compute_activation(0, activation_type)\n",
    "        \n",
    "    def predict (self, X, keep_hidden_layers=False):\n",
    "        '''input X : list, list of lists, np array, pd DataFrame\n",
    "               axis 0 = samples\n",
    "               axis 1 = features\n",
    "               \n",
    "           ## IF keep_hidden_layers==False:\n",
    "           output y_pred: 2D np-array\n",
    "               axis 0 = samples\n",
    "               axis 1 = output features, depending of the size of last layer\n",
    "               \n",
    "           ## IF keep_hidden_layers==True:\n",
    "           output = list of 2D np-arrays of outputs of each layer\n",
    "               len(list)=n_layers+1: 1st element = X itself\n",
    "                                     last element = y_pred\n",
    "               axis 0 = samples\n",
    "               axis 2 = number of neurons of the layer'''\n",
    "        #converting DataFrames, lists or lists of lists to nparray\n",
    "        X = np.array(X)\n",
    "        \n",
    "        #deal with 1D inputs to forge a 1 * n_features 2D-array\n",
    "        if len(X.shape) == 1:\n",
    "            X = np.expand_dims(X, axis = 0)\n",
    "            \n",
    "        #raise errors for unconsistant inputs\n",
    "        if len(X.shape) > 2:\n",
    "            raise ValueError('X vector dimension too high. Must be 2 max')\n",
    "        if X.shape[1] != self.input_dim:\n",
    "            raise ValueError(f'Unconsistent number of features.\\\n",
    "                               The network input_dim is {self.input_dim}')\n",
    "            \n",
    "        #compute the prediction\n",
    "        if keep_hidden_layers == True:\n",
    "            layers_outputs_list = [X]\n",
    "        for layer_index, activation_type in enumerate(self.activation_types):\n",
    "            activation_input = np.dot(self.weights[layer_index], X.T)\\\n",
    "                               + self.bias[layer_index]\n",
    "            X = compute_activation(activation_input, activation_type).T\n",
    "            if keep_hidden_layers == True:\n",
    "                layers_outputs_list.append(X)\n",
    "        if keep_hidden_layers == True:\n",
    "            return layers_outputs_list\n",
    "        else:\n",
    "            return X\n",
    "    \n",
    "    def score (self, X, y, metric):\n",
    "        '''use predict method, then compute_metric function'''\n",
    "        y_pred=self.predict(X)\n",
    "        return compute_metric(y, y_pred, metric)\n",
    "    \n",
    "    def compute_backpropagation (self, X, y):\n",
    "        '''This method :\n",
    "            - executes self.predict(X) WITH keep_hidden_layers\n",
    "                to keep all intermediate outputs\n",
    "            - executes compute_metric (y, y_pred, loss) WITH loss_derivative\n",
    "            - for each layer from last to first : computes loss\n",
    "              derivatives with respect to bias and weights\n",
    "              \n",
    "            output 1 : gradient with respect to weights \n",
    "               (list of 2D arrays)\n",
    "               len(list)=n_layers\n",
    "               axis 0 = number of neurons of the layer\n",
    "               axis 1 = number of neurons of the previous layer (or features in the input)\n",
    "            output 2 : gradient with respect to bias\n",
    "               (list of 1D arrays)\n",
    "               len(list)=n_layers\n",
    "               axis 0 = number of neurons of the layer\n",
    "                    \n",
    "            '''\n",
    "        layers_outputs = self.predict(X, \n",
    "                                      keep_hidden_layers = True)\n",
    "        loss_derivative = compute_metric (y, \n",
    "                                          layers_outputs[-1], \n",
    "                                          self.loss, \n",
    "                                          loss_derivative = True)\n",
    "        for layer_index in range(n_layers, 0, -1):\n",
    "            \n",
    "            \n",
    "        \n",
    "        \n",
    "    \n",
    "    def fit (self, X, y, loss=None, learning_rate=0.01, batch_size=1, n_epochs=10):\n",
    "        '''input X : 2D array or pd DataFrame\n",
    "                axis 0 = samples\n",
    "                axis 1 = features\n",
    "        '''\n",
    "        self.loss=loss\n",
    "        self.learning_rate=learning_rate\n",
    "        self.batch_size=batch_size\n",
    "        self.epochs=epochs\n",
    "        \n",
    "        X = np.array(X)\n",
    "        n_samples = X.shape[0]\n",
    "        n_minibatches_per_epoch = int(n_samples / batch_size)\n",
    "        \n",
    "        pbar = progressbar()\n",
    "        for epoch_index in range (n_epochs):\n",
    "            print(f'beginning epoch n°{epoch_index + 1}')\n",
    "            #shuffle rows of X\n",
    "            X_epoch = np.random.shuffle(X)\n",
    "            \n",
    "            for mini_batch_index in pbar(range(n_minibatches_per_epoch)):\n",
    "                ##TODO compute gradient, backprop\n",
    "                ##TODO update weights and bias\n",
    "                pass\n",
    "    "
   ]
  },
  {
   "cell_type": "markdown",
   "metadata": {},
   "source": [
    "# Tests"
   ]
  },
  {
   "cell_type": "markdown",
   "metadata": {},
   "source": [
    "## compute_activation function tests"
   ]
  },
  {
   "cell_type": "markdown",
   "metadata": {},
   "source": [
    "### test of each available function"
   ]
  },
  {
   "cell_type": "code",
   "execution_count": 107,
   "metadata": {
    "ExecuteTime": {
     "end_time": "2021-01-18T22:17:14.340534Z",
     "start_time": "2021-01-18T22:17:14.325388Z"
    }
   },
   "outputs": [],
   "source": [
    "assert (compute_activation(np.array([[-1,0], [0, 1], [1, 3]]),'relu') ==\\\n",
    "        np.array([[0,0], [0, 1], [1, 3]]))\\\n",
    "        .all(), \"uncorrect relu function behaviour\"\n",
    "\n",
    "assert (compute_activation(np.array([[-1,0], [0, 1], [1, 3]]),'linear') ==\\\n",
    "        np.array([[-1,0], [0, 1], [1, 3]]))\\\n",
    "        .all(), \"uncorrect linear function behaviour\"\n",
    "\n",
    "assert (np.round(compute_activation(np.array([[-1,0], [0, 1], [1, 3]]),'sigmoid'), decimals= 8) ==\\\n",
    "        np.array([[0.26894142, 0.5       ],\n",
    "                  [0.5       , 0.73105858],\n",
    "                  [0.73105858, 0.95257413]]))\\\n",
    "        .all(), \"uncorrect sigmoid function behaviour\"\n",
    "\n",
    "assert (np.round(compute_activation(np.array([[-1,0], [0, 1], [1, 3]]),'tanh'), decimals= 8) ==\\\n",
    "        np.array([[-0.76159416,  0.        ],\n",
    "                  [ 0.        ,  0.76159416],\n",
    "                  [ 0.76159416,  0.99505475]]))\\\n",
    "        .all(), \"uncorrect tanh function behaviour\"\n",
    "\n",
    "assert (np.round(compute_activation(np.array([[-1,0], [0, 1], [1, 3]]),'softmax'), decimals= 8) ==\\\n",
    "        np.array([[0.09003057, 0.04201007],\n",
    "                  [0.24472847, 0.1141952 ],\n",
    "                  [0.66524096, 0.84379473]]))\\\n",
    "        .all(), \"uncorrect softmax function behaviour\""
   ]
  },
  {
   "cell_type": "markdown",
   "metadata": {},
   "source": [
    "### raise ValueError for unknown activation type while calling compute_activation"
   ]
  },
  {
   "cell_type": "code",
   "execution_count": 6,
   "metadata": {
    "ExecuteTime": {
     "end_time": "2021-01-15T17:11:26.906761Z",
     "start_time": "2021-01-15T17:11:26.862133Z"
    }
   },
   "outputs": [],
   "source": [
    "from unittest import TestCase\n",
    "\n",
    "test=TestCase()\n",
    "with test.assertRaises(ValueError) as context:\n",
    "    compute_activation(0,'typo_error')\n",
    "assert 'Unknown activation type' in str(context.exception),\\\n",
    "    \"no or wrong Exception raised when inputing an unknown activation_type\\\n",
    "     while calling compute_activation\" "
   ]
  },
  {
   "cell_type": "markdown",
   "metadata": {},
   "source": [
    "## add_dense_layer method tests"
   ]
  },
  {
   "cell_type": "markdown",
   "metadata": {},
   "source": [
    "### raise ValueError if no input_dim"
   ]
  },
  {
   "cell_type": "code",
   "execution_count": 7,
   "metadata": {
    "ExecuteTime": {
     "end_time": "2021-01-15T17:11:26.931769Z",
     "start_time": "2021-01-15T17:11:26.915924Z"
    }
   },
   "outputs": [],
   "source": [
    "from unittest import TestCase\n",
    "my_first_nn=handmade_nn()\n",
    "\n",
    "test=TestCase()\n",
    "with test.assertRaises(ValueError) as context:\n",
    "    my_first_nn.add_dense_layer(5,'relu')\n",
    "assert 'Use set_input_dim before creating first layer'\\\n",
    "       in str(context.exception),\\\n",
    "    \"no or wrong Exception raised when adding first layer\\\n",
    "     to a network without setting input_dim\""
   ]
  },
  {
   "cell_type": "markdown",
   "metadata": {},
   "source": [
    "### raise ValueError for unknown activation type while adding layer"
   ]
  },
  {
   "cell_type": "code",
   "execution_count": 8,
   "metadata": {
    "ExecuteTime": {
     "end_time": "2021-01-15T17:11:26.964455Z",
     "start_time": "2021-01-15T17:11:26.950256Z"
    }
   },
   "outputs": [],
   "source": [
    "from unittest import TestCase\n",
    "my_first_nn=handmade_nn(5)\n",
    "\n",
    "test=TestCase()\n",
    "with test.assertRaises(ValueError) as context:\n",
    "    my_first_nn.add_dense_layer(10,'typo_error')\n",
    "assert 'Unknown activation type' in str(context.exception),\\\n",
    "    \"no or wrong Exception raised when inputing\\\n",
    "     an unknown activation_type while adding layer\"    "
   ]
  },
  {
   "cell_type": "markdown",
   "metadata": {},
   "source": [
    "## predict method tests"
   ]
  },
  {
   "cell_type": "markdown",
   "metadata": {},
   "source": [
    "### handling with a list as an input"
   ]
  },
  {
   "cell_type": "code",
   "execution_count": 9,
   "metadata": {
    "ExecuteTime": {
     "end_time": "2021-01-15T17:11:26.986853Z",
     "start_time": "2021-01-15T17:11:26.976138Z"
    }
   },
   "outputs": [],
   "source": [
    "my_first_nn=handmade_nn(5)\n",
    "# Empty neural network : just a pass-through for 5-values inputs\n",
    "assert my_first_nn.predict([2,3,2,3,4]).shape == (1,5),\\\n",
    "    \"list not supported as an input for predict\""
   ]
  },
  {
   "cell_type": "markdown",
   "metadata": {},
   "source": [
    "### handling with a list of lists as input"
   ]
  },
  {
   "cell_type": "code",
   "execution_count": 10,
   "metadata": {
    "ExecuteTime": {
     "end_time": "2021-01-15T17:11:27.066206Z",
     "start_time": "2021-01-15T17:11:27.024084Z"
    }
   },
   "outputs": [],
   "source": [
    "my_first_nn=handmade_nn(5)\n",
    "# Empty neural network : just a pass-through for 5-values inputs\n",
    "assert my_first_nn.predict([[2,3,2,3,4],[-2,-1,1,3,4]]).shape == (2,5),\\\n",
    "    \"list of list not supported as an input for predict\""
   ]
  },
  {
   "cell_type": "markdown",
   "metadata": {},
   "source": [
    "### handling with a 1D-array as input"
   ]
  },
  {
   "cell_type": "code",
   "execution_count": 11,
   "metadata": {
    "ExecuteTime": {
     "end_time": "2021-01-15T17:11:27.096367Z",
     "start_time": "2021-01-15T17:11:27.078299Z"
    }
   },
   "outputs": [],
   "source": [
    "my_first_nn=handmade_nn(5)\n",
    "my_first_nn.add_dense_layer(10, 'linear')\n",
    "assert my_first_nn.predict(np.array([-2,-1,2,3,4])).shape == (1,10),\\\n",
    "    \"1-D array not supported as an input for predict\""
   ]
  },
  {
   "cell_type": "markdown",
   "metadata": {},
   "source": [
    "### handling with a 2D-array (most common case) as input"
   ]
  },
  {
   "cell_type": "code",
   "execution_count": 12,
   "metadata": {
    "ExecuteTime": {
     "end_time": "2021-01-15T17:11:27.126866Z",
     "start_time": "2021-01-15T17:11:27.105232Z"
    }
   },
   "outputs": [],
   "source": [
    "my_first_nn=handmade_nn(5)\n",
    "my_first_nn.add_dense_layer(10, 'linear')\n",
    "assert my_first_nn.predict(np.array([[-2,-1,2,3,4],\n",
    "                                     [-12,-11,12,13,14]])).shape == (2,10),\\\n",
    "    f\"the shape of the prediction for a 2*5 X input\\\n",
    "    by a network having 10neurons on last layer should be 2*10\""
   ]
  },
  {
   "cell_type": "markdown",
   "metadata": {},
   "source": [
    "### raise error for 3D-array or more as input"
   ]
  },
  {
   "cell_type": "code",
   "execution_count": 13,
   "metadata": {
    "ExecuteTime": {
     "end_time": "2021-01-15T17:11:27.160082Z",
     "start_time": "2021-01-15T17:11:27.137911Z"
    }
   },
   "outputs": [],
   "source": [
    "from unittest import TestCase\n",
    "my_first_nn=handmade_nn(5)\n",
    "# Empty neural network : just a pass-through for 5-values inputs\n",
    "\n",
    "test=TestCase()\n",
    "with test.assertRaises(ValueError) as context:\n",
    "    my_first_nn.predict(np.array([[[1,1],[1,2],[1,3],[1,4],[1,5]],\n",
    "                                 [[2,1],[2,2],[2,3],[3,4],[3,5]]]))\n",
    "assert 'X vector dimension too high' in str(context.exception),\\\n",
    "    \"no or wrong Exception raised when inputing a 3D-array in predict method\"    "
   ]
  },
  {
   "cell_type": "markdown",
   "metadata": {},
   "source": [
    "### raise error for unconsitant X vs. input_dim"
   ]
  },
  {
   "cell_type": "code",
   "execution_count": 14,
   "metadata": {
    "ExecuteTime": {
     "end_time": "2021-01-15T17:11:27.194709Z",
     "start_time": "2021-01-15T17:11:27.169675Z"
    }
   },
   "outputs": [],
   "source": [
    "from unittest import TestCase\n",
    "my_first_nn=handmade_nn(5)\n",
    "# Empty neural network : just a pass-through for 5-values inputs\n",
    "\n",
    "test=TestCase()\n",
    "with test.assertRaises(ValueError) as context:\n",
    "    my_first_nn.predict(np.array([[1,1],[1,2],[1,3],[1,4],[1,5]]))\n",
    "assert 'Unconsistent number of features' in str(context.exception),\\\n",
    "    \"no or wrong Exception raised when inputing a X\\\n",
    "     with unconsistant size vs. network input_dim in method predict\"    "
   ]
  },
  {
   "cell_type": "markdown",
   "metadata": {},
   "source": [
    "## general tests of predict method with all activation types"
   ]
  },
  {
   "cell_type": "code",
   "execution_count": 15,
   "metadata": {
    "ExecuteTime": {
     "end_time": "2021-01-15T17:11:27.250888Z",
     "start_time": "2021-01-15T17:11:27.205737Z"
    }
   },
   "outputs": [],
   "source": [
    "my_first_nn=handmade_nn(5)\n",
    "\n",
    "my_first_nn.add_dense_layer(10, 'relu')\n",
    "my_first_nn.weights[-1] = np.concatenate([np.identity(5), np.zeros((5,5))], axis=0)\n",
    "my_first_nn.bias[-1] = np.expand_dims([0,0,0,0,1,1,1,0,0,0], axis=1)\n",
    "\n",
    "my_first_nn.add_dense_layer(10, 'linear')\n",
    "my_first_nn.weights[-1] = np.flip(np.identity(10), 1)\n",
    "my_first_nn.bias[-1] = np.expand_dims([1,1,1,1,1,1,0,0,0,0], axis=1)\n",
    "\n",
    "my_first_nn.add_dense_layer(10, 'tanh')\n",
    "my_first_nn.weights[-1] = np.identity(10)\n",
    "my_first_nn.bias[-1] = np.expand_dims([0,0,0,0,1,1,1,1,0,0], axis=1)\n",
    "\n",
    "my_first_nn.add_dense_layer(10, 'softmax')\n",
    "my_first_nn.weights[-1] = np.flip(np.identity(10), 1)\n",
    "my_first_nn.bias[-1] = np.expand_dims([0,0,0,0,0,0,1,1,1,1], axis=1)\n",
    "\n",
    "my_first_nn.add_dense_layer(1, 'sigmoid')\n",
    "my_first_nn.weights[-1] = np.expand_dims(np.arange(1,11,1), axis=0)\n",
    "my_first_nn.bias[-1] = np.expand_dims([0.5], axis=1)\n",
    "\n",
    "assert np.round(my_first_nn.predict([-2,-1,2,3,4])[0,0], decimals=8) == 0.99939824,\\\n",
    "    \"the general test of predict method on a network involving\\\n",
    "     all activation types and manually set bias and weights\\\n",
    "     did not return the correct value\"    "
   ]
  },
  {
   "cell_type": "markdown",
   "metadata": {},
   "source": [
    "## compute_metric function tests"
   ]
  },
  {
   "cell_type": "markdown",
   "metadata": {},
   "source": [
    "### raise error for 3D-array or more as input"
   ]
  },
  {
   "cell_type": "code",
   "execution_count": 34,
   "metadata": {
    "ExecuteTime": {
     "end_time": "2021-01-18T20:45:43.861400Z",
     "start_time": "2021-01-18T20:45:43.569090Z"
    }
   },
   "outputs": [],
   "source": [
    "from unittest import TestCase\n",
    "\n",
    "test=TestCase()\n",
    "with test.assertRaises(ValueError) as context:\n",
    "    compute_metric(np.array([[[1,1],[1,2]],\n",
    "                             [[2,1],[2,2]]]),\n",
    "                   np.array([[1,2],\n",
    "                             [3,4]]),\n",
    "                   'mse')\n",
    "assert 'y vector dimension too high' in str(context.exception),\\\n",
    "    \"no or wrong Exception raised when inputing a 3D-array as y\\\n",
    "     in compute_metric function\"\n",
    "\n",
    "test=TestCase()\n",
    "with test.assertRaises(ValueError) as context:\n",
    "    compute_metric(np.array([[1,2],\n",
    "                             [3,4]]),\n",
    "                   np.array([[[1,1],[1,2]],\n",
    "                             [[2,1],[2,2]]]),\n",
    "                   'mse')\n",
    "assert 'y_pred vector dimension too high' in str(context.exception),\\\n",
    "    \"no or wrong Exception raised when inputing a 3D-array as y_pred\\\n",
    "     in compute_metric function\"  "
   ]
  },
  {
   "cell_type": "markdown",
   "metadata": {},
   "source": [
    "### raise error for unconsistency between y & y_pred shapes"
   ]
  },
  {
   "cell_type": "code",
   "execution_count": 35,
   "metadata": {
    "ExecuteTime": {
     "end_time": "2021-01-18T20:45:45.074037Z",
     "start_time": "2021-01-18T20:45:45.048546Z"
    }
   },
   "outputs": [],
   "source": [
    "from unittest import TestCase\n",
    "\n",
    "test=TestCase()\n",
    "with test.assertRaises(ValueError) as context:\n",
    "    compute_metric(np.array([[1,2,3],\n",
    "                             [4,5,6]]),\n",
    "                   np.array([[1,2],\n",
    "                             [3,4]]),\n",
    "                   'mse')\n",
    "assert 'unconsistent vectors dimensions' in str(context.exception),\\\n",
    "    \"no or wrong Exception raised when inputing unconsistent\\\n",
    "     y vs y_pred vectors shapes in compute_metric function\""
   ]
  },
  {
   "cell_type": "markdown",
   "metadata": {},
   "source": [
    "### test of each available metric"
   ]
  },
  {
   "cell_type": "code",
   "execution_count": 36,
   "metadata": {
    "ExecuteTime": {
     "end_time": "2021-01-18T20:45:46.233646Z",
     "start_time": "2021-01-18T20:45:46.173063Z"
    }
   },
   "outputs": [],
   "source": [
    "assert compute_metric([1,0],[0.5,1],'mse') == 0.625,\\\n",
    "    \"uncorrect mse metric behaviour\"\n",
    "\n",
    "assert compute_metric([[1,0],[0,0]],[[0.5,1],[1,1]],'mse') == 0.8125,\\\n",
    "    \"uncorrect mse metric behaviour for multi-features regressions\\\n",
    "     (2D y and y_pred vectors)\"\n",
    "\n",
    "assert compute_metric([1,0],[0.5,1],'mae') == 0.75,\\\n",
    "    \"uncorrect mae metric behaviour\"\n",
    "\n",
    "assert np.round(compute_metric([[1,0,1],[0,0,0]],[[0.5,0.9,0.1],[0.9,0.9,0.1]],\n",
    "                               'categorical_crossentropy'),\n",
    "                decimals=8) == 1.49786614,\\\n",
    "    \"uncorrect categorical_crossentropy metric behaviour\"\n",
    "\n",
    "assert np.round(compute_metric([1,0],[0.9,0.1],'binary_crossentropy'),\n",
    "                decimals=8) == 0.10536052,\\\n",
    "    \"uncorrect binary_crossentropy metric behaviour\""
   ]
  },
  {
   "cell_type": "markdown",
   "metadata": {},
   "source": [
    "### raise error if a y vector of dim 2 is inputed and binary_crossentropy is selected"
   ]
  },
  {
   "cell_type": "code",
   "execution_count": 37,
   "metadata": {
    "ExecuteTime": {
     "end_time": "2021-01-18T20:45:49.433885Z",
     "start_time": "2021-01-18T20:45:49.416687Z"
    }
   },
   "outputs": [],
   "source": [
    "from unittest import TestCase\n",
    "\n",
    "test=TestCase()\n",
    "with test.assertRaises(ValueError) as context:\n",
    "    compute_metric([[1,0,1],[0,0,0]],\n",
    "                   [[0.5,0.9,0.1],\n",
    "                    [0.9,0.9,0.1]],\n",
    "                   'binary_crossentropy')\n",
    "assert '1 max for binary_crossentropy' in str(context.exception),\\\n",
    "    \"no or wrong Exception raised when inputing 2D y/y_pred vectors\\\n",
    "     with binary_crossentropy selected in compute_metric function\""
   ]
  },
  {
   "cell_type": "markdown",
   "metadata": {},
   "source": [
    "### raise error for unknown metric"
   ]
  },
  {
   "cell_type": "code",
   "execution_count": 38,
   "metadata": {
    "ExecuteTime": {
     "end_time": "2021-01-18T20:45:50.603495Z",
     "start_time": "2021-01-18T20:45:50.588928Z"
    }
   },
   "outputs": [],
   "source": [
    "from unittest import TestCase\n",
    "\n",
    "test=TestCase()\n",
    "with test.assertRaises(ValueError) as context:\n",
    "    compute_metric([0],[0],'typo_error')\n",
    "assert 'Unknown metric' in str(context.exception),\\\n",
    "    \"no or wrong Exception raised when inputing\\\n",
    "     unknown metric in compute_metric function\""
   ]
  },
  {
   "cell_type": "markdown",
   "metadata": {},
   "source": [
    "## fit method tests"
   ]
  },
  {
   "cell_type": "code",
   "execution_count": 32,
   "metadata": {
    "ExecuteTime": {
     "end_time": "2021-01-18T20:24:51.339744Z",
     "start_time": "2021-01-18T20:24:51.083870Z"
    }
   },
   "outputs": [
    {
     "ename": "TypeError",
     "evalue": "fit() missing 2 required positional arguments: 'X' and 'y'",
     "output_type": "error",
     "traceback": [
      "\u001b[0;31m---------------------------------------------------------------------------\u001b[0m",
      "\u001b[0;31mTypeError\u001b[0m                                 Traceback (most recent call last)",
      "\u001b[0;32m<ipython-input-32-b901c37d97eb>\u001b[0m in \u001b[0;36m<module>\u001b[0;34m\u001b[0m\n\u001b[1;32m      2\u001b[0m \u001b[0mmy_first_nn\u001b[0m\u001b[0;34m.\u001b[0m\u001b[0madd_dense_layer\u001b[0m\u001b[0;34m(\u001b[0m\u001b[0;36m4\u001b[0m\u001b[0;34m,\u001b[0m \u001b[0;34m'relu'\u001b[0m\u001b[0;34m)\u001b[0m\u001b[0;34m\u001b[0m\u001b[0;34m\u001b[0m\u001b[0m\n\u001b[1;32m      3\u001b[0m \u001b[0mmy_first_nn\u001b[0m\u001b[0;34m.\u001b[0m\u001b[0madd_dense_layer\u001b[0m\u001b[0;34m(\u001b[0m\u001b[0;36m1\u001b[0m\u001b[0;34m,\u001b[0m \u001b[0;34m'sigmoid'\u001b[0m\u001b[0;34m)\u001b[0m\u001b[0;34m\u001b[0m\u001b[0;34m\u001b[0m\u001b[0m\n\u001b[0;32m----> 4\u001b[0;31m \u001b[0mmy_first_nn\u001b[0m\u001b[0;34m.\u001b[0m\u001b[0mfit\u001b[0m\u001b[0;34m(\u001b[0m\u001b[0;34m)\u001b[0m\u001b[0;34m\u001b[0m\u001b[0;34m\u001b[0m\u001b[0m\n\u001b[0m",
      "\u001b[0;31mTypeError\u001b[0m: fit() missing 2 required positional arguments: 'X' and 'y'"
     ]
    }
   ],
   "source": [
    "my_first_nn=handmade_nn(input_dim = 2)\n",
    "my_first_nn.add_dense_layer(4, 'relu')\n",
    "my_first_nn.add_dense_layer(1, 'sigmoid')\n",
    "my_first_nn.fit()"
   ]
  },
  {
   "cell_type": "markdown",
   "metadata": {},
   "source": [
    "# Trash section : small tests, to be deleted"
   ]
  },
  {
   "cell_type": "code",
   "execution_count": 43,
   "metadata": {
    "ExecuteTime": {
     "end_time": "2021-01-18T21:03:42.266488Z",
     "start_time": "2021-01-18T21:03:42.255266Z"
    }
   },
   "outputs": [
    {
     "data": {
      "text/plain": [
       "(3,)"
      ]
     },
     "execution_count": 43,
     "metadata": {},
     "output_type": "execute_result"
    }
   ],
   "source": [
    "bia=np.array([1,2,3])\n",
    "bia.shape"
   ]
  },
  {
   "cell_type": "code",
   "execution_count": 44,
   "metadata": {
    "ExecuteTime": {
     "end_time": "2021-01-18T21:04:18.740946Z",
     "start_time": "2021-01-18T21:04:18.720219Z"
    }
   },
   "outputs": [
    {
     "data": {
      "text/plain": [
       "array([[0., 0.],\n",
       "       [0., 0.],\n",
       "       [0., 0.]])"
      ]
     },
     "execution_count": 44,
     "metadata": {},
     "output_type": "execute_result"
    }
   ],
   "source": [
    "npp=np.zeros((3,2))\n",
    "npp"
   ]
  },
  {
   "cell_type": "code",
   "execution_count": 56,
   "metadata": {
    "ExecuteTime": {
     "end_time": "2021-01-18T21:05:42.602549Z",
     "start_time": "2021-01-18T21:05:42.592676Z"
    }
   },
   "outputs": [
    {
     "data": {
      "text/plain": [
       "array([[1., 1.],\n",
       "       [2., 2.],\n",
       "       [3., 3.]])"
      ]
     },
     "execution_count": 56,
     "metadata": {},
     "output_type": "execute_result"
    }
   ],
   "source": [
    "npp+np.expand_dims(bia,axis=1)"
   ]
  },
  {
   "cell_type": "code",
   "execution_count": 47,
   "metadata": {
    "ExecuteTime": {
     "end_time": "2021-01-18T21:05:16.302051Z",
     "start_time": "2021-01-18T21:05:16.296278Z"
    }
   },
   "outputs": [],
   "source": [
    "biab=np.expand_dims(bia,axis=1)"
   ]
  },
  {
   "cell_type": "code",
   "execution_count": 55,
   "metadata": {
    "ExecuteTime": {
     "end_time": "2021-01-18T21:05:36.027432Z",
     "start_time": "2021-01-18T21:05:36.019250Z"
    }
   },
   "outputs": [
    {
     "data": {
      "text/plain": [
       "array([[1., 1.],\n",
       "       [2., 2.],\n",
       "       [3., 3.]])"
      ]
     },
     "execution_count": 55,
     "metadata": {},
     "output_type": "execute_result"
    }
   ],
   "source": [
    "npp+biab"
   ]
  },
  {
   "cell_type": "code",
   "execution_count": 59,
   "metadata": {
    "ExecuteTime": {
     "end_time": "2021-01-18T21:14:59.701515Z",
     "start_time": "2021-01-18T21:14:59.695389Z"
    }
   },
   "outputs": [
    {
     "name": "stdout",
     "output_type": "stream",
     "text": [
      "9\n",
      "8\n",
      "7\n",
      "6\n",
      "5\n",
      "4\n",
      "3\n",
      "2\n",
      "1\n",
      "0\n"
     ]
    }
   ],
   "source": [
    "for layer_index in range(10-1, -1, -1):\n",
    "    print(layer_index)"
   ]
  },
  {
   "cell_type": "code",
   "execution_count": 60,
   "metadata": {
    "ExecuteTime": {
     "end_time": "2021-01-18T21:21:50.684465Z",
     "start_time": "2021-01-18T21:21:50.655870Z"
    }
   },
   "outputs": [
    {
     "data": {
      "text/plain": [
       "array([[ 1,  2,  3],\n",
       "       [-1,  3, -1]])"
      ]
     },
     "execution_count": 60,
     "metadata": {},
     "output_type": "execute_result"
    }
   ],
   "source": [
    "bia=np.array([[1,2,3],[-1,3,-1]])\n",
    "bia"
   ]
  },
  {
   "cell_type": "code",
   "execution_count": 62,
   "metadata": {
    "ExecuteTime": {
     "end_time": "2021-01-18T21:22:12.347444Z",
     "start_time": "2021-01-18T21:22:12.298121Z"
    }
   },
   "outputs": [
    {
     "ename": "TypeError",
     "evalue": "only size-1 arrays can be converted to Python scalars",
     "output_type": "error",
     "traceback": [
      "\u001b[0;31m---------------------------------------------------------------------------\u001b[0m",
      "\u001b[0;31mTypeError\u001b[0m                                 Traceback (most recent call last)",
      "\u001b[0;32m<ipython-input-62-0d9a72db8cac>\u001b[0m in \u001b[0;36m<module>\u001b[0;34m\u001b[0m\n\u001b[0;32m----> 1\u001b[0;31m \u001b[0mnp\u001b[0m\u001b[0;34m.\u001b[0m\u001b[0mint\u001b[0m\u001b[0;34m(\u001b[0m\u001b[0mbia\u001b[0m\u001b[0;34m>\u001b[0m\u001b[0;36m0\u001b[0m\u001b[0;34m)\u001b[0m\u001b[0;34m\u001b[0m\u001b[0;34m\u001b[0m\u001b[0m\n\u001b[0m",
      "\u001b[0;31mTypeError\u001b[0m: only size-1 arrays can be converted to Python scalars"
     ]
    }
   ],
   "source": [
    "np.int(bia>0)"
   ]
  },
  {
   "cell_type": "code",
   "execution_count": 63,
   "metadata": {
    "ExecuteTime": {
     "end_time": "2021-01-18T21:23:04.535393Z",
     "start_time": "2021-01-18T21:23:04.516226Z"
    }
   },
   "outputs": [
    {
     "ename": "TypeError",
     "evalue": "'_typedict' object is not callable",
     "output_type": "error",
     "traceback": [
      "\u001b[0;31m---------------------------------------------------------------------------\u001b[0m",
      "\u001b[0;31mTypeError\u001b[0m                                 Traceback (most recent call last)",
      "\u001b[0;32m<ipython-input-63-61b30c15516c>\u001b[0m in \u001b[0;36m<module>\u001b[0;34m\u001b[0m\n\u001b[0;32m----> 1\u001b[0;31m \u001b[0mnp\u001b[0m\u001b[0;34m.\u001b[0m\u001b[0mcast\u001b[0m\u001b[0;34m(\u001b[0m\u001b[0mbia\u001b[0m\u001b[0;34m,\u001b[0m\u001b[0mint\u001b[0m\u001b[0;34m)\u001b[0m\u001b[0;34m\u001b[0m\u001b[0;34m\u001b[0m\u001b[0m\n\u001b[0m",
      "\u001b[0;31mTypeError\u001b[0m: '_typedict' object is not callable"
     ]
    }
   ],
   "source": [
    "np.cast(bia,int)"
   ]
  },
  {
   "cell_type": "code",
   "execution_count": 64,
   "metadata": {
    "ExecuteTime": {
     "end_time": "2021-01-18T21:26:34.238122Z",
     "start_time": "2021-01-18T21:26:34.196419Z"
    }
   },
   "outputs": [
    {
     "data": {
      "text/plain": [
       "array([[ 1,  2,  3],\n",
       "       [-1,  3, -1]])"
      ]
     },
     "execution_count": 64,
     "metadata": {},
     "output_type": "execute_result"
    }
   ],
   "source": [
    "bia"
   ]
  },
  {
   "cell_type": "code",
   "execution_count": 70,
   "metadata": {
    "ExecuteTime": {
     "end_time": "2021-01-18T21:27:52.832004Z",
     "start_time": "2021-01-18T21:27:52.813044Z"
    }
   },
   "outputs": [
    {
     "data": {
      "text/plain": [
       "array([[1, 1, 1],\n",
       "       [0, 1, 0]])"
      ]
     },
     "execution_count": 70,
     "metadata": {},
     "output_type": "execute_result"
    }
   ],
   "source": [
    "(bia>0).astype(int)"
   ]
  },
  {
   "cell_type": "code",
   "execution_count": 68,
   "metadata": {
    "ExecuteTime": {
     "end_time": "2021-01-18T21:27:23.985434Z",
     "start_time": "2021-01-18T21:27:23.966943Z"
    }
   },
   "outputs": [
    {
     "data": {
      "text/plain": [
       "array([[1, 1, 1],\n",
       "       [0, 1, 0]])"
      ]
     },
     "execution_count": 68,
     "metadata": {},
     "output_type": "execute_result"
    }
   ],
   "source": [
    "mask.astype(int)"
   ]
  },
  {
   "cell_type": "code",
   "execution_count": 71,
   "metadata": {
    "ExecuteTime": {
     "end_time": "2021-01-18T21:36:11.226671Z",
     "start_time": "2021-01-18T21:36:11.211706Z"
    }
   },
   "outputs": [
    {
     "data": {
      "text/plain": [
       "array([[ 1,  2,  3],\n",
       "       [-1,  3, -1]])"
      ]
     },
     "execution_count": 71,
     "metadata": {},
     "output_type": "execute_result"
    }
   ],
   "source": [
    "bia"
   ]
  },
  {
   "cell_type": "code",
   "execution_count": 72,
   "metadata": {
    "ExecuteTime": {
     "end_time": "2021-01-18T21:36:20.127942Z",
     "start_time": "2021-01-18T21:36:20.117469Z"
    }
   },
   "outputs": [
    {
     "data": {
      "text/plain": [
       "array([[1, 4, 9],\n",
       "       [1, 9, 1]])"
      ]
     },
     "execution_count": 72,
     "metadata": {},
     "output_type": "execute_result"
    }
   ],
   "source": [
    "np.square(bia)"
   ]
  },
  {
   "cell_type": "code",
   "execution_count": 73,
   "metadata": {
    "ExecuteTime": {
     "end_time": "2021-01-18T21:36:34.566442Z",
     "start_time": "2021-01-18T21:36:34.546551Z"
    }
   },
   "outputs": [
    {
     "data": {
      "text/plain": [
       "array([[ 1.        ,  0.5       ,  0.33333333],\n",
       "       [-1.        ,  0.33333333, -1.        ]])"
      ]
     },
     "execution_count": 73,
     "metadata": {},
     "output_type": "execute_result"
    }
   ],
   "source": [
    "bia/np.square(bia)"
   ]
  },
  {
   "cell_type": "code",
   "execution_count": 76,
   "metadata": {
    "ExecuteTime": {
     "end_time": "2021-01-18T21:50:05.515432Z",
     "start_time": "2021-01-18T21:50:05.505910Z"
    }
   },
   "outputs": [
    {
     "data": {
      "text/plain": [
       "array([0, 5, 2])"
      ]
     },
     "execution_count": 76,
     "metadata": {},
     "output_type": "execute_result"
    }
   ],
   "source": [
    "bia.sum(axis=0)"
   ]
  },
  {
   "cell_type": "code",
   "execution_count": 77,
   "metadata": {
    "ExecuteTime": {
     "end_time": "2021-01-18T21:50:10.348258Z",
     "start_time": "2021-01-18T21:50:10.340764Z"
    }
   },
   "outputs": [
    {
     "data": {
      "text/plain": [
       "array([[ 1,  2,  3],\n",
       "       [-1,  3, -1]])"
      ]
     },
     "execution_count": 77,
     "metadata": {},
     "output_type": "execute_result"
    }
   ],
   "source": [
    "bia"
   ]
  },
  {
   "cell_type": "code",
   "execution_count": 78,
   "metadata": {
    "ExecuteTime": {
     "end_time": "2021-01-18T21:58:59.433135Z",
     "start_time": "2021-01-18T21:58:59.416253Z"
    }
   },
   "outputs": [
    {
     "data": {
      "text/plain": [
       "array([[ 1, -1],\n",
       "       [ 2,  3],\n",
       "       [ 3, -1]])"
      ]
     },
     "execution_count": 78,
     "metadata": {},
     "output_type": "execute_result"
    }
   ],
   "source": [
    "bibi=bia.T\n",
    "bibi"
   ]
  },
  {
   "cell_type": "code",
   "execution_count": 79,
   "metadata": {
    "ExecuteTime": {
     "end_time": "2021-01-18T21:59:17.283123Z",
     "start_time": "2021-01-18T21:59:17.264667Z"
    }
   },
   "outputs": [
    {
     "data": {
      "text/plain": [
       "array([6, 1])"
      ]
     },
     "execution_count": 79,
     "metadata": {},
     "output_type": "execute_result"
    }
   ],
   "source": [
    "bibi.sum(axis=0)"
   ]
  },
  {
   "cell_type": "code",
   "execution_count": 80,
   "metadata": {
    "ExecuteTime": {
     "end_time": "2021-01-18T21:59:40.498618Z",
     "start_time": "2021-01-18T21:59:40.482340Z"
    }
   },
   "outputs": [],
   "source": [
    "exp_x = np.exp(bibi)\n",
    "sigma_exp_x = exp_x.sum(axis=0)"
   ]
  },
  {
   "cell_type": "code",
   "execution_count": 81,
   "metadata": {
    "ExecuteTime": {
     "end_time": "2021-01-18T21:59:46.548703Z",
     "start_time": "2021-01-18T21:59:46.531167Z"
    }
   },
   "outputs": [
    {
     "data": {
      "text/plain": [
       "array([[ 2.71828183,  0.36787944],\n",
       "       [ 7.3890561 , 20.08553692],\n",
       "       [20.08553692,  0.36787944]])"
      ]
     },
     "execution_count": 81,
     "metadata": {},
     "output_type": "execute_result"
    }
   ],
   "source": [
    "exp_x"
   ]
  },
  {
   "cell_type": "code",
   "execution_count": 82,
   "metadata": {
    "ExecuteTime": {
     "end_time": "2021-01-18T21:59:53.310013Z",
     "start_time": "2021-01-18T21:59:53.303767Z"
    }
   },
   "outputs": [
    {
     "data": {
      "text/plain": [
       "array([30.19287485, 20.82129581])"
      ]
     },
     "execution_count": 82,
     "metadata": {},
     "output_type": "execute_result"
    }
   ],
   "source": [
    "sigma_exp_x"
   ]
  },
  {
   "cell_type": "code",
   "execution_count": 83,
   "metadata": {
    "ExecuteTime": {
     "end_time": "2021-01-18T22:00:01.689331Z",
     "start_time": "2021-01-18T22:00:01.669334Z"
    }
   },
   "outputs": [
    {
     "data": {
      "text/plain": [
       "array([[0.09003057, 0.01766842],\n",
       "       [0.24472847, 0.96466316],\n",
       "       [0.66524096, 0.01766842]])"
      ]
     },
     "execution_count": 83,
     "metadata": {},
     "output_type": "execute_result"
    }
   ],
   "source": [
    "exp_x/sigma_exp_x"
   ]
  },
  {
   "cell_type": "code",
   "execution_count": 87,
   "metadata": {
    "ExecuteTime": {
     "end_time": "2021-01-18T22:01:46.397285Z",
     "start_time": "2021-01-18T22:01:46.382464Z"
    }
   },
   "outputs": [
    {
     "data": {
      "text/plain": [
       "array([[0.08192507, 0.01735625],\n",
       "       [0.18483645, 0.03408815],\n",
       "       [0.22269543, 0.01735625]])"
      ]
     },
     "execution_count": 87,
     "metadata": {},
     "output_type": "execute_result"
    }
   ],
   "source": [
    "(exp_x * sigma_exp_x - np.square(exp_x)) / np.square(sigma_exp_x)"
   ]
  },
  {
   "cell_type": "code",
   "execution_count": 88,
   "metadata": {
    "ExecuteTime": {
     "end_time": "2021-01-18T22:02:09.476968Z",
     "start_time": "2021-01-18T22:02:09.466992Z"
    }
   },
   "outputs": [
    {
     "data": {
      "text/plain": [
       "array([[ 74.68368696,   7.52439138],\n",
       "       [168.49869603,  14.7781122 ],\n",
       "       [203.01130914,   7.52439138]])"
      ]
     },
     "execution_count": 88,
     "metadata": {},
     "output_type": "execute_result"
    }
   ],
   "source": [
    "exp_x * sigma_exp_x - np.square(exp_x)"
   ]
  },
  {
   "cell_type": "code",
   "execution_count": 94,
   "metadata": {
    "ExecuteTime": {
     "end_time": "2021-01-18T22:09:03.750036Z",
     "start_time": "2021-01-18T22:09:03.739318Z"
    }
   },
   "outputs": [
    {
     "data": {
      "text/plain": [
       "array([[-1,  0],\n",
       "       [ 0,  1],\n",
       "       [ 1,  2]])"
      ]
     },
     "execution_count": 94,
     "metadata": {},
     "output_type": "execute_result"
    }
   ],
   "source": [
    "np.array([[-1,0], [0, 1], [1, 2]])"
   ]
  },
  {
   "cell_type": "code",
   "execution_count": null,
   "metadata": {},
   "outputs": [],
   "source": []
  }
 ],
 "metadata": {
  "kernelspec": {
   "display_name": "Python 3",
   "language": "python",
   "name": "python3"
  },
  "language_info": {
   "codemirror_mode": {
    "name": "ipython",
    "version": 3
   },
   "file_extension": ".py",
   "mimetype": "text/x-python",
   "name": "python",
   "nbconvert_exporter": "python",
   "pygments_lexer": "ipython3",
   "version": "3.7.7"
  },
  "toc": {
   "base_numbering": 1,
   "nav_menu": {},
   "number_sections": true,
   "sideBar": true,
   "skip_h1_title": false,
   "title_cell": "Table of Contents",
   "title_sidebar": "Contents",
   "toc_cell": false,
   "toc_position": {
    "height": "calc(100% - 180px)",
    "left": "10px",
    "top": "150px",
    "width": "349.091px"
   },
   "toc_section_display": true,
   "toc_window_display": true
  }
 },
 "nbformat": 4,
 "nbformat_minor": 4
}
